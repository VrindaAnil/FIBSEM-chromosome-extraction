{
 "cells": [
  {
   "cell_type": "code",
   "execution_count": 1,
   "id": "902cddca",
   "metadata": {},
   "outputs": [],
   "source": [
    "import os\n",
    "import glob\n",
    "import cv2\n",
    "import collections\n",
    "import ntpath\n",
    "from PIL import Image\n",
    "import numpy as np\n",
    "import matplotlib.pyplot as plt"
   ]
  },
  {
   "cell_type": "code",
   "execution_count": 4,
   "id": "5fc09f8c",
   "metadata": {},
   "outputs": [
    {
     "name": "stdout",
     "output_type": "stream",
     "text": [
      "/data/FIBSEM/nuclie_align_ROI2_1700/nuclie01/nuc_01_729_1649/extracted/individual/chromosome/to_split/ch_2\n",
      "/data/FIBSEM/nuclie_align_ROI2_1700/nuclie01/nuc_01_729_1649/extracted/individual/chromosome/to_split/ch_1\n"
     ]
    }
   ],
   "source": [
    "#paths to folders to split\n",
    "folder_with_combined_chro = \"/data/FIBSEM/nuclie_align_ROI2_1700/nuclie01/nuc_01_729_1649/extracted/individual/chromosome/to_split/ch_2\"\n",
    "folder_with_single_chro = \"/data/FIBSEM/nuclie_align_ROI2_1700/nuclie01/nuc_01_729_1649/extracted/individual/chromosome/to_split/ch_1\"\n",
    "#folder number for combined result folder \n",
    "#(make sure it is not same as an already existig folder to avoid overwriting the existing folder)\n",
    "output_folder_tag = 2\n",
    "main_path = \"/data/FIBSEM/nuclie_align_ROI2_1700/nuclie01/nuc_01_729_1649/extracted/individual/chromosome\"\n",
    "original_nuc_path = \"/data/FIBSEM/nuclie_align_ROI2_1700/nuclie01/nuc_01_729_1649/original_nuc\"\n",
    "\n",
    "print(folder_with_combined_chro)\n",
    "print(folder_with_single_chro)"
   ]
  },
  {
   "cell_type": "code",
   "execution_count": 5,
   "id": "78313256",
   "metadata": {},
   "outputs": [],
   "source": [
    "def sort_list(lst):\n",
    "  lst = sorted(lst, key = lambda fl : int(ntpath.basename(fl).split('.')[0]))\n",
    "  return lst"
   ]
  },
  {
   "cell_type": "code",
   "execution_count": null,
   "id": "17583ebd",
   "metadata": {},
   "outputs": [],
   "source": [
    "#original imgs\n",
    "nucleous=[]\n",
    "for file in glob.glob(original_nuc_path + \"/*.jpg\"):\n",
    "  nucleous.append(file)\n",
    "nucleous = sort_list(nucleous)\n",
    "print(len(nucleous))\n",
    "print(nucleous)"
   ]
  },
  {
   "cell_type": "code",
   "execution_count": 7,
   "id": "30722377",
   "metadata": {},
   "outputs": [
    {
     "name": "stdout",
     "output_type": "stream",
     "text": [
      "921\n",
      "(1700, 1700)\n"
     ]
    }
   ],
   "source": [
    "combined = []\n",
    "individual = []\n",
    "\n",
    "for file in glob.glob(folder_with_combined_chro+\"/*.jpg\"):\n",
    "    combined.append(file)\n",
    "\n",
    "for file in glob.glob(folder_with_single_chro+\"/*.jpg\"):\n",
    "    individual.append(file)\n",
    "\n",
    "# print(len(combined))\n",
    "# print(len(individual))\n",
    "combined = sort_list(combined)\n",
    "individual = sort_list(individual)\n",
    "\n",
    "num_images = len(combined)\n",
    "print(num_images)\n",
    "\n",
    "org = Image.open(combined[0])\n",
    "org.load()\n",
    "org = np.array(org)\n",
    "ip_shape = org.shape\n",
    "print(ip_shape)"
   ]
  },
  {
   "cell_type": "code",
   "execution_count": 8,
   "id": "f7b4c17c",
   "metadata": {},
   "outputs": [],
   "source": [
    "# print(combined)"
   ]
  },
  {
   "cell_type": "code",
   "execution_count": 9,
   "id": "66900f60",
   "metadata": {},
   "outputs": [],
   "source": [
    "# print(individual)"
   ]
  },
  {
   "cell_type": "code",
   "execution_count": null,
   "id": "e760270e",
   "metadata": {},
   "outputs": [],
   "source": [
    "#splitting and saving on a new mask\n",
    "final_imgs = []\n",
    "for i in range(num_images):\n",
    "    # print(\"i \",i)\n",
    "    # print(len(final_imgs))\n",
    "    # if(i==1):\n",
    "    #   break\n",
    "    x=np.zeros(ip_shape, np.uint8)\n",
    "    im_comb = Image.open(combined[i])\n",
    "    im_comb.load()\n",
    "    im_comb = np.array(im_comb)\n",
    "    im_comb[im_comb<40]=0\n",
    "    \n",
    "    im_ind = Image.open(individual[i])\n",
    "    im_ind.load()\n",
    "    im_ind = np.array(im_ind)\n",
    "    im_ind[im_ind<40]=0\n",
    "    \n",
    "    x[im_comb!=0]=1\n",
    "    x[im_ind!=0]=0\n",
    "\n",
    "    final_imgs.append(x)\n",
    "\n",
    "plt.imshow(x)\n",
    "print(np.unique(x))\n",
    "print(len(final_imgs))"
   ]
  },
  {
   "cell_type": "code",
   "execution_count": 11,
   "id": "db933c74",
   "metadata": {},
   "outputs": [],
   "source": [
    "#save folder after splitting\n",
    "for k in range(num_images):\n",
    "  # temp = (Label_Img[k]==label_chro)\n",
    "  # temp = temp.astype(np.uint8)\n",
    "  chro_temp = Image.open(nucleous[k])\n",
    "  chro_temp.load()\n",
    "  chro_temp = np.array(chro_temp)\n",
    "  temp2= cv2.bitwise_and(chro_temp,chro_temp, mask = final_imgs[k])\n",
    "  # temp2[temp2<40]=0\n",
    "  # plt.imshow(temp2)\n",
    "  # print(np.unique(temp2))\n",
    "  # break\n",
    "  tag=k\n",
    "  path_tag = \"ch_\"+ str(output_folder_tag)\n",
    "  complete_path = main_path + \"/\" + path_tag\n",
    "  if not os.path.exists(complete_path):\n",
    "    from pathlib import Path\n",
    "    Path(complete_path).mkdir(parents=True, exist_ok=True)\n",
    "  # cv2.imwrite(complete_path+\"/\"+ f\"{tag:03d}\"+\".jpg\", (temp2* 255).astype(np.uint8)) #####\n",
    "  cv2.imwrite(complete_path+\"/\"+ f\"{tag:03d}\"+\".jpg\", (temp2))"
   ]
  }
 ],
 "metadata": {
  "kernelspec": {
   "display_name": "Python 3 (ipykernel)",
   "language": "python",
   "name": "python3"
  },
  "language_info": {
   "codemirror_mode": {
    "name": "ipython",
    "version": 3
   },
   "file_extension": ".py",
   "mimetype": "text/x-python",
   "name": "python",
   "nbconvert_exporter": "python",
   "pygments_lexer": "ipython3",
   "version": "3.8.10"
  }
 },
 "nbformat": 4,
 "nbformat_minor": 5
}
