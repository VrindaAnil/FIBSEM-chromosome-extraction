{
 "cells": [
  {
   "cell_type": "code",
   "execution_count": 1,
   "id": "cb6608dc",
   "metadata": {},
   "outputs": [],
   "source": [
    "import numpy as np\n",
    "import napari\n",
    "# from tifffile import imread, imwrite\n",
    "import tifffile\n",
    "import glob\n",
    "import os\n",
    "import cv2\n",
    "from PIL import Image\n",
    "from matplotlib import image\n",
    "import ntpath\n",
    "from matplotlib import pyplot as plt\n",
    "from skimage import morphology\n",
    "import os\n",
    "import collections\n",
    "from tqdm import tqdm\n",
    "import ntpath"
   ]
  },
  {
   "cell_type": "code",
   "execution_count": 2,
   "id": "9a4328cf",
   "metadata": {},
   "outputs": [],
   "source": [
    "# the new label to be combined to old labels after hand segmenting\n",
    "additional_label = 9"
   ]
  },
  {
   "cell_type": "code",
   "execution_count": 3,
   "id": "99f7beb8",
   "metadata": {},
   "outputs": [
    {
     "name": "stdout",
     "output_type": "stream",
     "text": [
      "roi1_nuc_00\n"
     ]
    }
   ],
   "source": [
    "#path to hand segmentation tif file\n",
    "file_path = \"/data/FIBSEM/vrinda/ROI_1/test_code/hand_segment/masks/roi1_nuc_00.tif\"\n",
    "name = ntpath.basename(file_path.split('.')[0])\n",
    "print(name)\n",
    "\n",
    "label_path = \"/data/FIBSEM/vrinda/ROI_1/test_code/res/Apr_20/test/run_3/chromosome_all_labels_run_3.tiff\"\n",
    "\n",
    "#path to the folder to save output - combined new labels\n",
    "# path = \"/data/FIBSEM/vrinda/ROI_1/test_code/hand_segment/output/nuc_00/apr_20/combined_labels_\"\n",
    "\n",
    "#path to output folder with individual chromosomes\n",
    "output_path = \"/data/FIBSEM/vrinda/ROI_1/test_code/hand_segment/output/nuc_00/apr_27_ip_clean_600_op_clean_400_for_4\""
   ]
  },
  {
   "cell_type": "code",
   "execution_count": 4,
   "id": "72be2193",
   "metadata": {},
   "outputs": [],
   "source": [
    "def sort_list(lst):\n",
    "    lst = sorted(lst, key = lambda fl : int(ntpath.basename(fl).split('.')[0]))\n",
    "\n",
    "    return lst\n",
    "\n",
    "def clean_small_obj(im, ob_size):\n",
    "    cleaned_im = np.copy(im)\n",
    "    cleaned_index = (cleaned_im!=0)\n",
    "\n",
    "    img = cleaned_index\n",
    "    img = morphology.remove_small_objects(img, ob_size, connectivity=1)\n",
    "    target_img = cleaned_im[:,:]\n",
    "\n",
    "    cleaned_im[:,:] = np.multiply(target_img, img)\n",
    "\n",
    "    return cleaned_im\n",
    "\n",
    "def load_image(img_array, n):\n",
    "    img_temp = Image.open(img_array[n])\n",
    "    img_temp.load()\n",
    "    img_temp = np.array(img_temp)\n",
    "    \n",
    "    return img_temp\n",
    "\n",
    "def find_contours(im):\n",
    "    contours, hierarchy = cv2.findContours(image=im, mode=cv2.RETR_TREE, method=cv2.CHAIN_APPROX_NONE)\n",
    "    mask = np.zeros(im.shape, np.uint8)\n",
    "\n",
    "    return contours, hierarchy, mask\n",
    "\n",
    "# pass points as tuples\n",
    "def cal(p1,p2):\n",
    "  return np.linalg.norm(np.array(p1) - np.array(p2))"
   ]
  },
  {
   "cell_type": "code",
   "execution_count": 5,
   "id": "ec08c9d4",
   "metadata": {},
   "outputs": [
    {
     "name": "stdout",
     "output_type": "stream",
     "text": [
      "/data/FIBSEM/vrinda/ROI_1/centroid/00000.jpg\n",
      "/data/FIBSEM/vrinda/ROI_1/chro_nucl_00_000_650/000.jpg\n",
      "/data/FIBSEM/vrinda/ROI_1/patt/000.jpg\n"
     ]
    }
   ],
   "source": [
    "original=[]\n",
    "chromo=[]\n",
    "pattern=[]\n",
    "\n",
    "for file in glob.glob(\"/data/FIBSEM/vrinda/ROI_1/centroid/*.jpg\"):\n",
    "  original.append(file)\n",
    "for file in glob.glob(\"/data/FIBSEM/vrinda/ROI_1/chro_nucl_00_000_650/*.jpg\"):\n",
    "  chromo.append(file)\n",
    "for file in glob.glob(\"/data/FIBSEM/vrinda/ROI_1/patt/*.jpg\"):\n",
    "  pattern.append(file)\n",
    "\n",
    "original = sort_list(original)\n",
    "chromo = sort_list(chromo)\n",
    "pattern = sort_list(pattern)\n",
    "print(original[0])\n",
    "print(chromo[0])\n",
    "print(pattern[0])"
   ]
  },
  {
   "cell_type": "code",
   "execution_count": 6,
   "id": "e706f069",
   "metadata": {},
   "outputs": [
    {
     "name": "stdout",
     "output_type": "stream",
     "text": [
      "651\n",
      "651\n"
     ]
    }
   ],
   "source": [
    "img = tifffile.imread(file_path)\n",
    "print(len(img))\n",
    "label = tifffile.imread(label_path)\n",
    "print(len(label))"
   ]
  },
  {
   "cell_type": "code",
   "execution_count": null,
   "id": "ebac4f9a",
   "metadata": {},
   "outputs": [],
   "source": [
    "#combine hand segmented label\n",
    "new_label_stack={}\n",
    "new_label_list=[]\n",
    "# temp2_before=[]\n",
    "# temp2_after=[]\n",
    "# for k in tqdm(range(269,279)):\n",
    "for k in tqdm(range(len(img))):\n",
    "    hand_label = img[k]\n",
    "    old_label = label[k]\n",
    "    chr = load_image(chromo,k)\n",
    "    chr = clean_small_obj(chr,800)\n",
    "#     chr[chr<40]=0\n",
    "    \n",
    "    new_label = np.array([])\n",
    "    new_label = np.copy(old_label)   \n",
    "    unique_hand_label = np.unique(hand_label)\n",
    "    \n",
    "    if additional_label in unique_hand_label:\n",
    "        temp = (hand_label==additional_label)\n",
    "        temp = temp.astype(np.uint8)\n",
    "        temp2= cv2.bitwise_and(chr,chr, mask = temp)\n",
    "    \n",
    "#         print(np.unique(temp2))\n",
    "#         print(type(temp2))\n",
    "#         temp2_before.append(temp2)\n",
    "        temp2[temp2<40]=0\n",
    "        temp2[(temp2!=0)]=additional_label\n",
    "#         temp2_after.append(temp2)\n",
    "        new_label[np.where(temp2==additional_label)] = additional_label\n",
    "        print(\"new_label_combined\")\n",
    "    else:\n",
    "#         new_mask = np.zeros(img[k].shape, np.uint8)\n",
    "#         temp2_before.append(new_mask)\n",
    "        print(\"label_9_not_found_in this_slice\")\n",
    "#         temp2_after.append(new_mask)\n",
    "\n",
    "    new_label_stack[k]=new_label\n",
    "    new_label_list.append(new_label)\n",
    "    \n",
    "print(\"combined_all_hand_segmented_labels\")        \n",
    "new_label_list = np.array(new_label_list)        \n",
    "# temp2_after = np.array(temp2_after)\n",
    "# temp2_before = np.array(temp2_before)\n",
    "\n",
    "# new_path = \"/data/FIBSEM/vrinda/ROI_1/test_code/hand_segment/output/nuc_00/apr_25_clean_small/\"\n",
    "# temp2_after_path = '/data/FIBSEM/vrinda/ROI_1/test_code/hand_segment/output/nuc_00/temp2_after.tiff'\n",
    "# temp2_before_path = '/data/FIBSEM/vrinda/ROI_1/test_code/hand_segment/output/nuc_00/temp2_before.tiff'\n",
    "if not os.path.exists(output_path):\n",
    "    from pathlib import Path\n",
    "    Path(output_path).mkdir(parents=True, exist_ok=True)     \n",
    "ch_path = output_path +'/chromosome_combined_label_roi1_nuc00.tiff'\n",
    "tifffile.imwrite(ch_path, new_label_list)   \n",
    "# tifffile.imwrite(temp2_after_path, temp2_after) \n",
    "# tifffile.imwrite(temp2_before_path, temp2_before) \n",
    "print(\"tiff file saved\")"
   ]
  },
  {
   "cell_type": "code",
   "execution_count": 8,
   "id": "6bf6203e",
   "metadata": {},
   "outputs": [],
   "source": [
    "avoid=[43,50]\n"
   ]
  },
  {
   "cell_type": "code",
   "execution_count": 9,
   "id": "0f90c4e7",
   "metadata": {
    "scrolled": true
   },
   "outputs": [
    {
     "name": "stdout",
     "output_type": "stream",
     "text": [
      "1\n",
      "2\n",
      "3\n",
      "4\n",
      "7\n",
      "9\n"
     ]
    }
   ],
   "source": [
    "#specify labels to be extracted and saved as individual folders\n",
    "labels_to_be_extracted = [1, 2, 3, 4, 7, 9]\n",
    "\n",
    "chro_map={}\n",
    "for k in range(len(img)):\n",
    "    if k in avoid:\n",
    "        chro_map[k]='inf'\n",
    "    else:\n",
    "        chro_map[k]={}\n",
    "\n",
    "for label in labels_to_be_extracted:\n",
    "    for k in range(len(img)):\n",
    "        temp_mask = (new_label_stack[k]==label)\n",
    "        temp_mask = temp_mask.astype(np.uint8)\n",
    "        \n",
    "        cont, hier, mask = find_contours(temp_mask)\n",
    "        for i in range(len(cont)):\n",
    "            if cv2.arcLength(cont[i],True) > 25 :\n",
    "                M = cv2.moments(cont[i])\n",
    "                cX,cY = int(M[\"m10\"] / M[\"m00\"]),int(M[\"m01\"] / M[\"m00\"])\n",
    "                chro_map[k][(cX,cY)]=label\n",
    "        \n",
    "        org = load_image(original,k)\n",
    "        extracted = cv2.bitwise_and(org,org, mask = temp_mask)\n",
    "        if label == 4:\n",
    "            extracted = clean_small_obj(extracted,400)\n",
    "#         plt.imshow(extracted)\n",
    "        final_output_path = output_path + \"/individual/chromosome/ch_\" + str(label)\n",
    "        if not os.path.exists(final_output_path):\n",
    "            from pathlib import Path\n",
    "            Path(final_output_path).mkdir(parents=True, exist_ok=True)\n",
    "        cv2.imwrite(final_output_path+\"/\"+ str(k)+\".jpg\", (extracted))\n",
    "        \n",
    "    print(label)\n",
    "                    \n",
    "# print(chro_map)\n"
   ]
  },
  {
   "cell_type": "markdown",
   "id": "60a418d9",
   "metadata": {},
   "source": [
    "Below part is to find the corersponding SC's and save as individual SC folder according to the current chormosome labels\n"
   ]
  },
  {
   "cell_type": "code",
   "execution_count": 10,
   "id": "21c9676d",
   "metadata": {},
   "outputs": [],
   "source": [
    "pattern_img={}\n",
    "pattern_avoid=set()"
   ]
  },
  {
   "cell_type": "code",
   "execution_count": 11,
   "id": "9c4bf8bc",
   "metadata": {},
   "outputs": [],
   "source": [
    "def find_pattern_label(X,Y,chro_blobs_in_the_slice):\n",
    "  closest_id, closest_dist = -1,float('inf')\n",
    "  for pt,id in chro_blobs_in_the_slice.items():\n",
    "    # if centroid_prev == 0:\n",
    "    #   continue\n",
    "    dist = cal((X,Y), pt)\n",
    "#     print((X,Y), pt, dist)\n",
    "    if closest_dist > dist:\n",
    "        closest_dist, closest_pt, closest_id = dist,pt,id\n",
    "  return closest_id"
   ]
  },
  {
   "cell_type": "code",
   "execution_count": 12,
   "id": "5c0e9631",
   "metadata": {},
   "outputs": [],
   "source": [
    "def find_patterns(chro_map):\n",
    "    zero_moment=[]\n",
    "    pattern_img_list=[]\n",
    "    for k in tqdm(range(len(pattern))):\n",
    "#         print(k)\n",
    "        patt = load_image(pattern,k)\n",
    "        patt = clean_small_obj(patt,600)\n",
    "        patt[patt<40]=0\n",
    "        contours_p, hier_p, mask_p = find_contours(patt)\n",
    "        n = ntpath.basename(pattern[k]).split('.')[0]\n",
    "        n=int(n)\n",
    "        if n in avoid:\n",
    "          print(n)\n",
    "          pattern_img[k] = mask_p\n",
    "          pattern_img_list.append(mask_p)  \n",
    "          pattern_avoid.add(k)\n",
    "          continue\n",
    "        if len(contours_p)==0:\n",
    "          pattern_avoid.add(k)\n",
    "          print(\"pattern_avoid\", pattern_avoid)\n",
    "          pattern_img[k] = mask_p\n",
    "          pattern_img_list.append(mask_p)  \n",
    "          continue\n",
    "        pattern_map_inside_find_patterns = {}\n",
    "        blobs_in_slice = chro_map[k]\n",
    "        #     print(\"blobs_in_slice\", blobs_in_slice)\n",
    "        for i in range(len(contours_p)):\n",
    "          if cv2.arcLength(contours_p[i],True) > 25 :\n",
    "            M = cv2.moments(contours_p[i])\n",
    "            if M[\"m00\"] == 0:\n",
    "              zero_moment.append(k)\n",
    "              continue\n",
    "            cX,cY = int(M[\"m10\"] / M[\"m00\"]),int(M[\"m01\"] / M[\"m00\"])\n",
    "            patt_label = find_pattern_label(cX,cY, blobs_in_slice)\n",
    "        #         print(\"patt_label\", (cX,cY), patt_label)\n",
    "            pattern_map_inside_find_patterns[(cX,cY)] = [patt_label]\n",
    "            points_new=[]\n",
    "            for l in range(len(contours_p[i])):\n",
    "              points_new.append(contours_p[i][l][0])\n",
    "            points_new = np.array(points_new)\n",
    "            cv2.drawContours(mask_p,[points_new],-1,patt_label, thickness = cv2.FILLED)\n",
    "        pattern_img[k]=mask_p\n",
    "        \n",
    "    print(\"zero_moment\", zero_moment)\n",
    "    pattern_img_list.append(mask_p)\n",
    "    pattern_img_list = np.array(pattern_img_list)   \n",
    "    \n",
    "    if not os.path.exists(output_path):\n",
    "        from pathlib import Path\n",
    "        Path(output_path).mkdir(parents=True, exist_ok=True)     \n",
    "    patt_path = output_path +'/pattern_combined_label_roi1_nuc00.tiff'\n",
    "    tifffile.imwrite(patt_path, pattern_img_list)   \n",
    "    print(\"tiff file saved\")\n"
   ]
  },
  {
   "cell_type": "code",
   "execution_count": null,
   "id": "947ed5aa",
   "metadata": {},
   "outputs": [],
   "source": [
    "find_patterns(chro_map)"
   ]
  },
  {
   "cell_type": "code",
   "execution_count": 14,
   "id": "5de9af49",
   "metadata": {},
   "outputs": [
    {
     "name": "stdout",
     "output_type": "stream",
     "text": [
      "1\n",
      "2\n",
      "3\n",
      "4\n",
      "7\n",
      "9\n"
     ]
    }
   ],
   "source": [
    "for label in labels_to_be_extracted:\n",
    "    for k in range(len(img)):\n",
    "        temp_mask = (pattern_img[k]==label)\n",
    "        temp_mask = temp_mask.astype(np.uint8)\n",
    "        \n",
    "        cont, hier, mask = find_contours(temp_mask)\n",
    "        for i in range(len(cont)):\n",
    "            if cv2.arcLength(cont[i],True) > 25 :\n",
    "                M = cv2.moments(cont[i])\n",
    "                cX,cY = int(M[\"m10\"] / M[\"m00\"]),int(M[\"m01\"] / M[\"m00\"])\n",
    "#                 chro_map[k][(cX,cY)]=label\n",
    "        \n",
    "        org = load_image(original,k)\n",
    "        extracted = cv2.bitwise_and(org,org, mask = temp_mask)\n",
    "#         plt.imshow(extracted)\n",
    "        final_output_path = output_path + \"/individual/pattern/patt_\" + str(label)\n",
    "        if not os.path.exists(final_output_path):\n",
    "            from pathlib import Path\n",
    "            Path(final_output_path).mkdir(parents=True, exist_ok=True)\n",
    "        cv2.imwrite(final_output_path+\"/\"+ str(k)+\".jpg\", (extracted))\n",
    "        \n",
    "    print(label)\n",
    "                  "
   ]
  },
  {
   "cell_type": "code",
   "execution_count": null,
   "id": "82c95c4a",
   "metadata": {},
   "outputs": [],
   "source": []
  },
  {
   "cell_type": "code",
   "execution_count": null,
   "id": "11f76e6b",
   "metadata": {},
   "outputs": [],
   "source": []
  }
 ],
 "metadata": {
  "kernelspec": {
   "display_name": "Python 3 (ipykernel)",
   "language": "python",
   "name": "python3"
  },
  "language_info": {
   "codemirror_mode": {
    "name": "ipython",
    "version": 3
   },
   "file_extension": ".py",
   "mimetype": "text/x-python",
   "name": "python",
   "nbconvert_exporter": "python",
   "pygments_lexer": "ipython3",
   "version": "3.8.10"
  }
 },
 "nbformat": 4,
 "nbformat_minor": 5
}
