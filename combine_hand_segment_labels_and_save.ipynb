{
 "cells": [
  {
   "cell_type": "code",
   "execution_count": 1,
   "id": "cb6608dc",
   "metadata": {},
   "outputs": [],
   "source": [
    "import numpy as np\n",
    "import napari\n",
    "# from tifffile import imread, imwrite\n",
    "import tifffile\n",
    "import glob\n",
    "import os\n",
    "import cv2\n",
    "from PIL import Image\n",
    "from matplotlib import image\n",
    "import ntpath\n",
    "from matplotlib import pyplot as plt\n",
    "from skimage import morphology\n",
    "import os\n",
    "import collections\n",
    "from tqdm import tqdm\n",
    "import ntpath"
   ]
  },
  {
   "cell_type": "code",
   "execution_count": 2,
   "id": "9a4328cf",
   "metadata": {},
   "outputs": [],
   "source": [
    "# the new label to be combined to old labels after hand segmenting\n",
    "additional_label = 9"
   ]
  },
  {
   "cell_type": "code",
   "execution_count": 3,
   "id": "99f7beb8",
   "metadata": {},
   "outputs": [
    {
     "name": "stdout",
     "output_type": "stream",
     "text": [
      "roi1_nuc_00\n"
     ]
    }
   ],
   "source": [
    "#path to hand segmentation tif file\n",
    "file_path = \"/data/FIBSEM/vrinda/ROI_1/test_code/hand_segment/masks/roi1_nuc_00.tif\"\n",
    "name = ntpath.basename(file_path.split('.')[0])\n",
    "print(name)\n",
    "\n",
    "label_path = \"/data/FIBSEM/vrinda/ROI_1/test_code/res/Apr_20/test/run_3/chromosome_all_labels_run_3.tiff\"\n",
    "\n",
    "#path to the folder to save output - combined new labels\n",
    "# path = \"/data/FIBSEM/vrinda/ROI_1/test_code/hand_segment/output/nuc_00/apr_20/combined_labels_\"\n",
    "\n",
    "#path to output folder with individual chromosomes\n",
    "output_path = \"/data/FIBSEM/vrinda/ROI_1/test_code/hand_segment/output/nuc_00/apr_27_ip_clean_600_op_clean_400_for_4\""
   ]
  },
  {
   "cell_type": "code",
   "execution_count": 4,
   "id": "72be2193",
   "metadata": {},
   "outputs": [],
   "source": [
    "def sort_list(lst):\n",
    "    lst = sorted(lst, key = lambda fl : int(ntpath.basename(fl).split('.')[0]))\n",
    "\n",
    "    return lst\n",
    "\n",
    "def clean_small_obj(im, ob_size):\n",
    "    cleaned_im = np.copy(im)\n",
    "    cleaned_index = (cleaned_im!=0)\n",
    "\n",
    "    img = cleaned_index\n",
    "    img = morphology.remove_small_objects(img, ob_size, connectivity=1)\n",
    "    target_img = cleaned_im[:,:]\n",
    "\n",
    "    cleaned_im[:,:] = np.multiply(target_img, img)\n",
    "\n",
    "    return cleaned_im\n",
    "\n",
    "def load_image(img_array, n):\n",
    "    img_temp = Image.open(img_array[n])\n",
    "    img_temp.load()\n",
    "    img_temp = np.array(img_temp)\n",
    "    \n",
    "    return img_temp\n",
    "\n",
    "def find_contours(im):\n",
    "    contours, hierarchy = cv2.findContours(image=im, mode=cv2.RETR_TREE, method=cv2.CHAIN_APPROX_NONE)\n",
    "    mask = np.zeros(im.shape, np.uint8)\n",
    "\n",
    "    return contours, hierarchy, mask\n",
    "\n",
    "# pass points as tuples\n",
    "def cal(p1,p2):\n",
    "  return np.linalg.norm(np.array(p1) - np.array(p2))"
   ]
  },
  {
   "cell_type": "code",
   "execution_count": 5,
   "id": "ec08c9d4",
   "metadata": {},
   "outputs": [
    {
     "name": "stdout",
     "output_type": "stream",
     "text": [
      "/data/FIBSEM/vrinda/ROI_1/centroid/00000.jpg\n",
      "/data/FIBSEM/vrinda/ROI_1/chro_nucl_00_000_650/000.jpg\n",
      "/data/FIBSEM/vrinda/ROI_1/patt/000.jpg\n"
     ]
    }
   ],
   "source": [
    "original=[]\n",
    "chromo=[]\n",
    "pattern=[]\n",
    "\n",
    "for file in glob.glob(\"/data/FIBSEM/vrinda/ROI_1/centroid/*.jpg\"):\n",
    "  original.append(file)\n",
    "for file in glob.glob(\"/data/FIBSEM/vrinda/ROI_1/chro_nucl_00_000_650/*.jpg\"):\n",
    "  chromo.append(file)\n",
    "for file in glob.glob(\"/data/FIBSEM/vrinda/ROI_1/patt/*.jpg\"):\n",
    "  pattern.append(file)\n",
    "\n",
    "original = sort_list(original)\n",
    "chromo = sort_list(chromo)\n",
    "pattern = sort_list(pattern)\n",
    "print(original[0])\n",
    "print(chromo[0])\n",
    "print(pattern[0])"
   ]
  },
  {
   "cell_type": "code",
   "execution_count": 6,
   "id": "e706f069",
   "metadata": {},
   "outputs": [
    {
     "name": "stdout",
     "output_type": "stream",
     "text": [
      "651\n",
      "651\n"
     ]
    }
   ],
   "source": [
    "img = tifffile.imread(file_path)\n",
    "print(len(img))\n",
    "label = tifffile.imread(label_path)\n",
    "print(len(label))"
   ]
  },
  {
   "cell_type": "code",
   "execution_count": 7,
   "id": "ebac4f9a",
   "metadata": {},
   "outputs": [
    {
     "name": "stderr",
     "output_type": "stream",
     "text": [
      "  0%|▍                                                                                                                                               | 2/651 [00:00<00:55, 11.63it/s]"
     ]
    },
    {
     "name": "stdout",
     "output_type": "stream",
     "text": [
      "label_9_not_found_in this_slice\n",
      "label_9_not_found_in this_slice\n",
      "label_9_not_found_in this_slice\n"
     ]
    },
    {
     "name": "stderr",
     "output_type": "stream",
     "text": [
      "\r\n",
      "  1%|▉                                                                                                                                               | 4/651 [00:00<00:51, 12.57it/s]"
     ]
    },
    {
     "name": "stdout",
     "output_type": "stream",
     "text": [
      "label_9_not_found_in this_slice\n",
      "label_9_not_found_in this_slice\n"
     ]
    },
    {
     "name": "stderr",
     "output_type": "stream",
     "text": [
      "\r\n",
      "  1%|█▎                                                                                                                                              | 6/651 [00:00<00:50, 12.82it/s]"
     ]
    },
    {
     "name": "stdout",
     "output_type": "stream",
     "text": [
      "label_9_not_found_in this_slice\n"
     ]
    },
    {
     "name": "stderr",
     "output_type": "stream",
     "text": [
      "\r\n",
      "  1%|█▊                                                                                                                                              | 8/651 [00:00<00:50, 12.83it/s]"
     ]
    },
    {
     "name": "stdout",
     "output_type": "stream",
     "text": [
      "label_9_not_found_in this_slice\n",
      "label_9_not_found_in this_slice\n",
      "label_9_not_found_in this_slice\n"
     ]
    },
    {
     "name": "stderr",
     "output_type": "stream",
     "text": [
      "\r\n",
      "  2%|██▏                                                                                                                                            | 10/651 [00:00<00:51, 12.43it/s]"
     ]
    },
    {
     "name": "stdout",
     "output_type": "stream",
     "text": [
      "label_9_not_found_in this_slice\n",
      "label_9_not_found_in this_slice\n"
     ]
    },
    {
     "name": "stderr",
     "output_type": "stream",
     "text": [
      "\r\n",
      "  2%|██▋                                                                                                                                            | 12/651 [00:00<00:50, 12.61it/s]"
     ]
    },
    {
     "name": "stdout",
     "output_type": "stream",
     "text": [
      "label_9_not_found_in this_slice\n"
     ]
    },
    {
     "name": "stderr",
     "output_type": "stream",
     "text": [
      "\r\n",
      "  2%|███                                                                                                                                            | 14/651 [00:01<00:49, 12.75it/s]"
     ]
    },
    {
     "name": "stdout",
     "output_type": "stream",
     "text": [
      "label_9_not_found_in this_slice\n",
      "label_9_not_found_in this_slice\n",
      "label_9_not_found_in this_slice\n"
     ]
    },
    {
     "name": "stderr",
     "output_type": "stream",
     "text": [
      "\r\n",
      "  2%|███▌                                                                                                                                           | 16/651 [00:01<00:50, 12.65it/s]"
     ]
    },
    {
     "name": "stdout",
     "output_type": "stream",
     "text": [
      "label_9_not_found_in this_slice\n",
      "label_9_not_found_in this_slice\n"
     ]
    },
    {
     "name": "stderr",
     "output_type": "stream",
     "text": [
      "  3%|████▍                                                                                                                                          | 20/651 [00:01<00:52, 11.95it/s]"
     ]
    },
    {
     "name": "stdout",
     "output_type": "stream",
     "text": [
      "label_9_not_found_in this_slice\n",
      "label_9_not_found_in this_slice\n",
      "label_9_not_found_in this_slice\n"
     ]
    },
    {
     "name": "stderr",
     "output_type": "stream",
     "text": [
      "\r\n",
      "  3%|████▊                                                                                                                                          | 22/651 [00:01<00:51, 12.21it/s]"
     ]
    },
    {
     "name": "stdout",
     "output_type": "stream",
     "text": [
      "label_9_not_found_in this_slice\n",
      "label_9_not_found_in this_slice\n",
      "label_9_not_found_in this_slice\n"
     ]
    },
    {
     "name": "stderr",
     "output_type": "stream",
     "text": [
      "  4%|█████▋                                                                                                                                         | 26/651 [00:02<00:50, 12.41it/s]"
     ]
    },
    {
     "name": "stdout",
     "output_type": "stream",
     "text": [
      "label_9_not_found_in this_slice\n",
      "label_9_not_found_in this_slice\n",
      "label_9_not_found_in this_slice\n"
     ]
    },
    {
     "name": "stderr",
     "output_type": "stream",
     "text": [
      "\r\n",
      "  4%|██████▏                                                                                                                                        | 28/651 [00:02<00:50, 12.38it/s]"
     ]
    },
    {
     "name": "stdout",
     "output_type": "stream",
     "text": [
      "label_9_not_found_in this_slice\n",
      "label_9_not_found_in this_slice\n",
      "label_9_not_found_in this_slice\n"
     ]
    },
    {
     "name": "stderr",
     "output_type": "stream",
     "text": [
      "  5%|███████                                                                                                                                        | 32/651 [00:02<00:49, 12.62it/s]"
     ]
    },
    {
     "name": "stdout",
     "output_type": "stream",
     "text": [
      "label_9_not_found_in this_slice\n",
      "label_9_not_found_in this_slice\n",
      "label_9_not_found_in this_slice\n"
     ]
    },
    {
     "name": "stderr",
     "output_type": "stream",
     "text": [
      "\r\n",
      "  5%|███████▍                                                                                                                                       | 34/651 [00:02<00:48, 12.76it/s]"
     ]
    },
    {
     "name": "stdout",
     "output_type": "stream",
     "text": [
      "label_9_not_found_in this_slice\n",
      "label_9_not_found_in this_slice\n",
      "label_9_not_found_in this_slice\n"
     ]
    },
    {
     "name": "stderr",
     "output_type": "stream",
     "text": [
      "  6%|████████▎                                                                                                                                      | 38/651 [00:03<00:47, 12.87it/s]"
     ]
    },
    {
     "name": "stdout",
     "output_type": "stream",
     "text": [
      "label_9_not_found_in this_slice\n",
      "label_9_not_found_in this_slice\n",
      "label_9_not_found_in this_slice\n"
     ]
    },
    {
     "name": "stderr",
     "output_type": "stream",
     "text": [
      "\r\n",
      "  6%|████████▊                                                                                                                                      | 40/651 [00:03<00:46, 13.01it/s]"
     ]
    },
    {
     "name": "stdout",
     "output_type": "stream",
     "text": [
      "label_9_not_found_in this_slice\n",
      "label_9_not_found_in this_slice\n",
      "label_9_not_found_in this_slice\n"
     ]
    },
    {
     "name": "stderr",
     "output_type": "stream",
     "text": [
      "  7%|█████████▋                                                                                                                                     | 44/651 [00:03<00:46, 13.06it/s]"
     ]
    },
    {
     "name": "stdout",
     "output_type": "stream",
     "text": [
      "label_9_not_found_in this_slice\n",
      "label_9_not_found_in this_slice\n",
      "label_9_not_found_in this_slice\n"
     ]
    },
    {
     "name": "stderr",
     "output_type": "stream",
     "text": [
      "\r\n",
      "  7%|██████████                                                                                                                                     | 46/651 [00:03<00:46, 13.06it/s]"
     ]
    },
    {
     "name": "stdout",
     "output_type": "stream",
     "text": [
      "label_9_not_found_in this_slice\n",
      "label_9_not_found_in this_slice\n",
      "label_9_not_found_in this_slice\n"
     ]
    },
    {
     "name": "stderr",
     "output_type": "stream",
     "text": [
      "  8%|██████████▉                                                                                                                                    | 50/651 [00:03<00:47, 12.78it/s]"
     ]
    },
    {
     "name": "stdout",
     "output_type": "stream",
     "text": [
      "label_9_not_found_in this_slice\n",
      "label_9_not_found_in this_slice\n",
      "label_9_not_found_in this_slice\n"
     ]
    },
    {
     "name": "stderr",
     "output_type": "stream",
     "text": [
      "\r\n",
      "  8%|███████████▍                                                                                                                                   | 52/651 [00:04<00:46, 12.88it/s]"
     ]
    },
    {
     "name": "stdout",
     "output_type": "stream",
     "text": [
      "label_9_not_found_in this_slice\n",
      "label_9_not_found_in this_slice\n",
      "label_9_not_found_in this_slice\n"
     ]
    },
    {
     "name": "stderr",
     "output_type": "stream",
     "text": [
      "  9%|████████████▎                                                                                                                                  | 56/651 [00:04<00:45, 12.97it/s]"
     ]
    },
    {
     "name": "stdout",
     "output_type": "stream",
     "text": [
      "label_9_not_found_in this_slice\n",
      "label_9_not_found_in this_slice\n",
      "label_9_not_found_in this_slice\n"
     ]
    },
    {
     "name": "stderr",
     "output_type": "stream",
     "text": [
      "\r\n",
      "  9%|████████████▋                                                                                                                                  | 58/651 [00:04<00:46, 12.76it/s]"
     ]
    },
    {
     "name": "stdout",
     "output_type": "stream",
     "text": [
      "label_9_not_found_in this_slice\n",
      "label_9_not_found_in this_slice\n",
      "label_9_not_found_in this_slice\n"
     ]
    },
    {
     "name": "stderr",
     "output_type": "stream",
     "text": [
      " 10%|█████████████▌                                                                                                                                 | 62/651 [00:04<00:46, 12.65it/s]"
     ]
    },
    {
     "name": "stdout",
     "output_type": "stream",
     "text": [
      "label_9_not_found_in this_slice\n",
      "label_9_not_found_in this_slice\n",
      "label_9_not_found_in this_slice\n"
     ]
    },
    {
     "name": "stderr",
     "output_type": "stream",
     "text": [
      "\r\n",
      " 10%|██████████████                                                                                                                                 | 64/651 [00:05<00:46, 12.57it/s]"
     ]
    },
    {
     "name": "stdout",
     "output_type": "stream",
     "text": [
      "label_9_not_found_in this_slice\n",
      "label_9_not_found_in this_slice\n",
      "label_9_not_found_in this_slice\n"
     ]
    },
    {
     "name": "stderr",
     "output_type": "stream",
     "text": [
      " 10%|██████████████▉                                                                                                                                | 68/651 [00:05<00:46, 12.49it/s]"
     ]
    },
    {
     "name": "stdout",
     "output_type": "stream",
     "text": [
      "label_9_not_found_in this_slice\n",
      "label_9_not_found_in this_slice\n",
      "label_9_not_found_in this_slice\n"
     ]
    },
    {
     "name": "stderr",
     "output_type": "stream",
     "text": [
      "\r\n",
      " 11%|███████████████▍                                                                                                                               | 70/651 [00:05<00:46, 12.42it/s]"
     ]
    },
    {
     "name": "stdout",
     "output_type": "stream",
     "text": [
      "label_9_not_found_in this_slice\n",
      "label_9_not_found_in this_slice\n",
      "label_9_not_found_in this_slice\n"
     ]
    },
    {
     "name": "stderr",
     "output_type": "stream",
     "text": [
      " 11%|████████████████▎                                                                                                                              | 74/651 [00:05<00:46, 12.50it/s]"
     ]
    },
    {
     "name": "stdout",
     "output_type": "stream",
     "text": [
      "label_9_not_found_in this_slice\n",
      "label_9_not_found_in this_slice\n",
      "label_9_not_found_in this_slice\n"
     ]
    },
    {
     "name": "stderr",
     "output_type": "stream",
     "text": [
      "\r\n",
      " 12%|████████████████▋                                                                                                                              | 76/651 [00:06<00:45, 12.63it/s]"
     ]
    },
    {
     "name": "stdout",
     "output_type": "stream",
     "text": [
      "label_9_not_found_in this_slice\n",
      "label_9_not_found_in this_slice\n",
      "label_9_not_found_in this_slice\n"
     ]
    },
    {
     "name": "stderr",
     "output_type": "stream",
     "text": [
      " 12%|█████████████████▌                                                                                                                             | 80/651 [00:06<00:45, 12.57it/s]"
     ]
    },
    {
     "name": "stdout",
     "output_type": "stream",
     "text": [
      "label_9_not_found_in this_slice\n",
      "label_9_not_found_in this_slice\n",
      "label_9_not_found_in this_slice\n"
     ]
    },
    {
     "name": "stderr",
     "output_type": "stream",
     "text": [
      "\r\n",
      " 13%|██████████████████                                                                                                                             | 82/651 [00:06<00:44, 12.79it/s]"
     ]
    },
    {
     "name": "stdout",
     "output_type": "stream",
     "text": [
      "label_9_not_found_in this_slice\n",
      "label_9_not_found_in this_slice\n",
      "label_9_not_found_in this_slice\n"
     ]
    },
    {
     "name": "stderr",
     "output_type": "stream",
     "text": [
      " 13%|██████████████████▉                                                                                                                            | 86/651 [00:06<00:45, 12.39it/s]"
     ]
    },
    {
     "name": "stdout",
     "output_type": "stream",
     "text": [
      "label_9_not_found_in this_slice\n",
      "label_9_not_found_in this_slice\n",
      "label_9_not_found_in this_slice\n"
     ]
    },
    {
     "name": "stderr",
     "output_type": "stream",
     "text": [
      "\r\n",
      " 14%|███████████████████▎                                                                                                                           | 88/651 [00:06<00:44, 12.68it/s]"
     ]
    },
    {
     "name": "stdout",
     "output_type": "stream",
     "text": [
      "label_9_not_found_in this_slice\n",
      "label_9_not_found_in this_slice\n",
      "new_label_combined\n"
     ]
    },
    {
     "name": "stderr",
     "output_type": "stream",
     "text": [
      " 14%|████████████████████▏                                                                                                                          | 92/651 [00:07<00:46, 12.12it/s]"
     ]
    },
    {
     "name": "stdout",
     "output_type": "stream",
     "text": [
      "label_9_not_found_in this_slice\n",
      "label_9_not_found_in this_slice\n",
      "new_label_combined\n"
     ]
    },
    {
     "name": "stderr",
     "output_type": "stream",
     "text": [
      "\r\n",
      " 14%|████████████████████▋                                                                                                                          | 94/651 [00:07<00:46, 11.94it/s]"
     ]
    },
    {
     "name": "stdout",
     "output_type": "stream",
     "text": [
      "label_9_not_found_in this_slice\n",
      "new_label_combined\n",
      "label_9_not_found_in this_slice\n"
     ]
    },
    {
     "name": "stderr",
     "output_type": "stream",
     "text": [
      " 15%|█████████████████████▌                                                                                                                         | 98/651 [00:07<00:46, 11.85it/s]"
     ]
    },
    {
     "name": "stdout",
     "output_type": "stream",
     "text": [
      "new_label_combined\n",
      "label_9_not_found_in this_slice\n",
      "new_label_combined\n"
     ]
    },
    {
     "name": "stderr",
     "output_type": "stream",
     "text": [
      "\r\n",
      " 15%|█████████████████████▊                                                                                                                        | 100/651 [00:08<00:46, 11.92it/s]"
     ]
    },
    {
     "name": "stdout",
     "output_type": "stream",
     "text": [
      "label_9_not_found_in this_slice\n",
      "new_label_combined\n",
      "new_label_combined\n"
     ]
    },
    {
     "name": "stderr",
     "output_type": "stream",
     "text": [
      " 16%|██████████████████████▋                                                                                                                       | 104/651 [00:08<00:47, 11.54it/s]"
     ]
    },
    {
     "name": "stdout",
     "output_type": "stream",
     "text": [
      "label_9_not_found_in this_slice\n",
      "new_label_combined\n",
      "new_label_combined\n"
     ]
    },
    {
     "name": "stderr",
     "output_type": "stream",
     "text": [
      "\r\n",
      " 16%|███████████████████████                                                                                                                       | 106/651 [00:08<00:47, 11.45it/s]"
     ]
    },
    {
     "name": "stdout",
     "output_type": "stream",
     "text": [
      "new_label_combined\n",
      "new_label_combined\n",
      "new_label_combined\n"
     ]
    },
    {
     "name": "stderr",
     "output_type": "stream",
     "text": [
      " 17%|███████████████████████▉                                                                                                                      | 110/651 [00:08<00:48, 11.18it/s]"
     ]
    },
    {
     "name": "stdout",
     "output_type": "stream",
     "text": [
      "new_label_combined\n",
      "new_label_combined\n",
      "new_label_combined\n"
     ]
    },
    {
     "name": "stderr",
     "output_type": "stream",
     "text": [
      "\r\n",
      " 17%|████████████████████████▍                                                                                                                     | 112/651 [00:09<00:48, 11.16it/s]"
     ]
    },
    {
     "name": "stdout",
     "output_type": "stream",
     "text": [
      "new_label_combined\n",
      "new_label_combined\n",
      "new_label_combined\n"
     ]
    },
    {
     "name": "stderr",
     "output_type": "stream",
     "text": [
      " 18%|█████████████████████████▎                                                                                                                    | 116/651 [00:09<00:48, 11.07it/s]"
     ]
    },
    {
     "name": "stdout",
     "output_type": "stream",
     "text": [
      "new_label_combined\n",
      "new_label_combined\n",
      "new_label_combined\n"
     ]
    },
    {
     "name": "stderr",
     "output_type": "stream",
     "text": [
      "\r\n",
      " 18%|█████████████████████████▋                                                                                                                    | 118/651 [00:09<00:48, 11.02it/s]"
     ]
    },
    {
     "name": "stdout",
     "output_type": "stream",
     "text": [
      "new_label_combined\n",
      "new_label_combined\n",
      "new_label_combined\n"
     ]
    },
    {
     "name": "stderr",
     "output_type": "stream",
     "text": [
      " 19%|██████████████████████████▌                                                                                                                   | 122/651 [00:09<00:47, 11.12it/s]"
     ]
    },
    {
     "name": "stdout",
     "output_type": "stream",
     "text": [
      "new_label_combined\n",
      "new_label_combined\n",
      "new_label_combined\n"
     ]
    },
    {
     "name": "stderr",
     "output_type": "stream",
     "text": [
      "\r\n",
      " 19%|███████████████████████████                                                                                                                   | 124/651 [00:10<00:47, 11.08it/s]"
     ]
    },
    {
     "name": "stdout",
     "output_type": "stream",
     "text": [
      "new_label_combined\n",
      "new_label_combined\n",
      "new_label_combined\n"
     ]
    },
    {
     "name": "stderr",
     "output_type": "stream",
     "text": [
      " 20%|███████████████████████████▉                                                                                                                  | 128/651 [00:10<00:47, 11.11it/s]"
     ]
    },
    {
     "name": "stdout",
     "output_type": "stream",
     "text": [
      "new_label_combined\n",
      "new_label_combined\n",
      "new_label_combined\n"
     ]
    },
    {
     "name": "stderr",
     "output_type": "stream",
     "text": [
      "\r\n",
      " 20%|████████████████████████████▎                                                                                                                 | 130/651 [00:10<00:46, 11.18it/s]"
     ]
    },
    {
     "name": "stdout",
     "output_type": "stream",
     "text": [
      "new_label_combined\n",
      "new_label_combined\n",
      "new_label_combined\n"
     ]
    },
    {
     "name": "stderr",
     "output_type": "stream",
     "text": [
      " 21%|█████████████████████████████▏                                                                                                                | 134/651 [00:11<00:47, 10.80it/s]"
     ]
    },
    {
     "name": "stdout",
     "output_type": "stream",
     "text": [
      "new_label_combined\n",
      "new_label_combined\n",
      "new_label_combined\n"
     ]
    },
    {
     "name": "stderr",
     "output_type": "stream",
     "text": [
      "\r\n",
      " 21%|█████████████████████████████▋                                                                                                                | 136/651 [00:11<00:47, 10.84it/s]"
     ]
    },
    {
     "name": "stdout",
     "output_type": "stream",
     "text": [
      "new_label_combined\n",
      "new_label_combined\n",
      "new_label_combined\n"
     ]
    },
    {
     "name": "stderr",
     "output_type": "stream",
     "text": [
      " 22%|██████████████████████████████▌                                                                                                               | 140/651 [00:11<00:47, 10.75it/s]"
     ]
    },
    {
     "name": "stdout",
     "output_type": "stream",
     "text": [
      "new_label_combined\n",
      "new_label_combined\n",
      "new_label_combined\n"
     ]
    },
    {
     "name": "stderr",
     "output_type": "stream",
     "text": [
      "\r\n",
      " 22%|██████████████████████████████▉                                                                                                               | 142/651 [00:11<00:47, 10.79it/s]"
     ]
    },
    {
     "name": "stdout",
     "output_type": "stream",
     "text": [
      "new_label_combined\n",
      "new_label_combined\n",
      "new_label_combined\n"
     ]
    },
    {
     "name": "stderr",
     "output_type": "stream",
     "text": [
      " 22%|███████████████████████████████▊                                                                                                              | 146/651 [00:12<00:46, 10.96it/s]"
     ]
    },
    {
     "name": "stdout",
     "output_type": "stream",
     "text": [
      "new_label_combined\n",
      "new_label_combined\n",
      "new_label_combined\n"
     ]
    },
    {
     "name": "stderr",
     "output_type": "stream",
     "text": [
      "\r\n",
      " 23%|████████████████████████████████▎                                                                                                             | 148/651 [00:12<00:45, 11.09it/s]"
     ]
    },
    {
     "name": "stdout",
     "output_type": "stream",
     "text": [
      "new_label_combined\n",
      "new_label_combined\n",
      "new_label_combined\n"
     ]
    },
    {
     "name": "stderr",
     "output_type": "stream",
     "text": [
      " 23%|█████████████████████████████████▏                                                                                                            | 152/651 [00:12<00:45, 11.00it/s]"
     ]
    },
    {
     "name": "stdout",
     "output_type": "stream",
     "text": [
      "new_label_combined\n",
      "new_label_combined\n",
      "new_label_combined\n"
     ]
    },
    {
     "name": "stderr",
     "output_type": "stream",
     "text": [
      "\r\n",
      " 24%|█████████████████████████████████▌                                                                                                            | 154/651 [00:12<00:44, 11.22it/s]"
     ]
    },
    {
     "name": "stdout",
     "output_type": "stream",
     "text": [
      "new_label_combined\n",
      "new_label_combined\n",
      "new_label_combined\n"
     ]
    },
    {
     "name": "stderr",
     "output_type": "stream",
     "text": [
      " 24%|██████████████████████████████████▍                                                                                                           | 158/651 [00:13<00:44, 11.01it/s]"
     ]
    },
    {
     "name": "stdout",
     "output_type": "stream",
     "text": [
      "new_label_combined\n",
      "new_label_combined\n",
      "new_label_combined\n"
     ]
    },
    {
     "name": "stderr",
     "output_type": "stream",
     "text": [
      "\r\n",
      " 25%|██████████████████████████████████▉                                                                                                           | 160/651 [00:13<00:44, 11.00it/s]"
     ]
    },
    {
     "name": "stdout",
     "output_type": "stream",
     "text": [
      "new_label_combined\n",
      "new_label_combined\n",
      "new_label_combined\n"
     ]
    },
    {
     "name": "stderr",
     "output_type": "stream",
     "text": [
      " 25%|███████████████████████████████████▊                                                                                                          | 164/651 [00:13<00:44, 11.02it/s]"
     ]
    },
    {
     "name": "stdout",
     "output_type": "stream",
     "text": [
      "new_label_combined\n",
      "new_label_combined\n",
      "new_label_combined\n"
     ]
    },
    {
     "name": "stderr",
     "output_type": "stream",
     "text": [
      "\r\n",
      " 25%|████████████████████████████████████▏                                                                                                         | 166/651 [00:14<00:44, 10.98it/s]"
     ]
    },
    {
     "name": "stdout",
     "output_type": "stream",
     "text": [
      "new_label_combined\n",
      "new_label_combined\n",
      "new_label_combined\n"
     ]
    },
    {
     "name": "stderr",
     "output_type": "stream",
     "text": [
      " 26%|█████████████████████████████████████                                                                                                         | 170/651 [00:14<00:43, 11.01it/s]"
     ]
    },
    {
     "name": "stdout",
     "output_type": "stream",
     "text": [
      "new_label_combined\n",
      "new_label_combined\n",
      "new_label_combined\n"
     ]
    },
    {
     "name": "stderr",
     "output_type": "stream",
     "text": [
      "\r\n",
      " 26%|█████████████████████████████████████▌                                                                                                        | 172/651 [00:14<00:43, 11.10it/s]"
     ]
    },
    {
     "name": "stdout",
     "output_type": "stream",
     "text": [
      "new_label_combined\n",
      "new_label_combined\n",
      "new_label_combined\n"
     ]
    },
    {
     "name": "stderr",
     "output_type": "stream",
     "text": [
      " 27%|██████████████████████████████████████▍                                                                                                       | 176/651 [00:14<00:43, 10.83it/s]"
     ]
    },
    {
     "name": "stdout",
     "output_type": "stream",
     "text": [
      "new_label_combined\n",
      "new_label_combined\n",
      "new_label_combined\n"
     ]
    },
    {
     "name": "stderr",
     "output_type": "stream",
     "text": [
      "\r\n",
      " 27%|██████████████████████████████████████▊                                                                                                       | 178/651 [00:15<00:43, 10.99it/s]"
     ]
    },
    {
     "name": "stdout",
     "output_type": "stream",
     "text": [
      "new_label_combined\n",
      "new_label_combined\n",
      "new_label_combined\n"
     ]
    },
    {
     "name": "stderr",
     "output_type": "stream",
     "text": [
      " 28%|███████████████████████████████████████▋                                                                                                      | 182/651 [00:15<00:43, 10.85it/s]"
     ]
    },
    {
     "name": "stdout",
     "output_type": "stream",
     "text": [
      "new_label_combined\n",
      "new_label_combined\n",
      "new_label_combined\n"
     ]
    },
    {
     "name": "stderr",
     "output_type": "stream",
     "text": [
      "\r\n",
      " 28%|████████████████████████████████████████▏                                                                                                     | 184/651 [00:15<00:43, 10.77it/s]"
     ]
    },
    {
     "name": "stdout",
     "output_type": "stream",
     "text": [
      "new_label_combined\n",
      "new_label_combined\n",
      "new_label_combined\n"
     ]
    },
    {
     "name": "stderr",
     "output_type": "stream",
     "text": [
      " 29%|█████████████████████████████████████████                                                                                                     | 188/651 [00:16<00:42, 10.92it/s]"
     ]
    },
    {
     "name": "stdout",
     "output_type": "stream",
     "text": [
      "new_label_combined\n",
      "new_label_combined\n",
      "new_label_combined\n"
     ]
    },
    {
     "name": "stderr",
     "output_type": "stream",
     "text": [
      "\r\n",
      " 29%|█████████████████████████████████████████▍                                                                                                    | 190/651 [00:16<00:42, 10.91it/s]"
     ]
    },
    {
     "name": "stdout",
     "output_type": "stream",
     "text": [
      "new_label_combined\n",
      "new_label_combined\n",
      "new_label_combined\n"
     ]
    },
    {
     "name": "stderr",
     "output_type": "stream",
     "text": [
      " 30%|██████████████████████████████████████████▎                                                                                                   | 194/651 [00:16<00:41, 10.97it/s]"
     ]
    },
    {
     "name": "stdout",
     "output_type": "stream",
     "text": [
      "new_label_combined\n",
      "new_label_combined\n",
      "new_label_combined\n"
     ]
    },
    {
     "name": "stderr",
     "output_type": "stream",
     "text": [
      "\r\n",
      " 30%|██████████████████████████████████████████▊                                                                                                   | 196/651 [00:16<00:41, 10.90it/s]"
     ]
    },
    {
     "name": "stdout",
     "output_type": "stream",
     "text": [
      "new_label_combined\n",
      "new_label_combined\n",
      "new_label_combined\n"
     ]
    },
    {
     "name": "stderr",
     "output_type": "stream",
     "text": [
      " 31%|███████████████████████████████████████████▋                                                                                                  | 200/651 [00:17<00:40, 11.04it/s]"
     ]
    },
    {
     "name": "stdout",
     "output_type": "stream",
     "text": [
      "new_label_combined\n",
      "new_label_combined\n",
      "new_label_combined\n"
     ]
    },
    {
     "name": "stderr",
     "output_type": "stream",
     "text": [
      "\r\n",
      " 31%|████████████████████████████████████████████                                                                                                  | 202/651 [00:17<00:40, 10.96it/s]"
     ]
    },
    {
     "name": "stdout",
     "output_type": "stream",
     "text": [
      "new_label_combined\n",
      "new_label_combined\n",
      "new_label_combined\n"
     ]
    },
    {
     "name": "stderr",
     "output_type": "stream",
     "text": [
      " 32%|████████████████████████████████████████████▉                                                                                                 | 206/651 [00:17<00:40, 10.99it/s]"
     ]
    },
    {
     "name": "stdout",
     "output_type": "stream",
     "text": [
      "new_label_combined\n",
      "new_label_combined\n",
      "new_label_combined\n"
     ]
    },
    {
     "name": "stderr",
     "output_type": "stream",
     "text": [
      "\r\n",
      " 32%|█████████████████████████████████████████████▎                                                                                                | 208/651 [00:17<00:40, 11.03it/s]"
     ]
    },
    {
     "name": "stdout",
     "output_type": "stream",
     "text": [
      "new_label_combined\n",
      "new_label_combined\n",
      "new_label_combined\n"
     ]
    },
    {
     "name": "stderr",
     "output_type": "stream",
     "text": [
      " 33%|██████████████████████████████████████████████▏                                                                                               | 212/651 [00:18<00:39, 11.09it/s]"
     ]
    },
    {
     "name": "stdout",
     "output_type": "stream",
     "text": [
      "new_label_combined\n",
      "new_label_combined\n",
      "new_label_combined\n"
     ]
    },
    {
     "name": "stderr",
     "output_type": "stream",
     "text": [
      "\r\n",
      " 33%|██████████████████████████████████████████████▋                                                                                               | 214/651 [00:18<00:39, 11.19it/s]"
     ]
    },
    {
     "name": "stdout",
     "output_type": "stream",
     "text": [
      "new_label_combined\n",
      "new_label_combined\n",
      "new_label_combined\n"
     ]
    },
    {
     "name": "stderr",
     "output_type": "stream",
     "text": [
      " 33%|███████████████████████████████████████████████▌                                                                                              | 218/651 [00:18<00:38, 11.14it/s]"
     ]
    },
    {
     "name": "stdout",
     "output_type": "stream",
     "text": [
      "new_label_combined\n",
      "new_label_combined\n",
      "new_label_combined\n"
     ]
    },
    {
     "name": "stderr",
     "output_type": "stream",
     "text": [
      "\r\n",
      " 34%|███████████████████████████████████████████████▉                                                                                              | 220/651 [00:18<00:39, 11.00it/s]"
     ]
    },
    {
     "name": "stdout",
     "output_type": "stream",
     "text": [
      "new_label_combined\n",
      "new_label_combined\n",
      "new_label_combined\n"
     ]
    },
    {
     "name": "stderr",
     "output_type": "stream",
     "text": [
      " 34%|████████████████████████████████████████████████▊                                                                                             | 224/651 [00:19<00:38, 11.03it/s]"
     ]
    },
    {
     "name": "stdout",
     "output_type": "stream",
     "text": [
      "new_label_combined\n",
      "new_label_combined\n",
      "new_label_combined\n"
     ]
    },
    {
     "name": "stderr",
     "output_type": "stream",
     "text": [
      "\r\n",
      " 35%|█████████████████████████████████████████████████▎                                                                                            | 226/651 [00:19<00:39, 10.89it/s]"
     ]
    },
    {
     "name": "stdout",
     "output_type": "stream",
     "text": [
      "new_label_combined\n",
      "new_label_combined\n",
      "new_label_combined\n"
     ]
    },
    {
     "name": "stderr",
     "output_type": "stream",
     "text": [
      " 35%|██████████████████████████████████████████████████▏                                                                                           | 230/651 [00:19<00:38, 10.98it/s]"
     ]
    },
    {
     "name": "stdout",
     "output_type": "stream",
     "text": [
      "new_label_combined\n",
      "new_label_combined\n",
      "new_label_combined\n"
     ]
    },
    {
     "name": "stderr",
     "output_type": "stream",
     "text": [
      "\r\n",
      " 36%|██████████████████████████████████████████████████▌                                                                                           | 232/651 [00:20<00:37, 11.05it/s]"
     ]
    },
    {
     "name": "stdout",
     "output_type": "stream",
     "text": [
      "new_label_combined\n",
      "new_label_combined\n",
      "new_label_combined\n"
     ]
    },
    {
     "name": "stderr",
     "output_type": "stream",
     "text": [
      " 36%|███████████████████████████████████████████████████▍                                                                                          | 236/651 [00:20<00:37, 11.05it/s]"
     ]
    },
    {
     "name": "stdout",
     "output_type": "stream",
     "text": [
      "new_label_combined\n",
      "new_label_combined\n",
      "new_label_combined\n"
     ]
    },
    {
     "name": "stderr",
     "output_type": "stream",
     "text": [
      "\r\n",
      " 37%|███████████████████████████████████████████████████▉                                                                                          | 238/651 [00:20<00:37, 11.12it/s]"
     ]
    },
    {
     "name": "stdout",
     "output_type": "stream",
     "text": [
      "new_label_combined\n",
      "new_label_combined\n",
      "new_label_combined\n"
     ]
    },
    {
     "name": "stderr",
     "output_type": "stream",
     "text": [
      " 37%|████████████████████████████████████████████████████▊                                                                                         | 242/651 [00:20<00:36, 11.15it/s]"
     ]
    },
    {
     "name": "stdout",
     "output_type": "stream",
     "text": [
      "new_label_combined\n",
      "new_label_combined\n",
      "new_label_combined\n"
     ]
    },
    {
     "name": "stderr",
     "output_type": "stream",
     "text": [
      "\r\n",
      " 37%|█████████████████████████████████████████████████████▏                                                                                        | 244/651 [00:21<00:36, 11.14it/s]"
     ]
    },
    {
     "name": "stdout",
     "output_type": "stream",
     "text": [
      "new_label_combined\n",
      "new_label_combined\n",
      "new_label_combined\n"
     ]
    },
    {
     "name": "stderr",
     "output_type": "stream",
     "text": [
      " 38%|██████████████████████████████████████████████████████                                                                                        | 248/651 [00:21<00:36, 11.14it/s]"
     ]
    },
    {
     "name": "stdout",
     "output_type": "stream",
     "text": [
      "new_label_combined\n",
      "new_label_combined\n",
      "new_label_combined\n"
     ]
    },
    {
     "name": "stderr",
     "output_type": "stream",
     "text": [
      "\r\n",
      " 38%|██████████████████████████████████████████████████████▌                                                                                       | 250/651 [00:21<00:36, 11.14it/s]"
     ]
    },
    {
     "name": "stdout",
     "output_type": "stream",
     "text": [
      "new_label_combined\n",
      "new_label_combined\n",
      "new_label_combined\n"
     ]
    },
    {
     "name": "stderr",
     "output_type": "stream",
     "text": [
      " 39%|███████████████████████████████████████████████████████▍                                                                                      | 254/651 [00:22<00:36, 10.90it/s]"
     ]
    },
    {
     "name": "stdout",
     "output_type": "stream",
     "text": [
      "new_label_combined\n",
      "new_label_combined\n",
      "new_label_combined\n"
     ]
    },
    {
     "name": "stderr",
     "output_type": "stream",
     "text": [
      "\r\n",
      " 39%|███████████████████████████████████████████████████████▊                                                                                      | 256/651 [00:22<00:35, 11.01it/s]"
     ]
    },
    {
     "name": "stdout",
     "output_type": "stream",
     "text": [
      "new_label_combined\n",
      "new_label_combined\n",
      "new_label_combined\n"
     ]
    },
    {
     "name": "stderr",
     "output_type": "stream",
     "text": [
      " 40%|████████████████████████████████████████████████████████▋                                                                                     | 260/651 [00:22<00:35, 11.09it/s]"
     ]
    },
    {
     "name": "stdout",
     "output_type": "stream",
     "text": [
      "new_label_combined\n",
      "new_label_combined\n",
      "new_label_combined\n"
     ]
    },
    {
     "name": "stderr",
     "output_type": "stream",
     "text": [
      "\r\n",
      " 40%|█████████████████████████████████████████████████████████▏                                                                                    | 262/651 [00:22<00:35, 10.91it/s]"
     ]
    },
    {
     "name": "stdout",
     "output_type": "stream",
     "text": [
      "new_label_combined\n",
      "new_label_combined\n",
      "new_label_combined\n"
     ]
    },
    {
     "name": "stderr",
     "output_type": "stream",
     "text": [
      " 41%|██████████████████████████████████████████████████████████                                                                                    | 266/651 [00:23<00:35, 10.93it/s]"
     ]
    },
    {
     "name": "stdout",
     "output_type": "stream",
     "text": [
      "new_label_combined\n",
      "new_label_combined\n",
      "new_label_combined\n"
     ]
    },
    {
     "name": "stderr",
     "output_type": "stream",
     "text": [
      "\r\n",
      " 41%|██████████████████████████████████████████████████████████▍                                                                                   | 268/651 [00:23<00:34, 10.99it/s]"
     ]
    },
    {
     "name": "stdout",
     "output_type": "stream",
     "text": [
      "new_label_combined\n",
      "new_label_combined\n",
      "new_label_combined\n"
     ]
    },
    {
     "name": "stderr",
     "output_type": "stream",
     "text": [
      " 42%|███████████████████████████████████████████████████████████▎                                                                                  | 272/651 [00:23<00:34, 11.11it/s]"
     ]
    },
    {
     "name": "stdout",
     "output_type": "stream",
     "text": [
      "new_label_combined\n",
      "new_label_combined\n",
      "new_label_combined\n"
     ]
    },
    {
     "name": "stderr",
     "output_type": "stream",
     "text": [
      "\r\n",
      " 42%|███████████████████████████████████████████████████████████▊                                                                                  | 274/651 [00:23<00:33, 11.20it/s]"
     ]
    },
    {
     "name": "stdout",
     "output_type": "stream",
     "text": [
      "new_label_combined\n",
      "new_label_combined\n",
      "new_label_combined\n"
     ]
    },
    {
     "name": "stderr",
     "output_type": "stream",
     "text": [
      " 43%|████████████████████████████████████████████████████████████▋                                                                                 | 278/651 [00:24<00:33, 11.17it/s]"
     ]
    },
    {
     "name": "stdout",
     "output_type": "stream",
     "text": [
      "new_label_combined\n",
      "new_label_combined\n",
      "new_label_combined\n"
     ]
    },
    {
     "name": "stderr",
     "output_type": "stream",
     "text": [
      "\r\n",
      " 43%|█████████████████████████████████████████████████████████████                                                                                 | 280/651 [00:24<00:32, 11.32it/s]"
     ]
    },
    {
     "name": "stdout",
     "output_type": "stream",
     "text": [
      "new_label_combined\n",
      "new_label_combined\n",
      "new_label_combined\n"
     ]
    },
    {
     "name": "stderr",
     "output_type": "stream",
     "text": [
      " 44%|█████████████████████████████████████████████████████████████▉                                                                                | 284/651 [00:24<00:32, 11.36it/s]"
     ]
    },
    {
     "name": "stdout",
     "output_type": "stream",
     "text": [
      "new_label_combined\n",
      "new_label_combined\n",
      "new_label_combined\n"
     ]
    },
    {
     "name": "stderr",
     "output_type": "stream",
     "text": [
      "\r\n",
      " 44%|██████████████████████████████████████████████████████████████▍                                                                               | 286/651 [00:24<00:31, 11.42it/s]"
     ]
    },
    {
     "name": "stdout",
     "output_type": "stream",
     "text": [
      "new_label_combined\n",
      "new_label_combined\n",
      "new_label_combined\n"
     ]
    },
    {
     "name": "stderr",
     "output_type": "stream",
     "text": [
      " 45%|███████████████████████████████████████████████████████████████▎                                                                              | 290/651 [00:25<00:31, 11.49it/s]"
     ]
    },
    {
     "name": "stdout",
     "output_type": "stream",
     "text": [
      "new_label_combined\n",
      "new_label_combined\n",
      "new_label_combined\n"
     ]
    },
    {
     "name": "stderr",
     "output_type": "stream",
     "text": [
      "\r\n",
      " 45%|███████████████████████████████████████████████████████████████▋                                                                              | 292/651 [00:25<00:31, 11.42it/s]"
     ]
    },
    {
     "name": "stdout",
     "output_type": "stream",
     "text": [
      "new_label_combined\n",
      "new_label_combined\n",
      "new_label_combined\n"
     ]
    },
    {
     "name": "stderr",
     "output_type": "stream",
     "text": [
      " 45%|████████████████████████████████████████████████████████████████▌                                                                             | 296/651 [00:25<00:31, 11.40it/s]"
     ]
    },
    {
     "name": "stdout",
     "output_type": "stream",
     "text": [
      "new_label_combined\n",
      "new_label_combined\n",
      "new_label_combined\n"
     ]
    },
    {
     "name": "stderr",
     "output_type": "stream",
     "text": [
      "\r\n",
      " 46%|█████████████████████████████████████████████████████████████████                                                                             | 298/651 [00:25<00:30, 11.47it/s]"
     ]
    },
    {
     "name": "stdout",
     "output_type": "stream",
     "text": [
      "new_label_combined\n",
      "new_label_combined\n",
      "new_label_combined\n"
     ]
    },
    {
     "name": "stderr",
     "output_type": "stream",
     "text": [
      " 46%|█████████████████████████████████████████████████████████████████▊                                                                            | 302/651 [00:26<00:30, 11.42it/s]"
     ]
    },
    {
     "name": "stdout",
     "output_type": "stream",
     "text": [
      "new_label_combined\n",
      "new_label_combined\n",
      "new_label_combined\n"
     ]
    },
    {
     "name": "stderr",
     "output_type": "stream",
     "text": [
      "\r\n",
      " 47%|██████████████████████████████████████████████████████████████████▎                                                                           | 304/651 [00:26<00:30, 11.22it/s]"
     ]
    },
    {
     "name": "stdout",
     "output_type": "stream",
     "text": [
      "new_label_combined\n",
      "new_label_combined\n",
      "new_label_combined\n"
     ]
    },
    {
     "name": "stderr",
     "output_type": "stream",
     "text": [
      " 47%|███████████████████████████████████████████████████████████████████▏                                                                          | 308/651 [00:26<00:30, 11.24it/s]"
     ]
    },
    {
     "name": "stdout",
     "output_type": "stream",
     "text": [
      "new_label_combined\n",
      "new_label_combined\n",
      "new_label_combined\n"
     ]
    },
    {
     "name": "stderr",
     "output_type": "stream",
     "text": [
      "\r\n",
      " 48%|███████████████████████████████████████████████████████████████████▌                                                                          | 310/651 [00:26<00:29, 11.40it/s]"
     ]
    },
    {
     "name": "stdout",
     "output_type": "stream",
     "text": [
      "new_label_combined\n",
      "new_label_combined\n",
      "new_label_combined\n"
     ]
    },
    {
     "name": "stderr",
     "output_type": "stream",
     "text": [
      " 48%|████████████████████████████████████████████████████████████████████▍                                                                         | 314/651 [00:27<00:29, 11.36it/s]"
     ]
    },
    {
     "name": "stdout",
     "output_type": "stream",
     "text": [
      "new_label_combined\n",
      "new_label_combined\n",
      "new_label_combined\n"
     ]
    },
    {
     "name": "stderr",
     "output_type": "stream",
     "text": [
      "\r\n",
      " 49%|████████████████████████████████████████████████████████████████████▉                                                                         | 316/651 [00:27<00:29, 11.48it/s]"
     ]
    },
    {
     "name": "stdout",
     "output_type": "stream",
     "text": [
      "new_label_combined\n",
      "new_label_combined\n",
      "new_label_combined\n"
     ]
    },
    {
     "name": "stderr",
     "output_type": "stream",
     "text": [
      " 49%|█████████████████████████████████████████████████████████████████████▊                                                                        | 320/651 [00:27<00:29, 11.08it/s]"
     ]
    },
    {
     "name": "stdout",
     "output_type": "stream",
     "text": [
      "new_label_combined\n",
      "new_label_combined\n",
      "new_label_combined\n"
     ]
    },
    {
     "name": "stderr",
     "output_type": "stream",
     "text": [
      "\r\n",
      " 49%|██████████████████████████████████████████████████████████████████████▏                                                                       | 322/651 [00:28<00:29, 11.25it/s]"
     ]
    },
    {
     "name": "stdout",
     "output_type": "stream",
     "text": [
      "new_label_combined\n",
      "new_label_combined\n",
      "new_label_combined\n"
     ]
    },
    {
     "name": "stderr",
     "output_type": "stream",
     "text": [
      " 50%|███████████████████████████████████████████████████████████████████████                                                                       | 326/651 [00:28<00:28, 11.21it/s]"
     ]
    },
    {
     "name": "stdout",
     "output_type": "stream",
     "text": [
      "new_label_combined\n",
      "new_label_combined\n",
      "new_label_combined\n"
     ]
    },
    {
     "name": "stderr",
     "output_type": "stream",
     "text": [
      "\r\n",
      " 50%|███████████████████████████████████████████████████████████████████████▌                                                                      | 328/651 [00:28<00:28, 11.38it/s]"
     ]
    },
    {
     "name": "stdout",
     "output_type": "stream",
     "text": [
      "new_label_combined\n",
      "new_label_combined\n",
      "new_label_combined\n"
     ]
    },
    {
     "name": "stderr",
     "output_type": "stream",
     "text": [
      " 51%|████████████████████████████████████████████████████████████████████████▍                                                                     | 332/651 [00:28<00:28, 11.34it/s]"
     ]
    },
    {
     "name": "stdout",
     "output_type": "stream",
     "text": [
      "new_label_combined\n",
      "new_label_combined\n",
      "new_label_combined\n"
     ]
    },
    {
     "name": "stderr",
     "output_type": "stream",
     "text": [
      "\r\n",
      " 51%|████████████████████████████████████████████████████████████████████████▊                                                                     | 334/651 [00:29<00:27, 11.45it/s]"
     ]
    },
    {
     "name": "stdout",
     "output_type": "stream",
     "text": [
      "new_label_combined\n",
      "new_label_combined\n",
      "new_label_combined\n"
     ]
    },
    {
     "name": "stderr",
     "output_type": "stream",
     "text": [
      " 52%|█████████████████████████████████████████████████████████████████████████▋                                                                    | 338/651 [00:29<00:27, 11.20it/s]"
     ]
    },
    {
     "name": "stdout",
     "output_type": "stream",
     "text": [
      "new_label_combined\n",
      "new_label_combined\n",
      "new_label_combined\n"
     ]
    },
    {
     "name": "stderr",
     "output_type": "stream",
     "text": [
      "\r\n",
      " 52%|██████████████████████████████████████████████████████████████████████████▏                                                                   | 340/651 [00:29<00:27, 11.27it/s]"
     ]
    },
    {
     "name": "stdout",
     "output_type": "stream",
     "text": [
      "new_label_combined\n",
      "new_label_combined\n",
      "new_label_combined\n"
     ]
    },
    {
     "name": "stderr",
     "output_type": "stream",
     "text": [
      " 53%|███████████████████████████████████████████████████████████████████████████                                                                   | 344/651 [00:30<00:27, 11.09it/s]"
     ]
    },
    {
     "name": "stdout",
     "output_type": "stream",
     "text": [
      "new_label_combined\n",
      "new_label_combined\n",
      "new_label_combined\n"
     ]
    },
    {
     "name": "stderr",
     "output_type": "stream",
     "text": [
      "\r\n",
      " 53%|███████████████████████████████████████████████████████████████████████████▍                                                                  | 346/651 [00:30<00:27, 11.10it/s]"
     ]
    },
    {
     "name": "stdout",
     "output_type": "stream",
     "text": [
      "new_label_combined\n",
      "new_label_combined\n",
      "new_label_combined\n"
     ]
    },
    {
     "name": "stderr",
     "output_type": "stream",
     "text": [
      " 54%|████████████████████████████████████████████████████████████████████████████▎                                                                 | 350/651 [00:30<00:26, 11.20it/s]"
     ]
    },
    {
     "name": "stdout",
     "output_type": "stream",
     "text": [
      "new_label_combined\n",
      "new_label_combined\n",
      "new_label_combined\n"
     ]
    },
    {
     "name": "stderr",
     "output_type": "stream",
     "text": [
      "\r\n",
      " 54%|████████████████████████████████████████████████████████████████████████████▊                                                                 | 352/651 [00:30<00:26, 11.28it/s]"
     ]
    },
    {
     "name": "stdout",
     "output_type": "stream",
     "text": [
      "new_label_combined\n",
      "new_label_combined\n",
      "new_label_combined\n"
     ]
    },
    {
     "name": "stderr",
     "output_type": "stream",
     "text": [
      " 55%|█████████████████████████████████████████████████████████████████████████████▋                                                                | 356/651 [00:31<00:26, 11.06it/s]"
     ]
    },
    {
     "name": "stdout",
     "output_type": "stream",
     "text": [
      "new_label_combined\n",
      "new_label_combined\n",
      "new_label_combined\n"
     ]
    },
    {
     "name": "stderr",
     "output_type": "stream",
     "text": [
      "\r\n",
      " 55%|██████████████████████████████████████████████████████████████████████████████                                                                | 358/651 [00:31<00:26, 11.08it/s]"
     ]
    },
    {
     "name": "stdout",
     "output_type": "stream",
     "text": [
      "new_label_combined\n",
      "new_label_combined\n",
      "new_label_combined\n"
     ]
    },
    {
     "name": "stderr",
     "output_type": "stream",
     "text": [
      " 56%|██████████████████████████████████████████████████████████████████████████████▉                                                               | 362/651 [00:31<00:26, 11.09it/s]"
     ]
    },
    {
     "name": "stdout",
     "output_type": "stream",
     "text": [
      "new_label_combined\n",
      "new_label_combined\n",
      "new_label_combined\n"
     ]
    },
    {
     "name": "stderr",
     "output_type": "stream",
     "text": [
      "\r\n",
      " 56%|███████████████████████████████████████████████████████████████████████████████▍                                                              | 364/651 [00:31<00:25, 11.23it/s]"
     ]
    },
    {
     "name": "stdout",
     "output_type": "stream",
     "text": [
      "new_label_combined\n",
      "new_label_combined\n",
      "new_label_combined\n"
     ]
    },
    {
     "name": "stderr",
     "output_type": "stream",
     "text": [
      " 57%|████████████████████████████████████████████████████████████████████████████████▎                                                             | 368/651 [00:32<00:25, 10.96it/s]"
     ]
    },
    {
     "name": "stdout",
     "output_type": "stream",
     "text": [
      "new_label_combined\n",
      "new_label_combined\n",
      "new_label_combined\n"
     ]
    },
    {
     "name": "stderr",
     "output_type": "stream",
     "text": [
      "\r\n",
      " 57%|████████████████████████████████████████████████████████████████████████████████▋                                                             | 370/651 [00:32<00:25, 11.10it/s]"
     ]
    },
    {
     "name": "stdout",
     "output_type": "stream",
     "text": [
      "new_label_combined\n",
      "new_label_combined\n",
      "new_label_combined\n"
     ]
    },
    {
     "name": "stderr",
     "output_type": "stream",
     "text": [
      " 57%|█████████████████████████████████████████████████████████████████████████████████▌                                                            | 374/651 [00:32<00:25, 10.93it/s]"
     ]
    },
    {
     "name": "stdout",
     "output_type": "stream",
     "text": [
      "new_label_combined\n",
      "new_label_combined\n",
      "new_label_combined\n"
     ]
    },
    {
     "name": "stderr",
     "output_type": "stream",
     "text": [
      "\r\n",
      " 58%|██████████████████████████████████████████████████████████████████████████████████                                                            | 376/651 [00:32<00:24, 11.15it/s]"
     ]
    },
    {
     "name": "stdout",
     "output_type": "stream",
     "text": [
      "new_label_combined\n",
      "new_label_combined\n",
      "new_label_combined\n"
     ]
    },
    {
     "name": "stderr",
     "output_type": "stream",
     "text": [
      " 58%|██████████████████████████████████████████████████████████████████████████████████▉                                                           | 380/651 [00:33<00:24, 10.86it/s]"
     ]
    },
    {
     "name": "stdout",
     "output_type": "stream",
     "text": [
      "new_label_combined\n",
      "new_label_combined\n",
      "new_label_combined\n"
     ]
    },
    {
     "name": "stderr",
     "output_type": "stream",
     "text": [
      "\r\n",
      " 59%|███████████████████████████████████████████████████████████████████████████████████▎                                                          | 382/651 [00:33<00:24, 11.10it/s]"
     ]
    },
    {
     "name": "stdout",
     "output_type": "stream",
     "text": [
      "new_label_combined\n",
      "new_label_combined\n",
      "new_label_combined\n"
     ]
    },
    {
     "name": "stderr",
     "output_type": "stream",
     "text": [
      " 59%|████████████████████████████████████████████████████████████████████████████████████▏                                                         | 386/651 [00:33<00:23, 11.06it/s]"
     ]
    },
    {
     "name": "stdout",
     "output_type": "stream",
     "text": [
      "new_label_combined\n",
      "new_label_combined\n",
      "new_label_combined\n"
     ]
    },
    {
     "name": "stderr",
     "output_type": "stream",
     "text": [
      "\r\n",
      " 60%|████████████████████████████████████████████████████████████████████████████████████▋                                                         | 388/651 [00:33<00:23, 11.10it/s]"
     ]
    },
    {
     "name": "stdout",
     "output_type": "stream",
     "text": [
      "new_label_combined\n",
      "new_label_combined\n",
      "new_label_combined\n"
     ]
    },
    {
     "name": "stderr",
     "output_type": "stream",
     "text": [
      " 60%|█████████████████████████████████████████████████████████████████████████████████████▌                                                        | 392/651 [00:34<00:23, 11.22it/s]"
     ]
    },
    {
     "name": "stdout",
     "output_type": "stream",
     "text": [
      "new_label_combined\n",
      "new_label_combined\n",
      "new_label_combined\n"
     ]
    },
    {
     "name": "stderr",
     "output_type": "stream",
     "text": [
      "\r\n",
      " 61%|█████████████████████████████████████████████████████████████████████████████████████▉                                                        | 394/651 [00:34<00:22, 11.34it/s]"
     ]
    },
    {
     "name": "stdout",
     "output_type": "stream",
     "text": [
      "new_label_combined\n",
      "new_label_combined\n",
      "new_label_combined\n"
     ]
    },
    {
     "name": "stderr",
     "output_type": "stream",
     "text": [
      " 61%|██████████████████████████████████████████████████████████████████████████████████████▊                                                       | 398/651 [00:34<00:22, 11.15it/s]"
     ]
    },
    {
     "name": "stdout",
     "output_type": "stream",
     "text": [
      "new_label_combined\n",
      "new_label_combined\n",
      "new_label_combined\n"
     ]
    },
    {
     "name": "stderr",
     "output_type": "stream",
     "text": [
      "\r\n",
      " 61%|███████████████████████████████████████████████████████████████████████████████████████▎                                                      | 400/651 [00:35<00:22, 11.32it/s]"
     ]
    },
    {
     "name": "stdout",
     "output_type": "stream",
     "text": [
      "new_label_combined\n",
      "new_label_combined\n",
      "new_label_combined\n"
     ]
    },
    {
     "name": "stderr",
     "output_type": "stream",
     "text": [
      " 62%|████████████████████████████████████████████████████████████████████████████████████████                                                      | 404/651 [00:35<00:21, 11.33it/s]"
     ]
    },
    {
     "name": "stdout",
     "output_type": "stream",
     "text": [
      "new_label_combined\n",
      "new_label_combined\n",
      "new_label_combined\n"
     ]
    },
    {
     "name": "stderr",
     "output_type": "stream",
     "text": [
      "\r\n",
      " 62%|████████████████████████████████████████████████████████████████████████████████████████▌                                                     | 406/651 [00:35<00:21, 11.43it/s]"
     ]
    },
    {
     "name": "stdout",
     "output_type": "stream",
     "text": [
      "new_label_combined\n",
      "new_label_combined\n",
      "new_label_combined\n"
     ]
    },
    {
     "name": "stderr",
     "output_type": "stream",
     "text": [
      " 63%|█████████████████████████████████████████████████████████████████████████████████████████▍                                                    | 410/651 [00:35<00:21, 11.20it/s]"
     ]
    },
    {
     "name": "stdout",
     "output_type": "stream",
     "text": [
      "new_label_combined\n",
      "new_label_combined\n",
      "new_label_combined\n"
     ]
    },
    {
     "name": "stderr",
     "output_type": "stream",
     "text": [
      "\r\n",
      " 63%|█████████████████████████████████████████████████████████████████████████████████████████▊                                                    | 412/651 [00:36<00:21, 11.23it/s]"
     ]
    },
    {
     "name": "stdout",
     "output_type": "stream",
     "text": [
      "new_label_combined\n",
      "new_label_combined\n",
      "new_label_combined\n"
     ]
    },
    {
     "name": "stderr",
     "output_type": "stream",
     "text": [
      " 64%|██████████████████████████████████████████████████████████████████████████████████████████▋                                                   | 416/651 [00:36<00:20, 11.35it/s]"
     ]
    },
    {
     "name": "stdout",
     "output_type": "stream",
     "text": [
      "new_label_combined\n",
      "new_label_combined\n",
      "new_label_combined\n"
     ]
    },
    {
     "name": "stderr",
     "output_type": "stream",
     "text": [
      "\r\n",
      " 64%|███████████████████████████████████████████████████████████████████████████████████████████▏                                                  | 418/651 [00:36<00:20, 11.42it/s]"
     ]
    },
    {
     "name": "stdout",
     "output_type": "stream",
     "text": [
      "new_label_combined\n",
      "new_label_combined\n",
      "new_label_combined\n"
     ]
    },
    {
     "name": "stderr",
     "output_type": "stream",
     "text": [
      " 65%|████████████████████████████████████████████████████████████████████████████████████████████                                                  | 422/651 [00:36<00:20, 11.32it/s]"
     ]
    },
    {
     "name": "stdout",
     "output_type": "stream",
     "text": [
      "new_label_combined\n",
      "new_label_combined\n",
      "new_label_combined\n"
     ]
    },
    {
     "name": "stderr",
     "output_type": "stream",
     "text": [
      "\r\n",
      " 65%|████████████████████████████████████████████████████████████████████████████████████████████▍                                                 | 424/651 [00:37<00:20, 11.35it/s]"
     ]
    },
    {
     "name": "stdout",
     "output_type": "stream",
     "text": [
      "new_label_combined\n",
      "new_label_combined\n",
      "new_label_combined\n"
     ]
    },
    {
     "name": "stderr",
     "output_type": "stream",
     "text": [
      " 66%|█████████████████████████████████████████████████████████████████████████████████████████████▎                                                | 428/651 [00:37<00:20, 11.14it/s]"
     ]
    },
    {
     "name": "stdout",
     "output_type": "stream",
     "text": [
      "new_label_combined\n",
      "new_label_combined\n",
      "new_label_combined\n"
     ]
    },
    {
     "name": "stderr",
     "output_type": "stream",
     "text": [
      "\r\n",
      " 66%|█████████████████████████████████████████████████████████████████████████████████████████████▊                                                | 430/651 [00:37<00:19, 11.06it/s]"
     ]
    },
    {
     "name": "stdout",
     "output_type": "stream",
     "text": [
      "new_label_combined\n",
      "new_label_combined\n",
      "new_label_combined\n"
     ]
    },
    {
     "name": "stderr",
     "output_type": "stream",
     "text": [
      " 67%|██████████████████████████████████████████████████████████████████████████████████████████████▋                                               | 434/651 [00:38<00:19, 11.18it/s]"
     ]
    },
    {
     "name": "stdout",
     "output_type": "stream",
     "text": [
      "new_label_combined\n",
      "new_label_combined\n",
      "new_label_combined\n"
     ]
    },
    {
     "name": "stderr",
     "output_type": "stream",
     "text": [
      "\r\n",
      " 67%|███████████████████████████████████████████████████████████████████████████████████████████████                                               | 436/651 [00:38<00:19, 11.21it/s]"
     ]
    },
    {
     "name": "stdout",
     "output_type": "stream",
     "text": [
      "new_label_combined\n",
      "new_label_combined\n",
      "new_label_combined\n"
     ]
    },
    {
     "name": "stderr",
     "output_type": "stream",
     "text": [
      " 68%|███████████████████████████████████████████████████████████████████████████████████████████████▉                                              | 440/651 [00:38<00:18, 11.39it/s]"
     ]
    },
    {
     "name": "stdout",
     "output_type": "stream",
     "text": [
      "new_label_combined\n",
      "new_label_combined\n",
      "new_label_combined\n"
     ]
    },
    {
     "name": "stderr",
     "output_type": "stream",
     "text": [
      "\r\n",
      " 68%|████████████████████████████████████████████████████████████████████████████████████████████████▍                                             | 442/651 [00:38<00:18, 11.49it/s]"
     ]
    },
    {
     "name": "stdout",
     "output_type": "stream",
     "text": [
      "new_label_combined\n",
      "new_label_combined\n",
      "new_label_combined\n"
     ]
    },
    {
     "name": "stderr",
     "output_type": "stream",
     "text": [
      " 69%|█████████████████████████████████████████████████████████████████████████████████████████████████▎                                            | 446/651 [00:39<00:17, 11.42it/s]"
     ]
    },
    {
     "name": "stdout",
     "output_type": "stream",
     "text": [
      "new_label_combined\n",
      "new_label_combined\n",
      "new_label_combined\n"
     ]
    },
    {
     "name": "stderr",
     "output_type": "stream",
     "text": [
      "\r\n",
      " 69%|█████████████████████████████████████████████████████████████████████████████████████████████████▋                                            | 448/651 [00:39<00:17, 11.47it/s]"
     ]
    },
    {
     "name": "stdout",
     "output_type": "stream",
     "text": [
      "new_label_combined\n",
      "new_label_combined\n",
      "new_label_combined\n"
     ]
    },
    {
     "name": "stderr",
     "output_type": "stream",
     "text": [
      " 69%|██████████████████████████████████████████████████████████████████████████████████████████████████▌                                           | 452/651 [00:39<00:17, 11.44it/s]"
     ]
    },
    {
     "name": "stdout",
     "output_type": "stream",
     "text": [
      "new_label_combined\n",
      "new_label_combined\n",
      "new_label_combined\n"
     ]
    },
    {
     "name": "stderr",
     "output_type": "stream",
     "text": [
      "\r\n",
      " 70%|███████████████████████████████████████████████████████████████████████████████████████████████████                                           | 454/651 [00:39<00:17, 11.55it/s]"
     ]
    },
    {
     "name": "stdout",
     "output_type": "stream",
     "text": [
      "new_label_combined\n",
      "new_label_combined\n",
      "new_label_combined\n"
     ]
    },
    {
     "name": "stderr",
     "output_type": "stream",
     "text": [
      " 70%|███████████████████████████████████████████████████████████████████████████████████████████████████▉                                          | 458/651 [00:40<00:17, 11.26it/s]"
     ]
    },
    {
     "name": "stdout",
     "output_type": "stream",
     "text": [
      "new_label_combined\n",
      "new_label_combined\n",
      "new_label_combined\n"
     ]
    },
    {
     "name": "stderr",
     "output_type": "stream",
     "text": [
      "\r\n",
      " 71%|████████████████████████████████████████████████████████████████████████████████████████████████████▎                                         | 460/651 [00:40<00:16, 11.41it/s]"
     ]
    },
    {
     "name": "stdout",
     "output_type": "stream",
     "text": [
      "new_label_combined\n",
      "new_label_combined\n",
      "new_label_combined\n"
     ]
    },
    {
     "name": "stderr",
     "output_type": "stream",
     "text": [
      " 71%|█████████████████████████████████████████████████████████████████████████████████████████████████████▏                                        | 464/651 [00:40<00:17, 10.96it/s]"
     ]
    },
    {
     "name": "stdout",
     "output_type": "stream",
     "text": [
      "new_label_combined\n",
      "new_label_combined\n",
      "new_label_combined\n"
     ]
    },
    {
     "name": "stderr",
     "output_type": "stream",
     "text": [
      "\r\n",
      " 72%|█████████████████████████████████████████████████████████████████████████████████████████████████████▋                                        | 466/651 [00:40<00:16, 11.18it/s]"
     ]
    },
    {
     "name": "stdout",
     "output_type": "stream",
     "text": [
      "new_label_combined\n",
      "new_label_combined\n",
      "new_label_combined\n"
     ]
    },
    {
     "name": "stderr",
     "output_type": "stream",
     "text": [
      " 72%|██████████████████████████████████████████████████████████████████████████████████████████████████████▌                                       | 470/651 [00:41<00:16, 11.19it/s]"
     ]
    },
    {
     "name": "stdout",
     "output_type": "stream",
     "text": [
      "new_label_combined\n",
      "new_label_combined\n",
      "new_label_combined\n"
     ]
    },
    {
     "name": "stderr",
     "output_type": "stream",
     "text": [
      "\r\n",
      " 73%|██████████████████████████████████████████████████████████████████████████████████████████████████████▉                                       | 472/651 [00:41<00:15, 11.30it/s]"
     ]
    },
    {
     "name": "stdout",
     "output_type": "stream",
     "text": [
      "new_label_combined\n",
      "new_label_combined\n",
      "new_label_combined\n"
     ]
    },
    {
     "name": "stderr",
     "output_type": "stream",
     "text": [
      " 73%|███████████████████████████████████████████████████████████████████████████████████████████████████████▊                                      | 476/651 [00:41<00:15, 11.32it/s]"
     ]
    },
    {
     "name": "stdout",
     "output_type": "stream",
     "text": [
      "new_label_combined\n",
      "new_label_combined\n",
      "new_label_combined\n"
     ]
    },
    {
     "name": "stderr",
     "output_type": "stream",
     "text": [
      "\r\n",
      " 73%|████████████████████████████████████████████████████████████████████████████████████████████████████████▎                                     | 478/651 [00:41<00:15, 11.40it/s]"
     ]
    },
    {
     "name": "stdout",
     "output_type": "stream",
     "text": [
      "new_label_combined\n",
      "new_label_combined\n",
      "new_label_combined\n"
     ]
    },
    {
     "name": "stderr",
     "output_type": "stream",
     "text": [
      " 74%|█████████████████████████████████████████████████████████████████████████████████████████████████████████▏                                    | 482/651 [00:42<00:15, 11.10it/s]"
     ]
    },
    {
     "name": "stdout",
     "output_type": "stream",
     "text": [
      "new_label_combined\n",
      "new_label_combined\n",
      "new_label_combined\n"
     ]
    },
    {
     "name": "stderr",
     "output_type": "stream",
     "text": [
      "\r\n",
      " 74%|█████████████████████████████████████████████████████████████████████████████████████████████████████████▌                                    | 484/651 [00:42<00:14, 11.16it/s]"
     ]
    },
    {
     "name": "stdout",
     "output_type": "stream",
     "text": [
      "new_label_combined\n",
      "new_label_combined\n",
      "new_label_combined\n"
     ]
    },
    {
     "name": "stderr",
     "output_type": "stream",
     "text": [
      " 75%|██████████████████████████████████████████████████████████████████████████████████████████████████████████▍                                   | 488/651 [00:42<00:14, 11.27it/s]"
     ]
    },
    {
     "name": "stdout",
     "output_type": "stream",
     "text": [
      "new_label_combined\n",
      "new_label_combined\n",
      "new_label_combined\n"
     ]
    },
    {
     "name": "stderr",
     "output_type": "stream",
     "text": [
      "\r\n",
      " 75%|██████████████████████████████████████████████████████████████████████████████████████████████████████████▉                                   | 490/651 [00:43<00:14, 11.34it/s]"
     ]
    },
    {
     "name": "stdout",
     "output_type": "stream",
     "text": [
      "new_label_combined\n",
      "new_label_combined\n",
      "new_label_combined\n"
     ]
    },
    {
     "name": "stderr",
     "output_type": "stream",
     "text": [
      " 76%|███████████████████████████████████████████████████████████████████████████████████████████████████████████▊                                  | 494/651 [00:43<00:14, 11.21it/s]"
     ]
    },
    {
     "name": "stdout",
     "output_type": "stream",
     "text": [
      "new_label_combined\n",
      "new_label_combined\n",
      "new_label_combined\n"
     ]
    },
    {
     "name": "stderr",
     "output_type": "stream",
     "text": [
      "\r\n",
      " 76%|████████████████████████████████████████████████████████████████████████████████████████████████████████████▏                                 | 496/651 [00:43<00:13, 11.39it/s]"
     ]
    },
    {
     "name": "stdout",
     "output_type": "stream",
     "text": [
      "new_label_combined\n",
      "new_label_combined\n",
      "new_label_combined\n"
     ]
    },
    {
     "name": "stderr",
     "output_type": "stream",
     "text": [
      " 77%|█████████████████████████████████████████████████████████████████████████████████████████████████████████████                                 | 500/651 [00:43<00:13, 11.40it/s]"
     ]
    },
    {
     "name": "stdout",
     "output_type": "stream",
     "text": [
      "new_label_combined\n",
      "new_label_combined\n",
      "new_label_combined\n"
     ]
    },
    {
     "name": "stderr",
     "output_type": "stream",
     "text": [
      "\r\n",
      " 77%|█████████████████████████████████████████████████████████████████████████████████████████████████████████████▍                                | 502/651 [00:44<00:12, 11.48it/s]"
     ]
    },
    {
     "name": "stdout",
     "output_type": "stream",
     "text": [
      "new_label_combined\n",
      "new_label_combined\n",
      "new_label_combined\n"
     ]
    },
    {
     "name": "stderr",
     "output_type": "stream",
     "text": [
      " 78%|██████████████████████████████████████████████████████████████████████████████████████████████████████████████▎                               | 506/651 [00:44<00:12, 11.45it/s]"
     ]
    },
    {
     "name": "stdout",
     "output_type": "stream",
     "text": [
      "new_label_combined\n",
      "new_label_combined\n",
      "new_label_combined\n"
     ]
    },
    {
     "name": "stderr",
     "output_type": "stream",
     "text": [
      "\r\n",
      " 78%|██████████████████████████████████████████████████████████████████████████████████████████████████████████████▊                               | 508/651 [00:44<00:12, 11.52it/s]"
     ]
    },
    {
     "name": "stdout",
     "output_type": "stream",
     "text": [
      "new_label_combined\n",
      "new_label_combined\n",
      "new_label_combined\n"
     ]
    },
    {
     "name": "stderr",
     "output_type": "stream",
     "text": [
      " 79%|███████████████████████████████████████████████████████████████████████████████████████████████████████████████▋                              | 512/651 [00:44<00:12, 11.48it/s]"
     ]
    },
    {
     "name": "stdout",
     "output_type": "stream",
     "text": [
      "new_label_combined\n",
      "new_label_combined\n",
      "new_label_combined\n"
     ]
    },
    {
     "name": "stderr",
     "output_type": "stream",
     "text": [
      "\r\n",
      " 79%|████████████████████████████████████████████████████████████████████████████████████████████████████████████████                              | 514/651 [00:45<00:11, 11.52it/s]"
     ]
    },
    {
     "name": "stdout",
     "output_type": "stream",
     "text": [
      "new_label_combined\n",
      "new_label_combined\n",
      "new_label_combined\n"
     ]
    },
    {
     "name": "stderr",
     "output_type": "stream",
     "text": [
      " 80%|████████████████████████████████████████████████████████████████████████████████████████████████████████████████▉                             | 518/651 [00:45<00:11, 11.61it/s]"
     ]
    },
    {
     "name": "stdout",
     "output_type": "stream",
     "text": [
      "new_label_combined\n",
      "label_9_not_found_in this_slice\n",
      "label_9_not_found_in this_slice\n"
     ]
    },
    {
     "name": "stderr",
     "output_type": "stream",
     "text": [
      "\r\n",
      " 80%|█████████████████████████████████████████████████████████████████████████████████████████████████████████████████▍                            | 520/651 [00:45<00:10, 12.10it/s]"
     ]
    },
    {
     "name": "stdout",
     "output_type": "stream",
     "text": [
      "label_9_not_found_in this_slice\n",
      "label_9_not_found_in this_slice\n",
      "label_9_not_found_in this_slice\n"
     ]
    },
    {
     "name": "stderr",
     "output_type": "stream",
     "text": [
      " 80%|██████████████████████████████████████████████████████████████████████████████████████████████████████████████████▎                           | 524/651 [00:45<00:10, 12.65it/s]"
     ]
    },
    {
     "name": "stdout",
     "output_type": "stream",
     "text": [
      "label_9_not_found_in this_slice\n",
      "label_9_not_found_in this_slice\n",
      "label_9_not_found_in this_slice\n"
     ]
    },
    {
     "name": "stderr",
     "output_type": "stream",
     "text": [
      "\r\n",
      " 81%|██████████████████████████████████████████████████████████████████████████████████████████████████████████████████▋                           | 526/651 [00:46<00:09, 12.69it/s]"
     ]
    },
    {
     "name": "stdout",
     "output_type": "stream",
     "text": [
      "label_9_not_found_in this_slice\n",
      "label_9_not_found_in this_slice\n",
      "label_9_not_found_in this_slice\n"
     ]
    },
    {
     "name": "stderr",
     "output_type": "stream",
     "text": [
      " 81%|███████████████████████████████████████████████████████████████████████████████████████████████████████████████████▌                          | 530/651 [00:46<00:09, 12.71it/s]"
     ]
    },
    {
     "name": "stdout",
     "output_type": "stream",
     "text": [
      "label_9_not_found_in this_slice\n",
      "label_9_not_found_in this_slice\n",
      "label_9_not_found_in this_slice\n"
     ]
    },
    {
     "name": "stderr",
     "output_type": "stream",
     "text": [
      "\r\n",
      " 82%|████████████████████████████████████████████████████████████████████████████████████████████████████████████████████                          | 532/651 [00:46<00:09, 12.93it/s]"
     ]
    },
    {
     "name": "stdout",
     "output_type": "stream",
     "text": [
      "label_9_not_found_in this_slice\n",
      "label_9_not_found_in this_slice\n",
      "label_9_not_found_in this_slice\n"
     ]
    },
    {
     "name": "stderr",
     "output_type": "stream",
     "text": [
      " 82%|████████████████████████████████████████████████████████████████████████████████████████████████████████████████████▉                         | 536/651 [00:46<00:08, 13.20it/s]"
     ]
    },
    {
     "name": "stdout",
     "output_type": "stream",
     "text": [
      "label_9_not_found_in this_slice\n",
      "label_9_not_found_in this_slice\n",
      "label_9_not_found_in this_slice\n"
     ]
    },
    {
     "name": "stderr",
     "output_type": "stream",
     "text": [
      "\r\n",
      " 83%|█████████████████████████████████████████████████████████████████████████████████████████████████████████████████████▎                        | 538/651 [00:46<00:08, 13.23it/s]"
     ]
    },
    {
     "name": "stdout",
     "output_type": "stream",
     "text": [
      "label_9_not_found_in this_slice\n",
      "label_9_not_found_in this_slice\n",
      "label_9_not_found_in this_slice\n"
     ]
    },
    {
     "name": "stderr",
     "output_type": "stream",
     "text": [
      "\r\n",
      " 83%|█████████████████████████████████████████████████████████████████████████████████████████████████████████████████████▊                        | 540/651 [00:47<00:08, 13.30it/s]"
     ]
    },
    {
     "name": "stdout",
     "output_type": "stream",
     "text": [
      "label_9_not_found_in this_slice\n",
      "label_9_not_found_in this_slice\n"
     ]
    },
    {
     "name": "stderr",
     "output_type": "stream",
     "text": [
      " 84%|██████████████████████████████████████████████████████████████████████████████████████████████████████████████████████▋                       | 544/651 [00:47<00:08, 12.46it/s]"
     ]
    },
    {
     "name": "stdout",
     "output_type": "stream",
     "text": [
      "label_9_not_found_in this_slice\n",
      "label_9_not_found_in this_slice\n",
      "label_9_not_found_in this_slice\n"
     ]
    },
    {
     "name": "stderr",
     "output_type": "stream",
     "text": [
      "\r\n",
      " 84%|███████████████████████████████████████████████████████████████████████████████████████████████████████████████████████                       | 546/651 [00:47<00:08, 12.75it/s]"
     ]
    },
    {
     "name": "stdout",
     "output_type": "stream",
     "text": [
      "label_9_not_found_in this_slice\n",
      "label_9_not_found_in this_slice\n",
      "label_9_not_found_in this_slice\n"
     ]
    },
    {
     "name": "stderr",
     "output_type": "stream",
     "text": [
      " 84%|███████████████████████████████████████████████████████████████████████████████████████████████████████████████████████▉                      | 550/651 [00:47<00:07, 13.10it/s]"
     ]
    },
    {
     "name": "stdout",
     "output_type": "stream",
     "text": [
      "label_9_not_found_in this_slice\n",
      "label_9_not_found_in this_slice\n",
      "label_9_not_found_in this_slice\n"
     ]
    },
    {
     "name": "stderr",
     "output_type": "stream",
     "text": [
      "\r\n",
      " 85%|████████████████████████████████████████████████████████████████████████████████████████████████████████████████████████▍                     | 552/651 [00:48<00:07, 13.07it/s]"
     ]
    },
    {
     "name": "stdout",
     "output_type": "stream",
     "text": [
      "label_9_not_found_in this_slice\n",
      "label_9_not_found_in this_slice\n",
      "label_9_not_found_in this_slice\n"
     ]
    },
    {
     "name": "stderr",
     "output_type": "stream",
     "text": [
      " 85%|█████████████████████████████████████████████████████████████████████████████████████████████████████████████████████████▎                    | 556/651 [00:48<00:07, 12.86it/s]"
     ]
    },
    {
     "name": "stdout",
     "output_type": "stream",
     "text": [
      "label_9_not_found_in this_slice\n",
      "label_9_not_found_in this_slice\n",
      "label_9_not_found_in this_slice\n"
     ]
    },
    {
     "name": "stderr",
     "output_type": "stream",
     "text": [
      "\r\n",
      " 86%|█████████████████████████████████████████████████████████████████████████████████████████████████████████████████████████▋                    | 558/651 [00:48<00:07, 13.00it/s]"
     ]
    },
    {
     "name": "stdout",
     "output_type": "stream",
     "text": [
      "label_9_not_found_in this_slice\n",
      "label_9_not_found_in this_slice\n",
      "label_9_not_found_in this_slice\n"
     ]
    },
    {
     "name": "stderr",
     "output_type": "stream",
     "text": [
      " 86%|██████████████████████████████████████████████████████████████████████████████████████████████████████████████████████████▌                   | 562/651 [00:48<00:06, 13.06it/s]"
     ]
    },
    {
     "name": "stdout",
     "output_type": "stream",
     "text": [
      "label_9_not_found_in this_slice\n",
      "label_9_not_found_in this_slice\n",
      "label_9_not_found_in this_slice\n"
     ]
    },
    {
     "name": "stderr",
     "output_type": "stream",
     "text": [
      "\r\n",
      " 87%|███████████████████████████████████████████████████████████████████████████████████████████████████████████████████████████                   | 564/651 [00:49<00:06, 12.99it/s]"
     ]
    },
    {
     "name": "stdout",
     "output_type": "stream",
     "text": [
      "label_9_not_found_in this_slice\n",
      "label_9_not_found_in this_slice\n",
      "label_9_not_found_in this_slice\n"
     ]
    },
    {
     "name": "stderr",
     "output_type": "stream",
     "text": [
      " 87%|███████████████████████████████████████████████████████████████████████████████████████████████████████████████████████████▉                  | 568/651 [00:49<00:06, 13.20it/s]"
     ]
    },
    {
     "name": "stdout",
     "output_type": "stream",
     "text": [
      "label_9_not_found_in this_slice\n",
      "label_9_not_found_in this_slice\n",
      "label_9_not_found_in this_slice\n"
     ]
    },
    {
     "name": "stderr",
     "output_type": "stream",
     "text": [
      "\r\n",
      " 88%|████████████████████████████████████████████████████████████████████████████████████████████████████████████████████████████▎                 | 570/651 [00:49<00:06, 13.02it/s]"
     ]
    },
    {
     "name": "stdout",
     "output_type": "stream",
     "text": [
      "label_9_not_found_in this_slice\n",
      "label_9_not_found_in this_slice\n",
      "label_9_not_found_in this_slice\n"
     ]
    },
    {
     "name": "stderr",
     "output_type": "stream",
     "text": [
      " 88%|█████████████████████████████████████████████████████████████████████████████████████████████████████████████████████████████▏                | 574/651 [00:49<00:06, 12.68it/s]"
     ]
    },
    {
     "name": "stdout",
     "output_type": "stream",
     "text": [
      "label_9_not_found_in this_slice\n",
      "label_9_not_found_in this_slice\n",
      "label_9_not_found_in this_slice\n"
     ]
    },
    {
     "name": "stderr",
     "output_type": "stream",
     "text": [
      "\r\n",
      " 88%|█████████████████████████████████████████████████████████████████████████████████████████████████████████████████████████████▋                | 576/651 [00:49<00:05, 12.62it/s]"
     ]
    },
    {
     "name": "stdout",
     "output_type": "stream",
     "text": [
      "label_9_not_found_in this_slice\n",
      "label_9_not_found_in this_slice\n",
      "label_9_not_found_in this_slice\n"
     ]
    },
    {
     "name": "stderr",
     "output_type": "stream",
     "text": [
      " 89%|██████████████████████████████████████████████████████████████████████████████████████████████████████████████████████████████▌               | 580/651 [00:50<00:05, 13.09it/s]"
     ]
    },
    {
     "name": "stdout",
     "output_type": "stream",
     "text": [
      "label_9_not_found_in this_slice\n",
      "label_9_not_found_in this_slice\n",
      "label_9_not_found_in this_slice\n"
     ]
    },
    {
     "name": "stderr",
     "output_type": "stream",
     "text": [
      "\r\n",
      " 89%|██████████████████████████████████████████████████████████████████████████████████████████████████████████████████████████████▉               | 582/651 [00:50<00:05, 13.20it/s]"
     ]
    },
    {
     "name": "stdout",
     "output_type": "stream",
     "text": [
      "label_9_not_found_in this_slice\n",
      "label_9_not_found_in this_slice\n",
      "label_9_not_found_in this_slice\n"
     ]
    },
    {
     "name": "stderr",
     "output_type": "stream",
     "text": [
      " 90%|███████████████████████████████████████████████████████████████████████████████████████████████████████████████████████████████▊              | 586/651 [00:50<00:04, 13.33it/s]"
     ]
    },
    {
     "name": "stdout",
     "output_type": "stream",
     "text": [
      "label_9_not_found_in this_slice\n",
      "label_9_not_found_in this_slice\n",
      "label_9_not_found_in this_slice\n"
     ]
    },
    {
     "name": "stderr",
     "output_type": "stream",
     "text": [
      "\r\n",
      " 90%|████████████████████████████████████████████████████████████████████████████████████████████████████████████████████████████████▎             | 588/651 [00:50<00:04, 13.27it/s]"
     ]
    },
    {
     "name": "stdout",
     "output_type": "stream",
     "text": [
      "label_9_not_found_in this_slice\n",
      "label_9_not_found_in this_slice\n",
      "label_9_not_found_in this_slice\n"
     ]
    },
    {
     "name": "stderr",
     "output_type": "stream",
     "text": [
      " 91%|█████████████████████████████████████████████████████████████████████████████████████████████████████████████████████████████████▏            | 592/651 [00:51<00:04, 13.34it/s]"
     ]
    },
    {
     "name": "stdout",
     "output_type": "stream",
     "text": [
      "label_9_not_found_in this_slice\n",
      "label_9_not_found_in this_slice\n",
      "label_9_not_found_in this_slice\n"
     ]
    },
    {
     "name": "stderr",
     "output_type": "stream",
     "text": [
      "\r\n",
      " 91%|█████████████████████████████████████████████████████████████████████████████████████████████████████████████████████████████████▌            | 594/651 [00:51<00:04, 13.32it/s]"
     ]
    },
    {
     "name": "stdout",
     "output_type": "stream",
     "text": [
      "label_9_not_found_in this_slice\n",
      "label_9_not_found_in this_slice\n",
      "label_9_not_found_in this_slice\n"
     ]
    },
    {
     "name": "stderr",
     "output_type": "stream",
     "text": [
      " 92%|██████████████████████████████████████████████████████████████████████████████████████████████████████████████████████████████████▍           | 598/651 [00:51<00:03, 13.43it/s]"
     ]
    },
    {
     "name": "stdout",
     "output_type": "stream",
     "text": [
      "label_9_not_found_in this_slice\n",
      "label_9_not_found_in this_slice\n",
      "label_9_not_found_in this_slice\n"
     ]
    },
    {
     "name": "stderr",
     "output_type": "stream",
     "text": [
      "\r\n",
      " 92%|██████████████████████████████████████████████████████████████████████████████████████████████████████████████████████████████████▉           | 600/651 [00:51<00:03, 13.42it/s]"
     ]
    },
    {
     "name": "stdout",
     "output_type": "stream",
     "text": [
      "label_9_not_found_in this_slice\n",
      "label_9_not_found_in this_slice\n",
      "label_9_not_found_in this_slice\n"
     ]
    },
    {
     "name": "stderr",
     "output_type": "stream",
     "text": [
      " 93%|███████████████████████████████████████████████████████████████████████████████████████████████████████████████████████████████████▋          | 604/651 [00:52<00:03, 13.40it/s]"
     ]
    },
    {
     "name": "stdout",
     "output_type": "stream",
     "text": [
      "label_9_not_found_in this_slice\n",
      "label_9_not_found_in this_slice\n",
      "label_9_not_found_in this_slice\n"
     ]
    },
    {
     "name": "stderr",
     "output_type": "stream",
     "text": [
      "\r\n",
      " 93%|████████████████████████████████████████████████████████████████████████████████████████████████████████████████████████████████████▏         | 606/651 [00:52<00:03, 13.39it/s]"
     ]
    },
    {
     "name": "stdout",
     "output_type": "stream",
     "text": [
      "label_9_not_found_in this_slice\n",
      "label_9_not_found_in this_slice\n",
      "label_9_not_found_in this_slice\n"
     ]
    },
    {
     "name": "stderr",
     "output_type": "stream",
     "text": [
      " 94%|█████████████████████████████████████████████████████████████████████████████████████████████████████████████████████████████████████         | 610/651 [00:52<00:03, 13.26it/s]"
     ]
    },
    {
     "name": "stdout",
     "output_type": "stream",
     "text": [
      "label_9_not_found_in this_slice\n",
      "label_9_not_found_in this_slice\n",
      "label_9_not_found_in this_slice\n"
     ]
    },
    {
     "name": "stderr",
     "output_type": "stream",
     "text": [
      "\r\n",
      " 94%|█████████████████████████████████████████████████████████████████████████████████████████████████████████████████████████████████████▍        | 612/651 [00:52<00:02, 13.36it/s]"
     ]
    },
    {
     "name": "stdout",
     "output_type": "stream",
     "text": [
      "label_9_not_found_in this_slice\n",
      "label_9_not_found_in this_slice\n",
      "label_9_not_found_in this_slice\n"
     ]
    },
    {
     "name": "stderr",
     "output_type": "stream",
     "text": [
      " 95%|██████████████████████████████████████████████████████████████████████████████████████████████████████████████████████████████████████▎       | 616/651 [00:52<00:02, 13.48it/s]"
     ]
    },
    {
     "name": "stdout",
     "output_type": "stream",
     "text": [
      "label_9_not_found_in this_slice\n",
      "label_9_not_found_in this_slice\n",
      "label_9_not_found_in this_slice\n"
     ]
    },
    {
     "name": "stderr",
     "output_type": "stream",
     "text": [
      "\r\n",
      " 95%|██████████████████████████████████████████████████████████████████████████████████████████████████████████████████████████████████████▊       | 618/651 [00:53<00:02, 13.51it/s]"
     ]
    },
    {
     "name": "stdout",
     "output_type": "stream",
     "text": [
      "label_9_not_found_in this_slice\n",
      "label_9_not_found_in this_slice\n",
      "label_9_not_found_in this_slice\n"
     ]
    },
    {
     "name": "stderr",
     "output_type": "stream",
     "text": [
      " 96%|███████████████████████████████████████████████████████████████████████████████████████████████████████████████████████████████████████▋      | 622/651 [00:53<00:02, 13.41it/s]"
     ]
    },
    {
     "name": "stdout",
     "output_type": "stream",
     "text": [
      "label_9_not_found_in this_slice\n",
      "label_9_not_found_in this_slice\n",
      "label_9_not_found_in this_slice\n"
     ]
    },
    {
     "name": "stderr",
     "output_type": "stream",
     "text": [
      "\r\n",
      " 96%|████████████████████████████████████████████████████████████████████████████████████████████████████████████████████████████████████████      | 624/651 [00:53<00:02, 13.28it/s]"
     ]
    },
    {
     "name": "stdout",
     "output_type": "stream",
     "text": [
      "label_9_not_found_in this_slice\n",
      "label_9_not_found_in this_slice\n",
      "label_9_not_found_in this_slice\n"
     ]
    },
    {
     "name": "stderr",
     "output_type": "stream",
     "text": [
      " 96%|████████████████████████████████████████████████████████████████████████████████████████████████████████████████████████████████████████▉     | 628/651 [00:53<00:01, 13.44it/s]"
     ]
    },
    {
     "name": "stdout",
     "output_type": "stream",
     "text": [
      "label_9_not_found_in this_slice\n",
      "label_9_not_found_in this_slice\n",
      "label_9_not_found_in this_slice\n"
     ]
    },
    {
     "name": "stderr",
     "output_type": "stream",
     "text": [
      "\r\n",
      " 97%|█████████████████████████████████████████████████████████████████████████████████████████████████████████████████████████████████████████▍    | 630/651 [00:53<00:01, 13.46it/s]"
     ]
    },
    {
     "name": "stdout",
     "output_type": "stream",
     "text": [
      "label_9_not_found_in this_slice\n",
      "label_9_not_found_in this_slice\n",
      "label_9_not_found_in this_slice\n"
     ]
    },
    {
     "name": "stderr",
     "output_type": "stream",
     "text": [
      " 97%|██████████████████████████████████████████████████████████████████████████████████████████████████████████████████████████████████████████▎   | 634/651 [00:54<00:01, 13.47it/s]"
     ]
    },
    {
     "name": "stdout",
     "output_type": "stream",
     "text": [
      "label_9_not_found_in this_slice\n",
      "label_9_not_found_in this_slice\n",
      "label_9_not_found_in this_slice\n"
     ]
    },
    {
     "name": "stderr",
     "output_type": "stream",
     "text": [
      "\r\n",
      " 98%|██████████████████████████████████████████████████████████████████████████████████████████████████████████████████████████████████████████▋   | 636/651 [00:54<00:01, 13.31it/s]"
     ]
    },
    {
     "name": "stdout",
     "output_type": "stream",
     "text": [
      "label_9_not_found_in this_slice\n",
      "label_9_not_found_in this_slice\n",
      "label_9_not_found_in this_slice\n"
     ]
    },
    {
     "name": "stderr",
     "output_type": "stream",
     "text": [
      " 98%|███████████████████████████████████████████████████████████████████████████████████████████████████████████████████████████████████████████▌  | 640/651 [00:54<00:00, 13.42it/s]"
     ]
    },
    {
     "name": "stdout",
     "output_type": "stream",
     "text": [
      "label_9_not_found_in this_slice\n",
      "label_9_not_found_in this_slice\n",
      "label_9_not_found_in this_slice\n"
     ]
    },
    {
     "name": "stderr",
     "output_type": "stream",
     "text": [
      "\r\n",
      " 99%|████████████████████████████████████████████████████████████████████████████████████████████████████████████████████████████████████████████  | 642/651 [00:54<00:00, 13.48it/s]"
     ]
    },
    {
     "name": "stdout",
     "output_type": "stream",
     "text": [
      "label_9_not_found_in this_slice\n",
      "label_9_not_found_in this_slice\n",
      "label_9_not_found_in this_slice\n"
     ]
    },
    {
     "name": "stderr",
     "output_type": "stream",
     "text": [
      " 99%|████████████████████████████████████████████████████████████████████████████████████████████████████████████████████████████████████████████▉ | 646/651 [00:55<00:00, 13.45it/s]"
     ]
    },
    {
     "name": "stdout",
     "output_type": "stream",
     "text": [
      "label_9_not_found_in this_slice\n",
      "label_9_not_found_in this_slice\n",
      "label_9_not_found_in this_slice\n"
     ]
    },
    {
     "name": "stderr",
     "output_type": "stream",
     "text": [
      "\r\n",
      "100%|█████████████████████████████████████████████████████████████████████████████████████████████████████████████████████████████████████████████▎| 648/651 [00:55<00:00, 13.47it/s]"
     ]
    },
    {
     "name": "stdout",
     "output_type": "stream",
     "text": [
      "label_9_not_found_in this_slice\n",
      "label_9_not_found_in this_slice\n",
      "label_9_not_found_in this_slice\n"
     ]
    },
    {
     "name": "stderr",
     "output_type": "stream",
     "text": [
      "100%|██████████████████████████████████████████████████████████████████████████████████████████████████████████████████████████████████████████████| 651/651 [00:55<00:00, 11.72it/s]"
     ]
    },
    {
     "name": "stdout",
     "output_type": "stream",
     "text": [
      "label_9_not_found_in this_slice\n",
      "label_9_not_found_in this_slice\n",
      "combined_all_hand_segmented_labels\n"
     ]
    },
    {
     "name": "stderr",
     "output_type": "stream",
     "text": [
      "\n"
     ]
    },
    {
     "name": "stdout",
     "output_type": "stream",
     "text": [
      "tiff file saved\n"
     ]
    }
   ],
   "source": [
    "#combine hand segmented label\n",
    "new_label_stack={}\n",
    "new_label_list=[]\n",
    "# temp2_before=[]\n",
    "# temp2_after=[]\n",
    "# for k in tqdm(range(269,279)):\n",
    "for k in tqdm(range(len(img))):\n",
    "    hand_label = img[k]\n",
    "    old_label = label[k]\n",
    "    chr = load_image(chromo,k)\n",
    "    chr = clean_small_obj(chr,800)\n",
    "#     chr[chr<40]=0\n",
    "    \n",
    "    new_label = np.array([])\n",
    "    new_label = np.copy(old_label)   \n",
    "    unique_hand_label = np.unique(hand_label)\n",
    "    \n",
    "    if additional_label in unique_hand_label:\n",
    "        temp = (hand_label==additional_label)\n",
    "        temp = temp.astype(np.uint8)\n",
    "        temp2= cv2.bitwise_and(chr,chr, mask = temp)\n",
    "    \n",
    "#         print(np.unique(temp2))\n",
    "#         print(type(temp2))\n",
    "#         temp2_before.append(temp2)\n",
    "        temp2[temp2<40]=0\n",
    "        temp2[(temp2!=0)]=additional_label\n",
    "#         temp2_after.append(temp2)\n",
    "        new_label[np.where(temp2==additional_label)] = additional_label\n",
    "        print(\"new_label_combined\")\n",
    "    else:\n",
    "#         new_mask = np.zeros(img[k].shape, np.uint8)\n",
    "#         temp2_before.append(new_mask)\n",
    "        print(\"label_9_not_found_in this_slice\")\n",
    "#         temp2_after.append(new_mask)\n",
    "\n",
    "    new_label_stack[k]=new_label\n",
    "    new_label_list.append(new_label)\n",
    "    \n",
    "print(\"combined_all_hand_segmented_labels\")        \n",
    "new_label_list = np.array(new_label_list)        \n",
    "# temp2_after = np.array(temp2_after)\n",
    "# temp2_before = np.array(temp2_before)\n",
    "\n",
    "# new_path = \"/data/FIBSEM/vrinda/ROI_1/test_code/hand_segment/output/nuc_00/apr_25_clean_small/\"\n",
    "# temp2_after_path = '/data/FIBSEM/vrinda/ROI_1/test_code/hand_segment/output/nuc_00/temp2_after.tiff'\n",
    "# temp2_before_path = '/data/FIBSEM/vrinda/ROI_1/test_code/hand_segment/output/nuc_00/temp2_before.tiff'\n",
    "if not os.path.exists(output_path):\n",
    "    from pathlib import Path\n",
    "    Path(output_path).mkdir(parents=True, exist_ok=True)     \n",
    "ch_path = output_path +'/chromosome_combined_label_roi1_nuc00.tiff'\n",
    "tifffile.imwrite(ch_path, new_label_list)   \n",
    "# tifffile.imwrite(temp2_after_path, temp2_after) \n",
    "# tifffile.imwrite(temp2_before_path, temp2_before) \n",
    "print(\"tiff file saved\")"
   ]
  },
  {
   "cell_type": "code",
   "execution_count": 8,
   "id": "6bf6203e",
   "metadata": {},
   "outputs": [],
   "source": [
    "avoid=[43,50]\n"
   ]
  },
  {
   "cell_type": "code",
   "execution_count": 9,
   "id": "0f90c4e7",
   "metadata": {
    "scrolled": true
   },
   "outputs": [
    {
     "name": "stdout",
     "output_type": "stream",
     "text": [
      "1\n",
      "2\n",
      "3\n",
      "4\n",
      "7\n",
      "9\n"
     ]
    }
   ],
   "source": [
    "#specify labels to be extracted and saved as individual folders\n",
    "labels_to_be_extracted = [1, 2, 3, 4, 7, 9]\n",
    "\n",
    "chro_map={}\n",
    "for k in range(len(img)):\n",
    "    if k in avoid:\n",
    "        chro_map[k]='inf'\n",
    "    else:\n",
    "        chro_map[k]={}\n",
    "\n",
    "for label in labels_to_be_extracted:\n",
    "    for k in range(len(img)):\n",
    "        temp_mask = (new_label_stack[k]==label)\n",
    "        temp_mask = temp_mask.astype(np.uint8)\n",
    "        \n",
    "        cont, hier, mask = find_contours(temp_mask)\n",
    "        for i in range(len(cont)):\n",
    "            if cv2.arcLength(cont[i],True) > 25 :\n",
    "                M = cv2.moments(cont[i])\n",
    "                cX,cY = int(M[\"m10\"] / M[\"m00\"]),int(M[\"m01\"] / M[\"m00\"])\n",
    "                chro_map[k][(cX,cY)]=label\n",
    "        \n",
    "        org = load_image(original,k)\n",
    "        extracted = cv2.bitwise_and(org,org, mask = temp_mask)\n",
    "        if label == 4:\n",
    "            extracted = clean_small_obj(extracted,400)\n",
    "#         plt.imshow(extracted)\n",
    "        final_output_path = output_path + \"/individual/chromosome/ch_\" + str(label)\n",
    "        if not os.path.exists(final_output_path):\n",
    "            from pathlib import Path\n",
    "            Path(final_output_path).mkdir(parents=True, exist_ok=True)\n",
    "        cv2.imwrite(final_output_path+\"/\"+ str(k)+\".jpg\", (extracted))\n",
    "        \n",
    "    print(label)\n",
    "                    \n",
    "# print(chro_map)\n"
   ]
  },
  {
   "cell_type": "markdown",
   "id": "60a418d9",
   "metadata": {},
   "source": [
    "Below part is to find the corersponding SC's and save as individual SC folder according to the current chormosome labels\n"
   ]
  },
  {
   "cell_type": "code",
   "execution_count": 10,
   "id": "21c9676d",
   "metadata": {},
   "outputs": [],
   "source": [
    "pattern_img={}\n",
    "pattern_avoid=set()"
   ]
  },
  {
   "cell_type": "code",
   "execution_count": 11,
   "id": "9c4bf8bc",
   "metadata": {},
   "outputs": [],
   "source": [
    "def find_pattern_label(X,Y,chro_blobs_in_the_slice):\n",
    "  closest_id, closest_dist = -1,float('inf')\n",
    "  for pt,id in chro_blobs_in_the_slice.items():\n",
    "    # if centroid_prev == 0:\n",
    "    #   continue\n",
    "    dist = cal((X,Y), pt)\n",
    "#     print((X,Y), pt, dist)\n",
    "    if closest_dist > dist:\n",
    "        closest_dist, closest_pt, closest_id = dist,pt,id\n",
    "  return closest_id"
   ]
  },
  {
   "cell_type": "code",
   "execution_count": 12,
   "id": "5c0e9631",
   "metadata": {},
   "outputs": [],
   "source": [
    "def find_patterns(chro_map):\n",
    "    zero_moment=[]\n",
    "    pattern_img_list=[]\n",
    "    for k in tqdm(range(len(pattern))):\n",
    "#         print(k)\n",
    "        patt = load_image(pattern,k)\n",
    "        patt = clean_small_obj(patt,600)\n",
    "        patt[patt<40]=0\n",
    "        contours_p, hier_p, mask_p = find_contours(patt)\n",
    "        n = ntpath.basename(pattern[k]).split('.')[0]\n",
    "        n=int(n)\n",
    "        if n in avoid:\n",
    "          print(n)\n",
    "          pattern_img[k] = mask_p\n",
    "          pattern_img_list.append(mask_p)  \n",
    "          pattern_avoid.add(k)\n",
    "          continue\n",
    "        if len(contours_p)==0:\n",
    "          pattern_avoid.add(k)\n",
    "          print(\"pattern_avoid\", pattern_avoid)\n",
    "          pattern_img[k] = mask_p\n",
    "          pattern_img_list.append(mask_p)  \n",
    "          continue\n",
    "        pattern_map_inside_find_patterns = {}\n",
    "        blobs_in_slice = chro_map[k]\n",
    "        #     print(\"blobs_in_slice\", blobs_in_slice)\n",
    "        for i in range(len(contours_p)):\n",
    "          if cv2.arcLength(contours_p[i],True) > 25 :\n",
    "            M = cv2.moments(contours_p[i])\n",
    "            if M[\"m00\"] == 0:\n",
    "              zero_moment.append(k)\n",
    "              continue\n",
    "            cX,cY = int(M[\"m10\"] / M[\"m00\"]),int(M[\"m01\"] / M[\"m00\"])\n",
    "            patt_label = find_pattern_label(cX,cY, blobs_in_slice)\n",
    "        #         print(\"patt_label\", (cX,cY), patt_label)\n",
    "            pattern_map_inside_find_patterns[(cX,cY)] = [patt_label]\n",
    "            points_new=[]\n",
    "            for l in range(len(contours_p[i])):\n",
    "              points_new.append(contours_p[i][l][0])\n",
    "            points_new = np.array(points_new)\n",
    "            cv2.drawContours(mask_p,[points_new],-1,patt_label, thickness = cv2.FILLED)\n",
    "        pattern_img[k]=mask_p\n",
    "        \n",
    "    print(\"zero_moment\", zero_moment)\n",
    "    pattern_img_list.append(mask_p)\n",
    "    pattern_img_list = np.array(pattern_img_list)   \n",
    "    \n",
    "    if not os.path.exists(output_path):\n",
    "        from pathlib import Path\n",
    "        Path(output_path).mkdir(parents=True, exist_ok=True)     \n",
    "    patt_path = output_path +'/pattern_combined_label_roi1_nuc00.tiff'\n",
    "    tifffile.imwrite(patt_path, pattern_img_list)   \n",
    "    print(\"tiff file saved\")\n"
   ]
  },
  {
   "cell_type": "code",
   "execution_count": 13,
   "id": "947ed5aa",
   "metadata": {},
   "outputs": [
    {
     "name": "stderr",
     "output_type": "stream",
     "text": [
      "  7%|█████████▉                                                                                                                                     | 45/651 [00:01<00:28, 21.10it/s]"
     ]
    },
    {
     "name": "stdout",
     "output_type": "stream",
     "text": [
      "43\n"
     ]
    },
    {
     "name": "stderr",
     "output_type": "stream",
     "text": [
      "  8%|███████████▋                                                                                                                                   | 53/651 [00:02<00:34, 17.21it/s]"
     ]
    },
    {
     "name": "stdout",
     "output_type": "stream",
     "text": [
      "50\n"
     ]
    },
    {
     "name": "stderr",
     "output_type": "stream",
     "text": [
      " 36%|███████████████████████████████████████████████████▍                                                                                          | 236/651 [00:12<00:20, 19.94it/s]"
     ]
    },
    {
     "name": "stdout",
     "output_type": "stream",
     "text": [
      "pattern_avoid {50, 43, 231}\n",
      "pattern_avoid {233, 50, 43, 231}\n",
      "pattern_avoid {231, 233, 43, 235, 50}\n"
     ]
    },
    {
     "name": "stderr",
     "output_type": "stream",
     "text": [
      " 37%|████████████████████████████████████████████████████▊                                                                                         | 242/651 [00:12<00:18, 22.14it/s]"
     ]
    },
    {
     "name": "stdout",
     "output_type": "stream",
     "text": [
      "pattern_avoid {231, 233, 43, 235, 236, 50}\n",
      "pattern_avoid {231, 233, 43, 235, 236, 237, 50}\n",
      "pattern_avoid {231, 233, 43, 235, 236, 237, 238, 50}\n",
      "pattern_avoid {231, 233, 43, 235, 236, 237, 238, 239, 50}\n",
      "pattern_avoid {231, 233, 43, 235, 236, 237, 238, 239, 241, 50}\n"
     ]
    },
    {
     "name": "stderr",
     "output_type": "stream",
     "text": [
      " 38%|██████████████████████████████████████████████████████                                                                                        | 248/651 [00:12<00:17, 22.94it/s]"
     ]
    },
    {
     "name": "stdout",
     "output_type": "stream",
     "text": [
      "pattern_avoid {231, 233, 43, 235, 236, 237, 238, 239, 241, 50, 243}\n",
      "pattern_avoid {231, 233, 43, 235, 236, 237, 238, 239, 241, 50, 243, 244}\n"
     ]
    },
    {
     "name": "stderr",
     "output_type": "stream",
     "text": [
      " 45%|███████████████████████████████████████████████████████████████▎                                                                              | 290/651 [00:14<00:15, 23.39it/s]"
     ]
    },
    {
     "name": "stdout",
     "output_type": "stream",
     "text": [
      "pattern_avoid {231, 233, 43, 235, 236, 237, 238, 239, 241, 50, 243, 244, 285}\n"
     ]
    },
    {
     "name": "stderr",
     "output_type": "stream",
     "text": [
      " 49%|█████████████████████████████████████████████████████████████████████▌                                                                        | 319/651 [00:16<00:18, 18.28it/s]"
     ]
    },
    {
     "name": "stdout",
     "output_type": "stream",
     "text": [
      "pattern_avoid {231, 233, 43, 235, 236, 237, 238, 239, 241, 50, 243, 244, 315, 285}\n",
      "pattern_avoid {231, 233, 43, 235, 236, 237, 238, 239, 241, 50, 243, 244, 315, 316, 285}\n",
      "pattern_avoid {231, 317, 233, 43, 235, 236, 237, 238, 239, 241, 50, 243, 244, 315, 316, 285}\n"
     ]
    },
    {
     "name": "stderr",
     "output_type": "stream",
     "text": [
      "\r\n",
      " 49%|██████████████████████████████████████████████████████████████████████▏                                                                       | 322/651 [00:16<00:17, 18.45it/s]"
     ]
    },
    {
     "name": "stdout",
     "output_type": "stream",
     "text": [
      "pattern_avoid {320, 231, 317, 233, 43, 235, 236, 237, 238, 239, 241, 50, 243, 244, 315, 316, 285}\n",
      "pattern_avoid {320, 321, 231, 317, 233, 43, 235, 236, 237, 238, 239, 241, 50, 243, 244, 315, 316, 285}\n",
      "pattern_avoid {285, 43, 50, 315, 316, 317, 320, 321, 322, 231, 233, 235, 236, 237, 238, 239, 241, 243, 244}\n"
     ]
    },
    {
     "name": "stderr",
     "output_type": "stream",
     "text": [
      " 51%|███████████████████████████████████████████████████████████████████████▊                                                                      | 329/651 [00:16<00:21, 15.29it/s]"
     ]
    },
    {
     "name": "stdout",
     "output_type": "stream",
     "text": [
      "pattern_avoid {285, 43, 50, 315, 316, 317, 320, 321, 322, 324, 231, 233, 235, 236, 237, 238, 239, 241, 243, 244}\n",
      "pattern_avoid {285, 43, 50, 315, 316, 317, 320, 321, 322, 324, 325, 231, 233, 235, 236, 237, 238, 239, 241, 243, 244}\n"
     ]
    },
    {
     "name": "stderr",
     "output_type": "stream",
     "text": [
      " 74%|████████████████████████████████████████████████████████████████████████████████████████████████████████▋                                     | 480/651 [00:24<00:09, 17.18it/s]"
     ]
    },
    {
     "name": "stdout",
     "output_type": "stream",
     "text": [
      "pattern_avoid {285, 43, 50, 315, 316, 317, 320, 321, 322, 324, 325, 477, 231, 233, 235, 236, 237, 238, 239, 241, 243, 244}\n",
      "pattern_avoid {285, 43, 50, 315, 316, 317, 320, 321, 322, 324, 325, 477, 478, 231, 233, 235, 236, 237, 238, 239, 241, 243, 244}\n",
      "pattern_avoid {285, 43, 50, 315, 316, 317, 320, 321, 322, 324, 325, 477, 478, 479, 231, 233, 235, 236, 237, 238, 239, 241, 243, 244}\n"
     ]
    },
    {
     "name": "stderr",
     "output_type": "stream",
     "text": [
      " 75%|█████████████████████████████████████████████████████████████████████████████████████████████████████████▊                                    | 485/651 [00:24<00:09, 17.16it/s]"
     ]
    },
    {
     "name": "stdout",
     "output_type": "stream",
     "text": [
      "pattern_avoid {285, 43, 50, 315, 316, 317, 320, 321, 322, 324, 325, 477, 478, 479, 480, 231, 233, 235, 236, 237, 238, 239, 241, 243, 244}\n"
     ]
    },
    {
     "name": "stderr",
     "output_type": "stream",
     "text": [
      " 75%|██████████████████████████████████████████████████████████████████████████████████████████████████████████▉                                   | 490/651 [00:24<00:10, 15.71it/s]"
     ]
    },
    {
     "name": "stdout",
     "output_type": "stream",
     "text": [
      "pattern_avoid {285, 43, 50, 315, 316, 317, 320, 321, 322, 324, 325, 477, 478, 479, 480, 231, 488, 233, 235, 236, 237, 238, 239, 241, 243, 244}\n",
      "pattern_avoid {285, 43, 50, 315, 316, 317, 320, 321, 322, 324, 325, 477, 478, 479, 480, 231, 488, 233, 489, 235, 236, 237, 238, 239, 241, 243, 244}\n",
      "pattern_avoid {285, 43, 50, 315, 316, 317, 320, 321, 322, 324, 325, 477, 478, 479, 480, 231, 488, 233, 489, 235, 236, 237, 238, 239, 490, 241, 243, 244}\n"
     ]
    },
    {
     "name": "stderr",
     "output_type": "stream",
     "text": [
      "100%|██████████████████████████████████████████████████████████████████████████████████████████████████████████████████████████████████████████████| 651/651 [00:32<00:00, 19.94it/s]\n"
     ]
    },
    {
     "name": "stdout",
     "output_type": "stream",
     "text": [
      "zero_moment []\n",
      "tiff file saved\n"
     ]
    }
   ],
   "source": [
    "find_patterns(chro_map)"
   ]
  },
  {
   "cell_type": "code",
   "execution_count": 14,
   "id": "5de9af49",
   "metadata": {},
   "outputs": [
    {
     "name": "stdout",
     "output_type": "stream",
     "text": [
      "1\n",
      "2\n",
      "3\n",
      "4\n",
      "7\n",
      "9\n"
     ]
    }
   ],
   "source": [
    "for label in labels_to_be_extracted:\n",
    "    for k in range(len(img)):\n",
    "        temp_mask = (pattern_img[k]==label)\n",
    "        temp_mask = temp_mask.astype(np.uint8)\n",
    "        \n",
    "        cont, hier, mask = find_contours(temp_mask)\n",
    "        for i in range(len(cont)):\n",
    "            if cv2.arcLength(cont[i],True) > 25 :\n",
    "                M = cv2.moments(cont[i])\n",
    "                cX,cY = int(M[\"m10\"] / M[\"m00\"]),int(M[\"m01\"] / M[\"m00\"])\n",
    "#                 chro_map[k][(cX,cY)]=label\n",
    "        \n",
    "        org = load_image(original,k)\n",
    "        extracted = cv2.bitwise_and(org,org, mask = temp_mask)\n",
    "#         plt.imshow(extracted)\n",
    "        final_output_path = output_path + \"/individual/pattern/patt_\" + str(label)\n",
    "        if not os.path.exists(final_output_path):\n",
    "            from pathlib import Path\n",
    "            Path(final_output_path).mkdir(parents=True, exist_ok=True)\n",
    "        cv2.imwrite(final_output_path+\"/\"+ str(k)+\".jpg\", (extracted))\n",
    "        \n",
    "    print(label)\n",
    "                  "
   ]
  },
  {
   "cell_type": "code",
   "execution_count": null,
   "id": "82c95c4a",
   "metadata": {},
   "outputs": [],
   "source": []
  },
  {
   "cell_type": "code",
   "execution_count": null,
   "id": "11f76e6b",
   "metadata": {},
   "outputs": [],
   "source": []
  }
 ],
 "metadata": {
  "kernelspec": {
   "display_name": "Python 3 (ipykernel)",
   "language": "python",
   "name": "python3"
  },
  "language_info": {
   "codemirror_mode": {
    "name": "ipython",
    "version": 3
   },
   "file_extension": ".py",
   "mimetype": "text/x-python",
   "name": "python",
   "nbconvert_exporter": "python",
   "pygments_lexer": "ipython3",
   "version": "3.8.10"
  }
 },
 "nbformat": 4,
 "nbformat_minor": 5
}
