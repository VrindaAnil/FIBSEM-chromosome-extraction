{
 "cells": [
  {
   "cell_type": "code",
   "execution_count": 1,
   "metadata": {
    "colab": {
     "base_uri": "https://localhost:8080/"
    },
    "id": "HJMBwRBKBWl5",
    "outputId": "97769596-5c3c-4fd1-c4ed-4c074150b446"
   },
   "outputs": [],
   "source": [
    "import os\n",
    "import glob\n",
    "import cv2\n",
    "import collections\n",
    "import ntpath\n",
    "from PIL import Image\n",
    "import numpy as np\n",
    "import matplotlib.pyplot as plt\n",
    "# from google.colab import drive\n",
    "# drive.mount('/content/gdrive')"
   ]
  },
  {
   "cell_type": "code",
   "execution_count": 2,
   "metadata": {
    "id": "CLmpGqzsC9Mx"
   },
   "outputs": [],
   "source": [
    "#paths to folders to combine\n",
    "#have all chro folders to be combined inide a folder in to_combine folder\n",
    "main_path = \"/data/FIBSEM/nuclie_align_ROI2_1700/nuclie01/nuc_01_729_1649/extracted/individual/chromosome\"\n",
    "folder_path = main_path + \"/to_combine\"\n",
    "#folder number for combined result folder \n",
    "#(make sure it is not same as an already existig folder to avoid overwriting the existing folder)\n",
    "output_folder_tag = 6\n",
    "original_nuc_path = \"/data/FIBSEM/nuclie_align_ROI2_1700/nuclie01/nuc_01_729_1649/original_nuc\""
   ]
  },
  {
   "cell_type": "code",
   "execution_count": 3,
   "metadata": {
    "id": "9IVoTUEGWYWU"
   },
   "outputs": [],
   "source": [
    "def sort_list(lst):\n",
    "  lst = sorted(lst, key = lambda fl : int(ntpath.basename(fl).split('.')[0]))\n",
    "  return lst"
   ]
  },
  {
   "cell_type": "code",
   "execution_count": null,
   "metadata": {
    "colab": {
     "base_uri": "https://localhost:8080/"
    },
    "id": "SvYedjFdltTJ",
    "outputId": "70c46b1f-651b-4ccd-a4d9-257b8e47b0c2"
   },
   "outputs": [],
   "source": [
    "#reading original images to do bitwise AND and save after combining\n",
    "nucleous=[]\n",
    "for file in glob.glob(original_nuc_path + \"/*.jpg\"):\n",
    "  nucleous.append(file)\n",
    "nucleous = sort_list(nucleous)\n",
    "print(len(nucleous))\n",
    "print(nucleous)"
   ]
  },
  {
   "cell_type": "code",
   "execution_count": 5,
   "metadata": {
    "colab": {
     "base_uri": "https://localhost:8080/"
    },
    "id": "e7FF-8elN7n9",
    "outputId": "1d8d6621-1055-4870-ce10-c4c3943f36a2"
   },
   "outputs": [
    {
     "name": "stdout",
     "output_type": "stream",
     "text": [
      "0 ch_27\n",
      "1 ch_24\n",
      "921\n"
     ]
    }
   ],
   "source": [
    "# read folders to combine\n",
    "mapper=collections.defaultdict(list)\n",
    "folders = {}\n",
    "for count, filename in enumerate(os.listdir(f'{folder_path}')):\n",
    "  print(count, filename)\n",
    "  folders[count] = filename\n",
    "\n",
    "for count, folder in folders.items():\n",
    "  for file in glob.glob(folder_path +\"/\"+ folder +\"/*.jpg\"):\n",
    "    mapper[count].append(file)\n",
    "  mapper[count] = sort_list(mapper[count])\n",
    "\n",
    "num_images = len(mapper[0])\n",
    "print(num_images)\n",
    "\n",
    "org = Image.open(mapper[0][0])\n",
    "org.load()\n",
    "org = np.array(org)\n",
    "ip_shape = org.shape\n",
    "# print(ip_shape)\n",
    "\n",
    "# plt.imshow(org)\n",
    "# print(np.unique(org))\n",
    "\n",
    "# print(mapper)\n",
    "# print(mapper[0])\n",
    "# print(mapper[1])\n",
    "# print(len(mapper[0]))\n",
    "# print(len(mapper[1]))"
   ]
  },
  {
   "cell_type": "code",
   "execution_count": 6,
   "metadata": {
    "colab": {
     "base_uri": "https://localhost:8080/",
     "height": 471
    },
    "id": "bQGOZJx-WNWY",
    "outputId": "40391f9b-cc19-4740-cc9a-cf625c2639cb"
   },
   "outputs": [
    {
     "name": "stdout",
     "output_type": "stream",
     "text": [
      "[0 1]\n",
      "921\n"
     ]
    },
    {
     "data": {
      "image/png": "[encoded data removed]",
      "text/plain": [
       "<Figure size 432x288 with 1 Axes>"
      ]
     },
     "metadata": {
      "needs_background": "light"
     },
     "output_type": "display_data"
    }
   ],
   "source": [
    "#saving combined on a new mask\n",
    "final_imgs = []\n",
    "for i in range(num_images):\n",
    "  # print(\"i \",i)\n",
    "  # print(len(final_imgs))\n",
    "  # if(i==1):\n",
    "  #   break\n",
    "  x=np.zeros(ip_shape, np.uint8)\n",
    "  for k in mapper.keys():\n",
    "    # print(mapper[k][i])\n",
    "    im = Image.open(mapper[k][i])\n",
    "    im.load()\n",
    "    im = np.array(im)\n",
    "    im[im<40]=0\n",
    "    x[im!=0] = 1\n",
    "  final_imgs.append(x)\n",
    "\n",
    "plt.imshow(x)\n",
    "print(np.unique(x))\n",
    "print(len(final_imgs))\n"
   ]
  },
  {
   "cell_type": "code",
   "execution_count": 7,
   "metadata": {
    "id": "Z4x9KbumEZ42"
   },
   "outputs": [],
   "source": [
    "#save combined folder\n",
    "for k in range(num_images):\n",
    "  # temp = (Label_Img[k]==label_chro)\n",
    "  # temp = temp.astype(np.uint8)\n",
    "  chro_temp = Image.open(nucleous[k])\n",
    "  chro_temp.load()\n",
    "  chro_temp = np.array(chro_temp)\n",
    "  temp2= cv2.bitwise_and(chro_temp,chro_temp, mask = final_imgs[k])\n",
    "  # temp2[temp2<40]=0\n",
    "  # plt.imshow(temp2)\n",
    "  # print(np.unique(temp2))\n",
    "  # break\n",
    "  tag=k\n",
    "  path_tag = \"ch_\"+ str(output_folder_tag)\n",
    "  complete_path = main_path + \"/\" + path_tag\n",
    "  if not os.path.exists(complete_path):\n",
    "    from pathlib import Path\n",
    "    Path(complete_path).mkdir(parents=True, exist_ok=True)\n",
    "  # cv2.imwrite(complete_path+\"/\"+ f\"{tag:03d}\"+\".jpg\", (temp2* 255).astype(np.uint8)) #####\n",
    "  cv2.imwrite(complete_path+\"/\"+ f\"{tag:03d}\"+\".jpg\", (temp2))\n"
   ]
  },
  {
   "cell_type": "code",
   "execution_count": 8,
   "metadata": {
    "id": "pl_4-kyEo0Z6"
   },
   "outputs": [],
   "source": [
    "#update info.txt with details\n",
    "file_path = main_path + '/Info.txt'\n",
    "\n",
    "if os.path.exists(file_path):\n",
    "    mode = 'a'\n",
    "else:\n",
    "    mode = 'w'\n",
    "\n",
    "to_write = f'''{path_tag} is the result of combining '''\n",
    "for count, folder in folders.items():\n",
    "  to_write = to_write + \" \" + folder\n",
    "\n",
    "with open(file_path, mode) as file:\n",
    "    file.write(\"\\n\")\n",
    "    file.write(f'''{to_write} in {folder_path} folder''')"
   ]
  },
  {
   "cell_type": "code",
   "execution_count": null,
   "metadata": {},
   "outputs": [],
   "source": []
  }
 ],
 "metadata": {
  "colab": {
   "provenance": []
  },
  "kernelspec": {
   "display_name": "Python 3 (ipykernel)",
   "language": "python",
   "name": "python3"
  },
  "language_info": {
   "codemirror_mode": {
    "name": "ipython",
    "version": 3
   },
   "file_extension": ".py",
   "mimetype": "text/x-python",
   "name": "python",
   "nbconvert_exporter": "python",
   "pygments_lexer": "ipython3",
   "version": "3.8.10"
  }
 },
 "nbformat": 4,
 "nbformat_minor": 1
}
