{
 "cells": [
  {
   "cell_type": "code",
   "execution_count": 1,
   "metadata": {
    "colab": {
     "base_uri": "https://localhost:8080/"
    },
    "executionInfo": {
     "elapsed": 1928,
     "status": "ok",
     "timestamp": 1697080516259,
     "user": {
      "displayName": "Vrinda Anil",
      "userId": "06562731342367344700"
     },
     "user_tz": 360
    },
    "id": "P7d-BfJ65sIF",
    "outputId": "d7c97a89-967e-481f-ad5c-4a3931e310ea"
   },
   "outputs": [],
   "source": [
    "import cv2\n",
    "import numpy as np\n",
    "import glob\n",
    "from PIL import Image\n",
    "from skimage import morphology\n",
    "import tifffile\n",
    "from tqdm import tqdm\n",
    "#import napari\n",
    "import pandas\n",
    "import ntpath\n",
    "import math\n",
    "import os\n",
    "import sys\n",
    "import matplotlib.pyplot as plt\n",
    "from scipy.spatial import KDTree, cKDTree\n",
    "# from google.colab import drive\n",
    "# drive.mount('/content/gdrive')"
   ]
  },
  {
   "cell_type": "code",
   "execution_count": 2,
   "metadata": {
    "executionInfo": {
     "elapsed": 199,
     "status": "ok",
     "timestamp": 1697080518634,
     "user": {
      "displayName": "Vrinda Anil",
      "userId": "06562731342367344700"
     },
     "user_tz": 360
    },
    "id": "pSPgXJFG-loW"
   },
   "outputs": [],
   "source": [
    "chromosome=[]\n",
    "membrane=[]\n",
    "nucleous=[]\n",
    "pattern=[]"
   ]
  },
  {
   "cell_type": "code",
   "execution_count": 3,
   "metadata": {
    "executionInfo": {
     "elapsed": 3,
     "status": "ok",
     "timestamp": 1697080482120,
     "user": {
      "displayName": "Vrinda Anil",
      "userId": "06562731342367344700"
     },
     "user_tz": 360
    },
    "id": "a6GOH_ZFAjaT"
   },
   "outputs": [],
   "source": [
    "# for file in glob.glob(\"/data/FIBSEM/vrinda/ROI_1/chro_nucl_00_000_650/*.jpg\"):\n",
    "#   chromosome.append(file)\n",
    "\n",
    "# for file in glob.glob(\"/data/FIBSEM/vrinda/ROI_1/mem_nucl_00_000_650/*.jpg\"):\n",
    "#   membrane.append(file)\n",
    "\n",
    "# for file in glob.glob(\"/data/FIBSEM/vrinda/ROI_1/centroid/*.jpg\"):\n",
    "#   nucleous.append(file)\n",
    "\n",
    "# for file in glob.glob(\"/data/FIBSEM/vrinda/ROI_1/patt/*.jpg\"):\n",
    "#   pattern.append(file)\n"
   ]
  },
  {
   "cell_type": "code",
   "execution_count": 4,
   "metadata": {
    "executionInfo": {
     "elapsed": 2,
     "status": "ok",
     "timestamp": 1697080482120,
     "user": {
      "displayName": "Vrinda Anil",
      "userId": "06562731342367344700"
     },
     "user_tz": 360
    },
    "id": "zV25lONJNgif"
   },
   "outputs": [],
   "source": [
    "#read segmented chromosome images\n",
    "for file in glob.glob(\"/data/FIBSEM/nuclie_align_ROI3_1700/nuclie30/chromosome/*.jpg\"):\n",
    "  chromosome.append(file)\n",
    "\n",
    "#read segmented membrane images\n",
    "for file in glob.glob(\"/data/FIBSEM/nuclie_align_ROI3_1700/nuclie30/chromosome/*.jpg\"):\n",
    "  membrane.append(file)\n",
    "\n",
    "#read original nuclei images\n",
    "for file in glob.glob(\"/data/FIBSEM/nuclie_align_ROI3_1700/nuclie30/*.jpg\"):\n",
    "  nucleous.append(file)\n",
    "\n",
    "#read segmented SC images\n",
    "for file in glob.glob(\"/data/FIBSEM/nuclie_align_ROI3_1700/nuclie30/pattern/*.jpg\"):\n",
    "  pattern.append(file)\n"
   ]
  },
  {
   "cell_type": "code",
   "execution_count": 6,
   "metadata": {
    "executionInfo": {
     "elapsed": 133,
     "status": "ok",
     "timestamp": 1697080527012,
     "user": {
      "displayName": "Vrinda Anil",
      "userId": "06562731342367344700"
     },
     "user_tz": 360
    },
    "id": "Lu4gGWlqNgif"
   },
   "outputs": [],
   "source": [
    "#define output folder path\n",
    "output_path = \"/data/FIBSEM/vrinda/ROI_3/nuc_30/test_code/res/s23/dec15_st_t0_b0_mid_580/\"\n",
    "#path to txt file with all debug prints\n",
    "file_path = output_path + \"dec15_roi3_nuc30_st_t0b0mid_580.txt\"\n",
    "if not os.path.exists(output_path):\n",
    "        from pathlib import Path\n",
    "        Path(output_path).mkdir(parents=True, exist_ok=True)\n",
    "        \n",
    "#set the number of slices to skip from begining in run1(starting from top) and run2(start from bottom)\n",
    "skip_threshold_top = 0\n",
    "skip_threshold_bottom = 0\n"
   ]
  },
  {
   "cell_type": "code",
   "execution_count": 7,
   "metadata": {
    "executionInfo": {
     "elapsed": 106,
     "status": "ok",
     "timestamp": 1697080528018,
     "user": {
      "displayName": "Vrinda Anil",
      "userId": "06562731342367344700"
     },
     "user_tz": 360
    },
    "id": "4YSbQKGHYeEa"
   },
   "outputs": [],
   "source": [
    "#sort list in ascending order of file names\n",
    "def sort_list(lst):\n",
    "  lst = sorted(lst, key = lambda fl : int(ntpath.basename(fl).split('.')[0]))\n",
    "  return lst"
   ]
  },
  {
   "cell_type": "code",
   "execution_count": null,
   "metadata": {
    "colab": {
     "base_uri": "https://localhost:8080/"
    },
    "executionInfo": {
     "elapsed": 290,
     "status": "ok",
     "timestamp": 1697080529155,
     "user": {
      "displayName": "Vrinda Anil",
      "userId": "06562731342367344700"
     },
     "user_tz": 360
    },
    "id": "mWQCOc1krrsC",
    "outputId": "04428f7a-78b9-4dcb-d5b2-da18966bda64"
   },
   "outputs": [],
   "source": [
    "#when you read from the folder, files are not loaded into the list in a sorted manner\n",
    "chromosome = sort_list(chromosome)\n",
    "membrane = sort_list(membrane)\n",
    "nucleous = sort_list(nucleous)\n",
    "pattern = sort_list(pattern)\n",
    "\n",
    "# print(len(chromosome))\n",
    "# print(len(membrane))\n",
    "# print(len(nucleous))\n",
    "# print(len(pattern))\n",
    "# print(chromosome)\n",
    "# print(membrane)\n",
    "# print(nucleous)\n",
    "# print(pattern)\n"
   ]
  },
  {
   "cell_type": "code",
   "execution_count": 11,
   "metadata": {
    "colab": {
     "base_uri": "https://localhost:8080/"
    },
    "executionInfo": {
     "elapsed": 2374,
     "status": "ok",
     "timestamp": 1697080595090,
     "user": {
      "displayName": "Vrinda Anil",
      "userId": "06562731342367344700"
     },
     "user_tz": 360
    },
    "id": "Y-YESo_JOLEz",
    "outputId": "c6cdedfa-c8b4-452f-cf06-f505758b68ad"
   },
   "outputs": [
    {
     "name": "stdout",
     "output_type": "stream",
     "text": [
      "Enter the total number of slices to avoid : 0\n",
      "Enter the slice numbers to be avoided: \n",
      "Slices to be avoided are []\n"
     ]
    }
   ],
   "source": [
    "#Some slices might not have any information (blank slice, false positives), this could affect the algorithm\n",
    "#Set slices that needs to be avoided\n",
    "\n",
    "# avoid = [43, 50] #roi1 nuc00 n=2\n",
    "# avoid = [512, 515, 517, 519, 521, 523, 524, 525, 526, 527, 528, 530] #roi3 nuc00 n=12\n",
    "avoid = []\n",
    "n = int(input(\"Enter the total number of slices to avoid : \"))\n",
    "print(\"Enter the slice numbers to be avoided: \")\n",
    "for m in range(0, n):\n",
    "    val = int(input())\n",
    "    avoid.append(val)\n",
    "print(\"Slices to be avoided are\", avoid)"
   ]
  },
  {
   "cell_type": "code",
   "execution_count": 12,
   "metadata": {
    "executionInfo": {
     "elapsed": 166,
     "status": "ok",
     "timestamp": 1697080599314,
     "user": {
      "displayName": "Vrinda Anil",
      "userId": "06562731342367344700"
     },
     "user_tz": 360
    },
    "id": "ZYYIPSqp-rDT"
   },
   "outputs": [],
   "source": [
    "score_vol={}\n",
    "score_vol_by_len={}\n",
    "\n",
    "run_track_chro_track_global = {}\n",
    "run_track_pattern_track_global = {}\n",
    "chro_map_global = {}\n",
    "combined_chro_map_global = {}\n",
    "combined_chro_track_global = {}\n",
    "label_list={}\n",
    "chro_area_global={}\n",
    "pattern_map_global={}\n",
    "\n",
    "threshold = 150  #x-y threshold (distance)\n",
    "z_threshold = 23 #x threshold (number of slices)\n",
    "# blob_threshold = 250\n",
    "\n",
    "global mid # the middle slice, either calculated or edited manually\n",
    "mid_flag = False\n",
    "\n",
    "final_track={}  # modify later for global tracking or call fn\n",
    "chro_centroid_global = {} # modify later for global tracking or call fn\n",
    "nucl_centroid_global = {} # modify later for global tracking or call fn\n",
    "\n",
    "\n",
    "Label_Img={}\n",
    "chro_track_global={}\n",
    "pattern_track_global={}\n",
    "pattern_img = {}\n",
    "pattern_avoid=set()\n",
    "max_id_c_per_slice=[]\n",
    "\n",
    "global max_id_c #maximum chromosome count identified\n",
    "max_id_c=-1\n",
    "\n",
    "global limit\n",
    "limit = 6"
   ]
  },
  {
   "cell_type": "code",
   "execution_count": 13,
   "metadata": {
    "executionInfo": {
     "elapsed": 393,
     "status": "ok",
     "timestamp": 1697080600342,
     "user": {
      "displayName": "Vrinda Anil",
      "userId": "06562731342367344700"
     },
     "user_tz": 360
    },
    "id": "3BN33F0b-0Md"
   },
   "outputs": [],
   "source": [
    "#morphologically remove small objects lesser than ob_size to clean false positives from the image\n",
    "def clean_small_obj(im, ob_size):\n",
    "\n",
    "  cleaned_im = np.copy(im)\n",
    "  cleaned_index = (cleaned_im!=0)\n",
    "\n",
    "  img = cleaned_index\n",
    "  img = morphology.remove_small_objects(img, ob_size, connectivity=1)\n",
    "  target_img = cleaned_im[:,:]\n",
    "\n",
    "  cleaned_im[:,:] = np.multiply(target_img, img)\n",
    "\n",
    "  return cleaned_im"
   ]
  },
  {
   "cell_type": "code",
   "execution_count": 14,
   "metadata": {
    "executionInfo": {
     "elapsed": 1,
     "status": "ok",
     "timestamp": 1697080600830,
     "user": {
      "displayName": "Vrinda Anil",
      "userId": "06562731342367344700"
     },
     "user_tz": 360
    },
    "id": "ANwC4cBT-1NE"
   },
   "outputs": [],
   "source": [
    "# pass points as tuples\n",
    "def cal(p1,p2):\n",
    "  return np.linalg.norm(np.array(p1) - np.array(p2)) # use same metric or try diff?"
   ]
  },
  {
   "cell_type": "code",
   "execution_count": 15,
   "metadata": {
    "executionInfo": {
     "elapsed": 2,
     "status": "ok",
     "timestamp": 1697080601579,
     "user": {
      "displayName": "Vrinda Anil",
      "userId": "06562731342367344700"
     },
     "user_tz": 360
    },
    "id": "Yi0n9tsX-9-r"
   },
   "outputs": [],
   "source": [
    "#cluster chromosomes in the first slice processed and assign labels based on distance threshold\n",
    "#id_c: chromosome_id, id_b:blob_id, id_s:slice_id\n",
    "#chro_map - dict, {blob_centroid (k) : [id_c,id_b,id_s] (v)}\n",
    "def assign_chro_id_first_slice(x, y, id_c, id_b, id_s, cnt, chro_map):\n",
    "  curr_tag, closest_dist = -1,float('inf')\n",
    "  if len(chro_map) ==0:\n",
    "    curr_tag = [id_c,id_b,id_s]\n",
    "    id_c+=1\n",
    "    chro_map[(x,y)] = curr_tag\n",
    "  else:\n",
    "    closest_pt = None\n",
    "    for pt,tag in chro_map.items():\n",
    "      dist = cal(pt,(x,y))\n",
    "      print((x,y), pt, dist)\n",
    "\n",
    "      if closest_dist > dist:\n",
    "        closest_dist,closest_pt = dist,pt\n",
    "\n",
    "    if closest_dist > threshold: \n",
    "      curr_tag= [id_c,id_b,id_s]\n",
    "      print(\"new - greater threshold\", x,y, id_c)\n",
    "      id_c+=1\n",
    "      chro_map[(x,y)] = curr_tag\n",
    "    else:\n",
    "      chro_map[(x,y)] = [chro_map[closest_pt][0], id_b, id_s]\n",
    "      print(\"less than threshold (chro_map[closest_pt][0])\", x,y, closest_pt, chro_map[closest_pt][0], closest_dist)\n",
    "      # curr_tag = chro_map[closest_pt]\n",
    "      # x,y=closest_pt\n",
    "    # id_b+=1\n",
    "    # print(\" cnt : {}, chromosome id : {}, blob id : {}, centroid : {}, length : {}\".format(cnt, chro_map[(x,y)][0], chro_map[(x,y)][1], (x,y), sel_cntr_len[i]))\n",
    "    # print(\" closest pt : {}, closest dist: {}\".format(closest_pt, closest_dist))\n",
    "    # print(\" \")\n",
    "  print(chro_map)\n",
    "  id_b+=1\n",
    "  return id_c, id_b, id_s, chro_map"
   ]
  },
  {
   "cell_type": "code",
   "execution_count": 16,
   "metadata": {
    "executionInfo": {
     "elapsed": 2,
     "status": "ok",
     "timestamp": 1697080601962,
     "user": {
      "displayName": "Vrinda Anil",
      "userId": "06562731342367344700"
     },
     "user_tz": 360
    },
    "id": "q4MgkcviqBct"
   },
   "outputs": [],
   "source": [
    "def find_closest_centroid(a, b, previous_id_s):\n",
    "  rank_prev = {}\n",
    "  prev_chro_centroid = chro_centroid_global[previous_id_s]\n",
    "\n",
    "  curr_tag, closest_dist = -1,float('inf')\n",
    "  closest_pt = None\n",
    "\n",
    "  for id_c_prev, centroid_prev in prev_chro_centroid.items():\n",
    "    if centroid_prev == 0:\n",
    "      continue\n",
    "    x2,y2 = centroid_prev[0], centroid_prev[1]\n",
    "    dist = cal((a,b), (x2,y2))\n",
    "    # print(\"older_slice \",previous_id_s )\n",
    "    # print((a,b), (x2,y2), dist)\n",
    "    rank_prev[dist] = [id_c_prev, (x2,y2), previous_id_s]\n",
    "    # print(\"rank_prev\", rank_prev)\n",
    "\n",
    "    # if closest_dist > dist:\n",
    "    #   closest_dist, closest_pt, closest_id = dist, centroid_prev, id_prev\n",
    "  if(len(rank_prev)>1):\n",
    "    closest_dist, closest_pt, closest_id, closest_slice_no = find_closest_blob(rank_prev, a, b)\n",
    "  else:\n",
    "    first_element = list(rank_prev.keys())[0]\n",
    "    closest_dist, closest_pt, closest_id, closest_slice_no = first_element, rank_prev[first_element][1], rank_prev[first_element][0], rank_prev[first_element][2]\n",
    "\n",
    "  return closest_dist, closest_pt, closest_id, closest_slice_no\n",
    "\n"
   ]
  },
  {
   "cell_type": "code",
   "execution_count": 17,
   "metadata": {
    "executionInfo": {
     "elapsed": 1,
     "status": "ok",
     "timestamp": 1697080601962,
     "user": {
      "displayName": "Vrinda Anil",
      "userId": "06562731342367344700"
     },
     "user_tz": 360
    },
    "id": "ZvHk8JUL9BSL"
   },
   "outputs": [],
   "source": [
    "def find_closest_blob(rank, m, n):\n",
    "\n",
    "  closest_chromosomes = []\n",
    "\n",
    "  R=rank\n",
    "  rank = {k : R[k] for k in sorted(R)}\n",
    "  print(\"rank sorted\", rank)\n",
    "\n",
    "  keys = list(rank.keys())\n",
    "\n",
    "  # for key in rank.keys():\n",
    "  #   if key < blob_threshold:\n",
    "  #     closest_chromosomes.append(rank[key][0])\n",
    "  #   slice_no = rank[0][2]\n",
    "  closest_chromosomes.append(rank[keys[0]][0])\n",
    "  closest_chromosomes.append(rank[keys[1]][0])\n",
    "  if(len(keys)>2):\n",
    "    closest_chromosomes.append(rank[keys[2]][0])\n",
    "  slice_no = rank[keys[0]][2]\n",
    "\n",
    "  curr_tag, closest_blob_dist = -1,float('inf')\n",
    "  closest_blob, closest_chromosome_id = None, None\n",
    "\n",
    "  for candidate in closest_chromosomes:\n",
    "    blob_list = chro_track_global[slice_no][candidate]\n",
    "    print(\"chromosome\", candidate, blob_list)\n",
    "    blob_rank={}\n",
    "    for blob in blob_list:\n",
    "      blob_dist = cal((m,n), blob)\n",
    "      blob_rank[blob] = blob_dist\n",
    "      if closest_blob_dist > blob_dist:\n",
    "        closest_blob_dist, closest_blob, closest_chromosome_id, closest_slice_no = blob_dist, blob, candidate, slice_no\n",
    "    print(\"blob_rank\", blob_rank)\n",
    "  return closest_blob_dist, closest_blob, closest_chromosome_id, closest_slice_no\n"
   ]
  },
  {
   "cell_type": "code",
   "execution_count": 18,
   "metadata": {
    "executionInfo": {
     "elapsed": 2,
     "status": "ok",
     "timestamp": 1697080602835,
     "user": {
      "displayName": "Vrinda Anil",
      "userId": "06562731342367344700"
     },
     "user_tz": 360
    },
    "id": "x6CuqxSuuvlR"
   },
   "outputs": [],
   "source": [
    "#cluster chromosomes in the current slice and assign label of the closest blob in the previous slice\n",
    "def assign_chro_id_rest_slice(x, y, id_b, id_s, cnt, chro_map, direction_flag, n_list, run, start):\n",
    "  #a dict that store the distance as key and chromosome info as value, for the previous slice\n",
    "  rank_immediate={}\n",
    "  # thresh_local = threshold\n",
    "  thresh_local = threshold - (0.12 * threshold) #reduce threshold to narrow search area as we go backwards\n",
    "\n",
    "  if direction_flag == False:\n",
    "    tmp = id_s+1\n",
    "    while tmp in avoid:\n",
    "      tmp = tmp+1\n",
    "  else:\n",
    "    tmp = id_s-1\n",
    "    while tmp in avoid:\n",
    "      tmp = tmp-1\n",
    "\n",
    "  prev_id_s = tmp\n",
    "  prev_chro_centroid = chro_centroid_global[prev_id_s]\n",
    "  flag = False\n",
    "\n",
    "  curr_tag, closest_dist = -1,float('inf')\n",
    "  closest_pt = None\n",
    "\n",
    "  for id_c_prev, centroid_prev in prev_chro_centroid.items():\n",
    "    if centroid_prev == 0:\n",
    "      continue\n",
    "    x2,y2 = centroid_prev[0], centroid_prev[1]\n",
    "    dist = cal((x,y), (x2,y2))\n",
    "    # print((x,y), (x2,y2), dist)\n",
    "    rank_immediate[dist]=[id_c_prev, (x2,y2), prev_id_s]\n",
    "    # if closest_dist > dist:\n",
    "    #   closest_dist, closest_pt, closest_id = dist, centroid_prev, id_prev\n",
    "\n",
    "  print(\"id_b\", id_b, (x,y))\n",
    "  print(\"rank_immediate\", rank_immediate)\n",
    "\n",
    "  if(len(rank_immediate)>1):\n",
    "    closest_dist, closest_pt, closest_id, closest_slice_no = find_closest_blob(rank_immediate, x, y)\n",
    "  else:\n",
    "    first_element = list(rank_immediate.keys())[0]\n",
    "    closest_dist, closest_pt, closest_id, closest_slice_no = first_element, rank_immediate[first_element][1], rank_immediate[first_element][0], rank_immediate[first_element][2]\n",
    "\n",
    "  closest_dist_immediate_prev_slice, closest_pt_immediate_prev_slice, closest_id_immediate_prev_slice = closest_dist, closest_pt, closest_id\n",
    "\n",
    "  if closest_dist <= threshold: \n",
    "    chro_map[(x,y)] = [closest_id, id_b, id_s]\n",
    "    print(\"***********\")\n",
    "    print(\"Hit in the immediate prev slice (less than threshold)\", (x,y), closest_pt, closest_id, closest_dist, closest_slice_no)\n",
    "    print(\"***********\")\n",
    "    print(\" \")\n",
    "  else:\n",
    "    #n_list is a list that stores the extra chromosomes that we found apart from the ones found in the first slice, as we continue the run through slices\n",
    "    if len(n_list) != 0:\n",
    "      for id_n_list, centroid_n_list in n_list.items():\n",
    "        x3,y3 = centroid_n_list[0], centroid_n_list[1]\n",
    "        dist = cal((x,y), (x3,y3))\n",
    "        # print((x,y), (x3,y3), dist)\n",
    "\n",
    "        if closest_dist > dist:\n",
    "          closest_dist, closest_pt_n, id_n = dist, centroid_n_list, id_n_list\n",
    "          flag = True\n",
    "    if(flag == True):\n",
    "      if closest_dist<= threshold: #210\n",
    "        chro_map[(x,y)] = [id_n, id_b, id_s]\n",
    "        print(\"matched from n_list\", x,y, closest_pt_n, id_n, closest_dist)\n",
    "        return id_b, id_s, chro_map, n_list\n",
    "    closest = closest_dist\n",
    "\n",
    "    if(run == 0):\n",
    "      stop = mid\n",
    "    else:\n",
    "      stop = start\n",
    "\n",
    "    print(\"stop - \", stop)\n",
    "\n",
    "    if direction_flag == False:\n",
    "        end_at = stop+1\n",
    "    else:\n",
    "        end_at = stop-1\n",
    "\n",
    "    count = 1\n",
    "    start_count = 1\n",
    "    while(closest > thresh_local): \n",
    "      print(\"thresh_local = {} at  count = {} and prev_id_s = {}\".format(thresh_local, count, prev_id_s ))\n",
    "      # thresh_local = thresh_local - (0.05 * thresh_local)\n",
    "\n",
    "      # if count == 1:\n",
    "      #   thresh_local = thresh_local - (0.12 * thresh_local)\n",
    "      # if (count - start_count) == 10:\n",
    "      #   thresh_local = thresh_local - (0.12 * thresh_local)\n",
    "      #   start_count = count\n",
    "\n",
    "\n",
    "\n",
    "      if direction_flag == False:\n",
    "        tmpp = prev_id_s+1\n",
    "        while tmpp in avoid:\n",
    "          count+=1\n",
    "          tmpp = tmpp+1\n",
    "\n",
    "      else:\n",
    "        tmpp=prev_id_s-1\n",
    "        while tmpp in avoid:\n",
    "          tmpp = tmpp-1\n",
    "          count+=1\n",
    "      prev_id_s = tmpp\n",
    "      count+=1\n",
    "\n",
    "      if (count - start_count) >= 10:\n",
    "        thresh_local = thresh_local - (0.12 * thresh_local)\n",
    "        start_count = start_count+10\n",
    "\n",
    "\n",
    "      # if(prev_id_s == end_at): #############################\n",
    "      if(count > z_threshold):\n",
    "        print(\"Cant find a closest chromosome, mapping to new chromosome\")\n",
    "        global max_id_c\n",
    "        id = max_id_c + 1\n",
    "        max_id_c+= 1\n",
    "        print(\"new -1\", x,y, id)\n",
    "        print(\"latest\", closest)\n",
    "        n_list[id]=[x,y]\n",
    "        print(n_list)\n",
    "        break\n",
    "      else:\n",
    "        if (prev_id_s == end_at):\n",
    "          print(\"reached mid before count, mapping to nearest in immediate prev slice\")\n",
    "          print(closest_dist_immediate_prev_slice, closest_pt_immediate_prev_slice, closest_id_immediate_prev_slice)\n",
    "          id = closest_id_immediate_prev_slice\n",
    "          break\n",
    "        else:\n",
    "          closest, pt, id, slice_no = find_closest_centroid(x, y, prev_id_s)\n",
    "          # count+=1\n",
    "          print(count)\n",
    "          print(\"point: {} prev_id_s : {} current_id_s: {} closest_id: {} closest point : {} closest_dist: {}\".format((x,y),prev_id_s,id_s,id,pt,closest))\n",
    "    # print(\"Found closest in a much prev slice\")\n",
    "    # print(\"point: {} prev_id_s : {} current_id_s: {} closest_id: {} closest point : {} closest_dist: {} slice no of closest : {}\".format((x,y),prev_id_s,id_s,id,pt,closest,slice_no))\n",
    "    chro_map[(x,y)] = [id, id_b, id_s]\n",
    "\n",
    "\n",
    "  id_b+=1\n",
    "\n",
    "  return id_b, id_s, chro_map, n_list\n"
   ]
  },
  {
   "cell_type": "code",
   "execution_count": 19,
   "metadata": {
    "executionInfo": {
     "elapsed": 1,
     "status": "ok",
     "timestamp": 1697080602835,
     "user": {
      "displayName": "Vrinda Anil",
      "userId": "06562731342367344700"
     },
     "user_tz": 360
    },
    "id": "YpW8eWcUW1Ui"
   },
   "outputs": [],
   "source": [
    "#chro_map[(x,y)] = [id_c,id_b,id_s]\n",
    "#chro_track[id_c] = [(x1,y1),(x2,y2),...] #List of all chromosome blobs labelled as id_c\n",
    "def get_chromosome_tracking(chro_map):\n",
    "    chro_track={}\n",
    "\n",
    "    for pt, tag in chro_map.items():\n",
    "        if chro_map[pt][0] not in chro_track.keys():\n",
    "          chro_track[chro_map[pt][0]] = [pt]\n",
    "        else:\n",
    "          chro_track[chro_map[pt][0]].append(pt)\n",
    "    return chro_track\n",
    "\n",
    "#finding the chromosome centroid as mean of all blob centroids\n",
    "def find_chro_centroid(chro_track):\n",
    "    c_centroid = {}\n",
    "\n",
    "    for id,pts in chro_track.items():\n",
    "\n",
    "      new_data = pandas.DataFrame(pts)\n",
    "      c_centroid[id] = list(map(int,new_data.mean(axis=0)))\n",
    "\n",
    "    # print(\"len(c_centroid)\")\n",
    "    # print(len(c_centroid))\n",
    "\n",
    "    return c_centroid"
   ]
  },
  {
   "cell_type": "code",
   "execution_count": 20,
   "metadata": {
    "executionInfo": {
     "elapsed": 1,
     "status": "ok",
     "timestamp": 1697080603169,
     "user": {
      "displayName": "Vrinda Anil",
      "userId": "06562731342367344700"
     },
     "user_tz": 360
    },
    "id": "5kp1CpJuZmg8"
   },
   "outputs": [],
   "source": [
    "#find nearest membrance point for a particular chromosome centroid\n",
    "def find_nearest_ngbr(centroid_c, centroid_m, id_s):\n",
    "  X=centroid_m\n",
    "  # print(X)\n",
    "  Y_ds={}\n",
    "  Y_inds={}\n",
    "  ctree = cKDTree(X)\n",
    "\n",
    "  for k in centroid_c.keys():\n",
    "    if(centroid_c[k]==0):\n",
    "      continue\n",
    "    x= centroid_c[k]\n",
    "    # print(x)\n",
    "    num_nbrs = num_nbrs = min(50, len(X)) #num_nbrs =50 #when applying org[org<40] = 0 , num_nbrs = min(50, len(X))\n",
    "    ds, inds =  ctree.query(x, num_nbrs) # finds 30 nearest neighbors,  the hits are sorted by distance (nearest first).\n",
    "    Y_ds[k]=ds\n",
    "    Y_inds[k]=inds\n",
    "  print(\"len(Y_inds)\")\n",
    "  print(len(Y_inds))\n",
    "  # print(Y_ds)\n",
    "  # print(Y_inds)\n",
    "  # print(Y_ds[0])\n",
    "  # print(Y_inds[0])\n",
    "  # print(Y_ds[0][0])\n",
    "  # print(Y_inds[0][0])\n",
    "  print(\" xxxxxxxxxxxxxxxxxxxxxxxx\")\n",
    "\n",
    "  #shortest distances in the slice for each chro\n",
    "\n",
    "  dist={}\n",
    "  closest_dist={}\n",
    "  index={}\n",
    "  closest_index={}\n",
    "\n",
    "  global limit\n",
    "  limit = max(limit, max_id_c+1)\n",
    "  for i in range(limit):\n",
    "    if i in Y_ds.keys():\n",
    "        avg_of_50_nbrs = np.mean(np.array(Y_ds[i][0:50]))\n",
    "        dist[i] = avg_of_50_nbrs\n",
    "        index[i]=[X[Y_inds[i][0]]]\n",
    "        for k in range(1,num_nbrs):\n",
    "          index[i].append(X[Y_inds[i][k]])\n",
    "          closest_dist[i]=Y_ds[i][0]\n",
    "          closest_index[i]=X[Y_inds[i][0]]\n",
    "    else:\n",
    "      dist[i]=0\n",
    "      index[i]=[0]\n",
    "  # print(\"dist\", dist)\n",
    "  # print(\"index\", index)\n",
    "  print(\"closest_dist\", closest_dist)\n",
    "  print(\"closest_pt\", closest_index)\n",
    "  final_track[id_s] = dist\n",
    "  # print(\"final_track\", final_track)\n",
    "  return dist, index, closest_dist, closest_index\n"
   ]
  },
  {
   "cell_type": "code",
   "execution_count": 21,
   "metadata": {
    "executionInfo": {
     "elapsed": 553,
     "status": "ok",
     "timestamp": 1697080604021,
     "user": {
      "displayName": "Vrinda Anil",
      "userId": "06562731342367344700"
     },
     "user_tz": 360
    },
    "id": "6_VzDveRNgii"
   },
   "outputs": [],
   "source": [
    "#for patterns / SC\n",
    "def join_neighbors(img, itr):\n",
    "\n",
    "    kernelSize = (3,3)\n",
    "    kernel = cv2.getStructuringElement(cv2.MORPH_ELLIPSE, kernelSize)\n",
    "    dilated_img = cv2.dilate(img,kernel,iterations = itr)\n",
    "\n",
    "    eroded_img = cv2.erode(dilated_img,kernel,iterations = itr)\n",
    "\n",
    "    return eroded_img"
   ]
  },
  {
   "cell_type": "code",
   "execution_count": 22,
   "metadata": {
    "executionInfo": {
     "elapsed": 2,
     "status": "ok",
     "timestamp": 1697080604021,
     "user": {
      "displayName": "Vrinda Anil",
      "userId": "06562731342367344700"
     },
     "user_tz": 360
    },
    "id": "OpB2x8Hw_kdI"
   },
   "outputs": [],
   "source": [
    "def find_contours(im):\n",
    "\n",
    "  contours, hierarchy = cv2.findContours(image=im, mode=cv2.RETR_TREE, method=cv2.CHAIN_APPROX_NONE)\n",
    "  mask = np.zeros(im.shape, np.uint8)\n",
    "  # contours =list(contours)\n",
    "  # cv2.drawContours(mask,contours,-1,(255,255,255))\n",
    "  return contours, hierarchy, mask"
   ]
  },
  {
   "cell_type": "code",
   "execution_count": 23,
   "metadata": {
    "executionInfo": {
     "elapsed": 1,
     "status": "ok",
     "timestamp": 1697080604021,
     "user": {
      "displayName": "Vrinda Anil",
      "userId": "06562731342367344700"
     },
     "user_tz": 360
    },
    "id": "_-EKxJ-jYkaA"
   },
   "outputs": [],
   "source": [
    "def load_image_and_find_contour(image_id, image_list, clean_flag, obj_size):\n",
    "  org = Image.open(image_list[image_id])\n",
    "  org.load()\n",
    "  org = np.array(org)\n",
    "\n",
    "  if(clean_flag == True):\n",
    "    org = clean_small_obj(org,obj_size)\n",
    "\n",
    "  org[org<40]=0 #images are jpeg, avoiding the slightly gradient pixels outside the main boundary of the blobs\n",
    "\n",
    "  contours_org, hierarchy_org, mask_org = find_contours(org)\n",
    "\n",
    "  # mask_c3 = np.stack((mask_c,mask_c,mask_c), axis=2)\n",
    "  # mask_m3 = np.stack((mask_m,mask_m,mask_m), axis=2)\n",
    "  # mask_added = cv2.addWeighted(mask_c3, 1, mask_m3, 0.7, 0)\n",
    "  # mask_added = cv2.addWeighted(mask_c, 1, mask_m, 0.7, 0)\n",
    "\n",
    "  return contours_org, hierarchy_org, mask_org"
   ]
  },
  {
   "cell_type": "code",
   "execution_count": 24,
   "metadata": {
    "executionInfo": {
     "elapsed": 1,
     "status": "ok",
     "timestamp": 1697080604021,
     "user": {
      "displayName": "Vrinda Anil",
      "userId": "06562731342367344700"
     },
     "user_tz": 360
    },
    "id": "Ju16oG58kb9I"
   },
   "outputs": [],
   "source": [
    "def cluster_chromosome(contours_c, hierarchy_c, mask_both, mid_flag, id_c, id_b, id_s, chro_map_local, direction_flag, run, start):\n",
    "  new_list={}\n",
    "  mask_label= np.zeros(mask_both.shape, np.uint8)\n",
    "  for i in range(len(contours_c)):\n",
    "    if cv2.arcLength(contours_c[i],True) > 25 and hierarchy_c[0][i][3]==-1:\n",
    "      # ccontr.append(contours_c[i])\n",
    "      # sel_cntr_len[i]=cv2.arcLength(contours_c[i],True)\n",
    "      M = cv2.moments(contours_c[i])\n",
    "      if(M[\"m00\"])==0:  #avoid division by zero\n",
    "        continue\n",
    "      cX,cY = int(M[\"m10\"] / M[\"m00\"]),int(M[\"m01\"] / M[\"m00\"])\n",
    "      # centroids_chro_blobs.append([id_b,cX,cY])\n",
    "      if(mid_flag==True):  #if mid_flag==True first slice is not processed yet\n",
    "        id_c, id_b, id_s, chro_map_local = assign_chro_id_first_slice(cX, cY, id_c, id_b, id_s, i, chro_map_local)\n",
    "      else:\n",
    "        id_b, id_s, chro_map_local, new_list= assign_chro_id_rest_slice(cX, cY, id_b, id_s, i, chro_map_local, direction_flag, new_list, run, start)\n",
    "\n",
    "      points=[]\n",
    "      for l in range(len(contours_c[i])):\n",
    "        points.append(contours_c[i][l][0])\n",
    "      points = np.array(points)\n",
    "      # cv2.drawContours(mask_label,[points],-1,label[chro_map_local[(cX,cY)][0]], thickness = cv2.FILLED)\n",
    "      #draw filled contour with label assigned to the blob on a mask for the slice\n",
    "      cv2.drawContours(mask_label,[points],-1,((chro_map_local[(cX,cY)][0])+1), thickness = cv2.FILLED)\n",
    "\n",
    "      #to calculate total area of chromosomes\n",
    "      area = cv2.contourArea(contours_c[i])\n",
    "      chro_map_local[(cX,cY)].append(area)\n",
    "\n",
    "  Label_Img[id_s]=mask_label #stores the labelled (filled contours with chromosome label) masks for each slice\n",
    "  # Chro_Im_track.append([mask_both, id_s])\n",
    "\n",
    "  if(mid_flag==True):\n",
    "       return id_c, id_b, id_s, chro_map_local\n",
    "  else:\n",
    "      return id_b, id_s, chro_map_local"
   ]
  },
  {
   "cell_type": "code",
   "execution_count": 25,
   "metadata": {
    "executionInfo": {
     "elapsed": 2,
     "status": "ok",
     "timestamp": 1697080604327,
     "user": {
      "displayName": "Vrinda Anil",
      "userId": "06562731342367344700"
     },
     "user_tz": 360
    },
    "id": "pYiKHWytp3yA"
   },
   "outputs": [],
   "source": [
    "#find center of nucleous in each slice from original image\n",
    "def get_nucl_centroids(contours_n):\n",
    "  for i in range(len(contours_n)):\n",
    "    if cv2.arcLength(contours_n[i],True) > 4000 :\n",
    "      M = cv2.moments(contours_n[i])\n",
    "      if M['m00']!=0.0:\n",
    "        cX,cY = int(M[\"m10\"] / M[\"m00\"]),int(M[\"m01\"] / M[\"m00\"])\n",
    "\n",
    "  return (cX,cY)\n"
   ]
  },
  {
   "cell_type": "code",
   "execution_count": 26,
   "metadata": {
    "executionInfo": {
     "elapsed": 3,
     "status": "ok",
     "timestamp": 1697080604493,
     "user": {
      "displayName": "Vrinda Anil",
      "userId": "06562731342367344700"
     },
     "user_tz": 360
    },
    "id": "yOdnXLoNo8gN"
   },
   "outputs": [],
   "source": [
    "def find_chromosome(start, end, mid_flag, direction_flag, run): #direction_flag = True --> fwd (mid-end), = False -->bckwd (mid-beg)\n",
    "    # if (mid_flag != True):\n",
    "    #   if(direction_flag == False):\n",
    "    #     start = start-1\n",
    "    j = start\n",
    "    id_s = start\n",
    "    while(j != end):\n",
    "\n",
    "      print(j)\n",
    "      print(chromosome[j])\n",
    "      print(membrane[j])\n",
    "\n",
    "      contours_c, hierarchy_c, mask_c = load_image_and_find_contour(j, chromosome, True, 800)\n",
    "      contours_m, hierarchy_m, mask_m = load_image_and_find_contour(j, membrane, False, 0)\n",
    "      contours_n, hierarchy_n, mask_n = load_image_and_find_contour(j, nucleous, False, 0)\n",
    "      mask_both = cv2.addWeighted(mask_c, 1, mask_m, 0.7, 0)\n",
    "\n",
    "      n = ntpath.basename(chromosome[j]).split('.')[0]\n",
    "      n=int(n)\n",
    "      if n in avoid:\n",
    "        print(n)\n",
    "        final_track[j]='inf'\n",
    "        # Img_col_centroids[id_s]=mask_both\n",
    "        # Img_col[id_s]=mask_both\n",
    "        # Label_Img_centroid[id_s]=mask_both\n",
    "        Label_Img[id_s]=mask_both\n",
    "        # Chro_Im_track.append([mask_both, id_s])\n",
    "        chro_centroid_global[id_s] = 'inf'\n",
    "        nucl_centroid_global[id_s] = 'inf'\n",
    "        chro_track_global[id_s] = 'inf'\n",
    "        chro_map_global[id_s] ='inf'\n",
    "        chro_area_global[id_s] ='inf'\n",
    "        max_id_c_per_slice.append([id_s, 'inf'])\n",
    "        if(direction_flag == True):\n",
    "          id_s+=1\n",
    "          j+=1\n",
    "        else:\n",
    "          id_s-=1\n",
    "          j-=1\n",
    "        continue\n",
    "\n",
    "      id_c=0\n",
    "      id_b=0\n",
    "\n",
    "      # nucl_centroid_global[id_s] = get_nucl_centroids(contours_n)\n",
    "      # print(\"nucl_centroid_global :\", nucl_centroid_global)\n",
    "\n",
    "      chro_map_local={}\n",
    "      chro_track_local={}\n",
    "      chro_centroid_local={}\n",
    "\n",
    "      # centroids_chro_blobs=[] #add slice wise as well later\n",
    "      # ccontr=[]\n",
    "      # sel_cntr_len={}\n",
    "\n",
    "      if(mid_flag==True):\n",
    "        id_c, id_b, id_s, chro_map_local = cluster_chromosome(contours_c, hierarchy_c, mask_both, mid_flag, id_c, id_b, id_s, chro_map_local, direction_flag, run, start)\n",
    "        mid_flag = False\n",
    "      else:\n",
    "        id_b, id_s, chro_map_local = cluster_chromosome(contours_c, hierarchy_c, mask_both, mid_flag, id_c, id_b, id_s, chro_map_local, direction_flag, run, start)\n",
    "\n",
    "      print(\"heyyyyyyyyyyy\")\n",
    "      print(\"chro_map_local : \",chro_map_local)\n",
    "\n",
    "      #for global tracking of chromosomes over entire stack\n",
    "      for point,tag in chro_map_local.items():\n",
    "        temp = {point: tag[0]}\n",
    "        temp_area = {point: tag[3]}\n",
    "        if j in chro_map_global:\n",
    "          chro_map_global[j][point]=tag[0]\n",
    "        else:\n",
    "          chro_map_global[j] = temp\n",
    "\n",
    "        if tag[0] not in label_list:\n",
    "          label_list[tag[0]] = None\n",
    "\n",
    "        if j in chro_area_global:\n",
    "          chro_area_global[j][point]=tag[3]\n",
    "        else:\n",
    "          chro_area_global[j] = temp_area\n",
    "\n",
    "      chro_track_local = get_chromosome_tracking(chro_map_local)\n",
    "      print(\"chro_track_local :\", chro_track_local)\n",
    "\n",
    "      chro_track_global[id_s] = chro_track_local\n",
    "      # print(\"chro_track_global: \", chro_track_global)\n",
    "\n",
    "      global max_id_c\n",
    "      max_id_c = max(max_id_c, id_c-1)\n",
    "      print(\"max_id_c_till_now: \", max_id_c)\n",
    "\n",
    "      max_id_c_per_slice.append([id_s, len(chro_track_local)])\n",
    "      print(\"max_chrmosome_per_slice: \", max_id_c_per_slice)\n",
    "\n",
    "      if len(chro_track_local)==0:\n",
    "        avoid.append(id_s)\n",
    "        print(avoid)\n",
    "\n",
    "      chro_centroid_local = find_chro_centroid(chro_track_local)\n",
    "      print(\"chro_centroid_local_before: \",chro_centroid_local)\n",
    "\n",
    "      chro_centroid_global[id_s] = chro_centroid_local\n",
    "      # print(\"chro_centroid_global: \", chro_centroid_global)\n",
    "\n",
    "      # Img_col[id_s] = mask_both\n",
    "\n",
    "      centroids_mem=[]\n",
    "      mcontr=[]\n",
    "      sel_mcntr_len={}\n",
    "      for i in range(len(contours_m)):\n",
    "        if cv2.arcLength(contours_m[i],True) > 0 :\n",
    "          M = cv2.moments(contours_m[i])\n",
    "          if M['m00']!=0.0:\n",
    "            mcontr.append(contours_m[i])\n",
    "            sel_mcntr_len[i]=cv2.arcLength(contours_m[i],True)\n",
    "            cX,cY = int(M[\"m10\"] / M[\"m00\"]),int(M[\"m01\"] / M[\"m00\"])\n",
    "            centroids_mem.append([cX,cY])\n",
    "\n",
    "      list_dis, list_index, nearest_dist, nearest_pt = find_nearest_ngbr(chro_centroid_global[id_s], centroids_mem, id_s)\n",
    "\n",
    "      mask_both_temp = np.copy(mask_both)\n",
    "      # generate_mapped_images(chro_centroid_global[id_s], list_index, mask_both_temp, id_s)\n",
    "\n",
    "      order_id.append(id_s)\n",
    "\n",
    "      # if(id_s==100):\n",
    "      #   break\n",
    "      if(direction_flag == True):\n",
    "        id_s+=1\n",
    "        j+=1\n",
    "      else:\n",
    "        id_s-=1\n",
    "        j-=1\n",
    "\n",
    "      print(\"___________________________________________________________\")"
   ]
  },
  {
   "cell_type": "code",
   "execution_count": 27,
   "metadata": {
    "executionInfo": {
     "elapsed": 3,
     "status": "ok",
     "timestamp": 1697080604493,
     "user": {
      "displayName": "Vrinda Anil",
      "userId": "06562731342367344700"
     },
     "user_tz": 360
    },
    "id": "f-MnXOeGcBaV"
   },
   "outputs": [],
   "source": [
    "def sort_dictionary(unsorted_dictionary):\n",
    "  Y=unsorted_dictionary\n",
    "  sorted_dictionary = {k : Y[k] for k in sorted(Y)}\n",
    "  print(sorted_dictionary.keys())\n",
    "  return sorted_dictionary"
   ]
  },
  {
   "cell_type": "code",
   "execution_count": 28,
   "metadata": {
    "executionInfo": {
     "elapsed": 5,
     "status": "ok",
     "timestamp": 1697080605382,
     "user": {
      "displayName": "Vrinda Anil",
      "userId": "06562731342367344700"
     },
     "user_tz": 360
    },
    "id": "S1zhuGFdWTlw"
   },
   "outputs": [],
   "source": [
    "# def save_label_stack(Label_Img, run, save_patterns_flag):\n",
    "#   # path = \"/content/gdrive/MyDrive/roi_1_nucl_00/test_code/res/15_dec/full\"\n",
    "#   # path = \"/content/gdrive/MyDrive/roi3_nuc00/test/res/23_jan/full\"\n",
    "#   # path = \"/content/gdrive/MyDrive/roi_1_nucl_00/test_code/res/18_feb_th_150_z_23_trial_top_bott/full_\"\n",
    "# #   path = \"/data/FIBSEM/vrinda/ROI_1/test_code/res/Apr_6/test/\"\n",
    "#   path = \"/data/FIBSEM/vrinda/ROI_2/test_code/res/nuc00/Apr_6/test/\"\n",
    "#   # for i in Img_col_centroids.keys():\n",
    "#   if save_patterns_flag == True:\n",
    "#     folder_name = \"patterns\"\n",
    "#   else:\n",
    "#     folder_name = \"chromosome\"\n",
    "#   run_tag = \"run_\"+str(run)+\"/\"+folder_name+\"_all_labels_\"+\"run_\"+str(run)\n",
    "#   path = path + run_tag\n",
    "#   for i in Label_Img.keys():\n",
    "#     tag=i\n",
    "#     if not os.path.exists(path):\n",
    "#       from pathlib import Path\n",
    "#       Path(path).mkdir(parents=True, exist_ok=True)\n",
    "#     # cv2.imwrite(path+\"/\"+ f\"{tag:03d}\"+\".jpg\", (Img_col_centroids[i]))\n",
    "#     cv2.imwrite(path+\"/\"+ f\"{tag:03d}\"+\".jpg\", (Label_Img[i]))\n",
    "\n",
    "#      mask_old_path = \"/data/FIBSEM/vrinda/ROI_1/test_code/hand_segment/output/nuc_00/try2/19/\"+'mask_less_than_40.tiff'"
   ]
  },
  {
   "cell_type": "code",
   "execution_count": 29,
   "metadata": {
    "executionInfo": {
     "elapsed": 244,
     "status": "ok",
     "timestamp": 1697080606314,
     "user": {
      "displayName": "Vrinda Anil",
      "userId": "06562731342367344700"
     },
     "user_tz": 360
    },
    "id": "za32WqHcNgii"
   },
   "outputs": [],
   "source": [
    "#save masks with all labels to the system for each slice for entire stack\n",
    "def save_label_stack(Label_Img, run, save_patterns_flag):\n",
    "    # path = \"/content/gdrive/MyDrive/roi_1_nucl_00/test_code/res/15_dec/full\"\n",
    "    # path = \"/content/gdrive/MyDrive/roi3_nuc00/test/res/23_jan/full\"\n",
    "    # path = \"/content/gdrive/MyDrive/roi_1_nucl_00/test_code/res/18_feb_th_150_z_23_trial_top_bott/full_\"\n",
    "#     path = \"/data/FIBSEM/vrinda/ROI_1/test_code/res/Apr_22/test/\"\n",
    "#     path = \"/data/FIBSEM/vrinda/ROI_2/test_code/res/nuc00/Apr_6/test/\"\n",
    "    # for i in Img_col_centroids.keys():\n",
    "    if save_patterns_flag == True:\n",
    "        folder_name = \"patterns\"\n",
    "    else:\n",
    "        folder_name = \"chromosome\"\n",
    "    run_tag = \"run_\"+str(run)\n",
    "    path = output_path + run_tag\n",
    "    if not os.path.exists(path):\n",
    "      from pathlib import Path\n",
    "      Path(path).mkdir(parents=True, exist_ok=True)\n",
    "    img_list=[]\n",
    "    for i in Label_Img.keys():\n",
    "        img_list.append(Label_Img[i])\n",
    "    new_path = path+\"/\"+folder_name+\"_all_labels_\"+\"run_\"+str(run)+\".tiff\"\n",
    "    # cv2.imwrite(path+\"/\"+ f\"{tag:03d}\"+\".jpg\", (Img_col_centroids[i]))\n",
    "#     cv2.imwrite(path+\"/\"+ f\"{tag:03d}\"+\".jpg\", (Label_Img[i]))\n",
    "    img_list = np.array(img_list)\n",
    "    tifffile.imwrite(new_path, img_list)\n",
    "\n",
    "\n"
   ]
  },
  {
   "cell_type": "code",
   "execution_count": 30,
   "metadata": {
    "executionInfo": {
     "elapsed": 2,
     "status": "ok",
     "timestamp": 1697080606940,
     "user": {
      "displayName": "Vrinda Anil",
      "userId": "06562731342367344700"
     },
     "user_tz": 360
    },
    "id": "74Mt-GyQWjrT"
   },
   "outputs": [],
   "source": [
    "#saves individual chromosomes or SC's into individual folders\n",
    "def save_individual_chromosome(Label_Img, chromosome_count, chro_to_avoid, run, save_patterns_flag):\n",
    "  # path2=\"/content/gdrive/MyDrive/roi_1_nucl_00/test_code/res/15_dec/org/\"\n",
    "  # path2=\"//content/gdrive/MyDrive/roi3_nuc00/test/res/23_dec_2/org/\"\n",
    "  # path2 = \"/content/gdrive/MyDrive/roi_1_nucl_00/test_code/res/18_feb_th_150_z_23_trial_top_bott/org/\"\n",
    "#   path2 = \"/data/FIBSEM/vrinda/ROI_1/test_code/res/Apr_22/test/\"\n",
    "#   path2 = \"/data/FIBSEM/vrinda/ROI_2/test_code/res/nuc00/Apr_6/test/\"\n",
    "  if save_patterns_flag == True:\n",
    "    folder_name = \"patterns\"\n",
    "  else:\n",
    "    folder_name = \"chromosome\"\n",
    "  run_tag = \"run_\"+str(run)+\"/individual/\"+folder_name\n",
    "  path2 = output_path + run_tag +\"/\"\n",
    "  for h in chromosome_count:\n",
    "    if h in chro_to_avoid:\n",
    "      continue\n",
    "    label_chro = h+1\n",
    "    for k in range(len(chromosome)):\n",
    "      temp = (Label_Img[k]==label_chro)\n",
    "      temp = temp.astype(np.uint8)\n",
    "      if save_patterns_flag == True:\n",
    "          chro_temp = Image.open(patterns[k])\n",
    "      else:\n",
    "          chro_temp = Image.open(chromosome[k])\n",
    "      chro_temp.load()\n",
    "      chro_temp = np.array(chro_temp)\n",
    "      chro_temp[chro_temp<40]=0\n",
    "      temp3= cv2.bitwise_and(chro_temp,chro_temp, mask = temp)\n",
    "      temp3[temp3>0] = 1  \n",
    "      nuc_temp = Image.open(nucleous[k])\n",
    "      nuc_temp.load()\n",
    "      nuc_temp = np.array(nuc_temp)\n",
    "      temp2= cv2.bitwise_and(nuc_temp,nuc_temp, mask = temp3)\n",
    "      tag=k\n",
    "      if save_patterns_flag == True:\n",
    "        path_tag = \"patt_\"+str(label_chro)\n",
    "      else:\n",
    "        path_tag = \"ch_\"+str(label_chro)\n",
    "      complete_path = path2+path_tag\n",
    "      if not os.path.exists(complete_path):\n",
    "        from pathlib import Path\n",
    "        Path(complete_path).mkdir(parents=True, exist_ok=True)\n",
    "      # cv2.imwrite(complete_path+\"/\"+ f\"{tag:03d}\"+\".jpg\", (temp2* 255).astype(np.uint8)) #####\n",
    "      cv2.imwrite(complete_path+\"/\"+ f\"{tag:03d}\"+\".jpg\", (temp2))\n",
    "    print(label_chro)\n"
   ]
  },
  {
   "cell_type": "code",
   "execution_count": 31,
   "metadata": {
    "executionInfo": {
     "elapsed": 355,
     "status": "ok",
     "timestamp": 1697080608314,
     "user": {
      "displayName": "Vrinda Anil",
      "userId": "06562731342367344700"
     },
     "user_tz": 360
    },
    "id": "UdOm8zt-vlol"
   },
   "outputs": [],
   "source": [
    "#find centroid of patterns/SC\n",
    "def find_pattern_centroids(patt_img, chromosome_count, chro_to_avoid):\n",
    "  for h in range(len(patt_img)):\n",
    "    if h in avoid:\n",
    "        continue\n",
    "    if h in pattern_avoid:\n",
    "        continue\n",
    "    pattern_map_local={}\n",
    "    for pq in chromosome_count:\n",
    "        if pq in chro_to_avoid:\n",
    "          continue\n",
    "        label_patt = pq+1\n",
    "        img_temp4 = np.copy(patt_img[h]==label_patt)\n",
    "        img_temp4 = img_temp4.astype(np.uint8)\n",
    "        img_temp4 = join_neighbors(img_temp4, 50)\n",
    "        cont, hier, mas = find_contours(img_temp4)\n",
    "        for i in range(len(cont)):\n",
    "            if cv2.arcLength(cont[i],True) > 25 :\n",
    "              M = cv2.moments(cont[i])\n",
    "              if M[\"m00\"] == 0:\n",
    "                continue\n",
    "              cX,cY = int(M[\"m10\"] / M[\"m00\"]),int(M[\"m01\"] / M[\"m00\"])\n",
    "              pattern_map_local[(cX,cY)]= [pq]\n",
    "              if img_temp4[cY,cX] == 0:\n",
    "                  print(img_temp4[cY,cX], (cY,cX), h, pq)\n",
    "#     print(\"pattern_map_local :\", map_local)\n",
    "    pattern_track_local = get_chromosome_tracking(pattern_map_local)\n",
    "#     print(\"pattern_track_local :\", track_local)\n",
    "\n",
    "    pattern_map_global[h]=pattern_map_local\n",
    "    pattern_track_global[h] = pattern_track_local\n",
    "  # print(\"pattern_track_global :\", pattern_track_global)"
   ]
  },
  {
   "cell_type": "code",
   "execution_count": 32,
   "metadata": {
    "executionInfo": {
     "elapsed": 1,
     "status": "ok",
     "timestamp": 1697080608451,
     "user": {
      "displayName": "Vrinda Anil",
      "userId": "06562731342367344700"
     },
     "user_tz": 360
    },
    "id": "xefQQI-gX41y"
   },
   "outputs": [],
   "source": [
    "def find_pattern_label(X,Y,chro_blobs_in_the_slice):\n",
    "  closest_id, closest_dist = -1,float('inf')\n",
    "  for pt,id in chro_blobs_in_the_slice.items():\n",
    "    # if centroid_prev == 0:\n",
    "    #   continue\n",
    "    dist = cal((X,Y), pt)\n",
    "    print((X,Y), pt, dist)\n",
    "    if closest_dist > dist:\n",
    "        closest_dist, closest_pt, closest_id = dist,pt,id\n",
    "  # if closest_dist > threshold_patt:\n",
    "  #   return -1\n",
    "  # else:\n",
    "  #   return closest_id\n",
    "  return closest_id"
   ]
  },
  {
   "cell_type": "code",
   "execution_count": 33,
   "metadata": {
    "executionInfo": {
     "elapsed": 2,
     "status": "ok",
     "timestamp": 1697080608762,
     "user": {
      "displayName": "Vrinda Anil",
      "userId": "06562731342367344700"
     },
     "user_tz": 360
    },
    "id": "ttqvdXigTL0M"
   },
   "outputs": [],
   "source": [
    "#identify SC blobs near to each chromosome and assign same label as chromosome based on distance\n",
    "def find_patterns(run, chro_map, chromosome_count, chro_to_avoid):\n",
    "  print(\"pattern_track_global :\", pattern_track_global)\n",
    "  zero_moment=[]\n",
    "  for k in range(len(pattern)):\n",
    "    print(k)\n",
    "    contours_p, mask_p = load_image_and_find_contour(k, pattern, True, 600)\n",
    "    n = ntpath.basename(pattern[k]).split('.')[0]\n",
    "    n=int(n)\n",
    "    if n in avoid:\n",
    "      print(n)\n",
    "      pattern_img[k] = mask_p\n",
    "      # pattern_avoid.append(k)\n",
    "      pattern_avoid.add(k)\n",
    "      continue\n",
    "    if len(contours_p)==0:\n",
    "      # pattern_avoid.append(k)\n",
    "      pattern_avoid.add(k)\n",
    "      pattern_img[k] = mask_p\n",
    "      continue\n",
    "    pattern_map_inside_find_patterns = {}\n",
    "    blobs_in_slice = chro_map[k]\n",
    "    print(\"blobs_in_slice\", blobs_in_slice)\n",
    "    for i in range(len(contours_p)):\n",
    "      if cv2.arcLength(contours_p[i],True) > 25 :\n",
    "        M = cv2.moments(contours_p[i])\n",
    "        if M[\"m00\"] == 0:\n",
    "          zero_moment.append(k)\n",
    "          continue\n",
    "        cX,cY = int(M[\"m10\"] / M[\"m00\"]),int(M[\"m01\"] / M[\"m00\"])\n",
    "        patt_label = find_pattern_label(cX,cY, blobs_in_slice)\n",
    "        print(\"patt_label\", (cX,cY), patt_label)\n",
    "        pattern_map_inside_find_patterns[(cX,cY)] = [patt_label]\n",
    "        points_new=[]\n",
    "        for l in range(len(contours_p[i])):\n",
    "          points_new.append(contours_p[i][l][0])\n",
    "        points_new = np.array(points_new)\n",
    "        cv2.drawContours(mask_p,[points_new],-1,patt_label+1, thickness = cv2.FILLED)\n",
    "    pattern_img[k]=mask_p\n",
    "\n",
    "    print(\"pattern_map_inside_find_patterns :\", pattern_map_inside_find_patterns)\n",
    "    # pattern_track_local = get_chromosome_tracking(pattern_map_local)\n",
    "    # print(\"pattern_track_local :\", pattern_track_local)\n",
    "\n",
    "    # pattern_track_global[k] = pattern_track_local ######change names\n",
    "    # pattern_map_global[k]=pattern_map_inside_find_patterns\n",
    "  print(\"zero_moment\", zero_moment)\n",
    "  # sort_dictionary(Final_Image_Stack)\n",
    "  # print(Final_Image_Stack.keys())\n",
    "#   save_label_stack(pattern_img, run, True)\n",
    "#   save_individual_chromosome(pattern_img, chromosome_count, chro_to_avoid, run, True)\n",
    "#############################################################################################################\n",
    "  find_pattern_centroids(pattern_img, chromosome_count, chro_to_avoid)\n",
    "  print(\"pattern_track_global :\", pattern_track_global)"
   ]
  },
  {
   "cell_type": "code",
   "execution_count": 34,
   "metadata": {
    "executionInfo": {
     "elapsed": 2,
     "status": "ok",
     "timestamp": 1697080609407,
     "user": {
      "displayName": "Vrinda Anil",
      "userId": "06562731342367344700"
     },
     "user_tz": 360
    },
    "id": "8Da9VQIBIFki"
   },
   "outputs": [],
   "source": [
    "#used in length calculation of SC\n",
    "#to find next closest point in that particular leg of SC\n",
    "#search in a rectangle around the point in coming slices to avoid finding a point from differnt leg\n",
    "def find_closest_leg_point(x,y,z, pattern_in_current_slice_final, processed_in_current_slice):\n",
    "  if False not in processed_in_current_slice.values():\n",
    "    return None, None, None, processed_in_current_slice\n",
    "  closest_x_temp, closest_x_diff, closest_point_temp = None, float('inf'), None\n",
    "  point_list=[]\n",
    "\n",
    "  for i in range(len(pattern_in_current_slice_final)):\n",
    "    current_point = pattern_in_current_slice_final[i]\n",
    "    if processed_in_current_slice[current_point]==True:\n",
    "      continue\n",
    "    (a1,b1,c1) = current_point\n",
    "    x_diff = abs(x-a1)\n",
    "    y_diff = abs(y-b1)\n",
    "    if(x_diff<=25):\n",
    "      if(y_diff<=25):\n",
    "        point_list.append([x_diff, y_diff, (a1,b1,c1)])\n",
    "\n",
    "#   print(\"point_list b4\", point_list)\n",
    "  point_list = sorted(point_list, key = lambda x : (x[0], x[1]))\n",
    "  print(\"point_list\", point_list)\n",
    "\n",
    "  if point_list:\n",
    "    closest_point_temp = point_list[0][2]\n",
    "    closest_x_diff = point_list[0][0]\n",
    "    closest_y_diff = point_list[0][1]\n",
    "    processed_in_current_slice[closest_point_temp]=True\n",
    "    print(\"closest_point\", point_list[0])\n",
    "    return closest_point_temp[0], closest_x_diff, closest_point_temp, processed_in_current_slice\n",
    "\n",
    "  else:\n",
    "    return None, None, None, processed_in_current_slice\n"
   ]
  },
  {
   "cell_type": "code",
   "execution_count": 35,
   "metadata": {
    "executionInfo": {
     "elapsed": 210,
     "status": "ok",
     "timestamp": 1697080610137,
     "user": {
      "displayName": "Vrinda Anil",
      "userId": "06562731342367344700"
     },
     "user_tz": 360
    },
    "id": "J1x4nqEY7jnI"
   },
   "outputs": [],
   "source": [
    "#calculate length of SC\n",
    "def find_length(pattern_track, chromosome_count, chro_to_avoid):\n",
    "\n",
    "  print(\"chromosome_count, chro_to_avoid\", chromosome_count, chro_to_avoid)\n",
    "#   print(\"pattern_track\", pattern_track)\n",
    "\n",
    "  length = {}\n",
    "  missing_patt = {}\n",
    "  begining_pt_track={}\n",
    "  ending_pt_track={}\n",
    "  legs_length_track={}\n",
    "\n",
    "  for c in chromosome_count:\n",
    "    print(\" \")\n",
    "    print(\"c\", c)\n",
    "    # if c==2:\n",
    "    #   break\n",
    "    legs_length={}\n",
    "    begining_pt = {}\n",
    "    ending_pt={}\n",
    "    missing_leg={}\n",
    "    legs_track_for_chromosome = {}\n",
    "    found_next_for_chromosome = {}\n",
    "    leg_count=1\n",
    "    if c in chro_to_avoid:\n",
    "      continue\n",
    "    length[c]=0\n",
    "    missing_patt[c] = []\n",
    "    first_presence = 0\n",
    "    found_first_presence = False\n",
    "    for slice_id in range(len(pattern)):\n",
    "      print(\"slice_id\", slice_id)\n",
    "      if slice_id in pattern_avoid:\n",
    "        print(\"yes\")\n",
    "        continue\n",
    "      if c not in pattern_track[slice_id]:\n",
    "        missing_patt[c].append(slice_id)\n",
    "        print(\"yes22\")\n",
    "        continue\n",
    "      else:\n",
    "        first_presence = slice_id\n",
    "        print(\"yes333\")\n",
    "        found_first_presence = True\n",
    "        break\n",
    "    if found_first_presence == False:\n",
    "        length[c]=0\n",
    "        continue\n",
    "    print(\"first_presence\", first_presence)\n",
    "    print(\"pattern_track_global[first_presence]\", pattern_track[first_presence])\n",
    "    patterns_in_first_presence = pattern_track[first_presence][c]\n",
    "#     print(\"patterns_in_first_presence\", patterns_in_first_presence)\n",
    "    n_legs = len(patterns_in_first_presence)\n",
    "    print(\" n_legs \", n_legs)\n",
    "    found_next_for_legs={}\n",
    "    legs_track_for_legs = {}\n",
    "    for point in patterns_in_first_presence:\n",
    "      (m,n) = point\n",
    "      legs_length[leg_count] = 0\n",
    "      begining_pt[leg_count] = (m,n,slice_id)\n",
    "      ending_pt[leg_count] = (m,n,slice_id)\n",
    "      missing_leg[leg_count] = 0\n",
    "      found_next_for_legs[leg_count] = False\n",
    "      legs_track_for_legs[leg_count] = (m,n,slice_id)\n",
    "#       print(\"legs_length\", legs_length)\n",
    "#       print(\"begining_pt\", begining_pt)\n",
    "#       print(\"found_next_for_legs for ch {} is {}\".format(c,found_next_for_legs))\n",
    "#       print(\"legs_track_for_legs for ch {} is {}\".format(c,legs_track_for_legs))\n",
    "      leg_count+=1\n",
    "\n",
    "    found_next_for_chromosome[first_presence] = found_next_for_legs\n",
    "#     print(\"found_next_for_chromosome for ch {} is {}\".format(c,found_next_for_chromosome)) #{slice number:{leg number: T/F}}\n",
    "    legs_track_for_chromosome[first_presence] = legs_track_for_legs\n",
    "#     print(\"legs_track_for_chromosome for ch {} is {}\".format(c,legs_track_for_chromosome)) #{slice number:{leg number: POINTS}}\n",
    "#     print(\" \")\n",
    "    #######################################################\n",
    "    for slice_id in range(first_presence+1, len(pattern)):\n",
    "      found_next_for_legs={}\n",
    "      legs_track_for_legs = {}\n",
    "      print(\" \")\n",
    "      print(\"slice_id\", slice_id)\n",
    "      # if slice_id == first_presence+35:\n",
    "      #   break\n",
    "      if slice_id in pattern_avoid:\n",
    "        continue\n",
    "      if c not in pattern_track[slice_id]:\n",
    "#         print(\"missing in \", slice_id)\n",
    "        missing_patt[c].append(slice_id)\n",
    "        continue\n",
    "      pattern_in_current_slice_temp = pattern_track[slice_id][c]\n",
    "      print(\"pattern_track_global[slice_id = {}][c = {}] {}\".format(slice_id, c, pattern_in_current_slice_temp))\n",
    "      pattern_in_current_slice_temp = sorted(pattern_in_current_slice_temp, key = lambda x : (x[0], x[1]))\n",
    "      print(\"pattern_in_current_slice_temp\", pattern_in_current_slice_temp)\n",
    "      processed_in_current_slice={}\n",
    "      pattern_in_current_slice_final=[]\n",
    "      for point in pattern_in_current_slice_temp:\n",
    "        (m,n) = point\n",
    "        pattern_in_current_slice_final.append((m,n,slice_id))\n",
    "        processed_in_current_slice[(m,n,slice_id)]=False\n",
    "#       print(\"pattern_in_current_slice_final\", pattern_in_current_slice_final)\n",
    "#       print(\"processed_in_current_slice\", processed_in_current_slice)\n",
    "\n",
    "      prev_slice = slice_id-1\n",
    "      while ((prev_slice in pattern_avoid) or (prev_slice in missing_patt[c])):\n",
    "        prev_slice-=1\n",
    "        if prev_slice == -1: #comment?\n",
    "          break\n",
    "      if prev_slice == -1:\n",
    "          break\n",
    "      # print(\"prev_slice\", prev_slice)\n",
    "\n",
    "      # while prev_slice in missing_patt[c]:\n",
    "      #   prev_slice-=1\n",
    "      #   if prev_slice == -1: #comment?\n",
    "      #     break\n",
    "      print(\"prev_slice after looking in pattern_avoid and missing patt\", prev_slice)\n",
    "\n",
    "      legs_in_prev_slice = legs_track_for_chromosome[prev_slice]\n",
    "      print(\"legs_in_prev_slice\", legs_in_prev_slice)\n",
    "\n",
    "      for key in found_next_for_chromosome[prev_slice].keys():\n",
    "        found_next_for_legs[key] = False\n",
    "\n",
    "      for leg in legs_in_prev_slice:\n",
    "#         print(\"leg\", leg)\n",
    "#         print(\"missing_leg\", missing_leg)\n",
    "        if found_next_for_chromosome[prev_slice][leg] == False and missing_leg[leg]<=25:\n",
    "          if leg not in legs_in_prev_slice:\n",
    "            (x1,y1,z1) = ending_pt[leg]\n",
    "#             print(\"@@@@@@@@@@@@@@@@@@@@@@leg_not_there\")\n",
    "          else:\n",
    "            (x1,y1,z1) = legs_in_prev_slice[leg]\n",
    "          print(\"(x1,y1,z1)\", (x1,y1,z1))\n",
    "          # closest_x, closest_diff, closest_point, processed_in_current_slice = find_closest_leg_point(876,1070,1, pattern_in_current_slice_final, processed_in_current_slice)\n",
    "          closest_x, closest_diff, closest_point, processed_in_current_slice = find_closest_leg_point(x1,y1,z1, pattern_in_current_slice_final, processed_in_current_slice)\n",
    "          if closest_point !=None:\n",
    "            length_temp = cal(legs_in_prev_slice[leg], closest_point)\n",
    "            legs_length[leg] += length_temp\n",
    "            ending_pt[leg] = closest_point\n",
    "            found_next_for_chromosome[prev_slice][leg] = True####\n",
    "#             print(\"######found_next_for_chromosome for ch {} is {}\".format(c,found_next_for_chromosome)) #{slice number:{leg number: T/F}}\n",
    "            found_next_for_legs[leg] = False ####????\n",
    "            legs_track_for_legs[leg] = closest_point\n",
    "            missing_leg[leg]=0\n",
    "          else:\n",
    "            missing_leg[leg]+=1\n",
    "            legs_track_for_legs[leg] = ending_pt[leg]\n",
    "            print(\"leg\", leg)\n",
    "            print(\"closest_point_None\")\n",
    "            print(\"slice_id\", slice_id)\n",
    "            print(\"prev_slice\", prev_slice)\n",
    "      for pts in processed_in_current_slice.keys():\n",
    "        if processed_in_current_slice[pts]==False:\n",
    "          # (m,n,l) = pts\n",
    "          print(pts)\n",
    "#           print(\"adding new leg\")\n",
    "          legs_length[leg_count] = 0\n",
    "          begining_pt[leg_count] = pts #(m,n,slice_id)\n",
    "          ending_pt[leg_count] = pts\n",
    "          missing_leg[leg_count] = 0\n",
    "          found_next_for_legs[leg_count] = False ####????\n",
    "          legs_track_for_legs[leg_count] = pts #(m,n,slice_id)\n",
    "#           print(\"legs_length\", legs_length)\n",
    "#           print(\"begining_pt\", begining_pt)\n",
    "#           print(\"found_next_for_legs for ch {} is {}\".format(c,found_next_for_legs))\n",
    "#           print(\"legs_track_for_legs for ch {} is {}\".format(c,legs_track_for_legs))\n",
    "          leg_count+=1\n",
    "#       print(\"hoyyyy\", slice_id)\n",
    "#       print(\"found_next_for_chromosome for ch {} is {}\".format(c,found_next_for_chromosome)) #{slice number:{leg number: T/F}}\n",
    "      found_next_for_chromosome[slice_id] = found_next_for_legs\n",
    "#       print(\"found_next_for_chromosome for ch {} is {}\".format(c,found_next_for_chromosome)) #{slice number:{leg number: T/F}}\n",
    "      legs_track_for_chromosome[slice_id]=legs_track_for_legs\n",
    "#       print(\"legs_track_for_chromosome for ch {} is {}\".format(c,legs_track_for_chromosome)) #{slice number:{leg number: POINTS}}\n",
    "#       print(\"legs_track_for_chromosome for ch {} for slice {} is {}\".format(c,slice_id,legs_track_for_chromosome[slice_id])) #{slice number:{leg number: POINTS}}\n",
    "#       print(\"ending_pt\", ending_pt)\n",
    "#       print(\"missing_leg\", missing_leg)\n",
    "#       print(\"legs_length\", legs_length)\n",
    "      print(\" \")\n",
    "\n",
    "    total_length_of_patt = 0\n",
    "    legs_length_track[c]=legs_length\n",
    "\n",
    "    for l in legs_length:\n",
    "      total_length_of_patt+=legs_length[l]\n",
    "\n",
    "    length[c]=total_length_of_patt\n",
    "    begining_pt_track[c]=begining_pt\n",
    "    ending_pt_track[c]=ending_pt\n",
    "\n",
    "  print(\"missing_patt\", missing_patt)\n",
    "  print(\"begining_pt_track\", begining_pt_track)\n",
    "  print(\"ending_pt_track\", ending_pt_track)\n",
    "\n",
    "#   print(\"length\", length)\n",
    "  length = sort_dictionary(length)\n",
    "  print(\"length\", length)\n",
    "\n",
    "  return length, legs_length_track, begining_pt_track, ending_pt_track\n"
   ]
  },
  {
   "cell_type": "code",
   "execution_count": 36,
   "metadata": {
    "executionInfo": {
     "elapsed": 4,
     "status": "ok",
     "timestamp": 1697080610767,
     "user": {
      "displayName": "Vrinda Anil",
      "userId": "06562731342367344700"
     },
     "user_tz": 360
    },
    "id": "V0e_K-2G_Z3n"
   },
   "outputs": [],
   "source": [
    "#calculate volume of chromosome\n",
    "def find_volume(chromosome_track, chromosome_area, chromosome_count, chro_to_avoid):\n",
    "  vol = {}\n",
    "  for c in chromosome_count:\n",
    "    if c in chro_to_avoid:\n",
    "      continue\n",
    "    vol[c]=0\n",
    "  for k in range(len(chromosome_track)):\n",
    "    if k in avoid:\n",
    "      continue\n",
    "    temp_track = chromosome_track[k]\n",
    "    temp_area = chromosome_area[k]\n",
    "    for chromosome, blob_list in temp_track.items():\n",
    "      if chromosome in chro_to_avoid:\n",
    "        continue\n",
    "      for blob in blob_list:\n",
    "        vol[chromosome]+= temp_area[blob]\n",
    "\n",
    "#   print(\"volume\", vol)\n",
    "  vol = sort_dictionary(vol)\n",
    "  print(\"volume\", vol)\n",
    "  return vol"
   ]
  },
  {
   "cell_type": "code",
   "execution_count": 37,
   "metadata": {
    "executionInfo": {
     "elapsed": 155,
     "status": "ok",
     "timestamp": 1697080612393,
     "user": {
      "displayName": "Vrinda Anil",
      "userId": "06562731342367344700"
     },
     "user_tz": 360
    },
    "id": "NRfKQJHn_TzR"
   },
   "outputs": [],
   "source": [
    "# def find_score(chromosome_track, chromosome_area, chromosome_count, chro_to_avoid):\n",
    "#   volume = find_volume(chromosome_track, chromosome_area, chromosome_count, chro_to_avoid)\n",
    "#   vol_list = []\n",
    "#   for c,v in volume.items():\n",
    "#     vol_list.append(v)\n",
    "#   print(\"vol_list\", vol_list)\n",
    "#   vol_list = np.array(vol_list)\n",
    "#   print(\"vol_list\", vol_list)\n",
    "#   score_var = np.var(vol_list)\n",
    "#   score_std = np.std(vol_list)\n",
    "#   print(\"score.var.........\", score_var)\n",
    "#   print(\"score.std.........\", score_std)\n",
    "#   return score_std"
   ]
  },
  {
   "cell_type": "code",
   "execution_count": 38,
   "metadata": {
    "executionInfo": {
     "elapsed": 3,
     "status": "ok",
     "timestamp": 1697080612604,
     "user": {
      "displayName": "Vrinda Anil",
      "userId": "06562731342367344700"
     },
     "user_tz": 360
    },
    "id": "HDv9MEfONgik"
   },
   "outputs": [],
   "source": [
    "#calculate score of the algorithm\n",
    "#std.dev(V/l)\n",
    "def find_score(chromosome_track, chromosome_area, pattern_track, chromosome_count, chro_to_avoid):\n",
    "\n",
    "  length, legs_length_track, begining_pt_track, ending_pt_track = find_length(pattern_track, chromosome_count, chro_to_avoid)\n",
    "  volume = find_volume(chromosome_track, chromosome_area, chromosome_count, chro_to_avoid)\n",
    "\n",
    "  vol_list = []\n",
    "  len_list = []\n",
    "  vol_by_len_list = []\n",
    "\n",
    "  c_len_zero=[]\n",
    "\n",
    "  for c,v in volume.items():\n",
    "    vol_c = v\n",
    "    len_c = length[c]\n",
    "\n",
    "    if len_c != 0:\n",
    "        vol_list.append(vol_c)\n",
    "        len_list.append(len_c)\n",
    "\n",
    "        v_by_l = vol_c/len_c\n",
    "        vol_by_len_list.append(v_by_l)\n",
    "    else:\n",
    "        c_len_zero.append(c)\n",
    "\n",
    "  print(\" \")\n",
    "  print(\"chromosomes avoided due to zero length : \", c_len_zero)\n",
    "\n",
    "  print(\" \")\n",
    "  vol_list = np.array(vol_list)\n",
    "  print(\"vol_list\", vol_list)\n",
    "  len_list = np.array(len_list)\n",
    "  print(\"len_list\", len_list)\n",
    "  vol_list = np.array(vol_list)\n",
    "  print(\"vol_by_len_list\", vol_by_len_list)\n",
    "\n",
    "  print(\" \")\n",
    "  score_var_vol = np.var(vol_list)\n",
    "  score_std_vol = np.std(vol_list)\n",
    "  print(\"volume.....score.variance.........\", score_var_vol)\n",
    "  print(\"volume.....score.standard.deviation........\", score_std_vol)\n",
    "  print(\" \")\n",
    "\n",
    "  score_var_v_by_l = np.var(vol_by_len_list)\n",
    "  score_std_v_by_l  = np.std(vol_by_len_list)\n",
    "  print(\"volume_by_length.....score.variance.........\", score_var_v_by_l )\n",
    "  print(\"volume_by_length.....score.standard.deviation.........\", score_std_v_by_l )\n",
    "\n",
    "\n",
    "  return score_std_vol, score_std_v_by_l, length, volume, legs_length_track, begining_pt_track, ending_pt_track"
   ]
  },
  {
   "cell_type": "code",
   "execution_count": 39,
   "metadata": {
    "executionInfo": {
     "elapsed": 575,
     "status": "ok",
     "timestamp": 1697080615459,
     "user": {
      "displayName": "Vrinda Anil",
      "userId": "06562731342367344700"
     },
     "user_tz": 360
    },
    "id": "Z_Y6mWqc_f8P"
   },
   "outputs": [],
   "source": [
    "#count the number of slices the chromosome is present\n",
    "def count_presence(ch_track):\n",
    "  slice_count = {}\n",
    "  for d in ch_track.keys():\n",
    "    # print(\"d\", d)\n",
    "    if d in avoid:\n",
    "      continue\n",
    "    count_list_temp = ch_track[d]\n",
    "    # print(\"count_list_temp\", count_list_temp)\n",
    "    for id in count_list_temp.keys():\n",
    "      if id in slice_count:\n",
    "        slice_count[id]+=1\n",
    "      else:\n",
    "        slice_count[id]=1\n",
    "  return slice_count"
   ]
  },
  {
   "cell_type": "code",
   "execution_count": 40,
   "metadata": {
    "executionInfo": {
     "elapsed": 1,
     "status": "ok",
     "timestamp": 1697080615608,
     "user": {
      "displayName": "Vrinda Anil",
      "userId": "06562731342367344700"
     },
     "user_tz": 360
    },
    "id": "JxRqsis-_P1-"
   },
   "outputs": [],
   "source": [
    "#find chromosomes which are present in less than 5 slices\n",
    "def find_short_chromosomes(chro_track_list):\n",
    "  chro_slice_count = count_presence(chro_track_list)\n",
    "  print(\"chro_slice_count\", chro_slice_count)\n",
    "  chromosome_to_be_removed = []\n",
    "  min_slice_threshold = 20 #5\n",
    "  for chro_id in chro_slice_count:\n",
    "    if (chro_slice_count[chro_id] < min_slice_threshold):\n",
    "      chromosome_to_be_removed.append(chro_id)\n",
    "  return chromosome_to_be_removed"
   ]
  },
  {
   "cell_type": "code",
   "execution_count": 41,
   "metadata": {
    "colab": {
     "base_uri": "https://localhost:8080/"
    },
    "executionInfo": {
     "elapsed": 61446,
     "status": "ok",
     "timestamp": 1697080677863,
     "user": {
      "displayName": "Vrinda Anil",
      "userId": "06562731342367344700"
     },
     "user_tz": 360
    },
    "id": "eh6NWpE9_j6u",
    "outputId": "95316a12-4769-48da-e83d-3b2876b0e9fa"
   },
   "outputs": [
    {
     "name": "stdout",
     "output_type": "stream",
     "text": [
      "beg 0\n",
      "last 892\n",
      "@@@@@@@@@@@@@@@@@@@@@@@@@@@@@@@@@@@@@@@@@@@@@@@@@@@@@@@@@\n",
      " RUN -  0\n",
      "starting from mid\n",
      "Calculated middle slice is :  446\n",
      "Proceed with the calculated middle slice (y/n) : \n",
      "invalid input, please provide a valid input\n",
      "Proceed with the calculated middle slice (y/n) : \n",
      "invalid input, please provide a valid input\n",
      "Proceed with the calculated middle slice (y/n) : n\n",
      "Enter the slice number to be considered as reference middle slice : 580\n",
      " \n",
      "Starting Slice Number = 0, Ending Slice Number = 892, Middle Reference Slice Number = 580\n",
      "580\n",
      "/data/FIBSEM/nuclie_align_ROI3_1700/nuclie30/chromosome/580.jpg\n",
      "/data/FIBSEM/nuclie_align_ROI3_1700/nuclie30/chromosome/580.jpg\n",
      "OVER\n",
      "score_vol_by_100000 {}\n"
     ]
    }
   ],
   "source": [
    "#run0 mid to bottom and mid to top\n",
    "\n",
    "global mid\n",
    "# mid = 357 #roi1 nuc00\n",
    "# mid = 305 #roi3 nuc00\n",
    "mid_flag = True\n",
    "beg = 0\n",
    "last = len(chromosome)-1\n",
    "\n",
    "print(\"beg\", beg)\n",
    "print(\"last\", last)\n",
    "\n",
    "run = 0 #starting from mid\n",
    "\n",
    "print(\"@@@@@@@@@@@@@@@@@@@@@@@@@@@@@@@@@@@@@@@@@@@@@@@@@@@@@@@@@\")\n",
    "print(\" RUN - \", run)\n",
    "print(\"starting from mid\")\n",
    "\n",
    "mid_temp = beg + ((last-beg)//2)\n",
    "print(\"Calculated middle slice is : \", mid_temp)\n",
    "flag_ip = False\n",
    "while(flag_ip==False):\n",
    "  ch = str(input(\"Proceed with the calculated middle slice (y/n) : \"))\n",
    "  global mid\n",
    "  if(ch == 'y'):\n",
    "    mid = mid_temp\n",
    "    flag_ip = True\n",
    "  elif(ch == 'n'):\n",
    "    try:\n",
    "      slice_no = int(input(\"Enter the slice number to be considered as reference middle slice : \"))\n",
    "      mid = slice_no\n",
    "      flag_ip = True\n",
    "    except:\n",
    "      print(\"!!!!!!Please enter a valid slice number!!!!!!\")\n",
    "      continue\n",
    "  else:\n",
    "    print(\"invalid input, please provide a valid input\")\n",
    "print(\" \")\n",
    "print(\"Starting Slice Number = {}, Ending Slice Number = {}, Middle Reference Slice Number = {}\".format(beg, last, mid))\n",
    "\n",
    "# id_s=mid\n",
    "id_c=0\n",
    "id_b=0\n",
    "chro_map_local={} #??????\n",
    "print(mid)\n",
    "print(chromosome[mid])\n",
    "print(membrane[mid])\n",
    "\n",
    "order_id = []\n",
    "# file_path = output_path + \"oct_22_roi_2_nuc00.txt\"\n",
    "sys.stdout = open(file_path, \"w\")\n",
    "\n",
    "# sys.stdout = open(\"/content/gdrive/MyDrive/roi_1_nucl_00/test/test2/out.txt\", \"w\")\n",
    "# sys.stdout = open(\"/data/FIBSEM/vrinda/ROI_1/test_code/res/Apr_22_test_roi_1_n0.txt\", \"w\")\n",
    "# sys.stdout = open(\"/data/FIBSEM/vrinda/ROI_2/test_code/res/nuc00/Apr_20_test_roi_1_n0.txt\", \"w\")\n",
    "\n",
    "\n",
    "\n",
    "find_chromosome(mid, last+1, mid_flag, True, run)\n",
    "mid_flag = False\n",
    "find_chromosome(mid-1, beg-1, mid_flag, False, run)\n",
    "\n",
    "print(\"order_id:\",order_id)\n",
    "print(limit)\n",
    "print(max_id_c)\n",
    "\n",
    "chro_map_run_0 = chro_map_global\n",
    "print(\"*****chro_map_run_0 : \", chro_map_run_0)\n",
    "chro_area_run_0 = chro_area_global\n",
    "print(\"*****chro_area_run_0 : \", chro_area_run_0)\n",
    "label_list_run0 = label_list\n",
    "print(\"*****label_list_run0 : \", label_list_run0)\n",
    "run_track_chro_track_global[run] = chro_track_global\n",
    "\n",
    "uniqueValues_0 = set(label_list_run0.keys())\n",
    "print(\"uniqueValues\",uniqueValues_0)\n",
    "# new_limit_0 = len(uniqueValues)\n",
    "# print(\"new_limit_0\", new_limit_0)\n",
    "chromosomes_to_avoid_run_0 = find_short_chromosomes(run_track_chro_track_global[run])\n",
    "empty_list = []\n",
    "print(\"chromosomes_to_avoid_run_0\", chromosomes_to_avoid_run_0)\n",
    "\n",
    "\n",
    "Label_Img = sort_dictionary(Label_Img)\n",
    "# save_label_stack(Label_Img, run, False)\n",
    "save_individual_chromosome(Label_Img, uniqueValues_0, chromosomes_to_avoid_run_0, run, False) #pass empty list intentionally to save all chromosomes\n",
    "\n",
    "# find_patterns(run, chro_map_run_0, uniqueValues_0, chromosomes_to_avoid_run_0) #finds patterns, saves patterns, finds new pattern centroids\n",
    "# run_track_pattern_track_global[run] = pattern_track_global\n",
    "# print(\"pattern_avoid\", pattern_avoid)\n",
    "# #add score\n",
    "# # length = find_length(pattern_track_global, new_limit_0, chromosomes_to_avoid_run_0)\n",
    "# score_v_run0, score_v_by_l_run0, length_run0, volume_run0, legs_length_track_run0, begining_pt_track_run0, ending_pt_track_run0 = find_score(run_track_chro_track_global[run],\n",
    "#                                                                                                                                              chro_area_run_0, pattern_track_global, uniqueValues_0,\n",
    "#                                                                                                                                              chromosomes_to_avoid_run_0)\n",
    "# # score_run0 = find_score(run_track_chro_track_global[run], chro_area_run_0, new_limit_0, chromosomes_to_avoid_run_0)\n",
    "# score_vol[run] = score_v_run0\n",
    "# score_vol_by_len[run] = score_v_by_l_run0\n",
    "\n",
    "print(\"DONEEEEEE RUN - \", run)"
   ]
  },
  {
   "cell_type": "code",
   "execution_count": 42,
   "metadata": {
    "colab": {
     "base_uri": "https://localhost:8080/"
    },
    "executionInfo": {
     "elapsed": 86,
     "status": "ok",
     "timestamp": 1697080806089,
     "user": {
      "displayName": "Vrinda Anil",
      "userId": "06562731342367344700"
     },
     "user_tz": 360
    },
    "id": "GZYxuuG8h52F",
    "outputId": "c925f4ac-71ca-4c06-c343-5b444134c315"
   },
   "outputs": [],
   "source": [
    "print(run_track_chro_track_global.keys())\n",
    "print(run_track_pattern_track_global.keys())\n",
    "# print(chro_map_run_0 [7])\n",
    "# print(run_track_chro_track_global[0])\n",
    "print(avoid)\n",
    "print(len(avoid))\n",
    "print(pattern_avoid)"
   ]
  },
  {
   "cell_type": "code",
   "execution_count": 43,
   "metadata": {
    "colab": {
     "base_uri": "https://localhost:8080/"
    },
    "executionInfo": {
     "elapsed": 94,
     "status": "ok",
     "timestamp": 1697080811323,
     "user": {
      "displayName": "Vrinda Anil",
      "userId": "06562731342367344700"
     },
     "user_tz": 360
    },
    "id": "FL0rstADNgil",
    "outputId": "914e9587-411a-4f59-b6ec-4e56e08491fa"
   },
   "outputs": [],
   "source": [
    "print(score_vol)\n",
    "print(score_vol_by_len)"
   ]
  },
  {
   "cell_type": "code",
   "execution_count": 44,
   "metadata": {
    "colab": {
     "base_uri": "https://localhost:8080/"
    },
    "executionInfo": {
     "elapsed": 48224,
     "status": "ok",
     "timestamp": 1697080861864,
     "user": {
      "displayName": "Vrinda Anil",
      "userId": "06562731342367344700"
     },
     "user_tz": 360
    },
    "id": "GvcPtLo9e4rK",
    "outputId": "0ee54bd5-39d9-4f4b-969d-dd4484a4268f"
   },
   "outputs": [],
   "source": [
    "run = 1 #starting from top\n",
    "\n",
    "print(\"beg\", beg)\n",
    "print(\"last\", last)\n",
    "\n",
    "print(\"@@@@@@@@@@@@@@@@@@@@@@@@@@@@@@@@@@@@@@@@@@@@@@@@@@@@@@@@@\")\n",
    "print(\" RUN - \", run)\n",
    "print(\"starting from top\")\n",
    "\n",
    "Label_Img={}\n",
    "chro_track_global={}\n",
    "pattern_track_global={}\n",
    "pattern_img = {}\n",
    "chro_map_global={}\n",
    "chro_area_global={}\n",
    "pattern_map_global={}\n",
    "label_list={}\n",
    "max_id_c_per_slice=[]\n",
    "global max_id_c\n",
    "max_id_c=-1\n",
    "global limit\n",
    "limit = 6\n",
    "\n",
    "order_id = []\n",
    "\n",
    "mid_flag = True\n",
    "\n",
    "# find_chromosome(beg, last+1, mid_flag, True, run)\n",
    "find_chromosome(skip_threshold_top, last+1, mid_flag, True, run)\n",
    "mid_flag = False\n",
    "find_chromosome(skip_threshold_top-1, beg-1, mid_flag, False, run)\n",
    "\n",
    "print(\"order_id:\",order_id)\n",
    "print(limit)\n",
    "print(max_id_c)\n",
    "\n",
    "chro_map_run_1 = chro_map_global\n",
    "print(\"*****chro_map_run_1 : \", chro_map_run_1)\n",
    "chro_area_run_1 = chro_area_global\n",
    "print(\"*****chro_area_run_1 : \", chro_area_run_1)\n",
    "label_list_run1 = label_list\n",
    "print(\"*****label_list_run1 : \", label_list_run1)\n",
    "run_track_chro_track_global[run] = chro_track_global\n",
    "\n",
    "uniqueValues_1 = set(label_list_run1.keys())\n",
    "print(\"uniqueValues\",uniqueValues_1)\n",
    "# new_limit_1 = len(uniqueValues)\n",
    "# print(\"new_limit_1\", new_limit_1)\n",
    "\n",
    "chromosomes_to_avoid_run_1 = find_short_chromosomes(run_track_chro_track_global[run])\n",
    "empty_list = []\n",
    "print(\"chromosomes_to_avoid_run_1\", chromosomes_to_avoid_run_1)\n",
    "\n",
    "\n",
    "Label_Img = sort_dictionary(Label_Img)\n",
    "# save_label_stack(Label_Img, run, False)\n",
    "save_individual_chromosome(Label_Img, uniqueValues_1, chromosomes_to_avoid_run_1, run, False)\n",
    "\n",
    "# find_patterns(run, chro_map_run_1, uniqueValues_1, chromosomes_to_avoid_run_1)\n",
    "# run_track_pattern_track_global[run] = pattern_track_global\n",
    "# print(\"pattern_avoid\", pattern_avoid)\n",
    "# #add score\n",
    "# # length = find_length(pattern_track_global, new_limit_1, chromosomes_to_avoid_run_1)\n",
    "# # score_run1 = find_score(run_track_chro_track_global[run], chro_area_run_1, new_limit_1, chromosomes_to_avoid_run_1)\n",
    "# score_v_run1, score_v_by_l_run1, length_run1, volume_run1, legs_length_track_run1, begining_pt_track_run1, ending_pt_track_run1 = find_score(run_track_chro_track_global[run],\n",
    "#                                                                                                                                              chro_area_run_1, pattern_track_global,\n",
    "#                                                                                                                                              uniqueValues_1,\n",
    "#                                                                                                                                              chromosomes_to_avoid_run_1)\n",
    "# score_vol[run] = score_v_run1\n",
    "# score_vol_by_len[run] = score_v_by_l_run1\n",
    "\n",
    "\n",
    "print(\"DONEEEEEE RUN - \", run)"
   ]
  },
  {
   "cell_type": "code",
   "execution_count": 45,
   "metadata": {
    "colab": {
     "base_uri": "https://localhost:8080/"
    },
    "executionInfo": {
     "elapsed": 15,
     "status": "ok",
     "timestamp": 1697080861866,
     "user": {
      "displayName": "Vrinda Anil",
      "userId": "06562731342367344700"
     },
     "user_tz": 360
    },
    "id": "umxlmzRWk4pg",
    "outputId": "a9c0599f-41aa-4ee7-9e83-5387cff59459"
   },
   "outputs": [],
   "source": [
    "print(run_track_chro_track_global.keys())\n",
    "# print(run_track_chro_track_global[0])\n",
    "# print(run_track_chro_track_global[1])\n",
    "print(avoid)\n",
    "print(len(avoid))\n",
    "print(pattern_avoid)"
   ]
  },
  {
   "cell_type": "code",
   "execution_count": 46,
   "metadata": {
    "colab": {
     "base_uri": "https://localhost:8080/"
    },
    "executionInfo": {
     "elapsed": 14,
     "status": "ok",
     "timestamp": 1697080861866,
     "user": {
      "displayName": "Vrinda Anil",
      "userId": "06562731342367344700"
     },
     "user_tz": 360
    },
    "id": "2CBPxJ4CNgil",
    "outputId": "cfd2b656-1724-46ca-8c4b-9d0d7d7329c5"
   },
   "outputs": [],
   "source": [
    "print(score_vol)\n",
    "print(score_vol_by_len)"
   ]
  },
  {
   "cell_type": "code",
   "execution_count": 47,
   "metadata": {
    "colab": {
     "base_uri": "https://localhost:8080/"
    },
    "executionInfo": {
     "elapsed": 47100,
     "status": "ok",
     "timestamp": 1697080908953,
     "user": {
      "displayName": "Vrinda Anil",
      "userId": "06562731342367344700"
     },
     "user_tz": 360
    },
    "id": "VDpBAOBtfRQV",
    "outputId": "e1931b9c-0f24-4d51-9f9c-3dfda23ddbd8"
   },
   "outputs": [],
   "source": [
    "run = 2 #starting from bottom\n",
    "\n",
    "print(\"beg\", beg)\n",
    "print(\"last\", last)\n",
    "\n",
    "print(\"@@@@@@@@@@@@@@@@@@@@@@@@@@@@@@@@@@@@@@@@@@@@@@@@@@@@@@@@@\")\n",
    "print(\" RUN - \", run)\n",
    "print(\"starting from bottom\")\n",
    "\n",
    "Label_Img={}\n",
    "chro_track_global={}\n",
    "pattern_track_global={}\n",
    "pattern_img = {}\n",
    "chro_map_global={}\n",
    "chro_area_global={}\n",
    "pattern_map_global={}\n",
    "label_list={}\n",
    "max_id_c_per_slice=[]\n",
    "global max_id_c\n",
    "max_id_c=-1\n",
    "global limit\n",
    "limit = 6\n",
    "\n",
    "order_id = []\n",
    "\n",
    "mid_flag = True\n",
    "\n",
    "# find_chromosome(last, beg-1, mid_flag, False, run)\n",
    "find_chromosome(last-skip_threshold_bottom, beg-1, mid_flag, False, run)\n",
    "mid_flag = False\n",
    "find_chromosome(last-skip_threshold_bottom+1, last+1, mid_flag, True, run)\n",
    "\n",
    "print(\"order_id:\",order_id)\n",
    "print(limit)\n",
    "print(max_id_c)\n",
    "\n",
    "chro_map_run_2 = chro_map_global\n",
    "print(\"*****chro_map_run_2 : \", chro_map_run_2)\n",
    "chro_area_run_2 = chro_area_global\n",
    "print(\"*****chro_area_run_2 : \", chro_area_run_2)\n",
    "label_list_run2 = label_list\n",
    "print(\"*****label_list_run2 : \", label_list_run2)\n",
    "run_track_chro_track_global[run] = chro_track_global\n",
    "\n",
    "uniqueValues_2 = set(label_list_run2.keys())\n",
    "print(\"uniqueValues\", uniqueValues_2)\n",
    "# new_limit_2 = len(uniqueValues)\n",
    "# print(\"new_limit_2\", new_limit_2)\n",
    "\n",
    "chromosomes_to_avoid_run_2 = find_short_chromosomes(run_track_chro_track_global[run])\n",
    "empty_list = []\n",
    "print(\"chromosomes_to_avoid_run_2\", chromosomes_to_avoid_run_2)\n",
    "\n",
    "Label_Img = sort_dictionary(Label_Img)\n",
    "# save_label_stack(Label_Img, run, False)\n",
    "save_individual_chromosome(Label_Img, uniqueValues_2, chromosomes_to_avoid_run_2, run, False)\n",
    "\n",
    "# find_patterns(run, chro_map_run_2, uniqueValues_2, chromosomes_to_avoid_run_2)\n",
    "# run_track_pattern_track_global[run] = pattern_track_global\n",
    "# print(\"pattern_avoid\", pattern_avoid)\n",
    "# #add score\n",
    "# # length = find_length(pattern_track_global, new_limit_2, chromosomes_to_avoid_run_2)\n",
    "# # score_run2 = find_score(run_track_chro_track_global[run], chro_area_run_2, new_limit_2, chromosomes_to_avoid_run_2)\n",
    "# score_v_run2, score_v_by_l_run2, length_run2, volume_run2, legs_length_track_run2, begining_pt_track_run2, ending_pt_track_run2 = find_score(run_track_chro_track_global[run],\n",
    "#                                                                                                                                              chro_area_run_2, pattern_track_global,\n",
    "#                                                                                                                                              uniqueValues_2,\n",
    "#                                                                                                                                              chromosomes_to_avoid_run_2)\n",
    "# score_vol[run] = score_v_run2\n",
    "# score_vol_by_len[run] = score_v_by_l_run2\n",
    "\n",
    "print(\"DONEEEEEE RUN - \", run)"
   ]
  },
  {
   "cell_type": "code",
   "execution_count": 48,
   "metadata": {
    "colab": {
     "base_uri": "https://localhost:8080/"
    },
    "executionInfo": {
     "elapsed": 57,
     "status": "ok",
     "timestamp": 1697080908953,
     "user": {
      "displayName": "Vrinda Anil",
      "userId": "06562731342367344700"
     },
     "user_tz": 360
    },
    "id": "_-FP0iMyf1Kx",
    "outputId": "834b6da3-cdaf-4eea-a28e-a58c7b4f63d1"
   },
   "outputs": [],
   "source": [
    "print(run_track_chro_track_global.keys())\n",
    "# print(run_track_chro_track_global[0])\n",
    "# print(run_track_chro_track_global[1])\n",
    "# print(run_track_chro_track_global[2])\n",
    "print(avoid)\n",
    "print(len(avoid))\n",
    "print(pattern_avoid)"
   ]
  },
  {
   "cell_type": "code",
   "execution_count": 49,
   "metadata": {
    "colab": {
     "base_uri": "https://localhost:8080/"
    },
    "executionInfo": {
     "elapsed": 206,
     "status": "ok",
     "timestamp": 1697080923730,
     "user": {
      "displayName": "Vrinda Anil",
      "userId": "06562731342367344700"
     },
     "user_tz": 360
    },
    "id": "P01amb-YNgil",
    "outputId": "1381fba2-fc7c-486f-ac2d-57084cf7df61"
   },
   "outputs": [],
   "source": [
    "print(score_vol)\n",
    "print(score_vol_by_len)"
   ]
  },
  {
   "cell_type": "code",
   "execution_count": 51,
   "metadata": {
    "colab": {
     "base_uri": "https://localhost:8080/"
    },
    "executionInfo": {
     "elapsed": 74,
     "status": "ok",
     "timestamp": 1697080926272,
     "user": {
      "displayName": "Vrinda Anil",
      "userId": "06562731342367344700"
     },
     "user_tz": 360
    },
    "id": "7bZjcySsYdJY",
    "outputId": "d26bc62a-9686-4673-e3f0-2058e7d95bac"
   },
   "outputs": [],
   "source": [
    "print(label_list_run0)\n",
    "print(label_list_run1)\n",
    "print(label_list_run2)\n",
    "\n",
    "temp_0 =label_list_run0\n",
    "temp_1 =label_list_run1\n",
    "temp_2 =label_list_run2"
   ]
  },
  {
   "cell_type": "code",
   "execution_count": 53,
   "metadata": {
    "colab": {
     "base_uri": "https://localhost:8080/"
    },
    "executionInfo": {
     "elapsed": 2313,
     "status": "ok",
     "timestamp": 1697080944627,
     "user": {
      "displayName": "Vrinda Anil",
      "userId": "06562731342367344700"
     },
     "user_tz": 360
    },
    "id": "gwQmvmuR29e5",
    "outputId": "e923e6f2-550f-42ca-e7ba-03e1449870b5"
   },
   "outputs": [],
   "source": [
    "#combine labels from the three runs\n",
    "\n",
    "new_id = 0\n",
    "for x in range(len(chromosome)):\n",
    "  print(\"##########\", x)\n",
    "  n = ntpath.basename(chromosome[x]).split('.')[0]\n",
    "  n=int(n)\n",
    "  if n in avoid:\n",
    "      continue\n",
    "\n",
    "  list_0 = chro_map_run_0[x]\n",
    "  list_1 = chro_map_run_1[x]\n",
    "  list_2 = chro_map_run_2[x]\n",
    "  print(list_0)\n",
    "  print(list_1)\n",
    "  print(list_2)\n",
    "\n",
    "  for pt in list_0.keys():\n",
    "    print(\"point\", pt)\n",
    "\n",
    "    id_0 = list_0[pt]\n",
    "    id_1 = list_1[pt]\n",
    "    id_2 = list_2[pt]\n",
    "    print(\"id\", id_0,id_1,id_2)\n",
    "\n",
    "    if(label_list_run0[id_0] == label_list_run1[id_1] == label_list_run2[id_2] == None):\n",
    "      label_list_run0[id_0] = new_id\n",
    "      label_list_run1[id_1] = new_id\n",
    "      label_list_run2[id_2] = new_id\n",
    "      print(\"assigned\")\n",
    "      print(new_id)\n",
    "      print(label_list_run0)\n",
    "      print(label_list_run1)\n",
    "      print(label_list_run2)\n",
    "      new_id+=1\n",
    "      print(\".........\",new_id)\n",
    "    elif((label_list_run0[id_0] != None) and (label_list_run1[id_1] != None) and (label_list_run2[id_2] != None)):\n",
    "      print(\"elif\")\n",
    "      continue\n",
    "    else:\n",
    "      print(\"else\")\n",
    "      flag_0 = flag_1 = flag_2 = False\n",
    "      old_0 = old_1 = old_2 = float('inf')\n",
    "      if(label_list_run0[id_0] != None):\n",
    "        old_0 = label_list_run0[id_0]\n",
    "        flag_0 = True\n",
    "      if(label_list_run1[id_1] != None):\n",
    "        old_1 = label_list_run1[id_1]\n",
    "        flag_1 = True\n",
    "      if(label_list_run2[id_2] != None):\n",
    "        old_2 = label_list_run2[id_2]\n",
    "        flag_2 = True\n",
    "      print(\"flag_0\", flag_0)\n",
    "      print(\"flag_1\", flag_1)\n",
    "      print(\"flag_2\", flag_2)\n",
    "      temp_arr = [old_0, old_1, old_2]\n",
    "      print(temp_arr)\n",
    "      new_tag = min(temp_arr)\n",
    "      label_list_run0[id_0] = label_list_run1[id_1] = label_list_run2[id_2] = new_tag\n",
    "      print(\"already\")\n",
    "      print(label_list_run0)\n",
    "      print(label_list_run1)\n",
    "      print(label_list_run2)\n",
    "print(label_list_run0)\n",
    "print(label_list_run1)\n",
    "print(label_list_run2)"
   ]
  },
  {
   "cell_type": "code",
   "execution_count": 54,
   "metadata": {
    "colab": {
     "base_uri": "https://localhost:8080/"
    },
    "executionInfo": {
     "elapsed": 9394,
     "status": "ok",
     "timestamp": 1697080965821,
     "user": {
      "displayName": "Vrinda Anil",
      "userId": "06562731342367344700"
     },
     "user_tz": 360
    },
    "id": "O3ZIOS2Bb_FB",
    "outputId": "e215043b-6e37-42ff-9cc6-20ae32e1a67b"
   },
   "outputs": [],
   "source": [
    "#Finally run3 from top to bottom, to save masks with contour filled with resulting label after combining\n",
    "run=3\n",
    "Final_Image_Stack = {}\n",
    "pattern_map_global={}\n",
    "pattern_track_global={}\n",
    "pattern_img = {}\n",
    "for x in range(len(chromosome)):\n",
    "    print(x)\n",
    "    chromosome_im = Image.open(chromosome[x])\n",
    "    chromosome_im.load()\n",
    "    chromo = np.array(chromosome_im)\n",
    "\n",
    "    chromo = clean_small_obj(chromo,800)\n",
    "\n",
    "    chromo[chromo<40]=0\n",
    "\n",
    "    contours_chromosome, hierarchy_chromosome, mask_chro = find_contours(chromo)\n",
    "\n",
    "    n = ntpath.basename(chromosome[x]).split('.')[0]\n",
    "    n=int(n)\n",
    "    if n in avoid:\n",
    "        Final_Image_Stack[x]=mask_chro\n",
    "        combined_chro_map_global[x] = 'inf'\n",
    "        combined_chro_track_global[x] = 'inf'\n",
    "        continue\n",
    "    chro_map_temp1 = {}\n",
    "    chro_map_temp2 = {}\n",
    "    for i in range(len(contours_chromosome)):\n",
    "      if cv2.arcLength(contours_chromosome[i],True) > 25 and hierarchy_chromosome[0][i][3]==-1:\n",
    "        M = cv2.moments(contours_chromosome[i])\n",
    "        if(M[\"m00\"])==0:\n",
    "            continue\n",
    "        cX,cY = int(M[\"m10\"] / M[\"m00\"]),int(M[\"m01\"] / M[\"m00\"])\n",
    "\n",
    "        points_new=[]\n",
    "        for l in range(len(contours_chromosome[i])):\n",
    "          points_new.append(contours_chromosome[i][l][0])\n",
    "        points_new = np.array(points_new)\n",
    "        cv2.drawContours(mask_chro,[points_new],-1,((label_list_run1[chro_map_run_1[x][(cX,cY)]])+1), thickness = cv2.FILLED)\n",
    "        chro_map_temp1[cX,cY] = [label_list_run1[chro_map_run_1[x][(cX,cY)]]]\n",
    "        chro_map_temp2[cX,cY] = label_list_run1[chro_map_run_1[x][(cX,cY)]]\n",
    "        # cv2.fillPoly(mask_both , pts=[points], color=colors[chro_map_local[(cX,cY)][0]])\n",
    "    Final_Image_Stack[x]=mask_chro\n",
    "    combined_chro_map_global[x] = chro_map_temp2\n",
    "    chro_track_temp = get_chromosome_tracking(chro_map_temp1)\n",
    "    combined_chro_track_global[x] = chro_track_temp\n",
    "\n",
    "print(\"%%%%%%%%%%%%%%%%%%%%%%%combined_chro_map_global\", combined_chro_map_global)\n",
    "print(\"%%%%%%%%%%%%%%%%%%%%%%%combined_chro_track_global\", combined_chro_track_global)\n",
    "combined_uniqueValues = set(label_list_run1.values())\n",
    "# new_limit = len(uniqueValues)\n",
    "\n",
    "\n",
    "print(\"uniqueValues\",combined_uniqueValues)\n",
    "# print(\"new_limit\", new_limit)\n",
    "\n",
    "##### remove all short length chromosomes\n",
    "combined_chromosomes_to_avoid = find_short_chromosomes(combined_chro_track_global)\n",
    "print(\"combined_chromosomes_to_avoid\", combined_chromosomes_to_avoid)\n",
    "\n",
    "\n",
    "# # print(Final_Image_Stack.keys())\n",
    "# sort_dictionary(Final_Image_Stack)\n",
    "# # print(Final_Image_Stack.keys())\n",
    "# save_label_stack(Final_Image_Stack, run, False)\n",
    "save_individual_chromosome(Final_Image_Stack, combined_uniqueValues, combined_chromosomes_to_avoid, run, False)\n",
    "# find_patterns(run, combined_chro_map_global, combined_uniqueValues, combined_chromosomes_to_avoid)\n",
    "# run_track_pattern_track_global[run] = pattern_track_global\n",
    "# print(\"pattern_avoid\", pattern_avoid)\n",
    "# #add score\n",
    "# # length = find_length(pattern_track_global, new_limit, combined_chromosomes_to_avoid)\n",
    "# # score_combined = find_score(combined_chro_track_global, chro_area_run_1, new_limit, combined_chromosomes_to_avoid)\n",
    "# score_v_combined, score_v_by_l_combined, length_combined, volume_combined, legs_length_track_combined, begining_pt_track_combined, ending_pt_track_combined = find_score(combined_chro_track_global,\n",
    "#                                                                                                                                              chro_area_run_1, pattern_track_global,\n",
    "#                                                                                                                                              combined_uniqueValues,\n",
    "#                                                                                                                                              combined_chromosomes_to_avoid)\n",
    "# score_vol[run] = score_v_combined\n",
    "# score_vol_by_len[run] = score_v_by_l_combined\n",
    "# print(\" \")\n",
    "\n",
    "print(\"OOOOOOOOOVVVVVVEEEEEEERRRRRRRR\")\n"
   ]
  },
  {
   "cell_type": "code",
   "execution_count": 55,
   "metadata": {
    "executionInfo": {
     "elapsed": 20100,
     "status": "aborted",
     "timestamp": 1697080498380,
     "user": {
      "displayName": "Vrinda Anil",
      "userId": "06562731342367344700"
     },
     "user_tz": 360
    },
    "id": "89g65qNMX3Pq"
   },
   "outputs": [],
   "source": [
    "# print(\"score_vol\", score_vol)\n",
    "# print(\" \")\n",
    "# print(\" \")\n",
    "# score_vol_by_100000={}\n",
    "# for run_no in score_vol:\n",
    "#     score_vol_by_100000[run_no] = score_vol[run_no]/100000\n",
    "# print(\"score_vol_by_100000\", score_vol_by_100000)\n",
    "# print(\"score_vol_by_len\", score_vol_by_len)\n",
    "# print(\" \")\n"
   ]
  },
  {
   "cell_type": "code",
   "execution_count": 60,
   "metadata": {
    "executionInfo": {
     "elapsed": 20363,
     "status": "aborted",
     "timestamp": 1697080498645,
     "user": {
      "displayName": "Vrinda Anil",
      "userId": "06562731342367344700"
     },
     "user_tz": 360
    },
    "id": "J5VPhRX3BHYD"
   },
   "outputs": [],
   "source": [
    "#stop writting to txt file\n",
    "sys.stdout = sys.__stdout__"
   ]
  },
  {
   "cell_type": "code",
   "execution_count": 61,
   "metadata": {
    "executionInfo": {
     "elapsed": 20362,
     "status": "aborted",
     "timestamp": 1697080498645,
     "user": {
      "displayName": "Vrinda Anil",
      "userId": "06562731342367344700"
     },
     "user_tz": 360
    },
    "id": "gt8cDO5qBIDq"
   },
   "outputs": [],
   "source": [
    "print(\"OVER\")\n",
    "# print(\"score_vol_by_100000\", score_vol_by_100000)"
   ]
  },
  {
   "cell_type": "code",
   "execution_count": null,
   "metadata": {
    "executionInfo": {
     "elapsed": 20362,
     "status": "aborted",
     "timestamp": 1697080498645,
     "user": {
      "displayName": "Vrinda Anil",
      "userId": "06562731342367344700"
     },
     "user_tz": 360
    },
    "id": "OcxbeiH0dGoj"
   },
   "outputs": [],
   "source": [
    "# print(order_id)\n",
    "# print(limit)\n",
    "# print(max_id_c)"
   ]
  }
 ],
 "metadata": {
  "colab": {
   "provenance": []
  },
  "gpuClass": "standard",
  "kernelspec": {
   "display_name": "Python 3 (ipykernel)",
   "language": "python",
   "name": "python3"
  },
  "language_info": {
   "codemirror_mode": {
    "name": "ipython",
    "version": 3
   },
   "file_extension": ".py",
   "mimetype": "text/x-python",
   "name": "python",
   "nbconvert_exporter": "python",
   "pygments_lexer": "ipython3",
   "version": "3.8.10"
  }
 },
 "nbformat": 4,
 "nbformat_minor": 1
}
