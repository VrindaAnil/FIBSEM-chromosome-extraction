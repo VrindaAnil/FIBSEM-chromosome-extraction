{
 "cells": [
  {
   "cell_type": "code",
   "execution_count": 1,
   "metadata": {
    "colab": {
     "base_uri": "https://localhost:8080/"
    },
    "executionInfo": {
     "elapsed": 1928,
     "status": "ok",
     "timestamp": 1697080516259,
     "user": {
      "displayName": "Vrinda Anil",
      "userId": "06562731342367344700"
     },
     "user_tz": 360
    },
    "id": "P7d-BfJ65sIF",
    "outputId": "d7c97a89-967e-481f-ad5c-4a3931e310ea"
   },
   "outputs": [],
   "source": [
    "import cv2\n",
    "import numpy as np\n",
    "import glob\n",
    "from PIL import Image\n",
    "from skimage import morphology\n",
    "import tifffile\n",
    "from tqdm import tqdm\n",
    "#import napari\n",
    "import pandas\n",
    "import ntpath\n",
    "import math\n",
    "import os\n",
    "import sys\n",
    "import matplotlib.pyplot as plt\n",
    "from scipy.spatial import KDTree, cKDTree\n",
    "# from google.colab import drive\n",
    "# drive.mount('/content/gdrive')"
   ]
  },
  {
   "cell_type": "code",
   "execution_count": 2,
   "metadata": {
    "executionInfo": {
     "elapsed": 199,
     "status": "ok",
     "timestamp": 1697080518634,
     "user": {
      "displayName": "Vrinda Anil",
      "userId": "06562731342367344700"
     },
     "user_tz": 360
    },
    "id": "pSPgXJFG-loW"
   },
   "outputs": [],
   "source": [
    "chromosome=[]\n",
    "membrane=[]\n",
    "nucleous=[]\n",
    "pattern=[]"
   ]
  },
  {
   "cell_type": "code",
   "execution_count": 3,
   "metadata": {
    "executionInfo": {
     "elapsed": 3,
     "status": "ok",
     "timestamp": 1697080482120,
     "user": {
      "displayName": "Vrinda Anil",
      "userId": "06562731342367344700"
     },
     "user_tz": 360
    },
    "id": "a6GOH_ZFAjaT"
   },
   "outputs": [],
   "source": [
    "# for file in glob.glob(\"/data/FIBSEM/vrinda/ROI_1/chro_nucl_00_000_650/*.jpg\"):\n",
    "#   chromosome.append(file)\n",
    "\n",
    "# for file in glob.glob(\"/data/FIBSEM/vrinda/ROI_1/mem_nucl_00_000_650/*.jpg\"):\n",
    "#   membrane.append(file)\n",
    "\n",
    "# for file in glob.glob(\"/data/FIBSEM/vrinda/ROI_1/centroid/*.jpg\"):\n",
    "#   nucleous.append(file)\n",
    "\n",
    "# for file in glob.glob(\"/data/FIBSEM/vrinda/ROI_1/patt/*.jpg\"):\n",
    "#   pattern.append(file)\n"
   ]
  },
  {
   "cell_type": "code",
   "execution_count": 4,
   "metadata": {
    "executionInfo": {
     "elapsed": 2,
     "status": "ok",
     "timestamp": 1697080482120,
     "user": {
      "displayName": "Vrinda Anil",
      "userId": "06562731342367344700"
     },
     "user_tz": 360
    },
    "id": "zV25lONJNgif"
   },
   "outputs": [],
   "source": [
    "#read segmented chromosome images\n",
    "for file in glob.glob(\"/data/FIBSEM/nuclie_align_ROI3_1700/nuclie30/chromosome/*.jpg\"):\n",
    "  chromosome.append(file)\n",
    "\n",
    "#read segmented membrane images\n",
    "for file in glob.glob(\"/data/FIBSEM/nuclie_align_ROI3_1700/nuclie30/chromosome/*.jpg\"):\n",
    "  membrane.append(file)\n",
    "\n",
    "#read original nuclei images\n",
    "for file in glob.glob(\"/data/FIBSEM/nuclie_align_ROI3_1700/nuclie30/*.jpg\"):\n",
    "  nucleous.append(file)\n",
    "\n",
    "#read segmented SC images\n",
    "for file in glob.glob(\"/data/FIBSEM/nuclie_align_ROI3_1700/nuclie30/pattern/*.jpg\"):\n",
    "  pattern.append(file)\n"
   ]
  },
  {
   "cell_type": "code",
   "execution_count": 6,
   "metadata": {
    "executionInfo": {
     "elapsed": 133,
     "status": "ok",
     "timestamp": 1697080527012,
     "user": {
      "displayName": "Vrinda Anil",
      "userId": "06562731342367344700"
     },
     "user_tz": 360
    },
    "id": "Lu4gGWlqNgif"
   },
   "outputs": [],
   "source": [
    "#define output folder path\n",
    "output_path = \"/data/FIBSEM/vrinda/ROI_3/nuc_30/test_code/res/s23/dec15_st_t0_b0_mid_580/\"\n",
    "#path to txt file with all debug prints\n",
    "file_path = output_path + \"dec15_roi3_nuc30_st_t0b0mid_580.txt\"\n",
    "if not os.path.exists(output_path):\n",
    "        from pathlib import Path\n",
    "        Path(output_path).mkdir(parents=True, exist_ok=True)\n",
    "        \n",
    "#set the number of slices to skip from begining in run1(starting from top) and run2(start from bottom)\n",
    "skip_threshold_top = 0\n",
    "skip_threshold_bottom = 0\n"
   ]
  },
  {
   "cell_type": "code",
   "execution_count": 7,
   "metadata": {
    "executionInfo": {
     "elapsed": 106,
     "status": "ok",
     "timestamp": 1697080528018,
     "user": {
      "displayName": "Vrinda Anil",
      "userId": "06562731342367344700"
     },
     "user_tz": 360
    },
    "id": "4YSbQKGHYeEa"
   },
   "outputs": [],
   "source": [
    "#sort list in ascending order of file names\n",
    "def sort_list(lst):\n",
    "  lst = sorted(lst, key = lambda fl : int(ntpath.basename(fl).split('.')[0]))\n",
    "  return lst"
   ]
  },
  {
   "cell_type": "code",
   "execution_count": 8,
   "metadata": {
    "colab": {
     "base_uri": "https://localhost:8080/"
    },
    "executionInfo": {
     "elapsed": 290,
     "status": "ok",
     "timestamp": 1697080529155,
     "user": {
      "displayName": "Vrinda Anil",
      "userId": "06562731342367344700"
     },
     "user_tz": 360
    },
    "id": "mWQCOc1krrsC",
    "outputId": "04428f7a-78b9-4dcb-d5b2-da18966bda64"
   },
   "outputs": [
    {
     "name": "stdout",
     "output_type": "stream",
     "text": [
      "893\n",
      "893\n",
      "893\n",
      "893\n",
      "['/data/FIBSEM/nuclie_align_ROI3_1700/nuclie30/chromosome/000.jpg', '/data/FIBSEM/nuclie_align_ROI3_1700/nuclie30/chromosome/001.jpg', '/data/FIBSEM/nuclie_align_ROI3_1700/nuclie30/chromosome/002.jpg', '/data/FIBSEM/nuclie_align_ROI3_1700/nuclie30/chromosome/003.jpg', '/data/FIBSEM/nuclie_align_ROI3_1700/nuclie30/chromosome/004.jpg', '/data/FIBSEM/nuclie_align_ROI3_1700/nuclie30/chromosome/005.jpg', '/data/FIBSEM/nuclie_align_ROI3_1700/nuclie30/chromosome/006.jpg', '/data/FIBSEM/nuclie_align_ROI3_1700/nuclie30/chromosome/007.jpg', '/data/FIBSEM/nuclie_align_ROI3_1700/nuclie30/chromosome/008.jpg', '/data/FIBSEM/nuclie_align_ROI3_1700/nuclie30/chromosome/009.jpg', '/data/FIBSEM/nuclie_align_ROI3_1700/nuclie30/chromosome/010.jpg', '/data/FIBSEM/nuclie_align_ROI3_1700/nuclie30/chromosome/011.jpg', '/data/FIBSEM/nuclie_align_ROI3_1700/nuclie30/chromosome/012.jpg', '/data/FIBSEM/nuclie_align_ROI3_1700/nuclie30/chromosome/013.jpg', '/data/FIBSEM/nuclie_align_ROI3_1700/nuclie30/chromosome/014.jpg', '/data/FIBSEM/nuclie_align_ROI3_1700/nuclie30/chromosome/015.jpg', '/data/FIBSEM/nuclie_align_ROI3_1700/nuclie30/chromosome/016.jpg', '/data/FIBSEM/nuclie_align_ROI3_1700/nuclie30/chromosome/017.jpg', '/data/FIBSEM/nuclie_align_ROI3_1700/nuclie30/chromosome/018.jpg', '/data/FIBSEM/nuclie_align_ROI3_1700/nuclie30/chromosome/019.jpg', '/data/FIBSEM/nuclie_align_ROI3_1700/nuclie30/chromosome/020.jpg', '/data/FIBSEM/nuclie_align_ROI3_1700/nuclie30/chromosome/021.jpg', '/data/FIBSEM/nuclie_align_ROI3_1700/nuclie30/chromosome/022.jpg', '/data/FIBSEM/nuclie_align_ROI3_1700/nuclie30/chromosome/023.jpg', '/data/FIBSEM/nuclie_align_ROI3_1700/nuclie30/chromosome/024.jpg', '/data/FIBSEM/nuclie_align_ROI3_1700/nuclie30/chromosome/025.jpg', '/data/FIBSEM/nuclie_align_ROI3_1700/nuclie30/chromosome/026.jpg', '/data/FIBSEM/nuclie_align_ROI3_1700/nuclie30/chromosome/027.jpg', '/data/FIBSEM/nuclie_align_ROI3_1700/nuclie30/chromosome/028.jpg', '/data/FIBSEM/nuclie_align_ROI3_1700/nuclie30/chromosome/029.jpg', '/data/FIBSEM/nuclie_align_ROI3_1700/nuclie30/chromosome/030.jpg', '/data/FIBSEM/nuclie_align_ROI3_1700/nuclie30/chromosome/031.jpg', '/data/FIBSEM/nuclie_align_ROI3_1700/nuclie30/chromosome/032.jpg', '/data/FIBSEM/nuclie_align_ROI3_1700/nuclie30/chromosome/033.jpg', '/data/FIBSEM/nuclie_align_ROI3_1700/nuclie30/chromosome/034.jpg', '/data/FIBSEM/nuclie_align_ROI3_1700/nuclie30/chromosome/035.jpg', '/data/FIBSEM/nuclie_align_ROI3_1700/nuclie30/chromosome/036.jpg', '/data/FIBSEM/nuclie_align_ROI3_1700/nuclie30/chromosome/037.jpg', '/data/FIBSEM/nuclie_align_ROI3_1700/nuclie30/chromosome/038.jpg', '/data/FIBSEM/nuclie_align_ROI3_1700/nuclie30/chromosome/039.jpg', '/data/FIBSEM/nuclie_align_ROI3_1700/nuclie30/chromosome/040.jpg', '/data/FIBSEM/nuclie_align_ROI3_1700/nuclie30/chromosome/041.jpg', '/data/FIBSEM/nuclie_align_ROI3_1700/nuclie30/chromosome/042.jpg', '/data/FIBSEM/nuclie_align_ROI3_1700/nuclie30/chromosome/043.jpg', '/data/FIBSEM/nuclie_align_ROI3_1700/nuclie30/chromosome/044.jpg', '/data/FIBSEM/nuclie_align_ROI3_1700/nuclie30/chromosome/045.jpg', '/data/FIBSEM/nuclie_align_ROI3_1700/nuclie30/chromosome/046.jpg', '/data/FIBSEM/nuclie_align_ROI3_1700/nuclie30/chromosome/047.jpg', '/data/FIBSEM/nuclie_align_ROI3_1700/nuclie30/chromosome/048.jpg', '/data/FIBSEM/nuclie_align_ROI3_1700/nuclie30/chromosome/049.jpg', '/data/FIBSEM/nuclie_align_ROI3_1700/nuclie30/chromosome/050.jpg', '/data/FIBSEM/nuclie_align_ROI3_1700/nuclie30/chromosome/051.jpg', '/data/FIBSEM/nuclie_align_ROI3_1700/nuclie30/chromosome/052.jpg', '/data/FIBSEM/nuclie_align_ROI3_1700/nuclie30/chromosome/053.jpg', '/data/FIBSEM/nuclie_align_ROI3_1700/nuclie30/chromosome/054.jpg', '/data/FIBSEM/nuclie_align_ROI3_1700/nuclie30/chromosome/055.jpg', '/data/FIBSEM/nuclie_align_ROI3_1700/nuclie30/chromosome/056.jpg', '/data/FIBSEM/nuclie_align_ROI3_1700/nuclie30/chromosome/057.jpg', '/data/FIBSEM/nuclie_align_ROI3_1700/nuclie30/chromosome/058.jpg', '/data/FIBSEM/nuclie_align_ROI3_1700/nuclie30/chromosome/059.jpg', '/data/FIBSEM/nuclie_align_ROI3_1700/nuclie30/chromosome/060.jpg', '/data/FIBSEM/nuclie_align_ROI3_1700/nuclie30/chromosome/061.jpg', '/data/FIBSEM/nuclie_align_ROI3_1700/nuclie30/chromosome/062.jpg', '/data/FIBSEM/nuclie_align_ROI3_1700/nuclie30/chromosome/063.jpg', '/data/FIBSEM/nuclie_align_ROI3_1700/nuclie30/chromosome/064.jpg', '/data/FIBSEM/nuclie_align_ROI3_1700/nuclie30/chromosome/065.jpg', '/data/FIBSEM/nuclie_align_ROI3_1700/nuclie30/chromosome/066.jpg', '/data/FIBSEM/nuclie_align_ROI3_1700/nuclie30/chromosome/067.jpg', '/data/FIBSEM/nuclie_align_ROI3_1700/nuclie30/chromosome/068.jpg', '/data/FIBSEM/nuclie_align_ROI3_1700/nuclie30/chromosome/069.jpg', '/data/FIBSEM/nuclie_align_ROI3_1700/nuclie30/chromosome/070.jpg', '/data/FIBSEM/nuclie_align_ROI3_1700/nuclie30/chromosome/071.jpg', '/data/FIBSEM/nuclie_align_ROI3_1700/nuclie30/chromosome/072.jpg', '/data/FIBSEM/nuclie_align_ROI3_1700/nuclie30/chromosome/073.jpg', '/data/FIBSEM/nuclie_align_ROI3_1700/nuclie30/chromosome/074.jpg', '/data/FIBSEM/nuclie_align_ROI3_1700/nuclie30/chromosome/075.jpg', '/data/FIBSEM/nuclie_align_ROI3_1700/nuclie30/chromosome/076.jpg', '/data/FIBSEM/nuclie_align_ROI3_1700/nuclie30/chromosome/077.jpg', '/data/FIBSEM/nuclie_align_ROI3_1700/nuclie30/chromosome/078.jpg', '/data/FIBSEM/nuclie_align_ROI3_1700/nuclie30/chromosome/079.jpg', '/data/FIBSEM/nuclie_align_ROI3_1700/nuclie30/chromosome/080.jpg', '/data/FIBSEM/nuclie_align_ROI3_1700/nuclie30/chromosome/081.jpg', '/data/FIBSEM/nuclie_align_ROI3_1700/nuclie30/chromosome/082.jpg', '/data/FIBSEM/nuclie_align_ROI3_1700/nuclie30/chromosome/083.jpg', '/data/FIBSEM/nuclie_align_ROI3_1700/nuclie30/chromosome/084.jpg', '/data/FIBSEM/nuclie_align_ROI3_1700/nuclie30/chromosome/085.jpg', '/data/FIBSEM/nuclie_align_ROI3_1700/nuclie30/chromosome/086.jpg', '/data/FIBSEM/nuclie_align_ROI3_1700/nuclie30/chromosome/087.jpg', '/data/FIBSEM/nuclie_align_ROI3_1700/nuclie30/chromosome/088.jpg', '/data/FIBSEM/nuclie_align_ROI3_1700/nuclie30/chromosome/089.jpg', '/data/FIBSEM/nuclie_align_ROI3_1700/nuclie30/chromosome/090.jpg', '/data/FIBSEM/nuclie_align_ROI3_1700/nuclie30/chromosome/091.jpg', '/data/FIBSEM/nuclie_align_ROI3_1700/nuclie30/chromosome/092.jpg', '/data/FIBSEM/nuclie_align_ROI3_1700/nuclie30/chromosome/093.jpg', '/data/FIBSEM/nuclie_align_ROI3_1700/nuclie30/chromosome/094.jpg', '/data/FIBSEM/nuclie_align_ROI3_1700/nuclie30/chromosome/095.jpg', '/data/FIBSEM/nuclie_align_ROI3_1700/nuclie30/chromosome/096.jpg', '/data/FIBSEM/nuclie_align_ROI3_1700/nuclie30/chromosome/097.jpg', '/data/FIBSEM/nuclie_align_ROI3_1700/nuclie30/chromosome/098.jpg', '/data/FIBSEM/nuclie_align_ROI3_1700/nuclie30/chromosome/099.jpg', '/data/FIBSEM/nuclie_align_ROI3_1700/nuclie30/chromosome/100.jpg', '/data/FIBSEM/nuclie_align_ROI3_1700/nuclie30/chromosome/101.jpg', '/data/FIBSEM/nuclie_align_ROI3_1700/nuclie30/chromosome/102.jpg', '/data/FIBSEM/nuclie_align_ROI3_1700/nuclie30/chromosome/103.jpg', '/data/FIBSEM/nuclie_align_ROI3_1700/nuclie30/chromosome/104.jpg', '/data/FIBSEM/nuclie_align_ROI3_1700/nuclie30/chromosome/105.jpg', '/data/FIBSEM/nuclie_align_ROI3_1700/nuclie30/chromosome/106.jpg', '/data/FIBSEM/nuclie_align_ROI3_1700/nuclie30/chromosome/107.jpg', '/data/FIBSEM/nuclie_align_ROI3_1700/nuclie30/chromosome/108.jpg', '/data/FIBSEM/nuclie_align_ROI3_1700/nuclie30/chromosome/109.jpg', '/data/FIBSEM/nuclie_align_ROI3_1700/nuclie30/chromosome/110.jpg', '/data/FIBSEM/nuclie_align_ROI3_1700/nuclie30/chromosome/111.jpg', '/data/FIBSEM/nuclie_align_ROI3_1700/nuclie30/chromosome/112.jpg', '/data/FIBSEM/nuclie_align_ROI3_1700/nuclie30/chromosome/113.jpg', '/data/FIBSEM/nuclie_align_ROI3_1700/nuclie30/chromosome/114.jpg', '/data/FIBSEM/nuclie_align_ROI3_1700/nuclie30/chromosome/115.jpg', '/data/FIBSEM/nuclie_align_ROI3_1700/nuclie30/chromosome/116.jpg', '/data/FIBSEM/nuclie_align_ROI3_1700/nuclie30/chromosome/117.jpg', '/data/FIBSEM/nuclie_align_ROI3_1700/nuclie30/chromosome/118.jpg', '/data/FIBSEM/nuclie_align_ROI3_1700/nuclie30/chromosome/119.jpg', '/data/FIBSEM/nuclie_align_ROI3_1700/nuclie30/chromosome/120.jpg', '/data/FIBSEM/nuclie_align_ROI3_1700/nuclie30/chromosome/121.jpg', '/data/FIBSEM/nuclie_align_ROI3_1700/nuclie30/chromosome/122.jpg', '/data/FIBSEM/nuclie_align_ROI3_1700/nuclie30/chromosome/123.jpg', '/data/FIBSEM/nuclie_align_ROI3_1700/nuclie30/chromosome/124.jpg', '/data/FIBSEM/nuclie_align_ROI3_1700/nuclie30/chromosome/125.jpg', '/data/FIBSEM/nuclie_align_ROI3_1700/nuclie30/chromosome/126.jpg', '/data/FIBSEM/nuclie_align_ROI3_1700/nuclie30/chromosome/127.jpg', '/data/FIBSEM/nuclie_align_ROI3_1700/nuclie30/chromosome/128.jpg', '/data/FIBSEM/nuclie_align_ROI3_1700/nuclie30/chromosome/129.jpg', '/data/FIBSEM/nuclie_align_ROI3_1700/nuclie30/chromosome/130.jpg', '/data/FIBSEM/nuclie_align_ROI3_1700/nuclie30/chromosome/131.jpg', '/data/FIBSEM/nuclie_align_ROI3_1700/nuclie30/chromosome/132.jpg', '/data/FIBSEM/nuclie_align_ROI3_1700/nuclie30/chromosome/133.jpg', '/data/FIBSEM/nuclie_align_ROI3_1700/nuclie30/chromosome/134.jpg', '/data/FIBSEM/nuclie_align_ROI3_1700/nuclie30/chromosome/135.jpg', '/data/FIBSEM/nuclie_align_ROI3_1700/nuclie30/chromosome/136.jpg', '/data/FIBSEM/nuclie_align_ROI3_1700/nuclie30/chromosome/137.jpg', '/data/FIBSEM/nuclie_align_ROI3_1700/nuclie30/chromosome/138.jpg', '/data/FIBSEM/nuclie_align_ROI3_1700/nuclie30/chromosome/139.jpg', '/data/FIBSEM/nuclie_align_ROI3_1700/nuclie30/chromosome/140.jpg', '/data/FIBSEM/nuclie_align_ROI3_1700/nuclie30/chromosome/141.jpg', '/data/FIBSEM/nuclie_align_ROI3_1700/nuclie30/chromosome/142.jpg', '/data/FIBSEM/nuclie_align_ROI3_1700/nuclie30/chromosome/143.jpg', '/data/FIBSEM/nuclie_align_ROI3_1700/nuclie30/chromosome/144.jpg', '/data/FIBSEM/nuclie_align_ROI3_1700/nuclie30/chromosome/145.jpg', '/data/FIBSEM/nuclie_align_ROI3_1700/nuclie30/chromosome/146.jpg', '/data/FIBSEM/nuclie_align_ROI3_1700/nuclie30/chromosome/147.jpg', '/data/FIBSEM/nuclie_align_ROI3_1700/nuclie30/chromosome/148.jpg', '/data/FIBSEM/nuclie_align_ROI3_1700/nuclie30/chromosome/149.jpg', '/data/FIBSEM/nuclie_align_ROI3_1700/nuclie30/chromosome/150.jpg', '/data/FIBSEM/nuclie_align_ROI3_1700/nuclie30/chromosome/151.jpg', '/data/FIBSEM/nuclie_align_ROI3_1700/nuclie30/chromosome/152.jpg', '/data/FIBSEM/nuclie_align_ROI3_1700/nuclie30/chromosome/153.jpg', '/data/FIBSEM/nuclie_align_ROI3_1700/nuclie30/chromosome/154.jpg', '/data/FIBSEM/nuclie_align_ROI3_1700/nuclie30/chromosome/155.jpg', '/data/FIBSEM/nuclie_align_ROI3_1700/nuclie30/chromosome/156.jpg', '/data/FIBSEM/nuclie_align_ROI3_1700/nuclie30/chromosome/157.jpg', '/data/FIBSEM/nuclie_align_ROI3_1700/nuclie30/chromosome/158.jpg', '/data/FIBSEM/nuclie_align_ROI3_1700/nuclie30/chromosome/159.jpg', '/data/FIBSEM/nuclie_align_ROI3_1700/nuclie30/chromosome/160.jpg', '/data/FIBSEM/nuclie_align_ROI3_1700/nuclie30/chromosome/161.jpg', '/data/FIBSEM/nuclie_align_ROI3_1700/nuclie30/chromosome/162.jpg', '/data/FIBSEM/nuclie_align_ROI3_1700/nuclie30/chromosome/163.jpg', '/data/FIBSEM/nuclie_align_ROI3_1700/nuclie30/chromosome/164.jpg', '/data/FIBSEM/nuclie_align_ROI3_1700/nuclie30/chromosome/165.jpg', '/data/FIBSEM/nuclie_align_ROI3_1700/nuclie30/chromosome/166.jpg', '/data/FIBSEM/nuclie_align_ROI3_1700/nuclie30/chromosome/167.jpg', '/data/FIBSEM/nuclie_align_ROI3_1700/nuclie30/chromosome/168.jpg', '/data/FIBSEM/nuclie_align_ROI3_1700/nuclie30/chromosome/169.jpg', '/data/FIBSEM/nuclie_align_ROI3_1700/nuclie30/chromosome/170.jpg', '/data/FIBSEM/nuclie_align_ROI3_1700/nuclie30/chromosome/171.jpg', '/data/FIBSEM/nuclie_align_ROI3_1700/nuclie30/chromosome/172.jpg', '/data/FIBSEM/nuclie_align_ROI3_1700/nuclie30/chromosome/173.jpg', '/data/FIBSEM/nuclie_align_ROI3_1700/nuclie30/chromosome/174.jpg', '/data/FIBSEM/nuclie_align_ROI3_1700/nuclie30/chromosome/175.jpg', '/data/FIBSEM/nuclie_align_ROI3_1700/nuclie30/chromosome/176.jpg', '/data/FIBSEM/nuclie_align_ROI3_1700/nuclie30/chromosome/177.jpg', '/data/FIBSEM/nuclie_align_ROI3_1700/nuclie30/chromosome/178.jpg', '/data/FIBSEM/nuclie_align_ROI3_1700/nuclie30/chromosome/179.jpg', '/data/FIBSEM/nuclie_align_ROI3_1700/nuclie30/chromosome/180.jpg', '/data/FIBSEM/nuclie_align_ROI3_1700/nuclie30/chromosome/181.jpg', '/data/FIBSEM/nuclie_align_ROI3_1700/nuclie30/chromosome/182.jpg', '/data/FIBSEM/nuclie_align_ROI3_1700/nuclie30/chromosome/183.jpg', '/data/FIBSEM/nuclie_align_ROI3_1700/nuclie30/chromosome/184.jpg', '/data/FIBSEM/nuclie_align_ROI3_1700/nuclie30/chromosome/185.jpg', '/data/FIBSEM/nuclie_align_ROI3_1700/nuclie30/chromosome/186.jpg', '/data/FIBSEM/nuclie_align_ROI3_1700/nuclie30/chromosome/187.jpg', '/data/FIBSEM/nuclie_align_ROI3_1700/nuclie30/chromosome/188.jpg', '/data/FIBSEM/nuclie_align_ROI3_1700/nuclie30/chromosome/189.jpg', '/data/FIBSEM/nuclie_align_ROI3_1700/nuclie30/chromosome/190.jpg', '/data/FIBSEM/nuclie_align_ROI3_1700/nuclie30/chromosome/191.jpg', '/data/FIBSEM/nuclie_align_ROI3_1700/nuclie30/chromosome/192.jpg', '/data/FIBSEM/nuclie_align_ROI3_1700/nuclie30/chromosome/193.jpg', '/data/FIBSEM/nuclie_align_ROI3_1700/nuclie30/chromosome/194.jpg', '/data/FIBSEM/nuclie_align_ROI3_1700/nuclie30/chromosome/195.jpg', '/data/FIBSEM/nuclie_align_ROI3_1700/nuclie30/chromosome/196.jpg', '/data/FIBSEM/nuclie_align_ROI3_1700/nuclie30/chromosome/197.jpg', '/data/FIBSEM/nuclie_align_ROI3_1700/nuclie30/chromosome/198.jpg', '/data/FIBSEM/nuclie_align_ROI3_1700/nuclie30/chromosome/199.jpg', '/data/FIBSEM/nuclie_align_ROI3_1700/nuclie30/chromosome/200.jpg', '/data/FIBSEM/nuclie_align_ROI3_1700/nuclie30/chromosome/201.jpg', '/data/FIBSEM/nuclie_align_ROI3_1700/nuclie30/chromosome/202.jpg', '/data/FIBSEM/nuclie_align_ROI3_1700/nuclie30/chromosome/203.jpg', '/data/FIBSEM/nuclie_align_ROI3_1700/nuclie30/chromosome/204.jpg', '/data/FIBSEM/nuclie_align_ROI3_1700/nuclie30/chromosome/205.jpg', '/data/FIBSEM/nuclie_align_ROI3_1700/nuclie30/chromosome/206.jpg', '/data/FIBSEM/nuclie_align_ROI3_1700/nuclie30/chromosome/207.jpg', '/data/FIBSEM/nuclie_align_ROI3_1700/nuclie30/chromosome/208.jpg', '/data/FIBSEM/nuclie_align_ROI3_1700/nuclie30/chromosome/209.jpg', '/data/FIBSEM/nuclie_align_ROI3_1700/nuclie30/chromosome/210.jpg', '/data/FIBSEM/nuclie_align_ROI3_1700/nuclie30/chromosome/211.jpg', '/data/FIBSEM/nuclie_align_ROI3_1700/nuclie30/chromosome/212.jpg', '/data/FIBSEM/nuclie_align_ROI3_1700/nuclie30/chromosome/213.jpg', '/data/FIBSEM/nuclie_align_ROI3_1700/nuclie30/chromosome/214.jpg', '/data/FIBSEM/nuclie_align_ROI3_1700/nuclie30/chromosome/215.jpg', '/data/FIBSEM/nuclie_align_ROI3_1700/nuclie30/chromosome/216.jpg', '/data/FIBSEM/nuclie_align_ROI3_1700/nuclie30/chromosome/217.jpg', '/data/FIBSEM/nuclie_align_ROI3_1700/nuclie30/chromosome/218.jpg', '/data/FIBSEM/nuclie_align_ROI3_1700/nuclie30/chromosome/219.jpg', '/data/FIBSEM/nuclie_align_ROI3_1700/nuclie30/chromosome/220.jpg', '/data/FIBSEM/nuclie_align_ROI3_1700/nuclie30/chromosome/221.jpg', '/data/FIBSEM/nuclie_align_ROI3_1700/nuclie30/chromosome/222.jpg', '/data/FIBSEM/nuclie_align_ROI3_1700/nuclie30/chromosome/223.jpg', '/data/FIBSEM/nuclie_align_ROI3_1700/nuclie30/chromosome/224.jpg', '/data/FIBSEM/nuclie_align_ROI3_1700/nuclie30/chromosome/225.jpg', '/data/FIBSEM/nuclie_align_ROI3_1700/nuclie30/chromosome/226.jpg', '/data/FIBSEM/nuclie_align_ROI3_1700/nuclie30/chromosome/227.jpg', '/data/FIBSEM/nuclie_align_ROI3_1700/nuclie30/chromosome/228.jpg', '/data/FIBSEM/nuclie_align_ROI3_1700/nuclie30/chromosome/229.jpg', '/data/FIBSEM/nuclie_align_ROI3_1700/nuclie30/chromosome/230.jpg', '/data/FIBSEM/nuclie_align_ROI3_1700/nuclie30/chromosome/231.jpg', '/data/FIBSEM/nuclie_align_ROI3_1700/nuclie30/chromosome/232.jpg', '/data/FIBSEM/nuclie_align_ROI3_1700/nuclie30/chromosome/233.jpg', '/data/FIBSEM/nuclie_align_ROI3_1700/nuclie30/chromosome/234.jpg', '/data/FIBSEM/nuclie_align_ROI3_1700/nuclie30/chromosome/235.jpg', '/data/FIBSEM/nuclie_align_ROI3_1700/nuclie30/chromosome/236.jpg', '/data/FIBSEM/nuclie_align_ROI3_1700/nuclie30/chromosome/237.jpg', '/data/FIBSEM/nuclie_align_ROI3_1700/nuclie30/chromosome/238.jpg', '/data/FIBSEM/nuclie_align_ROI3_1700/nuclie30/chromosome/239.jpg', '/data/FIBSEM/nuclie_align_ROI3_1700/nuclie30/chromosome/240.jpg', '/data/FIBSEM/nuclie_align_ROI3_1700/nuclie30/chromosome/241.jpg', '/data/FIBSEM/nuclie_align_ROI3_1700/nuclie30/chromosome/242.jpg', '/data/FIBSEM/nuclie_align_ROI3_1700/nuclie30/chromosome/243.jpg', '/data/FIBSEM/nuclie_align_ROI3_1700/nuclie30/chromosome/244.jpg', '/data/FIBSEM/nuclie_align_ROI3_1700/nuclie30/chromosome/245.jpg', '/data/FIBSEM/nuclie_align_ROI3_1700/nuclie30/chromosome/246.jpg', '/data/FIBSEM/nuclie_align_ROI3_1700/nuclie30/chromosome/247.jpg', '/data/FIBSEM/nuclie_align_ROI3_1700/nuclie30/chromosome/248.jpg', '/data/FIBSEM/nuclie_align_ROI3_1700/nuclie30/chromosome/249.jpg', '/data/FIBSEM/nuclie_align_ROI3_1700/nuclie30/chromosome/250.jpg', '/data/FIBSEM/nuclie_align_ROI3_1700/nuclie30/chromosome/251.jpg', '/data/FIBSEM/nuclie_align_ROI3_1700/nuclie30/chromosome/252.jpg', '/data/FIBSEM/nuclie_align_ROI3_1700/nuclie30/chromosome/253.jpg', '/data/FIBSEM/nuclie_align_ROI3_1700/nuclie30/chromosome/254.jpg', '/data/FIBSEM/nuclie_align_ROI3_1700/nuclie30/chromosome/255.jpg', '/data/FIBSEM/nuclie_align_ROI3_1700/nuclie30/chromosome/256.jpg', '/data/FIBSEM/nuclie_align_ROI3_1700/nuclie30/chromosome/257.jpg', '/data/FIBSEM/nuclie_align_ROI3_1700/nuclie30/chromosome/258.jpg', '/data/FIBSEM/nuclie_align_ROI3_1700/nuclie30/chromosome/259.jpg', '/data/FIBSEM/nuclie_align_ROI3_1700/nuclie30/chromosome/260.jpg', '/data/FIBSEM/nuclie_align_ROI3_1700/nuclie30/chromosome/261.jpg', '/data/FIBSEM/nuclie_align_ROI3_1700/nuclie30/chromosome/262.jpg', '/data/FIBSEM/nuclie_align_ROI3_1700/nuclie30/chromosome/263.jpg', '/data/FIBSEM/nuclie_align_ROI3_1700/nuclie30/chromosome/264.jpg', '/data/FIBSEM/nuclie_align_ROI3_1700/nuclie30/chromosome/265.jpg', '/data/FIBSEM/nuclie_align_ROI3_1700/nuclie30/chromosome/266.jpg', '/data/FIBSEM/nuclie_align_ROI3_1700/nuclie30/chromosome/267.jpg', '/data/FIBSEM/nuclie_align_ROI3_1700/nuclie30/chromosome/268.jpg', '/data/FIBSEM/nuclie_align_ROI3_1700/nuclie30/chromosome/269.jpg', '/data/FIBSEM/nuclie_align_ROI3_1700/nuclie30/chromosome/270.jpg', '/data/FIBSEM/nuclie_align_ROI3_1700/nuclie30/chromosome/271.jpg', '/data/FIBSEM/nuclie_align_ROI3_1700/nuclie30/chromosome/272.jpg', '/data/FIBSEM/nuclie_align_ROI3_1700/nuclie30/chromosome/273.jpg', '/data/FIBSEM/nuclie_align_ROI3_1700/nuclie30/chromosome/274.jpg', '/data/FIBSEM/nuclie_align_ROI3_1700/nuclie30/chromosome/275.jpg', '/data/FIBSEM/nuclie_align_ROI3_1700/nuclie30/chromosome/276.jpg', '/data/FIBSEM/nuclie_align_ROI3_1700/nuclie30/chromosome/277.jpg', '/data/FIBSEM/nuclie_align_ROI3_1700/nuclie30/chromosome/278.jpg', '/data/FIBSEM/nuclie_align_ROI3_1700/nuclie30/chromosome/279.jpg', '/data/FIBSEM/nuclie_align_ROI3_1700/nuclie30/chromosome/280.jpg', '/data/FIBSEM/nuclie_align_ROI3_1700/nuclie30/chromosome/281.jpg', '/data/FIBSEM/nuclie_align_ROI3_1700/nuclie30/chromosome/282.jpg', '/data/FIBSEM/nuclie_align_ROI3_1700/nuclie30/chromosome/283.jpg', '/data/FIBSEM/nuclie_align_ROI3_1700/nuclie30/chromosome/284.jpg', '/data/FIBSEM/nuclie_align_ROI3_1700/nuclie30/chromosome/285.jpg', '/data/FIBSEM/nuclie_align_ROI3_1700/nuclie30/chromosome/286.jpg', '/data/FIBSEM/nuclie_align_ROI3_1700/nuclie30/chromosome/287.jpg', '/data/FIBSEM/nuclie_align_ROI3_1700/nuclie30/chromosome/288.jpg', '/data/FIBSEM/nuclie_align_ROI3_1700/nuclie30/chromosome/289.jpg', '/data/FIBSEM/nuclie_align_ROI3_1700/nuclie30/chromosome/290.jpg', '/data/FIBSEM/nuclie_align_ROI3_1700/nuclie30/chromosome/291.jpg', '/data/FIBSEM/nuclie_align_ROI3_1700/nuclie30/chromosome/292.jpg', '/data/FIBSEM/nuclie_align_ROI3_1700/nuclie30/chromosome/293.jpg', '/data/FIBSEM/nuclie_align_ROI3_1700/nuclie30/chromosome/294.jpg', '/data/FIBSEM/nuclie_align_ROI3_1700/nuclie30/chromosome/295.jpg', '/data/FIBSEM/nuclie_align_ROI3_1700/nuclie30/chromosome/296.jpg', '/data/FIBSEM/nuclie_align_ROI3_1700/nuclie30/chromosome/297.jpg', '/data/FIBSEM/nuclie_align_ROI3_1700/nuclie30/chromosome/298.jpg', '/data/FIBSEM/nuclie_align_ROI3_1700/nuclie30/chromosome/299.jpg', '/data/FIBSEM/nuclie_align_ROI3_1700/nuclie30/chromosome/300.jpg', '/data/FIBSEM/nuclie_align_ROI3_1700/nuclie30/chromosome/301.jpg', '/data/FIBSEM/nuclie_align_ROI3_1700/nuclie30/chromosome/302.jpg', '/data/FIBSEM/nuclie_align_ROI3_1700/nuclie30/chromosome/303.jpg', '/data/FIBSEM/nuclie_align_ROI3_1700/nuclie30/chromosome/304.jpg', '/data/FIBSEM/nuclie_align_ROI3_1700/nuclie30/chromosome/305.jpg', '/data/FIBSEM/nuclie_align_ROI3_1700/nuclie30/chromosome/306.jpg', '/data/FIBSEM/nuclie_align_ROI3_1700/nuclie30/chromosome/307.jpg', '/data/FIBSEM/nuclie_align_ROI3_1700/nuclie30/chromosome/308.jpg', '/data/FIBSEM/nuclie_align_ROI3_1700/nuclie30/chromosome/309.jpg', '/data/FIBSEM/nuclie_align_ROI3_1700/nuclie30/chromosome/310.jpg', '/data/FIBSEM/nuclie_align_ROI3_1700/nuclie30/chromosome/311.jpg', '/data/FIBSEM/nuclie_align_ROI3_1700/nuclie30/chromosome/312.jpg', '/data/FIBSEM/nuclie_align_ROI3_1700/nuclie30/chromosome/313.jpg', '/data/FIBSEM/nuclie_align_ROI3_1700/nuclie30/chromosome/314.jpg', '/data/FIBSEM/nuclie_align_ROI3_1700/nuclie30/chromosome/315.jpg', '/data/FIBSEM/nuclie_align_ROI3_1700/nuclie30/chromosome/316.jpg', '/data/FIBSEM/nuclie_align_ROI3_1700/nuclie30/chromosome/317.jpg', '/data/FIBSEM/nuclie_align_ROI3_1700/nuclie30/chromosome/318.jpg', '/data/FIBSEM/nuclie_align_ROI3_1700/nuclie30/chromosome/319.jpg', '/data/FIBSEM/nuclie_align_ROI3_1700/nuclie30/chromosome/320.jpg', '/data/FIBSEM/nuclie_align_ROI3_1700/nuclie30/chromosome/321.jpg', '/data/FIBSEM/nuclie_align_ROI3_1700/nuclie30/chromosome/322.jpg', '/data/FIBSEM/nuclie_align_ROI3_1700/nuclie30/chromosome/323.jpg', '/data/FIBSEM/nuclie_align_ROI3_1700/nuclie30/chromosome/324.jpg', '/data/FIBSEM/nuclie_align_ROI3_1700/nuclie30/chromosome/325.jpg', '/data/FIBSEM/nuclie_align_ROI3_1700/nuclie30/chromosome/326.jpg', '/data/FIBSEM/nuclie_align_ROI3_1700/nuclie30/chromosome/327.jpg', '/data/FIBSEM/nuclie_align_ROI3_1700/nuclie30/chromosome/328.jpg', '/data/FIBSEM/nuclie_align_ROI3_1700/nuclie30/chromosome/329.jpg', '/data/FIBSEM/nuclie_align_ROI3_1700/nuclie30/chromosome/330.jpg', '/data/FIBSEM/nuclie_align_ROI3_1700/nuclie30/chromosome/331.jpg', '/data/FIBSEM/nuclie_align_ROI3_1700/nuclie30/chromosome/332.jpg', '/data/FIBSEM/nuclie_align_ROI3_1700/nuclie30/chromosome/333.jpg', '/data/FIBSEM/nuclie_align_ROI3_1700/nuclie30/chromosome/334.jpg', '/data/FIBSEM/nuclie_align_ROI3_1700/nuclie30/chromosome/335.jpg', '/data/FIBSEM/nuclie_align_ROI3_1700/nuclie30/chromosome/336.jpg', '/data/FIBSEM/nuclie_align_ROI3_1700/nuclie30/chromosome/337.jpg', '/data/FIBSEM/nuclie_align_ROI3_1700/nuclie30/chromosome/338.jpg', '/data/FIBSEM/nuclie_align_ROI3_1700/nuclie30/chromosome/339.jpg', '/data/FIBSEM/nuclie_align_ROI3_1700/nuclie30/chromosome/340.jpg', '/data/FIBSEM/nuclie_align_ROI3_1700/nuclie30/chromosome/341.jpg', '/data/FIBSEM/nuclie_align_ROI3_1700/nuclie30/chromosome/342.jpg', '/data/FIBSEM/nuclie_align_ROI3_1700/nuclie30/chromosome/343.jpg', '/data/FIBSEM/nuclie_align_ROI3_1700/nuclie30/chromosome/344.jpg', '/data/FIBSEM/nuclie_align_ROI3_1700/nuclie30/chromosome/345.jpg', '/data/FIBSEM/nuclie_align_ROI3_1700/nuclie30/chromosome/346.jpg', '/data/FIBSEM/nuclie_align_ROI3_1700/nuclie30/chromosome/347.jpg', '/data/FIBSEM/nuclie_align_ROI3_1700/nuclie30/chromosome/348.jpg', '/data/FIBSEM/nuclie_align_ROI3_1700/nuclie30/chromosome/349.jpg', '/data/FIBSEM/nuclie_align_ROI3_1700/nuclie30/chromosome/350.jpg', '/data/FIBSEM/nuclie_align_ROI3_1700/nuclie30/chromosome/351.jpg', '/data/FIBSEM/nuclie_align_ROI3_1700/nuclie30/chromosome/352.jpg', '/data/FIBSEM/nuclie_align_ROI3_1700/nuclie30/chromosome/353.jpg', '/data/FIBSEM/nuclie_align_ROI3_1700/nuclie30/chromosome/354.jpg', '/data/FIBSEM/nuclie_align_ROI3_1700/nuclie30/chromosome/355.jpg', '/data/FIBSEM/nuclie_align_ROI3_1700/nuclie30/chromosome/356.jpg', '/data/FIBSEM/nuclie_align_ROI3_1700/nuclie30/chromosome/357.jpg', '/data/FIBSEM/nuclie_align_ROI3_1700/nuclie30/chromosome/358.jpg', '/data/FIBSEM/nuclie_align_ROI3_1700/nuclie30/chromosome/359.jpg', '/data/FIBSEM/nuclie_align_ROI3_1700/nuclie30/chromosome/360.jpg', '/data/FIBSEM/nuclie_align_ROI3_1700/nuclie30/chromosome/361.jpg', '/data/FIBSEM/nuclie_align_ROI3_1700/nuclie30/chromosome/362.jpg', '/data/FIBSEM/nuclie_align_ROI3_1700/nuclie30/chromosome/363.jpg', '/data/FIBSEM/nuclie_align_ROI3_1700/nuclie30/chromosome/364.jpg', '/data/FIBSEM/nuclie_align_ROI3_1700/nuclie30/chromosome/365.jpg', '/data/FIBSEM/nuclie_align_ROI3_1700/nuclie30/chromosome/366.jpg', '/data/FIBSEM/nuclie_align_ROI3_1700/nuclie30/chromosome/367.jpg', '/data/FIBSEM/nuclie_align_ROI3_1700/nuclie30/chromosome/368.jpg', '/data/FIBSEM/nuclie_align_ROI3_1700/nuclie30/chromosome/369.jpg', '/data/FIBSEM/nuclie_align_ROI3_1700/nuclie30/chromosome/370.jpg', '/data/FIBSEM/nuclie_align_ROI3_1700/nuclie30/chromosome/371.jpg', '/data/FIBSEM/nuclie_align_ROI3_1700/nuclie30/chromosome/372.jpg', '/data/FIBSEM/nuclie_align_ROI3_1700/nuclie30/chromosome/373.jpg', '/data/FIBSEM/nuclie_align_ROI3_1700/nuclie30/chromosome/374.jpg', '/data/FIBSEM/nuclie_align_ROI3_1700/nuclie30/chromosome/375.jpg', '/data/FIBSEM/nuclie_align_ROI3_1700/nuclie30/chromosome/376.jpg', '/data/FIBSEM/nuclie_align_ROI3_1700/nuclie30/chromosome/377.jpg', '/data/FIBSEM/nuclie_align_ROI3_1700/nuclie30/chromosome/378.jpg', '/data/FIBSEM/nuclie_align_ROI3_1700/nuclie30/chromosome/379.jpg', '/data/FIBSEM/nuclie_align_ROI3_1700/nuclie30/chromosome/380.jpg', '/data/FIBSEM/nuclie_align_ROI3_1700/nuclie30/chromosome/381.jpg', '/data/FIBSEM/nuclie_align_ROI3_1700/nuclie30/chromosome/382.jpg', '/data/FIBSEM/nuclie_align_ROI3_1700/nuclie30/chromosome/383.jpg', '/data/FIBSEM/nuclie_align_ROI3_1700/nuclie30/chromosome/384.jpg', '/data/FIBSEM/nuclie_align_ROI3_1700/nuclie30/chromosome/385.jpg', '/data/FIBSEM/nuclie_align_ROI3_1700/nuclie30/chromosome/386.jpg', '/data/FIBSEM/nuclie_align_ROI3_1700/nuclie30/chromosome/387.jpg', '/data/FIBSEM/nuclie_align_ROI3_1700/nuclie30/chromosome/388.jpg', '/data/FIBSEM/nuclie_align_ROI3_1700/nuclie30/chromosome/389.jpg', '/data/FIBSEM/nuclie_align_ROI3_1700/nuclie30/chromosome/390.jpg', '/data/FIBSEM/nuclie_align_ROI3_1700/nuclie30/chromosome/391.jpg', '/data/FIBSEM/nuclie_align_ROI3_1700/nuclie30/chromosome/392.jpg', '/data/FIBSEM/nuclie_align_ROI3_1700/nuclie30/chromosome/393.jpg', '/data/FIBSEM/nuclie_align_ROI3_1700/nuclie30/chromosome/394.jpg', '/data/FIBSEM/nuclie_align_ROI3_1700/nuclie30/chromosome/395.jpg', '/data/FIBSEM/nuclie_align_ROI3_1700/nuclie30/chromosome/396.jpg', '/data/FIBSEM/nuclie_align_ROI3_1700/nuclie30/chromosome/397.jpg', '/data/FIBSEM/nuclie_align_ROI3_1700/nuclie30/chromosome/398.jpg', '/data/FIBSEM/nuclie_align_ROI3_1700/nuclie30/chromosome/399.jpg', '/data/FIBSEM/nuclie_align_ROI3_1700/nuclie30/chromosome/400.jpg', '/data/FIBSEM/nuclie_align_ROI3_1700/nuclie30/chromosome/401.jpg', '/data/FIBSEM/nuclie_align_ROI3_1700/nuclie30/chromosome/402.jpg', '/data/FIBSEM/nuclie_align_ROI3_1700/nuclie30/chromosome/403.jpg', '/data/FIBSEM/nuclie_align_ROI3_1700/nuclie30/chromosome/404.jpg', '/data/FIBSEM/nuclie_align_ROI3_1700/nuclie30/chromosome/405.jpg', '/data/FIBSEM/nuclie_align_ROI3_1700/nuclie30/chromosome/406.jpg', '/data/FIBSEM/nuclie_align_ROI3_1700/nuclie30/chromosome/407.jpg', '/data/FIBSEM/nuclie_align_ROI3_1700/nuclie30/chromosome/408.jpg', '/data/FIBSEM/nuclie_align_ROI3_1700/nuclie30/chromosome/409.jpg', '/data/FIBSEM/nuclie_align_ROI3_1700/nuclie30/chromosome/410.jpg', '/data/FIBSEM/nuclie_align_ROI3_1700/nuclie30/chromosome/411.jpg', '/data/FIBSEM/nuclie_align_ROI3_1700/nuclie30/chromosome/412.jpg', '/data/FIBSEM/nuclie_align_ROI3_1700/nuclie30/chromosome/413.jpg', '/data/FIBSEM/nuclie_align_ROI3_1700/nuclie30/chromosome/414.jpg', '/data/FIBSEM/nuclie_align_ROI3_1700/nuclie30/chromosome/415.jpg', '/data/FIBSEM/nuclie_align_ROI3_1700/nuclie30/chromosome/416.jpg', '/data/FIBSEM/nuclie_align_ROI3_1700/nuclie30/chromosome/417.jpg', '/data/FIBSEM/nuclie_align_ROI3_1700/nuclie30/chromosome/418.jpg', '/data/FIBSEM/nuclie_align_ROI3_1700/nuclie30/chromosome/419.jpg', '/data/FIBSEM/nuclie_align_ROI3_1700/nuclie30/chromosome/420.jpg', '/data/FIBSEM/nuclie_align_ROI3_1700/nuclie30/chromosome/421.jpg', '/data/FIBSEM/nuclie_align_ROI3_1700/nuclie30/chromosome/422.jpg', '/data/FIBSEM/nuclie_align_ROI3_1700/nuclie30/chromosome/423.jpg', '/data/FIBSEM/nuclie_align_ROI3_1700/nuclie30/chromosome/424.jpg', '/data/FIBSEM/nuclie_align_ROI3_1700/nuclie30/chromosome/425.jpg', '/data/FIBSEM/nuclie_align_ROI3_1700/nuclie30/chromosome/426.jpg', '/data/FIBSEM/nuclie_align_ROI3_1700/nuclie30/chromosome/427.jpg', '/data/FIBSEM/nuclie_align_ROI3_1700/nuclie30/chromosome/428.jpg', '/data/FIBSEM/nuclie_align_ROI3_1700/nuclie30/chromosome/429.jpg', '/data/FIBSEM/nuclie_align_ROI3_1700/nuclie30/chromosome/430.jpg', '/data/FIBSEM/nuclie_align_ROI3_1700/nuclie30/chromosome/431.jpg', '/data/FIBSEM/nuclie_align_ROI3_1700/nuclie30/chromosome/432.jpg', '/data/FIBSEM/nuclie_align_ROI3_1700/nuclie30/chromosome/433.jpg', '/data/FIBSEM/nuclie_align_ROI3_1700/nuclie30/chromosome/434.jpg', '/data/FIBSEM/nuclie_align_ROI3_1700/nuclie30/chromosome/435.jpg', '/data/FIBSEM/nuclie_align_ROI3_1700/nuclie30/chromosome/436.jpg', '/data/FIBSEM/nuclie_align_ROI3_1700/nuclie30/chromosome/437.jpg', '/data/FIBSEM/nuclie_align_ROI3_1700/nuclie30/chromosome/438.jpg', '/data/FIBSEM/nuclie_align_ROI3_1700/nuclie30/chromosome/439.jpg', '/data/FIBSEM/nuclie_align_ROI3_1700/nuclie30/chromosome/440.jpg', '/data/FIBSEM/nuclie_align_ROI3_1700/nuclie30/chromosome/441.jpg', '/data/FIBSEM/nuclie_align_ROI3_1700/nuclie30/chromosome/442.jpg', '/data/FIBSEM/nuclie_align_ROI3_1700/nuclie30/chromosome/443.jpg', '/data/FIBSEM/nuclie_align_ROI3_1700/nuclie30/chromosome/444.jpg', '/data/FIBSEM/nuclie_align_ROI3_1700/nuclie30/chromosome/445.jpg', '/data/FIBSEM/nuclie_align_ROI3_1700/nuclie30/chromosome/446.jpg', '/data/FIBSEM/nuclie_align_ROI3_1700/nuclie30/chromosome/447.jpg', '/data/FIBSEM/nuclie_align_ROI3_1700/nuclie30/chromosome/448.jpg', '/data/FIBSEM/nuclie_align_ROI3_1700/nuclie30/chromosome/449.jpg', '/data/FIBSEM/nuclie_align_ROI3_1700/nuclie30/chromosome/450.jpg', '/data/FIBSEM/nuclie_align_ROI3_1700/nuclie30/chromosome/451.jpg', '/data/FIBSEM/nuclie_align_ROI3_1700/nuclie30/chromosome/452.jpg', '/data/FIBSEM/nuclie_align_ROI3_1700/nuclie30/chromosome/453.jpg', '/data/FIBSEM/nuclie_align_ROI3_1700/nuclie30/chromosome/454.jpg', '/data/FIBSEM/nuclie_align_ROI3_1700/nuclie30/chromosome/455.jpg', '/data/FIBSEM/nuclie_align_ROI3_1700/nuclie30/chromosome/456.jpg', '/data/FIBSEM/nuclie_align_ROI3_1700/nuclie30/chromosome/457.jpg', '/data/FIBSEM/nuclie_align_ROI3_1700/nuclie30/chromosome/458.jpg', '/data/FIBSEM/nuclie_align_ROI3_1700/nuclie30/chromosome/459.jpg', '/data/FIBSEM/nuclie_align_ROI3_1700/nuclie30/chromosome/460.jpg', '/data/FIBSEM/nuclie_align_ROI3_1700/nuclie30/chromosome/461.jpg', '/data/FIBSEM/nuclie_align_ROI3_1700/nuclie30/chromosome/462.jpg', '/data/FIBSEM/nuclie_align_ROI3_1700/nuclie30/chromosome/463.jpg', '/data/FIBSEM/nuclie_align_ROI3_1700/nuclie30/chromosome/464.jpg', '/data/FIBSEM/nuclie_align_ROI3_1700/nuclie30/chromosome/465.jpg', '/data/FIBSEM/nuclie_align_ROI3_1700/nuclie30/chromosome/466.jpg', '/data/FIBSEM/nuclie_align_ROI3_1700/nuclie30/chromosome/467.jpg', '/data/FIBSEM/nuclie_align_ROI3_1700/nuclie30/chromosome/468.jpg', '/data/FIBSEM/nuclie_align_ROI3_1700/nuclie30/chromosome/469.jpg', '/data/FIBSEM/nuclie_align_ROI3_1700/nuclie30/chromosome/470.jpg', '/data/FIBSEM/nuclie_align_ROI3_1700/nuclie30/chromosome/471.jpg', '/data/FIBSEM/nuclie_align_ROI3_1700/nuclie30/chromosome/472.jpg', '/data/FIBSEM/nuclie_align_ROI3_1700/nuclie30/chromosome/473.jpg', '/data/FIBSEM/nuclie_align_ROI3_1700/nuclie30/chromosome/474.jpg', '/data/FIBSEM/nuclie_align_ROI3_1700/nuclie30/chromosome/475.jpg', '/data/FIBSEM/nuclie_align_ROI3_1700/nuclie30/chromosome/476.jpg', '/data/FIBSEM/nuclie_align_ROI3_1700/nuclie30/chromosome/477.jpg', '/data/FIBSEM/nuclie_align_ROI3_1700/nuclie30/chromosome/478.jpg', '/data/FIBSEM/nuclie_align_ROI3_1700/nuclie30/chromosome/479.jpg', '/data/FIBSEM/nuclie_align_ROI3_1700/nuclie30/chromosome/480.jpg', '/data/FIBSEM/nuclie_align_ROI3_1700/nuclie30/chromosome/481.jpg', '/data/FIBSEM/nuclie_align_ROI3_1700/nuclie30/chromosome/482.jpg', '/data/FIBSEM/nuclie_align_ROI3_1700/nuclie30/chromosome/483.jpg', '/data/FIBSEM/nuclie_align_ROI3_1700/nuclie30/chromosome/484.jpg', '/data/FIBSEM/nuclie_align_ROI3_1700/nuclie30/chromosome/485.jpg', '/data/FIBSEM/nuclie_align_ROI3_1700/nuclie30/chromosome/486.jpg', '/data/FIBSEM/nuclie_align_ROI3_1700/nuclie30/chromosome/487.jpg', '/data/FIBSEM/nuclie_align_ROI3_1700/nuclie30/chromosome/488.jpg', '/data/FIBSEM/nuclie_align_ROI3_1700/nuclie30/chromosome/489.jpg', '/data/FIBSEM/nuclie_align_ROI3_1700/nuclie30/chromosome/490.jpg', '/data/FIBSEM/nuclie_align_ROI3_1700/nuclie30/chromosome/491.jpg', '/data/FIBSEM/nuclie_align_ROI3_1700/nuclie30/chromosome/492.jpg', '/data/FIBSEM/nuclie_align_ROI3_1700/nuclie30/chromosome/493.jpg', '/data/FIBSEM/nuclie_align_ROI3_1700/nuclie30/chromosome/494.jpg', '/data/FIBSEM/nuclie_align_ROI3_1700/nuclie30/chromosome/495.jpg', '/data/FIBSEM/nuclie_align_ROI3_1700/nuclie30/chromosome/496.jpg', '/data/FIBSEM/nuclie_align_ROI3_1700/nuclie30/chromosome/497.jpg', '/data/FIBSEM/nuclie_align_ROI3_1700/nuclie30/chromosome/498.jpg', '/data/FIBSEM/nuclie_align_ROI3_1700/nuclie30/chromosome/499.jpg', '/data/FIBSEM/nuclie_align_ROI3_1700/nuclie30/chromosome/500.jpg', '/data/FIBSEM/nuclie_align_ROI3_1700/nuclie30/chromosome/501.jpg', '/data/FIBSEM/nuclie_align_ROI3_1700/nuclie30/chromosome/502.jpg', '/data/FIBSEM/nuclie_align_ROI3_1700/nuclie30/chromosome/503.jpg', '/data/FIBSEM/nuclie_align_ROI3_1700/nuclie30/chromosome/504.jpg', '/data/FIBSEM/nuclie_align_ROI3_1700/nuclie30/chromosome/505.jpg', '/data/FIBSEM/nuclie_align_ROI3_1700/nuclie30/chromosome/506.jpg', '/data/FIBSEM/nuclie_align_ROI3_1700/nuclie30/chromosome/507.jpg', '/data/FIBSEM/nuclie_align_ROI3_1700/nuclie30/chromosome/508.jpg', '/data/FIBSEM/nuclie_align_ROI3_1700/nuclie30/chromosome/509.jpg', '/data/FIBSEM/nuclie_align_ROI3_1700/nuclie30/chromosome/510.jpg', '/data/FIBSEM/nuclie_align_ROI3_1700/nuclie30/chromosome/511.jpg', '/data/FIBSEM/nuclie_align_ROI3_1700/nuclie30/chromosome/512.jpg', '/data/FIBSEM/nuclie_align_ROI3_1700/nuclie30/chromosome/513.jpg', '/data/FIBSEM/nuclie_align_ROI3_1700/nuclie30/chromosome/514.jpg', '/data/FIBSEM/nuclie_align_ROI3_1700/nuclie30/chromosome/515.jpg', '/data/FIBSEM/nuclie_align_ROI3_1700/nuclie30/chromosome/516.jpg', '/data/FIBSEM/nuclie_align_ROI3_1700/nuclie30/chromosome/517.jpg', '/data/FIBSEM/nuclie_align_ROI3_1700/nuclie30/chromosome/518.jpg', '/data/FIBSEM/nuclie_align_ROI3_1700/nuclie30/chromosome/519.jpg', '/data/FIBSEM/nuclie_align_ROI3_1700/nuclie30/chromosome/520.jpg', '/data/FIBSEM/nuclie_align_ROI3_1700/nuclie30/chromosome/521.jpg', '/data/FIBSEM/nuclie_align_ROI3_1700/nuclie30/chromosome/522.jpg', '/data/FIBSEM/nuclie_align_ROI3_1700/nuclie30/chromosome/523.jpg', '/data/FIBSEM/nuclie_align_ROI3_1700/nuclie30/chromosome/524.jpg', '/data/FIBSEM/nuclie_align_ROI3_1700/nuclie30/chromosome/525.jpg', '/data/FIBSEM/nuclie_align_ROI3_1700/nuclie30/chromosome/526.jpg', '/data/FIBSEM/nuclie_align_ROI3_1700/nuclie30/chromosome/527.jpg', '/data/FIBSEM/nuclie_align_ROI3_1700/nuclie30/chromosome/528.jpg', '/data/FIBSEM/nuclie_align_ROI3_1700/nuclie30/chromosome/529.jpg', '/data/FIBSEM/nuclie_align_ROI3_1700/nuclie30/chromosome/530.jpg', '/data/FIBSEM/nuclie_align_ROI3_1700/nuclie30/chromosome/531.jpg', '/data/FIBSEM/nuclie_align_ROI3_1700/nuclie30/chromosome/532.jpg', '/data/FIBSEM/nuclie_align_ROI3_1700/nuclie30/chromosome/533.jpg', '/data/FIBSEM/nuclie_align_ROI3_1700/nuclie30/chromosome/534.jpg', '/data/FIBSEM/nuclie_align_ROI3_1700/nuclie30/chromosome/535.jpg', '/data/FIBSEM/nuclie_align_ROI3_1700/nuclie30/chromosome/536.jpg', '/data/FIBSEM/nuclie_align_ROI3_1700/nuclie30/chromosome/537.jpg', '/data/FIBSEM/nuclie_align_ROI3_1700/nuclie30/chromosome/538.jpg', '/data/FIBSEM/nuclie_align_ROI3_1700/nuclie30/chromosome/539.jpg', '/data/FIBSEM/nuclie_align_ROI3_1700/nuclie30/chromosome/540.jpg', '/data/FIBSEM/nuclie_align_ROI3_1700/nuclie30/chromosome/541.jpg', '/data/FIBSEM/nuclie_align_ROI3_1700/nuclie30/chromosome/542.jpg', '/data/FIBSEM/nuclie_align_ROI3_1700/nuclie30/chromosome/543.jpg', '/data/FIBSEM/nuclie_align_ROI3_1700/nuclie30/chromosome/544.jpg', '/data/FIBSEM/nuclie_align_ROI3_1700/nuclie30/chromosome/545.jpg', '/data/FIBSEM/nuclie_align_ROI3_1700/nuclie30/chromosome/546.jpg', '/data/FIBSEM/nuclie_align_ROI3_1700/nuclie30/chromosome/547.jpg', '/data/FIBSEM/nuclie_align_ROI3_1700/nuclie30/chromosome/548.jpg', '/data/FIBSEM/nuclie_align_ROI3_1700/nuclie30/chromosome/549.jpg', '/data/FIBSEM/nuclie_align_ROI3_1700/nuclie30/chromosome/550.jpg', '/data/FIBSEM/nuclie_align_ROI3_1700/nuclie30/chromosome/551.jpg', '/data/FIBSEM/nuclie_align_ROI3_1700/nuclie30/chromosome/552.jpg', '/data/FIBSEM/nuclie_align_ROI3_1700/nuclie30/chromosome/553.jpg', '/data/FIBSEM/nuclie_align_ROI3_1700/nuclie30/chromosome/554.jpg', '/data/FIBSEM/nuclie_align_ROI3_1700/nuclie30/chromosome/555.jpg', '/data/FIBSEM/nuclie_align_ROI3_1700/nuclie30/chromosome/556.jpg', '/data/FIBSEM/nuclie_align_ROI3_1700/nuclie30/chromosome/557.jpg', '/data/FIBSEM/nuclie_align_ROI3_1700/nuclie30/chromosome/558.jpg', '/data/FIBSEM/nuclie_align_ROI3_1700/nuclie30/chromosome/559.jpg', '/data/FIBSEM/nuclie_align_ROI3_1700/nuclie30/chromosome/560.jpg', '/data/FIBSEM/nuclie_align_ROI3_1700/nuclie30/chromosome/561.jpg', '/data/FIBSEM/nuclie_align_ROI3_1700/nuclie30/chromosome/562.jpg', '/data/FIBSEM/nuclie_align_ROI3_1700/nuclie30/chromosome/563.jpg', '/data/FIBSEM/nuclie_align_ROI3_1700/nuclie30/chromosome/564.jpg', '/data/FIBSEM/nuclie_align_ROI3_1700/nuclie30/chromosome/565.jpg', '/data/FIBSEM/nuclie_align_ROI3_1700/nuclie30/chromosome/566.jpg', '/data/FIBSEM/nuclie_align_ROI3_1700/nuclie30/chromosome/567.jpg', '/data/FIBSEM/nuclie_align_ROI3_1700/nuclie30/chromosome/568.jpg', '/data/FIBSEM/nuclie_align_ROI3_1700/nuclie30/chromosome/569.jpg', '/data/FIBSEM/nuclie_align_ROI3_1700/nuclie30/chromosome/570.jpg', '/data/FIBSEM/nuclie_align_ROI3_1700/nuclie30/chromosome/571.jpg', '/data/FIBSEM/nuclie_align_ROI3_1700/nuclie30/chromosome/572.jpg', '/data/FIBSEM/nuclie_align_ROI3_1700/nuclie30/chromosome/573.jpg', '/data/FIBSEM/nuclie_align_ROI3_1700/nuclie30/chromosome/574.jpg', '/data/FIBSEM/nuclie_align_ROI3_1700/nuclie30/chromosome/575.jpg', '/data/FIBSEM/nuclie_align_ROI3_1700/nuclie30/chromosome/576.jpg', '/data/FIBSEM/nuclie_align_ROI3_1700/nuclie30/chromosome/577.jpg', '/data/FIBSEM/nuclie_align_ROI3_1700/nuclie30/chromosome/578.jpg', '/data/FIBSEM/nuclie_align_ROI3_1700/nuclie30/chromosome/579.jpg', '/data/FIBSEM/nuclie_align_ROI3_1700/nuclie30/chromosome/580.jpg', '/data/FIBSEM/nuclie_align_ROI3_1700/nuclie30/chromosome/581.jpg', '/data/FIBSEM/nuclie_align_ROI3_1700/nuclie30/chromosome/582.jpg', '/data/FIBSEM/nuclie_align_ROI3_1700/nuclie30/chromosome/583.jpg', '/data/FIBSEM/nuclie_align_ROI3_1700/nuclie30/chromosome/584.jpg', '/data/FIBSEM/nuclie_align_ROI3_1700/nuclie30/chromosome/585.jpg', '/data/FIBSEM/nuclie_align_ROI3_1700/nuclie30/chromosome/586.jpg', '/data/FIBSEM/nuclie_align_ROI3_1700/nuclie30/chromosome/587.jpg', '/data/FIBSEM/nuclie_align_ROI3_1700/nuclie30/chromosome/588.jpg', '/data/FIBSEM/nuclie_align_ROI3_1700/nuclie30/chromosome/589.jpg', '/data/FIBSEM/nuclie_align_ROI3_1700/nuclie30/chromosome/590.jpg', '/data/FIBSEM/nuclie_align_ROI3_1700/nuclie30/chromosome/591.jpg', '/data/FIBSEM/nuclie_align_ROI3_1700/nuclie30/chromosome/592.jpg', '/data/FIBSEM/nuclie_align_ROI3_1700/nuclie30/chromosome/593.jpg', '/data/FIBSEM/nuclie_align_ROI3_1700/nuclie30/chromosome/594.jpg', '/data/FIBSEM/nuclie_align_ROI3_1700/nuclie30/chromosome/595.jpg', '/data/FIBSEM/nuclie_align_ROI3_1700/nuclie30/chromosome/596.jpg', '/data/FIBSEM/nuclie_align_ROI3_1700/nuclie30/chromosome/597.jpg', '/data/FIBSEM/nuclie_align_ROI3_1700/nuclie30/chromosome/598.jpg', '/data/FIBSEM/nuclie_align_ROI3_1700/nuclie30/chromosome/599.jpg', '/data/FIBSEM/nuclie_align_ROI3_1700/nuclie30/chromosome/600.jpg', '/data/FIBSEM/nuclie_align_ROI3_1700/nuclie30/chromosome/601.jpg', '/data/FIBSEM/nuclie_align_ROI3_1700/nuclie30/chromosome/602.jpg', '/data/FIBSEM/nuclie_align_ROI3_1700/nuclie30/chromosome/603.jpg', '/data/FIBSEM/nuclie_align_ROI3_1700/nuclie30/chromosome/604.jpg', '/data/FIBSEM/nuclie_align_ROI3_1700/nuclie30/chromosome/605.jpg', '/data/FIBSEM/nuclie_align_ROI3_1700/nuclie30/chromosome/606.jpg', '/data/FIBSEM/nuclie_align_ROI3_1700/nuclie30/chromosome/607.jpg', '/data/FIBSEM/nuclie_align_ROI3_1700/nuclie30/chromosome/608.jpg', '/data/FIBSEM/nuclie_align_ROI3_1700/nuclie30/chromosome/609.jpg', '/data/FIBSEM/nuclie_align_ROI3_1700/nuclie30/chromosome/610.jpg', '/data/FIBSEM/nuclie_align_ROI3_1700/nuclie30/chromosome/611.jpg', '/data/FIBSEM/nuclie_align_ROI3_1700/nuclie30/chromosome/612.jpg', '/data/FIBSEM/nuclie_align_ROI3_1700/nuclie30/chromosome/613.jpg', '/data/FIBSEM/nuclie_align_ROI3_1700/nuclie30/chromosome/614.jpg', '/data/FIBSEM/nuclie_align_ROI3_1700/nuclie30/chromosome/615.jpg', '/data/FIBSEM/nuclie_align_ROI3_1700/nuclie30/chromosome/616.jpg', '/data/FIBSEM/nuclie_align_ROI3_1700/nuclie30/chromosome/617.jpg', '/data/FIBSEM/nuclie_align_ROI3_1700/nuclie30/chromosome/618.jpg', '/data/FIBSEM/nuclie_align_ROI3_1700/nuclie30/chromosome/619.jpg', '/data/FIBSEM/nuclie_align_ROI3_1700/nuclie30/chromosome/620.jpg', '/data/FIBSEM/nuclie_align_ROI3_1700/nuclie30/chromosome/621.jpg', '/data/FIBSEM/nuclie_align_ROI3_1700/nuclie30/chromosome/622.jpg', '/data/FIBSEM/nuclie_align_ROI3_1700/nuclie30/chromosome/623.jpg', '/data/FIBSEM/nuclie_align_ROI3_1700/nuclie30/chromosome/624.jpg', '/data/FIBSEM/nuclie_align_ROI3_1700/nuclie30/chromosome/625.jpg', '/data/FIBSEM/nuclie_align_ROI3_1700/nuclie30/chromosome/626.jpg', '/data/FIBSEM/nuclie_align_ROI3_1700/nuclie30/chromosome/627.jpg', '/data/FIBSEM/nuclie_align_ROI3_1700/nuclie30/chromosome/628.jpg', '/data/FIBSEM/nuclie_align_ROI3_1700/nuclie30/chromosome/629.jpg', '/data/FIBSEM/nuclie_align_ROI3_1700/nuclie30/chromosome/630.jpg', '/data/FIBSEM/nuclie_align_ROI3_1700/nuclie30/chromosome/631.jpg', '/data/FIBSEM/nuclie_align_ROI3_1700/nuclie30/chromosome/632.jpg', '/data/FIBSEM/nuclie_align_ROI3_1700/nuclie30/chromosome/633.jpg', '/data/FIBSEM/nuclie_align_ROI3_1700/nuclie30/chromosome/634.jpg', '/data/FIBSEM/nuclie_align_ROI3_1700/nuclie30/chromosome/635.jpg', '/data/FIBSEM/nuclie_align_ROI3_1700/nuclie30/chromosome/636.jpg', '/data/FIBSEM/nuclie_align_ROI3_1700/nuclie30/chromosome/637.jpg', '/data/FIBSEM/nuclie_align_ROI3_1700/nuclie30/chromosome/638.jpg', '/data/FIBSEM/nuclie_align_ROI3_1700/nuclie30/chromosome/639.jpg', '/data/FIBSEM/nuclie_align_ROI3_1700/nuclie30/chromosome/640.jpg', '/data/FIBSEM/nuclie_align_ROI3_1700/nuclie30/chromosome/641.jpg', '/data/FIBSEM/nuclie_align_ROI3_1700/nuclie30/chromosome/642.jpg', '/data/FIBSEM/nuclie_align_ROI3_1700/nuclie30/chromosome/643.jpg', '/data/FIBSEM/nuclie_align_ROI3_1700/nuclie30/chromosome/644.jpg', '/data/FIBSEM/nuclie_align_ROI3_1700/nuclie30/chromosome/645.jpg', '/data/FIBSEM/nuclie_align_ROI3_1700/nuclie30/chromosome/646.jpg', '/data/FIBSEM/nuclie_align_ROI3_1700/nuclie30/chromosome/647.jpg', '/data/FIBSEM/nuclie_align_ROI3_1700/nuclie30/chromosome/648.jpg', '/data/FIBSEM/nuclie_align_ROI3_1700/nuclie30/chromosome/649.jpg', '/data/FIBSEM/nuclie_align_ROI3_1700/nuclie30/chromosome/650.jpg', '/data/FIBSEM/nuclie_align_ROI3_1700/nuclie30/chromosome/651.jpg', '/data/FIBSEM/nuclie_align_ROI3_1700/nuclie30/chromosome/652.jpg', '/data/FIBSEM/nuclie_align_ROI3_1700/nuclie30/chromosome/653.jpg', '/data/FIBSEM/nuclie_align_ROI3_1700/nuclie30/chromosome/654.jpg', '/data/FIBSEM/nuclie_align_ROI3_1700/nuclie30/chromosome/655.jpg', '/data/FIBSEM/nuclie_align_ROI3_1700/nuclie30/chromosome/656.jpg', '/data/FIBSEM/nuclie_align_ROI3_1700/nuclie30/chromosome/657.jpg', '/data/FIBSEM/nuclie_align_ROI3_1700/nuclie30/chromosome/658.jpg', '/data/FIBSEM/nuclie_align_ROI3_1700/nuclie30/chromosome/659.jpg', '/data/FIBSEM/nuclie_align_ROI3_1700/nuclie30/chromosome/660.jpg', '/data/FIBSEM/nuclie_align_ROI3_1700/nuclie30/chromosome/661.jpg', '/data/FIBSEM/nuclie_align_ROI3_1700/nuclie30/chromosome/662.jpg', '/data/FIBSEM/nuclie_align_ROI3_1700/nuclie30/chromosome/663.jpg', '/data/FIBSEM/nuclie_align_ROI3_1700/nuclie30/chromosome/664.jpg', '/data/FIBSEM/nuclie_align_ROI3_1700/nuclie30/chromosome/665.jpg', '/data/FIBSEM/nuclie_align_ROI3_1700/nuclie30/chromosome/666.jpg', '/data/FIBSEM/nuclie_align_ROI3_1700/nuclie30/chromosome/667.jpg', '/data/FIBSEM/nuclie_align_ROI3_1700/nuclie30/chromosome/668.jpg', '/data/FIBSEM/nuclie_align_ROI3_1700/nuclie30/chromosome/669.jpg', '/data/FIBSEM/nuclie_align_ROI3_1700/nuclie30/chromosome/670.jpg', '/data/FIBSEM/nuclie_align_ROI3_1700/nuclie30/chromosome/671.jpg', '/data/FIBSEM/nuclie_align_ROI3_1700/nuclie30/chromosome/672.jpg', '/data/FIBSEM/nuclie_align_ROI3_1700/nuclie30/chromosome/673.jpg', '/data/FIBSEM/nuclie_align_ROI3_1700/nuclie30/chromosome/674.jpg', '/data/FIBSEM/nuclie_align_ROI3_1700/nuclie30/chromosome/675.jpg', '/data/FIBSEM/nuclie_align_ROI3_1700/nuclie30/chromosome/676.jpg', '/data/FIBSEM/nuclie_align_ROI3_1700/nuclie30/chromosome/677.jpg', '/data/FIBSEM/nuclie_align_ROI3_1700/nuclie30/chromosome/678.jpg', '/data/FIBSEM/nuclie_align_ROI3_1700/nuclie30/chromosome/679.jpg', '/data/FIBSEM/nuclie_align_ROI3_1700/nuclie30/chromosome/680.jpg', '/data/FIBSEM/nuclie_align_ROI3_1700/nuclie30/chromosome/681.jpg', '/data/FIBSEM/nuclie_align_ROI3_1700/nuclie30/chromosome/682.jpg', '/data/FIBSEM/nuclie_align_ROI3_1700/nuclie30/chromosome/683.jpg', '/data/FIBSEM/nuclie_align_ROI3_1700/nuclie30/chromosome/684.jpg', '/data/FIBSEM/nuclie_align_ROI3_1700/nuclie30/chromosome/685.jpg', '/data/FIBSEM/nuclie_align_ROI3_1700/nuclie30/chromosome/686.jpg', '/data/FIBSEM/nuclie_align_ROI3_1700/nuclie30/chromosome/687.jpg', '/data/FIBSEM/nuclie_align_ROI3_1700/nuclie30/chromosome/688.jpg', '/data/FIBSEM/nuclie_align_ROI3_1700/nuclie30/chromosome/689.jpg', '/data/FIBSEM/nuclie_align_ROI3_1700/nuclie30/chromosome/690.jpg', '/data/FIBSEM/nuclie_align_ROI3_1700/nuclie30/chromosome/691.jpg', '/data/FIBSEM/nuclie_align_ROI3_1700/nuclie30/chromosome/692.jpg', '/data/FIBSEM/nuclie_align_ROI3_1700/nuclie30/chromosome/693.jpg', '/data/FIBSEM/nuclie_align_ROI3_1700/nuclie30/chromosome/694.jpg', '/data/FIBSEM/nuclie_align_ROI3_1700/nuclie30/chromosome/695.jpg', '/data/FIBSEM/nuclie_align_ROI3_1700/nuclie30/chromosome/696.jpg', '/data/FIBSEM/nuclie_align_ROI3_1700/nuclie30/chromosome/697.jpg', '/data/FIBSEM/nuclie_align_ROI3_1700/nuclie30/chromosome/698.jpg', '/data/FIBSEM/nuclie_align_ROI3_1700/nuclie30/chromosome/699.jpg', '/data/FIBSEM/nuclie_align_ROI3_1700/nuclie30/chromosome/700.jpg', '/data/FIBSEM/nuclie_align_ROI3_1700/nuclie30/chromosome/701.jpg', '/data/FIBSEM/nuclie_align_ROI3_1700/nuclie30/chromosome/702.jpg', '/data/FIBSEM/nuclie_align_ROI3_1700/nuclie30/chromosome/703.jpg', '/data/FIBSEM/nuclie_align_ROI3_1700/nuclie30/chromosome/704.jpg', '/data/FIBSEM/nuclie_align_ROI3_1700/nuclie30/chromosome/705.jpg', '/data/FIBSEM/nuclie_align_ROI3_1700/nuclie30/chromosome/706.jpg', '/data/FIBSEM/nuclie_align_ROI3_1700/nuclie30/chromosome/707.jpg', '/data/FIBSEM/nuclie_align_ROI3_1700/nuclie30/chromosome/708.jpg', '/data/FIBSEM/nuclie_align_ROI3_1700/nuclie30/chromosome/709.jpg', '/data/FIBSEM/nuclie_align_ROI3_1700/nuclie30/chromosome/710.jpg', '/data/FIBSEM/nuclie_align_ROI3_1700/nuclie30/chromosome/711.jpg', '/data/FIBSEM/nuclie_align_ROI3_1700/nuclie30/chromosome/712.jpg', '/data/FIBSEM/nuclie_align_ROI3_1700/nuclie30/chromosome/713.jpg', '/data/FIBSEM/nuclie_align_ROI3_1700/nuclie30/chromosome/714.jpg', '/data/FIBSEM/nuclie_align_ROI3_1700/nuclie30/chromosome/715.jpg', '/data/FIBSEM/nuclie_align_ROI3_1700/nuclie30/chromosome/716.jpg', '/data/FIBSEM/nuclie_align_ROI3_1700/nuclie30/chromosome/717.jpg', '/data/FIBSEM/nuclie_align_ROI3_1700/nuclie30/chromosome/718.jpg', '/data/FIBSEM/nuclie_align_ROI3_1700/nuclie30/chromosome/719.jpg', '/data/FIBSEM/nuclie_align_ROI3_1700/nuclie30/chromosome/720.jpg', '/data/FIBSEM/nuclie_align_ROI3_1700/nuclie30/chromosome/721.jpg', '/data/FIBSEM/nuclie_align_ROI3_1700/nuclie30/chromosome/722.jpg', '/data/FIBSEM/nuclie_align_ROI3_1700/nuclie30/chromosome/723.jpg', '/data/FIBSEM/nuclie_align_ROI3_1700/nuclie30/chromosome/724.jpg', '/data/FIBSEM/nuclie_align_ROI3_1700/nuclie30/chromosome/725.jpg', '/data/FIBSEM/nuclie_align_ROI3_1700/nuclie30/chromosome/726.jpg', '/data/FIBSEM/nuclie_align_ROI3_1700/nuclie30/chromosome/727.jpg', '/data/FIBSEM/nuclie_align_ROI3_1700/nuclie30/chromosome/728.jpg', '/data/FIBSEM/nuclie_align_ROI3_1700/nuclie30/chromosome/729.jpg', '/data/FIBSEM/nuclie_align_ROI3_1700/nuclie30/chromosome/730.jpg', '/data/FIBSEM/nuclie_align_ROI3_1700/nuclie30/chromosome/731.jpg', '/data/FIBSEM/nuclie_align_ROI3_1700/nuclie30/chromosome/732.jpg', '/data/FIBSEM/nuclie_align_ROI3_1700/nuclie30/chromosome/733.jpg', '/data/FIBSEM/nuclie_align_ROI3_1700/nuclie30/chromosome/734.jpg', '/data/FIBSEM/nuclie_align_ROI3_1700/nuclie30/chromosome/735.jpg', '/data/FIBSEM/nuclie_align_ROI3_1700/nuclie30/chromosome/736.jpg', '/data/FIBSEM/nuclie_align_ROI3_1700/nuclie30/chromosome/737.jpg', '/data/FIBSEM/nuclie_align_ROI3_1700/nuclie30/chromosome/738.jpg', '/data/FIBSEM/nuclie_align_ROI3_1700/nuclie30/chromosome/739.jpg', '/data/FIBSEM/nuclie_align_ROI3_1700/nuclie30/chromosome/740.jpg', '/data/FIBSEM/nuclie_align_ROI3_1700/nuclie30/chromosome/741.jpg', '/data/FIBSEM/nuclie_align_ROI3_1700/nuclie30/chromosome/742.jpg', '/data/FIBSEM/nuclie_align_ROI3_1700/nuclie30/chromosome/743.jpg', '/data/FIBSEM/nuclie_align_ROI3_1700/nuclie30/chromosome/744.jpg', '/data/FIBSEM/nuclie_align_ROI3_1700/nuclie30/chromosome/745.jpg', '/data/FIBSEM/nuclie_align_ROI3_1700/nuclie30/chromosome/746.jpg', '/data/FIBSEM/nuclie_align_ROI3_1700/nuclie30/chromosome/747.jpg', '/data/FIBSEM/nuclie_align_ROI3_1700/nuclie30/chromosome/748.jpg', '/data/FIBSEM/nuclie_align_ROI3_1700/nuclie30/chromosome/749.jpg', '/data/FIBSEM/nuclie_align_ROI3_1700/nuclie30/chromosome/750.jpg', '/data/FIBSEM/nuclie_align_ROI3_1700/nuclie30/chromosome/751.jpg', '/data/FIBSEM/nuclie_align_ROI3_1700/nuclie30/chromosome/752.jpg', '/data/FIBSEM/nuclie_align_ROI3_1700/nuclie30/chromosome/753.jpg', '/data/FIBSEM/nuclie_align_ROI3_1700/nuclie30/chromosome/754.jpg', '/data/FIBSEM/nuclie_align_ROI3_1700/nuclie30/chromosome/755.jpg', '/data/FIBSEM/nuclie_align_ROI3_1700/nuclie30/chromosome/756.jpg', '/data/FIBSEM/nuclie_align_ROI3_1700/nuclie30/chromosome/757.jpg', '/data/FIBSEM/nuclie_align_ROI3_1700/nuclie30/chromosome/758.jpg', '/data/FIBSEM/nuclie_align_ROI3_1700/nuclie30/chromosome/759.jpg', '/data/FIBSEM/nuclie_align_ROI3_1700/nuclie30/chromosome/760.jpg', '/data/FIBSEM/nuclie_align_ROI3_1700/nuclie30/chromosome/761.jpg', '/data/FIBSEM/nuclie_align_ROI3_1700/nuclie30/chromosome/762.jpg', '/data/FIBSEM/nuclie_align_ROI3_1700/nuclie30/chromosome/763.jpg', '/data/FIBSEM/nuclie_align_ROI3_1700/nuclie30/chromosome/764.jpg', '/data/FIBSEM/nuclie_align_ROI3_1700/nuclie30/chromosome/765.jpg', '/data/FIBSEM/nuclie_align_ROI3_1700/nuclie30/chromosome/766.jpg', '/data/FIBSEM/nuclie_align_ROI3_1700/nuclie30/chromosome/767.jpg', '/data/FIBSEM/nuclie_align_ROI3_1700/nuclie30/chromosome/768.jpg', '/data/FIBSEM/nuclie_align_ROI3_1700/nuclie30/chromosome/769.jpg', '/data/FIBSEM/nuclie_align_ROI3_1700/nuclie30/chromosome/770.jpg', '/data/FIBSEM/nuclie_align_ROI3_1700/nuclie30/chromosome/771.jpg', '/data/FIBSEM/nuclie_align_ROI3_1700/nuclie30/chromosome/772.jpg', '/data/FIBSEM/nuclie_align_ROI3_1700/nuclie30/chromosome/773.jpg', '/data/FIBSEM/nuclie_align_ROI3_1700/nuclie30/chromosome/774.jpg', '/data/FIBSEM/nuclie_align_ROI3_1700/nuclie30/chromosome/775.jpg', '/data/FIBSEM/nuclie_align_ROI3_1700/nuclie30/chromosome/776.jpg', '/data/FIBSEM/nuclie_align_ROI3_1700/nuclie30/chromosome/777.jpg', '/data/FIBSEM/nuclie_align_ROI3_1700/nuclie30/chromosome/778.jpg', '/data/FIBSEM/nuclie_align_ROI3_1700/nuclie30/chromosome/779.jpg', '/data/FIBSEM/nuclie_align_ROI3_1700/nuclie30/chromosome/780.jpg', '/data/FIBSEM/nuclie_align_ROI3_1700/nuclie30/chromosome/781.jpg', '/data/FIBSEM/nuclie_align_ROI3_1700/nuclie30/chromosome/782.jpg', '/data/FIBSEM/nuclie_align_ROI3_1700/nuclie30/chromosome/783.jpg', '/data/FIBSEM/nuclie_align_ROI3_1700/nuclie30/chromosome/784.jpg', '/data/FIBSEM/nuclie_align_ROI3_1700/nuclie30/chromosome/785.jpg', '/data/FIBSEM/nuclie_align_ROI3_1700/nuclie30/chromosome/786.jpg', '/data/FIBSEM/nuclie_align_ROI3_1700/nuclie30/chromosome/787.jpg', '/data/FIBSEM/nuclie_align_ROI3_1700/nuclie30/chromosome/788.jpg', '/data/FIBSEM/nuclie_align_ROI3_1700/nuclie30/chromosome/789.jpg', '/data/FIBSEM/nuclie_align_ROI3_1700/nuclie30/chromosome/790.jpg', '/data/FIBSEM/nuclie_align_ROI3_1700/nuclie30/chromosome/791.jpg', '/data/FIBSEM/nuclie_align_ROI3_1700/nuclie30/chromosome/792.jpg', '/data/FIBSEM/nuclie_align_ROI3_1700/nuclie30/chromosome/793.jpg', '/data/FIBSEM/nuclie_align_ROI3_1700/nuclie30/chromosome/794.jpg', '/data/FIBSEM/nuclie_align_ROI3_1700/nuclie30/chromosome/795.jpg', '/data/FIBSEM/nuclie_align_ROI3_1700/nuclie30/chromosome/796.jpg', '/data/FIBSEM/nuclie_align_ROI3_1700/nuclie30/chromosome/797.jpg', '/data/FIBSEM/nuclie_align_ROI3_1700/nuclie30/chromosome/798.jpg', '/data/FIBSEM/nuclie_align_ROI3_1700/nuclie30/chromosome/799.jpg', '/data/FIBSEM/nuclie_align_ROI3_1700/nuclie30/chromosome/800.jpg', '/data/FIBSEM/nuclie_align_ROI3_1700/nuclie30/chromosome/801.jpg', '/data/FIBSEM/nuclie_align_ROI3_1700/nuclie30/chromosome/802.jpg', '/data/FIBSEM/nuclie_align_ROI3_1700/nuclie30/chromosome/803.jpg', '/data/FIBSEM/nuclie_align_ROI3_1700/nuclie30/chromosome/804.jpg', '/data/FIBSEM/nuclie_align_ROI3_1700/nuclie30/chromosome/805.jpg', '/data/FIBSEM/nuclie_align_ROI3_1700/nuclie30/chromosome/806.jpg', '/data/FIBSEM/nuclie_align_ROI3_1700/nuclie30/chromosome/807.jpg', '/data/FIBSEM/nuclie_align_ROI3_1700/nuclie30/chromosome/808.jpg', '/data/FIBSEM/nuclie_align_ROI3_1700/nuclie30/chromosome/809.jpg', '/data/FIBSEM/nuclie_align_ROI3_1700/nuclie30/chromosome/810.jpg', '/data/FIBSEM/nuclie_align_ROI3_1700/nuclie30/chromosome/811.jpg', '/data/FIBSEM/nuclie_align_ROI3_1700/nuclie30/chromosome/812.jpg', '/data/FIBSEM/nuclie_align_ROI3_1700/nuclie30/chromosome/813.jpg', '/data/FIBSEM/nuclie_align_ROI3_1700/nuclie30/chromosome/814.jpg', '/data/FIBSEM/nuclie_align_ROI3_1700/nuclie30/chromosome/815.jpg', '/data/FIBSEM/nuclie_align_ROI3_1700/nuclie30/chromosome/816.jpg', '/data/FIBSEM/nuclie_align_ROI3_1700/nuclie30/chromosome/817.jpg', '/data/FIBSEM/nuclie_align_ROI3_1700/nuclie30/chromosome/818.jpg', '/data/FIBSEM/nuclie_align_ROI3_1700/nuclie30/chromosome/819.jpg', '/data/FIBSEM/nuclie_align_ROI3_1700/nuclie30/chromosome/820.jpg', '/data/FIBSEM/nuclie_align_ROI3_1700/nuclie30/chromosome/821.jpg', '/data/FIBSEM/nuclie_align_ROI3_1700/nuclie30/chromosome/822.jpg', '/data/FIBSEM/nuclie_align_ROI3_1700/nuclie30/chromosome/823.jpg', '/data/FIBSEM/nuclie_align_ROI3_1700/nuclie30/chromosome/824.jpg', '/data/FIBSEM/nuclie_align_ROI3_1700/nuclie30/chromosome/825.jpg', '/data/FIBSEM/nuclie_align_ROI3_1700/nuclie30/chromosome/826.jpg', '/data/FIBSEM/nuclie_align_ROI3_1700/nuclie30/chromosome/827.jpg', '/data/FIBSEM/nuclie_align_ROI3_1700/nuclie30/chromosome/828.jpg', '/data/FIBSEM/nuclie_align_ROI3_1700/nuclie30/chromosome/829.jpg', '/data/FIBSEM/nuclie_align_ROI3_1700/nuclie30/chromosome/830.jpg', '/data/FIBSEM/nuclie_align_ROI3_1700/nuclie30/chromosome/831.jpg', '/data/FIBSEM/nuclie_align_ROI3_1700/nuclie30/chromosome/832.jpg', '/data/FIBSEM/nuclie_align_ROI3_1700/nuclie30/chromosome/833.jpg', '/data/FIBSEM/nuclie_align_ROI3_1700/nuclie30/chromosome/834.jpg', '/data/FIBSEM/nuclie_align_ROI3_1700/nuclie30/chromosome/835.jpg', '/data/FIBSEM/nuclie_align_ROI3_1700/nuclie30/chromosome/836.jpg', '/data/FIBSEM/nuclie_align_ROI3_1700/nuclie30/chromosome/837.jpg', '/data/FIBSEM/nuclie_align_ROI3_1700/nuclie30/chromosome/838.jpg', '/data/FIBSEM/nuclie_align_ROI3_1700/nuclie30/chromosome/839.jpg', '/data/FIBSEM/nuclie_align_ROI3_1700/nuclie30/chromosome/840.jpg', '/data/FIBSEM/nuclie_align_ROI3_1700/nuclie30/chromosome/841.jpg', '/data/FIBSEM/nuclie_align_ROI3_1700/nuclie30/chromosome/842.jpg', '/data/FIBSEM/nuclie_align_ROI3_1700/nuclie30/chromosome/843.jpg', '/data/FIBSEM/nuclie_align_ROI3_1700/nuclie30/chromosome/844.jpg', '/data/FIBSEM/nuclie_align_ROI3_1700/nuclie30/chromosome/845.jpg', '/data/FIBSEM/nuclie_align_ROI3_1700/nuclie30/chromosome/846.jpg', '/data/FIBSEM/nuclie_align_ROI3_1700/nuclie30/chromosome/847.jpg', '/data/FIBSEM/nuclie_align_ROI3_1700/nuclie30/chromosome/848.jpg', '/data/FIBSEM/nuclie_align_ROI3_1700/nuclie30/chromosome/849.jpg', '/data/FIBSEM/nuclie_align_ROI3_1700/nuclie30/chromosome/850.jpg', '/data/FIBSEM/nuclie_align_ROI3_1700/nuclie30/chromosome/851.jpg', '/data/FIBSEM/nuclie_align_ROI3_1700/nuclie30/chromosome/852.jpg', '/data/FIBSEM/nuclie_align_ROI3_1700/nuclie30/chromosome/853.jpg', '/data/FIBSEM/nuclie_align_ROI3_1700/nuclie30/chromosome/854.jpg', '/data/FIBSEM/nuclie_align_ROI3_1700/nuclie30/chromosome/855.jpg', '/data/FIBSEM/nuclie_align_ROI3_1700/nuclie30/chromosome/856.jpg', '/data/FIBSEM/nuclie_align_ROI3_1700/nuclie30/chromosome/857.jpg', '/data/FIBSEM/nuclie_align_ROI3_1700/nuclie30/chromosome/858.jpg', '/data/FIBSEM/nuclie_align_ROI3_1700/nuclie30/chromosome/859.jpg', '/data/FIBSEM/nuclie_align_ROI3_1700/nuclie30/chromosome/860.jpg', '/data/FIBSEM/nuclie_align_ROI3_1700/nuclie30/chromosome/861.jpg', '/data/FIBSEM/nuclie_align_ROI3_1700/nuclie30/chromosome/862.jpg', '/data/FIBSEM/nuclie_align_ROI3_1700/nuclie30/chromosome/863.jpg', '/data/FIBSEM/nuclie_align_ROI3_1700/nuclie30/chromosome/864.jpg', '/data/FIBSEM/nuclie_align_ROI3_1700/nuclie30/chromosome/865.jpg', '/data/FIBSEM/nuclie_align_ROI3_1700/nuclie30/chromosome/866.jpg', '/data/FIBSEM/nuclie_align_ROI3_1700/nuclie30/chromosome/867.jpg', '/data/FIBSEM/nuclie_align_ROI3_1700/nuclie30/chromosome/868.jpg', '/data/FIBSEM/nuclie_align_ROI3_1700/nuclie30/chromosome/869.jpg', '/data/FIBSEM/nuclie_align_ROI3_1700/nuclie30/chromosome/870.jpg', '/data/FIBSEM/nuclie_align_ROI3_1700/nuclie30/chromosome/871.jpg', '/data/FIBSEM/nuclie_align_ROI3_1700/nuclie30/chromosome/872.jpg', '/data/FIBSEM/nuclie_align_ROI3_1700/nuclie30/chromosome/873.jpg', '/data/FIBSEM/nuclie_align_ROI3_1700/nuclie30/chromosome/874.jpg', '/data/FIBSEM/nuclie_align_ROI3_1700/nuclie30/chromosome/875.jpg', '/data/FIBSEM/nuclie_align_ROI3_1700/nuclie30/chromosome/876.jpg', '/data/FIBSEM/nuclie_align_ROI3_1700/nuclie30/chromosome/877.jpg', '/data/FIBSEM/nuclie_align_ROI3_1700/nuclie30/chromosome/878.jpg', '/data/FIBSEM/nuclie_align_ROI3_1700/nuclie30/chromosome/879.jpg', '/data/FIBSEM/nuclie_align_ROI3_1700/nuclie30/chromosome/880.jpg', '/data/FIBSEM/nuclie_align_ROI3_1700/nuclie30/chromosome/881.jpg', '/data/FIBSEM/nuclie_align_ROI3_1700/nuclie30/chromosome/882.jpg', '/data/FIBSEM/nuclie_align_ROI3_1700/nuclie30/chromosome/883.jpg', '/data/FIBSEM/nuclie_align_ROI3_1700/nuclie30/chromosome/884.jpg', '/data/FIBSEM/nuclie_align_ROI3_1700/nuclie30/chromosome/885.jpg', '/data/FIBSEM/nuclie_align_ROI3_1700/nuclie30/chromosome/886.jpg', '/data/FIBSEM/nuclie_align_ROI3_1700/nuclie30/chromosome/887.jpg', '/data/FIBSEM/nuclie_align_ROI3_1700/nuclie30/chromosome/888.jpg', '/data/FIBSEM/nuclie_align_ROI3_1700/nuclie30/chromosome/889.jpg', '/data/FIBSEM/nuclie_align_ROI3_1700/nuclie30/chromosome/890.jpg', '/data/FIBSEM/nuclie_align_ROI3_1700/nuclie30/chromosome/891.jpg', '/data/FIBSEM/nuclie_align_ROI3_1700/nuclie30/chromosome/892.jpg']\n",
      "['/data/FIBSEM/nuclie_align_ROI3_1700/nuclie30/chromosome/000.jpg', '/data/FIBSEM/nuclie_align_ROI3_1700/nuclie30/chromosome/001.jpg', '/data/FIBSEM/nuclie_align_ROI3_1700/nuclie30/chromosome/002.jpg', '/data/FIBSEM/nuclie_align_ROI3_1700/nuclie30/chromosome/003.jpg', '/data/FIBSEM/nuclie_align_ROI3_1700/nuclie30/chromosome/004.jpg', '/data/FIBSEM/nuclie_align_ROI3_1700/nuclie30/chromosome/005.jpg', '/data/FIBSEM/nuclie_align_ROI3_1700/nuclie30/chromosome/006.jpg', '/data/FIBSEM/nuclie_align_ROI3_1700/nuclie30/chromosome/007.jpg', '/data/FIBSEM/nuclie_align_ROI3_1700/nuclie30/chromosome/008.jpg', '/data/FIBSEM/nuclie_align_ROI3_1700/nuclie30/chromosome/009.jpg', '/data/FIBSEM/nuclie_align_ROI3_1700/nuclie30/chromosome/010.jpg', '/data/FIBSEM/nuclie_align_ROI3_1700/nuclie30/chromosome/011.jpg', '/data/FIBSEM/nuclie_align_ROI3_1700/nuclie30/chromosome/012.jpg', '/data/FIBSEM/nuclie_align_ROI3_1700/nuclie30/chromosome/013.jpg', '/data/FIBSEM/nuclie_align_ROI3_1700/nuclie30/chromosome/014.jpg', '/data/FIBSEM/nuclie_align_ROI3_1700/nuclie30/chromosome/015.jpg', '/data/FIBSEM/nuclie_align_ROI3_1700/nuclie30/chromosome/016.jpg', '/data/FIBSEM/nuclie_align_ROI3_1700/nuclie30/chromosome/017.jpg', '/data/FIBSEM/nuclie_align_ROI3_1700/nuclie30/chromosome/018.jpg', '/data/FIBSEM/nuclie_align_ROI3_1700/nuclie30/chromosome/019.jpg', '/data/FIBSEM/nuclie_align_ROI3_1700/nuclie30/chromosome/020.jpg', '/data/FIBSEM/nuclie_align_ROI3_1700/nuclie30/chromosome/021.jpg', '/data/FIBSEM/nuclie_align_ROI3_1700/nuclie30/chromosome/022.jpg', '/data/FIBSEM/nuclie_align_ROI3_1700/nuclie30/chromosome/023.jpg', '/data/FIBSEM/nuclie_align_ROI3_1700/nuclie30/chromosome/024.jpg', '/data/FIBSEM/nuclie_align_ROI3_1700/nuclie30/chromosome/025.jpg', '/data/FIBSEM/nuclie_align_ROI3_1700/nuclie30/chromosome/026.jpg', '/data/FIBSEM/nuclie_align_ROI3_1700/nuclie30/chromosome/027.jpg', '/data/FIBSEM/nuclie_align_ROI3_1700/nuclie30/chromosome/028.jpg', '/data/FIBSEM/nuclie_align_ROI3_1700/nuclie30/chromosome/029.jpg', '/data/FIBSEM/nuclie_align_ROI3_1700/nuclie30/chromosome/030.jpg', '/data/FIBSEM/nuclie_align_ROI3_1700/nuclie30/chromosome/031.jpg', '/data/FIBSEM/nuclie_align_ROI3_1700/nuclie30/chromosome/032.jpg', '/data/FIBSEM/nuclie_align_ROI3_1700/nuclie30/chromosome/033.jpg', '/data/FIBSEM/nuclie_align_ROI3_1700/nuclie30/chromosome/034.jpg', '/data/FIBSEM/nuclie_align_ROI3_1700/nuclie30/chromosome/035.jpg', '/data/FIBSEM/nuclie_align_ROI3_1700/nuclie30/chromosome/036.jpg', '/data/FIBSEM/nuclie_align_ROI3_1700/nuclie30/chromosome/037.jpg', '/data/FIBSEM/nuclie_align_ROI3_1700/nuclie30/chromosome/038.jpg', '/data/FIBSEM/nuclie_align_ROI3_1700/nuclie30/chromosome/039.jpg', '/data/FIBSEM/nuclie_align_ROI3_1700/nuclie30/chromosome/040.jpg', '/data/FIBSEM/nuclie_align_ROI3_1700/nuclie30/chromosome/041.jpg', '/data/FIBSEM/nuclie_align_ROI3_1700/nuclie30/chromosome/042.jpg', '/data/FIBSEM/nuclie_align_ROI3_1700/nuclie30/chromosome/043.jpg', '/data/FIBSEM/nuclie_align_ROI3_1700/nuclie30/chromosome/044.jpg', '/data/FIBSEM/nuclie_align_ROI3_1700/nuclie30/chromosome/045.jpg', '/data/FIBSEM/nuclie_align_ROI3_1700/nuclie30/chromosome/046.jpg', '/data/FIBSEM/nuclie_align_ROI3_1700/nuclie30/chromosome/047.jpg', '/data/FIBSEM/nuclie_align_ROI3_1700/nuclie30/chromosome/048.jpg', '/data/FIBSEM/nuclie_align_ROI3_1700/nuclie30/chromosome/049.jpg', '/data/FIBSEM/nuclie_align_ROI3_1700/nuclie30/chromosome/050.jpg', '/data/FIBSEM/nuclie_align_ROI3_1700/nuclie30/chromosome/051.jpg', '/data/FIBSEM/nuclie_align_ROI3_1700/nuclie30/chromosome/052.jpg', '/data/FIBSEM/nuclie_align_ROI3_1700/nuclie30/chromosome/053.jpg', '/data/FIBSEM/nuclie_align_ROI3_1700/nuclie30/chromosome/054.jpg', '/data/FIBSEM/nuclie_align_ROI3_1700/nuclie30/chromosome/055.jpg', '/data/FIBSEM/nuclie_align_ROI3_1700/nuclie30/chromosome/056.jpg', '/data/FIBSEM/nuclie_align_ROI3_1700/nuclie30/chromosome/057.jpg', '/data/FIBSEM/nuclie_align_ROI3_1700/nuclie30/chromosome/058.jpg', '/data/FIBSEM/nuclie_align_ROI3_1700/nuclie30/chromosome/059.jpg', '/data/FIBSEM/nuclie_align_ROI3_1700/nuclie30/chromosome/060.jpg', '/data/FIBSEM/nuclie_align_ROI3_1700/nuclie30/chromosome/061.jpg', '/data/FIBSEM/nuclie_align_ROI3_1700/nuclie30/chromosome/062.jpg', '/data/FIBSEM/nuclie_align_ROI3_1700/nuclie30/chromosome/063.jpg', '/data/FIBSEM/nuclie_align_ROI3_1700/nuclie30/chromosome/064.jpg', '/data/FIBSEM/nuclie_align_ROI3_1700/nuclie30/chromosome/065.jpg', '/data/FIBSEM/nuclie_align_ROI3_1700/nuclie30/chromosome/066.jpg', '/data/FIBSEM/nuclie_align_ROI3_1700/nuclie30/chromosome/067.jpg', '/data/FIBSEM/nuclie_align_ROI3_1700/nuclie30/chromosome/068.jpg', '/data/FIBSEM/nuclie_align_ROI3_1700/nuclie30/chromosome/069.jpg', '/data/FIBSEM/nuclie_align_ROI3_1700/nuclie30/chromosome/070.jpg', '/data/FIBSEM/nuclie_align_ROI3_1700/nuclie30/chromosome/071.jpg', '/data/FIBSEM/nuclie_align_ROI3_1700/nuclie30/chromosome/072.jpg', '/data/FIBSEM/nuclie_align_ROI3_1700/nuclie30/chromosome/073.jpg', '/data/FIBSEM/nuclie_align_ROI3_1700/nuclie30/chromosome/074.jpg', '/data/FIBSEM/nuclie_align_ROI3_1700/nuclie30/chromosome/075.jpg', '/data/FIBSEM/nuclie_align_ROI3_1700/nuclie30/chromosome/076.jpg', '/data/FIBSEM/nuclie_align_ROI3_1700/nuclie30/chromosome/077.jpg', '/data/FIBSEM/nuclie_align_ROI3_1700/nuclie30/chromosome/078.jpg', '/data/FIBSEM/nuclie_align_ROI3_1700/nuclie30/chromosome/079.jpg', '/data/FIBSEM/nuclie_align_ROI3_1700/nuclie30/chromosome/080.jpg', '/data/FIBSEM/nuclie_align_ROI3_1700/nuclie30/chromosome/081.jpg', '/data/FIBSEM/nuclie_align_ROI3_1700/nuclie30/chromosome/082.jpg', '/data/FIBSEM/nuclie_align_ROI3_1700/nuclie30/chromosome/083.jpg', '/data/FIBSEM/nuclie_align_ROI3_1700/nuclie30/chromosome/084.jpg', '/data/FIBSEM/nuclie_align_ROI3_1700/nuclie30/chromosome/085.jpg', '/data/FIBSEM/nuclie_align_ROI3_1700/nuclie30/chromosome/086.jpg', '/data/FIBSEM/nuclie_align_ROI3_1700/nuclie30/chromosome/087.jpg', '/data/FIBSEM/nuclie_align_ROI3_1700/nuclie30/chromosome/088.jpg', '/data/FIBSEM/nuclie_align_ROI3_1700/nuclie30/chromosome/089.jpg', '/data/FIBSEM/nuclie_align_ROI3_1700/nuclie30/chromosome/090.jpg', '/data/FIBSEM/nuclie_align_ROI3_1700/nuclie30/chromosome/091.jpg', '/data/FIBSEM/nuclie_align_ROI3_1700/nuclie30/chromosome/092.jpg', '/data/FIBSEM/nuclie_align_ROI3_1700/nuclie30/chromosome/093.jpg', '/data/FIBSEM/nuclie_align_ROI3_1700/nuclie30/chromosome/094.jpg', '/data/FIBSEM/nuclie_align_ROI3_1700/nuclie30/chromosome/095.jpg', '/data/FIBSEM/nuclie_align_ROI3_1700/nuclie30/chromosome/096.jpg', '/data/FIBSEM/nuclie_align_ROI3_1700/nuclie30/chromosome/097.jpg', '/data/FIBSEM/nuclie_align_ROI3_1700/nuclie30/chromosome/098.jpg', '/data/FIBSEM/nuclie_align_ROI3_1700/nuclie30/chromosome/099.jpg', '/data/FIBSEM/nuclie_align_ROI3_1700/nuclie30/chromosome/100.jpg', '/data/FIBSEM/nuclie_align_ROI3_1700/nuclie30/chromosome/101.jpg', '/data/FIBSEM/nuclie_align_ROI3_1700/nuclie30/chromosome/102.jpg', '/data/FIBSEM/nuclie_align_ROI3_1700/nuclie30/chromosome/103.jpg', '/data/FIBSEM/nuclie_align_ROI3_1700/nuclie30/chromosome/104.jpg', '/data/FIBSEM/nuclie_align_ROI3_1700/nuclie30/chromosome/105.jpg', '/data/FIBSEM/nuclie_align_ROI3_1700/nuclie30/chromosome/106.jpg', '/data/FIBSEM/nuclie_align_ROI3_1700/nuclie30/chromosome/107.jpg', '/data/FIBSEM/nuclie_align_ROI3_1700/nuclie30/chromosome/108.jpg', '/data/FIBSEM/nuclie_align_ROI3_1700/nuclie30/chromosome/109.jpg', '/data/FIBSEM/nuclie_align_ROI3_1700/nuclie30/chromosome/110.jpg', '/data/FIBSEM/nuclie_align_ROI3_1700/nuclie30/chromosome/111.jpg', '/data/FIBSEM/nuclie_align_ROI3_1700/nuclie30/chromosome/112.jpg', '/data/FIBSEM/nuclie_align_ROI3_1700/nuclie30/chromosome/113.jpg', '/data/FIBSEM/nuclie_align_ROI3_1700/nuclie30/chromosome/114.jpg', '/data/FIBSEM/nuclie_align_ROI3_1700/nuclie30/chromosome/115.jpg', '/data/FIBSEM/nuclie_align_ROI3_1700/nuclie30/chromosome/116.jpg', '/data/FIBSEM/nuclie_align_ROI3_1700/nuclie30/chromosome/117.jpg', '/data/FIBSEM/nuclie_align_ROI3_1700/nuclie30/chromosome/118.jpg', '/data/FIBSEM/nuclie_align_ROI3_1700/nuclie30/chromosome/119.jpg', '/data/FIBSEM/nuclie_align_ROI3_1700/nuclie30/chromosome/120.jpg', '/data/FIBSEM/nuclie_align_ROI3_1700/nuclie30/chromosome/121.jpg', '/data/FIBSEM/nuclie_align_ROI3_1700/nuclie30/chromosome/122.jpg', '/data/FIBSEM/nuclie_align_ROI3_1700/nuclie30/chromosome/123.jpg', '/data/FIBSEM/nuclie_align_ROI3_1700/nuclie30/chromosome/124.jpg', '/data/FIBSEM/nuclie_align_ROI3_1700/nuclie30/chromosome/125.jpg', '/data/FIBSEM/nuclie_align_ROI3_1700/nuclie30/chromosome/126.jpg', '/data/FIBSEM/nuclie_align_ROI3_1700/nuclie30/chromosome/127.jpg', '/data/FIBSEM/nuclie_align_ROI3_1700/nuclie30/chromosome/128.jpg', '/data/FIBSEM/nuclie_align_ROI3_1700/nuclie30/chromosome/129.jpg', '/data/FIBSEM/nuclie_align_ROI3_1700/nuclie30/chromosome/130.jpg', '/data/FIBSEM/nuclie_align_ROI3_1700/nuclie30/chromosome/131.jpg', '/data/FIBSEM/nuclie_align_ROI3_1700/nuclie30/chromosome/132.jpg', '/data/FIBSEM/nuclie_align_ROI3_1700/nuclie30/chromosome/133.jpg', '/data/FIBSEM/nuclie_align_ROI3_1700/nuclie30/chromosome/134.jpg', '/data/FIBSEM/nuclie_align_ROI3_1700/nuclie30/chromosome/135.jpg', '/data/FIBSEM/nuclie_align_ROI3_1700/nuclie30/chromosome/136.jpg', '/data/FIBSEM/nuclie_align_ROI3_1700/nuclie30/chromosome/137.jpg', '/data/FIBSEM/nuclie_align_ROI3_1700/nuclie30/chromosome/138.jpg', '/data/FIBSEM/nuclie_align_ROI3_1700/nuclie30/chromosome/139.jpg', '/data/FIBSEM/nuclie_align_ROI3_1700/nuclie30/chromosome/140.jpg', '/data/FIBSEM/nuclie_align_ROI3_1700/nuclie30/chromosome/141.jpg', '/data/FIBSEM/nuclie_align_ROI3_1700/nuclie30/chromosome/142.jpg', '/data/FIBSEM/nuclie_align_ROI3_1700/nuclie30/chromosome/143.jpg', '/data/FIBSEM/nuclie_align_ROI3_1700/nuclie30/chromosome/144.jpg', '/data/FIBSEM/nuclie_align_ROI3_1700/nuclie30/chromosome/145.jpg', '/data/FIBSEM/nuclie_align_ROI3_1700/nuclie30/chromosome/146.jpg', '/data/FIBSEM/nuclie_align_ROI3_1700/nuclie30/chromosome/147.jpg', '/data/FIBSEM/nuclie_align_ROI3_1700/nuclie30/chromosome/148.jpg', '/data/FIBSEM/nuclie_align_ROI3_1700/nuclie30/chromosome/149.jpg', '/data/FIBSEM/nuclie_align_ROI3_1700/nuclie30/chromosome/150.jpg', '/data/FIBSEM/nuclie_align_ROI3_1700/nuclie30/chromosome/151.jpg', '/data/FIBSEM/nuclie_align_ROI3_1700/nuclie30/chromosome/152.jpg', '/data/FIBSEM/nuclie_align_ROI3_1700/nuclie30/chromosome/153.jpg', '/data/FIBSEM/nuclie_align_ROI3_1700/nuclie30/chromosome/154.jpg', '/data/FIBSEM/nuclie_align_ROI3_1700/nuclie30/chromosome/155.jpg', '/data/FIBSEM/nuclie_align_ROI3_1700/nuclie30/chromosome/156.jpg', '/data/FIBSEM/nuclie_align_ROI3_1700/nuclie30/chromosome/157.jpg', '/data/FIBSEM/nuclie_align_ROI3_1700/nuclie30/chromosome/158.jpg', '/data/FIBSEM/nuclie_align_ROI3_1700/nuclie30/chromosome/159.jpg', '/data/FIBSEM/nuclie_align_ROI3_1700/nuclie30/chromosome/160.jpg', '/data/FIBSEM/nuclie_align_ROI3_1700/nuclie30/chromosome/161.jpg', '/data/FIBSEM/nuclie_align_ROI3_1700/nuclie30/chromosome/162.jpg', '/data/FIBSEM/nuclie_align_ROI3_1700/nuclie30/chromosome/163.jpg', '/data/FIBSEM/nuclie_align_ROI3_1700/nuclie30/chromosome/164.jpg', '/data/FIBSEM/nuclie_align_ROI3_1700/nuclie30/chromosome/165.jpg', '/data/FIBSEM/nuclie_align_ROI3_1700/nuclie30/chromosome/166.jpg', '/data/FIBSEM/nuclie_align_ROI3_1700/nuclie30/chromosome/167.jpg', '/data/FIBSEM/nuclie_align_ROI3_1700/nuclie30/chromosome/168.jpg', '/data/FIBSEM/nuclie_align_ROI3_1700/nuclie30/chromosome/169.jpg', '/data/FIBSEM/nuclie_align_ROI3_1700/nuclie30/chromosome/170.jpg', '/data/FIBSEM/nuclie_align_ROI3_1700/nuclie30/chromosome/171.jpg', '/data/FIBSEM/nuclie_align_ROI3_1700/nuclie30/chromosome/172.jpg', '/data/FIBSEM/nuclie_align_ROI3_1700/nuclie30/chromosome/173.jpg', '/data/FIBSEM/nuclie_align_ROI3_1700/nuclie30/chromosome/174.jpg', '/data/FIBSEM/nuclie_align_ROI3_1700/nuclie30/chromosome/175.jpg', '/data/FIBSEM/nuclie_align_ROI3_1700/nuclie30/chromosome/176.jpg', '/data/FIBSEM/nuclie_align_ROI3_1700/nuclie30/chromosome/177.jpg', '/data/FIBSEM/nuclie_align_ROI3_1700/nuclie30/chromosome/178.jpg', '/data/FIBSEM/nuclie_align_ROI3_1700/nuclie30/chromosome/179.jpg', '/data/FIBSEM/nuclie_align_ROI3_1700/nuclie30/chromosome/180.jpg', '/data/FIBSEM/nuclie_align_ROI3_1700/nuclie30/chromosome/181.jpg', '/data/FIBSEM/nuclie_align_ROI3_1700/nuclie30/chromosome/182.jpg', '/data/FIBSEM/nuclie_align_ROI3_1700/nuclie30/chromosome/183.jpg', '/data/FIBSEM/nuclie_align_ROI3_1700/nuclie30/chromosome/184.jpg', '/data/FIBSEM/nuclie_align_ROI3_1700/nuclie30/chromosome/185.jpg', '/data/FIBSEM/nuclie_align_ROI3_1700/nuclie30/chromosome/186.jpg', '/data/FIBSEM/nuclie_align_ROI3_1700/nuclie30/chromosome/187.jpg', '/data/FIBSEM/nuclie_align_ROI3_1700/nuclie30/chromosome/188.jpg', '/data/FIBSEM/nuclie_align_ROI3_1700/nuclie30/chromosome/189.jpg', '/data/FIBSEM/nuclie_align_ROI3_1700/nuclie30/chromosome/190.jpg', '/data/FIBSEM/nuclie_align_ROI3_1700/nuclie30/chromosome/191.jpg', '/data/FIBSEM/nuclie_align_ROI3_1700/nuclie30/chromosome/192.jpg', '/data/FIBSEM/nuclie_align_ROI3_1700/nuclie30/chromosome/193.jpg', '/data/FIBSEM/nuclie_align_ROI3_1700/nuclie30/chromosome/194.jpg', '/data/FIBSEM/nuclie_align_ROI3_1700/nuclie30/chromosome/195.jpg', '/data/FIBSEM/nuclie_align_ROI3_1700/nuclie30/chromosome/196.jpg', '/data/FIBSEM/nuclie_align_ROI3_1700/nuclie30/chromosome/197.jpg', '/data/FIBSEM/nuclie_align_ROI3_1700/nuclie30/chromosome/198.jpg', '/data/FIBSEM/nuclie_align_ROI3_1700/nuclie30/chromosome/199.jpg', '/data/FIBSEM/nuclie_align_ROI3_1700/nuclie30/chromosome/200.jpg', '/data/FIBSEM/nuclie_align_ROI3_1700/nuclie30/chromosome/201.jpg', '/data/FIBSEM/nuclie_align_ROI3_1700/nuclie30/chromosome/202.jpg', '/data/FIBSEM/nuclie_align_ROI3_1700/nuclie30/chromosome/203.jpg', '/data/FIBSEM/nuclie_align_ROI3_1700/nuclie30/chromosome/204.jpg', '/data/FIBSEM/nuclie_align_ROI3_1700/nuclie30/chromosome/205.jpg', '/data/FIBSEM/nuclie_align_ROI3_1700/nuclie30/chromosome/206.jpg', '/data/FIBSEM/nuclie_align_ROI3_1700/nuclie30/chromosome/207.jpg', '/data/FIBSEM/nuclie_align_ROI3_1700/nuclie30/chromosome/208.jpg', '/data/FIBSEM/nuclie_align_ROI3_1700/nuclie30/chromosome/209.jpg', '/data/FIBSEM/nuclie_align_ROI3_1700/nuclie30/chromosome/210.jpg', '/data/FIBSEM/nuclie_align_ROI3_1700/nuclie30/chromosome/211.jpg', '/data/FIBSEM/nuclie_align_ROI3_1700/nuclie30/chromosome/212.jpg', '/data/FIBSEM/nuclie_align_ROI3_1700/nuclie30/chromosome/213.jpg', '/data/FIBSEM/nuclie_align_ROI3_1700/nuclie30/chromosome/214.jpg', '/data/FIBSEM/nuclie_align_ROI3_1700/nuclie30/chromosome/215.jpg', '/data/FIBSEM/nuclie_align_ROI3_1700/nuclie30/chromosome/216.jpg', '/data/FIBSEM/nuclie_align_ROI3_1700/nuclie30/chromosome/217.jpg', '/data/FIBSEM/nuclie_align_ROI3_1700/nuclie30/chromosome/218.jpg', '/data/FIBSEM/nuclie_align_ROI3_1700/nuclie30/chromosome/219.jpg', '/data/FIBSEM/nuclie_align_ROI3_1700/nuclie30/chromosome/220.jpg', '/data/FIBSEM/nuclie_align_ROI3_1700/nuclie30/chromosome/221.jpg', '/data/FIBSEM/nuclie_align_ROI3_1700/nuclie30/chromosome/222.jpg', '/data/FIBSEM/nuclie_align_ROI3_1700/nuclie30/chromosome/223.jpg', '/data/FIBSEM/nuclie_align_ROI3_1700/nuclie30/chromosome/224.jpg', '/data/FIBSEM/nuclie_align_ROI3_1700/nuclie30/chromosome/225.jpg', '/data/FIBSEM/nuclie_align_ROI3_1700/nuclie30/chromosome/226.jpg', '/data/FIBSEM/nuclie_align_ROI3_1700/nuclie30/chromosome/227.jpg', '/data/FIBSEM/nuclie_align_ROI3_1700/nuclie30/chromosome/228.jpg', '/data/FIBSEM/nuclie_align_ROI3_1700/nuclie30/chromosome/229.jpg', '/data/FIBSEM/nuclie_align_ROI3_1700/nuclie30/chromosome/230.jpg', '/data/FIBSEM/nuclie_align_ROI3_1700/nuclie30/chromosome/231.jpg', '/data/FIBSEM/nuclie_align_ROI3_1700/nuclie30/chromosome/232.jpg', '/data/FIBSEM/nuclie_align_ROI3_1700/nuclie30/chromosome/233.jpg', '/data/FIBSEM/nuclie_align_ROI3_1700/nuclie30/chromosome/234.jpg', '/data/FIBSEM/nuclie_align_ROI3_1700/nuclie30/chromosome/235.jpg', '/data/FIBSEM/nuclie_align_ROI3_1700/nuclie30/chromosome/236.jpg', '/data/FIBSEM/nuclie_align_ROI3_1700/nuclie30/chromosome/237.jpg', '/data/FIBSEM/nuclie_align_ROI3_1700/nuclie30/chromosome/238.jpg', '/data/FIBSEM/nuclie_align_ROI3_1700/nuclie30/chromosome/239.jpg', '/data/FIBSEM/nuclie_align_ROI3_1700/nuclie30/chromosome/240.jpg', '/data/FIBSEM/nuclie_align_ROI3_1700/nuclie30/chromosome/241.jpg', '/data/FIBSEM/nuclie_align_ROI3_1700/nuclie30/chromosome/242.jpg', '/data/FIBSEM/nuclie_align_ROI3_1700/nuclie30/chromosome/243.jpg', '/data/FIBSEM/nuclie_align_ROI3_1700/nuclie30/chromosome/244.jpg', '/data/FIBSEM/nuclie_align_ROI3_1700/nuclie30/chromosome/245.jpg', '/data/FIBSEM/nuclie_align_ROI3_1700/nuclie30/chromosome/246.jpg', '/data/FIBSEM/nuclie_align_ROI3_1700/nuclie30/chromosome/247.jpg', '/data/FIBSEM/nuclie_align_ROI3_1700/nuclie30/chromosome/248.jpg', '/data/FIBSEM/nuclie_align_ROI3_1700/nuclie30/chromosome/249.jpg', '/data/FIBSEM/nuclie_align_ROI3_1700/nuclie30/chromosome/250.jpg', '/data/FIBSEM/nuclie_align_ROI3_1700/nuclie30/chromosome/251.jpg', '/data/FIBSEM/nuclie_align_ROI3_1700/nuclie30/chromosome/252.jpg', '/data/FIBSEM/nuclie_align_ROI3_1700/nuclie30/chromosome/253.jpg', '/data/FIBSEM/nuclie_align_ROI3_1700/nuclie30/chromosome/254.jpg', '/data/FIBSEM/nuclie_align_ROI3_1700/nuclie30/chromosome/255.jpg', '/data/FIBSEM/nuclie_align_ROI3_1700/nuclie30/chromosome/256.jpg', '/data/FIBSEM/nuclie_align_ROI3_1700/nuclie30/chromosome/257.jpg', '/data/FIBSEM/nuclie_align_ROI3_1700/nuclie30/chromosome/258.jpg', '/data/FIBSEM/nuclie_align_ROI3_1700/nuclie30/chromosome/259.jpg', '/data/FIBSEM/nuclie_align_ROI3_1700/nuclie30/chromosome/260.jpg', '/data/FIBSEM/nuclie_align_ROI3_1700/nuclie30/chromosome/261.jpg', '/data/FIBSEM/nuclie_align_ROI3_1700/nuclie30/chromosome/262.jpg', '/data/FIBSEM/nuclie_align_ROI3_1700/nuclie30/chromosome/263.jpg', '/data/FIBSEM/nuclie_align_ROI3_1700/nuclie30/chromosome/264.jpg', '/data/FIBSEM/nuclie_align_ROI3_1700/nuclie30/chromosome/265.jpg', '/data/FIBSEM/nuclie_align_ROI3_1700/nuclie30/chromosome/266.jpg', '/data/FIBSEM/nuclie_align_ROI3_1700/nuclie30/chromosome/267.jpg', '/data/FIBSEM/nuclie_align_ROI3_1700/nuclie30/chromosome/268.jpg', '/data/FIBSEM/nuclie_align_ROI3_1700/nuclie30/chromosome/269.jpg', '/data/FIBSEM/nuclie_align_ROI3_1700/nuclie30/chromosome/270.jpg', '/data/FIBSEM/nuclie_align_ROI3_1700/nuclie30/chromosome/271.jpg', '/data/FIBSEM/nuclie_align_ROI3_1700/nuclie30/chromosome/272.jpg', '/data/FIBSEM/nuclie_align_ROI3_1700/nuclie30/chromosome/273.jpg', '/data/FIBSEM/nuclie_align_ROI3_1700/nuclie30/chromosome/274.jpg', '/data/FIBSEM/nuclie_align_ROI3_1700/nuclie30/chromosome/275.jpg', '/data/FIBSEM/nuclie_align_ROI3_1700/nuclie30/chromosome/276.jpg', '/data/FIBSEM/nuclie_align_ROI3_1700/nuclie30/chromosome/277.jpg', '/data/FIBSEM/nuclie_align_ROI3_1700/nuclie30/chromosome/278.jpg', '/data/FIBSEM/nuclie_align_ROI3_1700/nuclie30/chromosome/279.jpg', '/data/FIBSEM/nuclie_align_ROI3_1700/nuclie30/chromosome/280.jpg', '/data/FIBSEM/nuclie_align_ROI3_1700/nuclie30/chromosome/281.jpg', '/data/FIBSEM/nuclie_align_ROI3_1700/nuclie30/chromosome/282.jpg', '/data/FIBSEM/nuclie_align_ROI3_1700/nuclie30/chromosome/283.jpg', '/data/FIBSEM/nuclie_align_ROI3_1700/nuclie30/chromosome/284.jpg', '/data/FIBSEM/nuclie_align_ROI3_1700/nuclie30/chromosome/285.jpg', '/data/FIBSEM/nuclie_align_ROI3_1700/nuclie30/chromosome/286.jpg', '/data/FIBSEM/nuclie_align_ROI3_1700/nuclie30/chromosome/287.jpg', '/data/FIBSEM/nuclie_align_ROI3_1700/nuclie30/chromosome/288.jpg', '/data/FIBSEM/nuclie_align_ROI3_1700/nuclie30/chromosome/289.jpg', '/data/FIBSEM/nuclie_align_ROI3_1700/nuclie30/chromosome/290.jpg', '/data/FIBSEM/nuclie_align_ROI3_1700/nuclie30/chromosome/291.jpg', '/data/FIBSEM/nuclie_align_ROI3_1700/nuclie30/chromosome/292.jpg', '/data/FIBSEM/nuclie_align_ROI3_1700/nuclie30/chromosome/293.jpg', '/data/FIBSEM/nuclie_align_ROI3_1700/nuclie30/chromosome/294.jpg', '/data/FIBSEM/nuclie_align_ROI3_1700/nuclie30/chromosome/295.jpg', '/data/FIBSEM/nuclie_align_ROI3_1700/nuclie30/chromosome/296.jpg', '/data/FIBSEM/nuclie_align_ROI3_1700/nuclie30/chromosome/297.jpg', '/data/FIBSEM/nuclie_align_ROI3_1700/nuclie30/chromosome/298.jpg', '/data/FIBSEM/nuclie_align_ROI3_1700/nuclie30/chromosome/299.jpg', '/data/FIBSEM/nuclie_align_ROI3_1700/nuclie30/chromosome/300.jpg', '/data/FIBSEM/nuclie_align_ROI3_1700/nuclie30/chromosome/301.jpg', '/data/FIBSEM/nuclie_align_ROI3_1700/nuclie30/chromosome/302.jpg', '/data/FIBSEM/nuclie_align_ROI3_1700/nuclie30/chromosome/303.jpg', '/data/FIBSEM/nuclie_align_ROI3_1700/nuclie30/chromosome/304.jpg', '/data/FIBSEM/nuclie_align_ROI3_1700/nuclie30/chromosome/305.jpg', '/data/FIBSEM/nuclie_align_ROI3_1700/nuclie30/chromosome/306.jpg', '/data/FIBSEM/nuclie_align_ROI3_1700/nuclie30/chromosome/307.jpg', '/data/FIBSEM/nuclie_align_ROI3_1700/nuclie30/chromosome/308.jpg', '/data/FIBSEM/nuclie_align_ROI3_1700/nuclie30/chromosome/309.jpg', '/data/FIBSEM/nuclie_align_ROI3_1700/nuclie30/chromosome/310.jpg', '/data/FIBSEM/nuclie_align_ROI3_1700/nuclie30/chromosome/311.jpg', '/data/FIBSEM/nuclie_align_ROI3_1700/nuclie30/chromosome/312.jpg', '/data/FIBSEM/nuclie_align_ROI3_1700/nuclie30/chromosome/313.jpg', '/data/FIBSEM/nuclie_align_ROI3_1700/nuclie30/chromosome/314.jpg', '/data/FIBSEM/nuclie_align_ROI3_1700/nuclie30/chromosome/315.jpg', '/data/FIBSEM/nuclie_align_ROI3_1700/nuclie30/chromosome/316.jpg', '/data/FIBSEM/nuclie_align_ROI3_1700/nuclie30/chromosome/317.jpg', '/data/FIBSEM/nuclie_align_ROI3_1700/nuclie30/chromosome/318.jpg', '/data/FIBSEM/nuclie_align_ROI3_1700/nuclie30/chromosome/319.jpg', '/data/FIBSEM/nuclie_align_ROI3_1700/nuclie30/chromosome/320.jpg', '/data/FIBSEM/nuclie_align_ROI3_1700/nuclie30/chromosome/321.jpg', '/data/FIBSEM/nuclie_align_ROI3_1700/nuclie30/chromosome/322.jpg', '/data/FIBSEM/nuclie_align_ROI3_1700/nuclie30/chromosome/323.jpg', '/data/FIBSEM/nuclie_align_ROI3_1700/nuclie30/chromosome/324.jpg', '/data/FIBSEM/nuclie_align_ROI3_1700/nuclie30/chromosome/325.jpg', '/data/FIBSEM/nuclie_align_ROI3_1700/nuclie30/chromosome/326.jpg', '/data/FIBSEM/nuclie_align_ROI3_1700/nuclie30/chromosome/327.jpg', '/data/FIBSEM/nuclie_align_ROI3_1700/nuclie30/chromosome/328.jpg', '/data/FIBSEM/nuclie_align_ROI3_1700/nuclie30/chromosome/329.jpg', '/data/FIBSEM/nuclie_align_ROI3_1700/nuclie30/chromosome/330.jpg', '/data/FIBSEM/nuclie_align_ROI3_1700/nuclie30/chromosome/331.jpg', '/data/FIBSEM/nuclie_align_ROI3_1700/nuclie30/chromosome/332.jpg', '/data/FIBSEM/nuclie_align_ROI3_1700/nuclie30/chromosome/333.jpg', '/data/FIBSEM/nuclie_align_ROI3_1700/nuclie30/chromosome/334.jpg', '/data/FIBSEM/nuclie_align_ROI3_1700/nuclie30/chromosome/335.jpg', '/data/FIBSEM/nuclie_align_ROI3_1700/nuclie30/chromosome/336.jpg', '/data/FIBSEM/nuclie_align_ROI3_1700/nuclie30/chromosome/337.jpg', '/data/FIBSEM/nuclie_align_ROI3_1700/nuclie30/chromosome/338.jpg', '/data/FIBSEM/nuclie_align_ROI3_1700/nuclie30/chromosome/339.jpg', '/data/FIBSEM/nuclie_align_ROI3_1700/nuclie30/chromosome/340.jpg', '/data/FIBSEM/nuclie_align_ROI3_1700/nuclie30/chromosome/341.jpg', '/data/FIBSEM/nuclie_align_ROI3_1700/nuclie30/chromosome/342.jpg', '/data/FIBSEM/nuclie_align_ROI3_1700/nuclie30/chromosome/343.jpg', '/data/FIBSEM/nuclie_align_ROI3_1700/nuclie30/chromosome/344.jpg', '/data/FIBSEM/nuclie_align_ROI3_1700/nuclie30/chromosome/345.jpg', '/data/FIBSEM/nuclie_align_ROI3_1700/nuclie30/chromosome/346.jpg', '/data/FIBSEM/nuclie_align_ROI3_1700/nuclie30/chromosome/347.jpg', '/data/FIBSEM/nuclie_align_ROI3_1700/nuclie30/chromosome/348.jpg', '/data/FIBSEM/nuclie_align_ROI3_1700/nuclie30/chromosome/349.jpg', '/data/FIBSEM/nuclie_align_ROI3_1700/nuclie30/chromosome/350.jpg', '/data/FIBSEM/nuclie_align_ROI3_1700/nuclie30/chromosome/351.jpg', '/data/FIBSEM/nuclie_align_ROI3_1700/nuclie30/chromosome/352.jpg', '/data/FIBSEM/nuclie_align_ROI3_1700/nuclie30/chromosome/353.jpg', '/data/FIBSEM/nuclie_align_ROI3_1700/nuclie30/chromosome/354.jpg', '/data/FIBSEM/nuclie_align_ROI3_1700/nuclie30/chromosome/355.jpg', '/data/FIBSEM/nuclie_align_ROI3_1700/nuclie30/chromosome/356.jpg', '/data/FIBSEM/nuclie_align_ROI3_1700/nuclie30/chromosome/357.jpg', '/data/FIBSEM/nuclie_align_ROI3_1700/nuclie30/chromosome/358.jpg', '/data/FIBSEM/nuclie_align_ROI3_1700/nuclie30/chromosome/359.jpg', '/data/FIBSEM/nuclie_align_ROI3_1700/nuclie30/chromosome/360.jpg', '/data/FIBSEM/nuclie_align_ROI3_1700/nuclie30/chromosome/361.jpg', '/data/FIBSEM/nuclie_align_ROI3_1700/nuclie30/chromosome/362.jpg', '/data/FIBSEM/nuclie_align_ROI3_1700/nuclie30/chromosome/363.jpg', '/data/FIBSEM/nuclie_align_ROI3_1700/nuclie30/chromosome/364.jpg', '/data/FIBSEM/nuclie_align_ROI3_1700/nuclie30/chromosome/365.jpg', '/data/FIBSEM/nuclie_align_ROI3_1700/nuclie30/chromosome/366.jpg', '/data/FIBSEM/nuclie_align_ROI3_1700/nuclie30/chromosome/367.jpg', '/data/FIBSEM/nuclie_align_ROI3_1700/nuclie30/chromosome/368.jpg', '/data/FIBSEM/nuclie_align_ROI3_1700/nuclie30/chromosome/369.jpg', '/data/FIBSEM/nuclie_align_ROI3_1700/nuclie30/chromosome/370.jpg', '/data/FIBSEM/nuclie_align_ROI3_1700/nuclie30/chromosome/371.jpg', '/data/FIBSEM/nuclie_align_ROI3_1700/nuclie30/chromosome/372.jpg', '/data/FIBSEM/nuclie_align_ROI3_1700/nuclie30/chromosome/373.jpg', '/data/FIBSEM/nuclie_align_ROI3_1700/nuclie30/chromosome/374.jpg', '/data/FIBSEM/nuclie_align_ROI3_1700/nuclie30/chromosome/375.jpg', '/data/FIBSEM/nuclie_align_ROI3_1700/nuclie30/chromosome/376.jpg', '/data/FIBSEM/nuclie_align_ROI3_1700/nuclie30/chromosome/377.jpg', '/data/FIBSEM/nuclie_align_ROI3_1700/nuclie30/chromosome/378.jpg', '/data/FIBSEM/nuclie_align_ROI3_1700/nuclie30/chromosome/379.jpg', '/data/FIBSEM/nuclie_align_ROI3_1700/nuclie30/chromosome/380.jpg', '/data/FIBSEM/nuclie_align_ROI3_1700/nuclie30/chromosome/381.jpg', '/data/FIBSEM/nuclie_align_ROI3_1700/nuclie30/chromosome/382.jpg', '/data/FIBSEM/nuclie_align_ROI3_1700/nuclie30/chromosome/383.jpg', '/data/FIBSEM/nuclie_align_ROI3_1700/nuclie30/chromosome/384.jpg', '/data/FIBSEM/nuclie_align_ROI3_1700/nuclie30/chromosome/385.jpg', '/data/FIBSEM/nuclie_align_ROI3_1700/nuclie30/chromosome/386.jpg', '/data/FIBSEM/nuclie_align_ROI3_1700/nuclie30/chromosome/387.jpg', '/data/FIBSEM/nuclie_align_ROI3_1700/nuclie30/chromosome/388.jpg', '/data/FIBSEM/nuclie_align_ROI3_1700/nuclie30/chromosome/389.jpg', '/data/FIBSEM/nuclie_align_ROI3_1700/nuclie30/chromosome/390.jpg', '/data/FIBSEM/nuclie_align_ROI3_1700/nuclie30/chromosome/391.jpg', '/data/FIBSEM/nuclie_align_ROI3_1700/nuclie30/chromosome/392.jpg', '/data/FIBSEM/nuclie_align_ROI3_1700/nuclie30/chromosome/393.jpg', '/data/FIBSEM/nuclie_align_ROI3_1700/nuclie30/chromosome/394.jpg', '/data/FIBSEM/nuclie_align_ROI3_1700/nuclie30/chromosome/395.jpg', '/data/FIBSEM/nuclie_align_ROI3_1700/nuclie30/chromosome/396.jpg', '/data/FIBSEM/nuclie_align_ROI3_1700/nuclie30/chromosome/397.jpg', '/data/FIBSEM/nuclie_align_ROI3_1700/nuclie30/chromosome/398.jpg', '/data/FIBSEM/nuclie_align_ROI3_1700/nuclie30/chromosome/399.jpg', '/data/FIBSEM/nuclie_align_ROI3_1700/nuclie30/chromosome/400.jpg', '/data/FIBSEM/nuclie_align_ROI3_1700/nuclie30/chromosome/401.jpg', '/data/FIBSEM/nuclie_align_ROI3_1700/nuclie30/chromosome/402.jpg', '/data/FIBSEM/nuclie_align_ROI3_1700/nuclie30/chromosome/403.jpg', '/data/FIBSEM/nuclie_align_ROI3_1700/nuclie30/chromosome/404.jpg', '/data/FIBSEM/nuclie_align_ROI3_1700/nuclie30/chromosome/405.jpg', '/data/FIBSEM/nuclie_align_ROI3_1700/nuclie30/chromosome/406.jpg', '/data/FIBSEM/nuclie_align_ROI3_1700/nuclie30/chromosome/407.jpg', '/data/FIBSEM/nuclie_align_ROI3_1700/nuclie30/chromosome/408.jpg', '/data/FIBSEM/nuclie_align_ROI3_1700/nuclie30/chromosome/409.jpg', '/data/FIBSEM/nuclie_align_ROI3_1700/nuclie30/chromosome/410.jpg', '/data/FIBSEM/nuclie_align_ROI3_1700/nuclie30/chromosome/411.jpg', '/data/FIBSEM/nuclie_align_ROI3_1700/nuclie30/chromosome/412.jpg', '/data/FIBSEM/nuclie_align_ROI3_1700/nuclie30/chromosome/413.jpg', '/data/FIBSEM/nuclie_align_ROI3_1700/nuclie30/chromosome/414.jpg', '/data/FIBSEM/nuclie_align_ROI3_1700/nuclie30/chromosome/415.jpg', '/data/FIBSEM/nuclie_align_ROI3_1700/nuclie30/chromosome/416.jpg', '/data/FIBSEM/nuclie_align_ROI3_1700/nuclie30/chromosome/417.jpg', '/data/FIBSEM/nuclie_align_ROI3_1700/nuclie30/chromosome/418.jpg', '/data/FIBSEM/nuclie_align_ROI3_1700/nuclie30/chromosome/419.jpg', '/data/FIBSEM/nuclie_align_ROI3_1700/nuclie30/chromosome/420.jpg', '/data/FIBSEM/nuclie_align_ROI3_1700/nuclie30/chromosome/421.jpg', '/data/FIBSEM/nuclie_align_ROI3_1700/nuclie30/chromosome/422.jpg', '/data/FIBSEM/nuclie_align_ROI3_1700/nuclie30/chromosome/423.jpg', '/data/FIBSEM/nuclie_align_ROI3_1700/nuclie30/chromosome/424.jpg', '/data/FIBSEM/nuclie_align_ROI3_1700/nuclie30/chromosome/425.jpg', '/data/FIBSEM/nuclie_align_ROI3_1700/nuclie30/chromosome/426.jpg', '/data/FIBSEM/nuclie_align_ROI3_1700/nuclie30/chromosome/427.jpg', '/data/FIBSEM/nuclie_align_ROI3_1700/nuclie30/chromosome/428.jpg', '/data/FIBSEM/nuclie_align_ROI3_1700/nuclie30/chromosome/429.jpg', '/data/FIBSEM/nuclie_align_ROI3_1700/nuclie30/chromosome/430.jpg', '/data/FIBSEM/nuclie_align_ROI3_1700/nuclie30/chromosome/431.jpg', '/data/FIBSEM/nuclie_align_ROI3_1700/nuclie30/chromosome/432.jpg', '/data/FIBSEM/nuclie_align_ROI3_1700/nuclie30/chromosome/433.jpg', '/data/FIBSEM/nuclie_align_ROI3_1700/nuclie30/chromosome/434.jpg', '/data/FIBSEM/nuclie_align_ROI3_1700/nuclie30/chromosome/435.jpg', '/data/FIBSEM/nuclie_align_ROI3_1700/nuclie30/chromosome/436.jpg', '/data/FIBSEM/nuclie_align_ROI3_1700/nuclie30/chromosome/437.jpg', '/data/FIBSEM/nuclie_align_ROI3_1700/nuclie30/chromosome/438.jpg', '/data/FIBSEM/nuclie_align_ROI3_1700/nuclie30/chromosome/439.jpg', '/data/FIBSEM/nuclie_align_ROI3_1700/nuclie30/chromosome/440.jpg', '/data/FIBSEM/nuclie_align_ROI3_1700/nuclie30/chromosome/441.jpg', '/data/FIBSEM/nuclie_align_ROI3_1700/nuclie30/chromosome/442.jpg', '/data/FIBSEM/nuclie_align_ROI3_1700/nuclie30/chromosome/443.jpg', '/data/FIBSEM/nuclie_align_ROI3_1700/nuclie30/chromosome/444.jpg', '/data/FIBSEM/nuclie_align_ROI3_1700/nuclie30/chromosome/445.jpg', '/data/FIBSEM/nuclie_align_ROI3_1700/nuclie30/chromosome/446.jpg', '/data/FIBSEM/nuclie_align_ROI3_1700/nuclie30/chromosome/447.jpg', '/data/FIBSEM/nuclie_align_ROI3_1700/nuclie30/chromosome/448.jpg', '/data/FIBSEM/nuclie_align_ROI3_1700/nuclie30/chromosome/449.jpg', '/data/FIBSEM/nuclie_align_ROI3_1700/nuclie30/chromosome/450.jpg', '/data/FIBSEM/nuclie_align_ROI3_1700/nuclie30/chromosome/451.jpg', '/data/FIBSEM/nuclie_align_ROI3_1700/nuclie30/chromosome/452.jpg', '/data/FIBSEM/nuclie_align_ROI3_1700/nuclie30/chromosome/453.jpg', '/data/FIBSEM/nuclie_align_ROI3_1700/nuclie30/chromosome/454.jpg', '/data/FIBSEM/nuclie_align_ROI3_1700/nuclie30/chromosome/455.jpg', '/data/FIBSEM/nuclie_align_ROI3_1700/nuclie30/chromosome/456.jpg', '/data/FIBSEM/nuclie_align_ROI3_1700/nuclie30/chromosome/457.jpg', '/data/FIBSEM/nuclie_align_ROI3_1700/nuclie30/chromosome/458.jpg', '/data/FIBSEM/nuclie_align_ROI3_1700/nuclie30/chromosome/459.jpg', '/data/FIBSEM/nuclie_align_ROI3_1700/nuclie30/chromosome/460.jpg', '/data/FIBSEM/nuclie_align_ROI3_1700/nuclie30/chromosome/461.jpg', '/data/FIBSEM/nuclie_align_ROI3_1700/nuclie30/chromosome/462.jpg', '/data/FIBSEM/nuclie_align_ROI3_1700/nuclie30/chromosome/463.jpg', '/data/FIBSEM/nuclie_align_ROI3_1700/nuclie30/chromosome/464.jpg', '/data/FIBSEM/nuclie_align_ROI3_1700/nuclie30/chromosome/465.jpg', '/data/FIBSEM/nuclie_align_ROI3_1700/nuclie30/chromosome/466.jpg', '/data/FIBSEM/nuclie_align_ROI3_1700/nuclie30/chromosome/467.jpg', '/data/FIBSEM/nuclie_align_ROI3_1700/nuclie30/chromosome/468.jpg', '/data/FIBSEM/nuclie_align_ROI3_1700/nuclie30/chromosome/469.jpg', '/data/FIBSEM/nuclie_align_ROI3_1700/nuclie30/chromosome/470.jpg', '/data/FIBSEM/nuclie_align_ROI3_1700/nuclie30/chromosome/471.jpg', '/data/FIBSEM/nuclie_align_ROI3_1700/nuclie30/chromosome/472.jpg', '/data/FIBSEM/nuclie_align_ROI3_1700/nuclie30/chromosome/473.jpg', '/data/FIBSEM/nuclie_align_ROI3_1700/nuclie30/chromosome/474.jpg', '/data/FIBSEM/nuclie_align_ROI3_1700/nuclie30/chromosome/475.jpg', '/data/FIBSEM/nuclie_align_ROI3_1700/nuclie30/chromosome/476.jpg', '/data/FIBSEM/nuclie_align_ROI3_1700/nuclie30/chromosome/477.jpg', '/data/FIBSEM/nuclie_align_ROI3_1700/nuclie30/chromosome/478.jpg', '/data/FIBSEM/nuclie_align_ROI3_1700/nuclie30/chromosome/479.jpg', '/data/FIBSEM/nuclie_align_ROI3_1700/nuclie30/chromosome/480.jpg', '/data/FIBSEM/nuclie_align_ROI3_1700/nuclie30/chromosome/481.jpg', '/data/FIBSEM/nuclie_align_ROI3_1700/nuclie30/chromosome/482.jpg', '/data/FIBSEM/nuclie_align_ROI3_1700/nuclie30/chromosome/483.jpg', '/data/FIBSEM/nuclie_align_ROI3_1700/nuclie30/chromosome/484.jpg', '/data/FIBSEM/nuclie_align_ROI3_1700/nuclie30/chromosome/485.jpg', '/data/FIBSEM/nuclie_align_ROI3_1700/nuclie30/chromosome/486.jpg', '/data/FIBSEM/nuclie_align_ROI3_1700/nuclie30/chromosome/487.jpg', '/data/FIBSEM/nuclie_align_ROI3_1700/nuclie30/chromosome/488.jpg', '/data/FIBSEM/nuclie_align_ROI3_1700/nuclie30/chromosome/489.jpg', '/data/FIBSEM/nuclie_align_ROI3_1700/nuclie30/chromosome/490.jpg', '/data/FIBSEM/nuclie_align_ROI3_1700/nuclie30/chromosome/491.jpg', '/data/FIBSEM/nuclie_align_ROI3_1700/nuclie30/chromosome/492.jpg', '/data/FIBSEM/nuclie_align_ROI3_1700/nuclie30/chromosome/493.jpg', '/data/FIBSEM/nuclie_align_ROI3_1700/nuclie30/chromosome/494.jpg', '/data/FIBSEM/nuclie_align_ROI3_1700/nuclie30/chromosome/495.jpg', '/data/FIBSEM/nuclie_align_ROI3_1700/nuclie30/chromosome/496.jpg', '/data/FIBSEM/nuclie_align_ROI3_1700/nuclie30/chromosome/497.jpg', '/data/FIBSEM/nuclie_align_ROI3_1700/nuclie30/chromosome/498.jpg', '/data/FIBSEM/nuclie_align_ROI3_1700/nuclie30/chromosome/499.jpg', '/data/FIBSEM/nuclie_align_ROI3_1700/nuclie30/chromosome/500.jpg', '/data/FIBSEM/nuclie_align_ROI3_1700/nuclie30/chromosome/501.jpg', '/data/FIBSEM/nuclie_align_ROI3_1700/nuclie30/chromosome/502.jpg', '/data/FIBSEM/nuclie_align_ROI3_1700/nuclie30/chromosome/503.jpg', '/data/FIBSEM/nuclie_align_ROI3_1700/nuclie30/chromosome/504.jpg', '/data/FIBSEM/nuclie_align_ROI3_1700/nuclie30/chromosome/505.jpg', '/data/FIBSEM/nuclie_align_ROI3_1700/nuclie30/chromosome/506.jpg', '/data/FIBSEM/nuclie_align_ROI3_1700/nuclie30/chromosome/507.jpg', '/data/FIBSEM/nuclie_align_ROI3_1700/nuclie30/chromosome/508.jpg', '/data/FIBSEM/nuclie_align_ROI3_1700/nuclie30/chromosome/509.jpg', '/data/FIBSEM/nuclie_align_ROI3_1700/nuclie30/chromosome/510.jpg', '/data/FIBSEM/nuclie_align_ROI3_1700/nuclie30/chromosome/511.jpg', '/data/FIBSEM/nuclie_align_ROI3_1700/nuclie30/chromosome/512.jpg', '/data/FIBSEM/nuclie_align_ROI3_1700/nuclie30/chromosome/513.jpg', '/data/FIBSEM/nuclie_align_ROI3_1700/nuclie30/chromosome/514.jpg', '/data/FIBSEM/nuclie_align_ROI3_1700/nuclie30/chromosome/515.jpg', '/data/FIBSEM/nuclie_align_ROI3_1700/nuclie30/chromosome/516.jpg', '/data/FIBSEM/nuclie_align_ROI3_1700/nuclie30/chromosome/517.jpg', '/data/FIBSEM/nuclie_align_ROI3_1700/nuclie30/chromosome/518.jpg', '/data/FIBSEM/nuclie_align_ROI3_1700/nuclie30/chromosome/519.jpg', '/data/FIBSEM/nuclie_align_ROI3_1700/nuclie30/chromosome/520.jpg', '/data/FIBSEM/nuclie_align_ROI3_1700/nuclie30/chromosome/521.jpg', '/data/FIBSEM/nuclie_align_ROI3_1700/nuclie30/chromosome/522.jpg', '/data/FIBSEM/nuclie_align_ROI3_1700/nuclie30/chromosome/523.jpg', '/data/FIBSEM/nuclie_align_ROI3_1700/nuclie30/chromosome/524.jpg', '/data/FIBSEM/nuclie_align_ROI3_1700/nuclie30/chromosome/525.jpg', '/data/FIBSEM/nuclie_align_ROI3_1700/nuclie30/chromosome/526.jpg', '/data/FIBSEM/nuclie_align_ROI3_1700/nuclie30/chromosome/527.jpg', '/data/FIBSEM/nuclie_align_ROI3_1700/nuclie30/chromosome/528.jpg', '/data/FIBSEM/nuclie_align_ROI3_1700/nuclie30/chromosome/529.jpg', '/data/FIBSEM/nuclie_align_ROI3_1700/nuclie30/chromosome/530.jpg', '/data/FIBSEM/nuclie_align_ROI3_1700/nuclie30/chromosome/531.jpg', '/data/FIBSEM/nuclie_align_ROI3_1700/nuclie30/chromosome/532.jpg', '/data/FIBSEM/nuclie_align_ROI3_1700/nuclie30/chromosome/533.jpg', '/data/FIBSEM/nuclie_align_ROI3_1700/nuclie30/chromosome/534.jpg', '/data/FIBSEM/nuclie_align_ROI3_1700/nuclie30/chromosome/535.jpg', '/data/FIBSEM/nuclie_align_ROI3_1700/nuclie30/chromosome/536.jpg', '/data/FIBSEM/nuclie_align_ROI3_1700/nuclie30/chromosome/537.jpg', '/data/FIBSEM/nuclie_align_ROI3_1700/nuclie30/chromosome/538.jpg', '/data/FIBSEM/nuclie_align_ROI3_1700/nuclie30/chromosome/539.jpg', '/data/FIBSEM/nuclie_align_ROI3_1700/nuclie30/chromosome/540.jpg', '/data/FIBSEM/nuclie_align_ROI3_1700/nuclie30/chromosome/541.jpg', '/data/FIBSEM/nuclie_align_ROI3_1700/nuclie30/chromosome/542.jpg', '/data/FIBSEM/nuclie_align_ROI3_1700/nuclie30/chromosome/543.jpg', '/data/FIBSEM/nuclie_align_ROI3_1700/nuclie30/chromosome/544.jpg', '/data/FIBSEM/nuclie_align_ROI3_1700/nuclie30/chromosome/545.jpg', '/data/FIBSEM/nuclie_align_ROI3_1700/nuclie30/chromosome/546.jpg', '/data/FIBSEM/nuclie_align_ROI3_1700/nuclie30/chromosome/547.jpg', '/data/FIBSEM/nuclie_align_ROI3_1700/nuclie30/chromosome/548.jpg', '/data/FIBSEM/nuclie_align_ROI3_1700/nuclie30/chromosome/549.jpg', '/data/FIBSEM/nuclie_align_ROI3_1700/nuclie30/chromosome/550.jpg', '/data/FIBSEM/nuclie_align_ROI3_1700/nuclie30/chromosome/551.jpg', '/data/FIBSEM/nuclie_align_ROI3_1700/nuclie30/chromosome/552.jpg', '/data/FIBSEM/nuclie_align_ROI3_1700/nuclie30/chromosome/553.jpg', '/data/FIBSEM/nuclie_align_ROI3_1700/nuclie30/chromosome/554.jpg', '/data/FIBSEM/nuclie_align_ROI3_1700/nuclie30/chromosome/555.jpg', '/data/FIBSEM/nuclie_align_ROI3_1700/nuclie30/chromosome/556.jpg', '/data/FIBSEM/nuclie_align_ROI3_1700/nuclie30/chromosome/557.jpg', '/data/FIBSEM/nuclie_align_ROI3_1700/nuclie30/chromosome/558.jpg', '/data/FIBSEM/nuclie_align_ROI3_1700/nuclie30/chromosome/559.jpg', '/data/FIBSEM/nuclie_align_ROI3_1700/nuclie30/chromosome/560.jpg', '/data/FIBSEM/nuclie_align_ROI3_1700/nuclie30/chromosome/561.jpg', '/data/FIBSEM/nuclie_align_ROI3_1700/nuclie30/chromosome/562.jpg', '/data/FIBSEM/nuclie_align_ROI3_1700/nuclie30/chromosome/563.jpg', '/data/FIBSEM/nuclie_align_ROI3_1700/nuclie30/chromosome/564.jpg', '/data/FIBSEM/nuclie_align_ROI3_1700/nuclie30/chromosome/565.jpg', '/data/FIBSEM/nuclie_align_ROI3_1700/nuclie30/chromosome/566.jpg', '/data/FIBSEM/nuclie_align_ROI3_1700/nuclie30/chromosome/567.jpg', '/data/FIBSEM/nuclie_align_ROI3_1700/nuclie30/chromosome/568.jpg', '/data/FIBSEM/nuclie_align_ROI3_1700/nuclie30/chromosome/569.jpg', '/data/FIBSEM/nuclie_align_ROI3_1700/nuclie30/chromosome/570.jpg', '/data/FIBSEM/nuclie_align_ROI3_1700/nuclie30/chromosome/571.jpg', '/data/FIBSEM/nuclie_align_ROI3_1700/nuclie30/chromosome/572.jpg', '/data/FIBSEM/nuclie_align_ROI3_1700/nuclie30/chromosome/573.jpg', '/data/FIBSEM/nuclie_align_ROI3_1700/nuclie30/chromosome/574.jpg', '/data/FIBSEM/nuclie_align_ROI3_1700/nuclie30/chromosome/575.jpg', '/data/FIBSEM/nuclie_align_ROI3_1700/nuclie30/chromosome/576.jpg', '/data/FIBSEM/nuclie_align_ROI3_1700/nuclie30/chromosome/577.jpg', '/data/FIBSEM/nuclie_align_ROI3_1700/nuclie30/chromosome/578.jpg', '/data/FIBSEM/nuclie_align_ROI3_1700/nuclie30/chromosome/579.jpg', '/data/FIBSEM/nuclie_align_ROI3_1700/nuclie30/chromosome/580.jpg', '/data/FIBSEM/nuclie_align_ROI3_1700/nuclie30/chromosome/581.jpg', '/data/FIBSEM/nuclie_align_ROI3_1700/nuclie30/chromosome/582.jpg', '/data/FIBSEM/nuclie_align_ROI3_1700/nuclie30/chromosome/583.jpg', '/data/FIBSEM/nuclie_align_ROI3_1700/nuclie30/chromosome/584.jpg', '/data/FIBSEM/nuclie_align_ROI3_1700/nuclie30/chromosome/585.jpg', '/data/FIBSEM/nuclie_align_ROI3_1700/nuclie30/chromosome/586.jpg', '/data/FIBSEM/nuclie_align_ROI3_1700/nuclie30/chromosome/587.jpg', '/data/FIBSEM/nuclie_align_ROI3_1700/nuclie30/chromosome/588.jpg', '/data/FIBSEM/nuclie_align_ROI3_1700/nuclie30/chromosome/589.jpg', '/data/FIBSEM/nuclie_align_ROI3_1700/nuclie30/chromosome/590.jpg', '/data/FIBSEM/nuclie_align_ROI3_1700/nuclie30/chromosome/591.jpg', '/data/FIBSEM/nuclie_align_ROI3_1700/nuclie30/chromosome/592.jpg', '/data/FIBSEM/nuclie_align_ROI3_1700/nuclie30/chromosome/593.jpg', '/data/FIBSEM/nuclie_align_ROI3_1700/nuclie30/chromosome/594.jpg', '/data/FIBSEM/nuclie_align_ROI3_1700/nuclie30/chromosome/595.jpg', '/data/FIBSEM/nuclie_align_ROI3_1700/nuclie30/chromosome/596.jpg', '/data/FIBSEM/nuclie_align_ROI3_1700/nuclie30/chromosome/597.jpg', '/data/FIBSEM/nuclie_align_ROI3_1700/nuclie30/chromosome/598.jpg', '/data/FIBSEM/nuclie_align_ROI3_1700/nuclie30/chromosome/599.jpg', '/data/FIBSEM/nuclie_align_ROI3_1700/nuclie30/chromosome/600.jpg', '/data/FIBSEM/nuclie_align_ROI3_1700/nuclie30/chromosome/601.jpg', '/data/FIBSEM/nuclie_align_ROI3_1700/nuclie30/chromosome/602.jpg', '/data/FIBSEM/nuclie_align_ROI3_1700/nuclie30/chromosome/603.jpg', '/data/FIBSEM/nuclie_align_ROI3_1700/nuclie30/chromosome/604.jpg', '/data/FIBSEM/nuclie_align_ROI3_1700/nuclie30/chromosome/605.jpg', '/data/FIBSEM/nuclie_align_ROI3_1700/nuclie30/chromosome/606.jpg', '/data/FIBSEM/nuclie_align_ROI3_1700/nuclie30/chromosome/607.jpg', '/data/FIBSEM/nuclie_align_ROI3_1700/nuclie30/chromosome/608.jpg', '/data/FIBSEM/nuclie_align_ROI3_1700/nuclie30/chromosome/609.jpg', '/data/FIBSEM/nuclie_align_ROI3_1700/nuclie30/chromosome/610.jpg', '/data/FIBSEM/nuclie_align_ROI3_1700/nuclie30/chromosome/611.jpg', '/data/FIBSEM/nuclie_align_ROI3_1700/nuclie30/chromosome/612.jpg', '/data/FIBSEM/nuclie_align_ROI3_1700/nuclie30/chromosome/613.jpg', '/data/FIBSEM/nuclie_align_ROI3_1700/nuclie30/chromosome/614.jpg', '/data/FIBSEM/nuclie_align_ROI3_1700/nuclie30/chromosome/615.jpg', '/data/FIBSEM/nuclie_align_ROI3_1700/nuclie30/chromosome/616.jpg', '/data/FIBSEM/nuclie_align_ROI3_1700/nuclie30/chromosome/617.jpg', '/data/FIBSEM/nuclie_align_ROI3_1700/nuclie30/chromosome/618.jpg', '/data/FIBSEM/nuclie_align_ROI3_1700/nuclie30/chromosome/619.jpg', '/data/FIBSEM/nuclie_align_ROI3_1700/nuclie30/chromosome/620.jpg', '/data/FIBSEM/nuclie_align_ROI3_1700/nuclie30/chromosome/621.jpg', '/data/FIBSEM/nuclie_align_ROI3_1700/nuclie30/chromosome/622.jpg', '/data/FIBSEM/nuclie_align_ROI3_1700/nuclie30/chromosome/623.jpg', '/data/FIBSEM/nuclie_align_ROI3_1700/nuclie30/chromosome/624.jpg', '/data/FIBSEM/nuclie_align_ROI3_1700/nuclie30/chromosome/625.jpg', '/data/FIBSEM/nuclie_align_ROI3_1700/nuclie30/chromosome/626.jpg', '/data/FIBSEM/nuclie_align_ROI3_1700/nuclie30/chromosome/627.jpg', '/data/FIBSEM/nuclie_align_ROI3_1700/nuclie30/chromosome/628.jpg', '/data/FIBSEM/nuclie_align_ROI3_1700/nuclie30/chromosome/629.jpg', '/data/FIBSEM/nuclie_align_ROI3_1700/nuclie30/chromosome/630.jpg', '/data/FIBSEM/nuclie_align_ROI3_1700/nuclie30/chromosome/631.jpg', '/data/FIBSEM/nuclie_align_ROI3_1700/nuclie30/chromosome/632.jpg', '/data/FIBSEM/nuclie_align_ROI3_1700/nuclie30/chromosome/633.jpg', '/data/FIBSEM/nuclie_align_ROI3_1700/nuclie30/chromosome/634.jpg', '/data/FIBSEM/nuclie_align_ROI3_1700/nuclie30/chromosome/635.jpg', '/data/FIBSEM/nuclie_align_ROI3_1700/nuclie30/chromosome/636.jpg', '/data/FIBSEM/nuclie_align_ROI3_1700/nuclie30/chromosome/637.jpg', '/data/FIBSEM/nuclie_align_ROI3_1700/nuclie30/chromosome/638.jpg', '/data/FIBSEM/nuclie_align_ROI3_1700/nuclie30/chromosome/639.jpg', '/data/FIBSEM/nuclie_align_ROI3_1700/nuclie30/chromosome/640.jpg', '/data/FIBSEM/nuclie_align_ROI3_1700/nuclie30/chromosome/641.jpg', '/data/FIBSEM/nuclie_align_ROI3_1700/nuclie30/chromosome/642.jpg', '/data/FIBSEM/nuclie_align_ROI3_1700/nuclie30/chromosome/643.jpg', '/data/FIBSEM/nuclie_align_ROI3_1700/nuclie30/chromosome/644.jpg', '/data/FIBSEM/nuclie_align_ROI3_1700/nuclie30/chromosome/645.jpg', '/data/FIBSEM/nuclie_align_ROI3_1700/nuclie30/chromosome/646.jpg', '/data/FIBSEM/nuclie_align_ROI3_1700/nuclie30/chromosome/647.jpg', '/data/FIBSEM/nuclie_align_ROI3_1700/nuclie30/chromosome/648.jpg', '/data/FIBSEM/nuclie_align_ROI3_1700/nuclie30/chromosome/649.jpg', '/data/FIBSEM/nuclie_align_ROI3_1700/nuclie30/chromosome/650.jpg', '/data/FIBSEM/nuclie_align_ROI3_1700/nuclie30/chromosome/651.jpg', '/data/FIBSEM/nuclie_align_ROI3_1700/nuclie30/chromosome/652.jpg', '/data/FIBSEM/nuclie_align_ROI3_1700/nuclie30/chromosome/653.jpg', '/data/FIBSEM/nuclie_align_ROI3_1700/nuclie30/chromosome/654.jpg', '/data/FIBSEM/nuclie_align_ROI3_1700/nuclie30/chromosome/655.jpg', '/data/FIBSEM/nuclie_align_ROI3_1700/nuclie30/chromosome/656.jpg', '/data/FIBSEM/nuclie_align_ROI3_1700/nuclie30/chromosome/657.jpg', '/data/FIBSEM/nuclie_align_ROI3_1700/nuclie30/chromosome/658.jpg', '/data/FIBSEM/nuclie_align_ROI3_1700/nuclie30/chromosome/659.jpg', '/data/FIBSEM/nuclie_align_ROI3_1700/nuclie30/chromosome/660.jpg', '/data/FIBSEM/nuclie_align_ROI3_1700/nuclie30/chromosome/661.jpg', '/data/FIBSEM/nuclie_align_ROI3_1700/nuclie30/chromosome/662.jpg', '/data/FIBSEM/nuclie_align_ROI3_1700/nuclie30/chromosome/663.jpg', '/data/FIBSEM/nuclie_align_ROI3_1700/nuclie30/chromosome/664.jpg', '/data/FIBSEM/nuclie_align_ROI3_1700/nuclie30/chromosome/665.jpg', '/data/FIBSEM/nuclie_align_ROI3_1700/nuclie30/chromosome/666.jpg', '/data/FIBSEM/nuclie_align_ROI3_1700/nuclie30/chromosome/667.jpg', '/data/FIBSEM/nuclie_align_ROI3_1700/nuclie30/chromosome/668.jpg', '/data/FIBSEM/nuclie_align_ROI3_1700/nuclie30/chromosome/669.jpg', '/data/FIBSEM/nuclie_align_ROI3_1700/nuclie30/chromosome/670.jpg', '/data/FIBSEM/nuclie_align_ROI3_1700/nuclie30/chromosome/671.jpg', '/data/FIBSEM/nuclie_align_ROI3_1700/nuclie30/chromosome/672.jpg', '/data/FIBSEM/nuclie_align_ROI3_1700/nuclie30/chromosome/673.jpg', '/data/FIBSEM/nuclie_align_ROI3_1700/nuclie30/chromosome/674.jpg', '/data/FIBSEM/nuclie_align_ROI3_1700/nuclie30/chromosome/675.jpg', '/data/FIBSEM/nuclie_align_ROI3_1700/nuclie30/chromosome/676.jpg', '/data/FIBSEM/nuclie_align_ROI3_1700/nuclie30/chromosome/677.jpg', '/data/FIBSEM/nuclie_align_ROI3_1700/nuclie30/chromosome/678.jpg', '/data/FIBSEM/nuclie_align_ROI3_1700/nuclie30/chromosome/679.jpg', '/data/FIBSEM/nuclie_align_ROI3_1700/nuclie30/chromosome/680.jpg', '/data/FIBSEM/nuclie_align_ROI3_1700/nuclie30/chromosome/681.jpg', '/data/FIBSEM/nuclie_align_ROI3_1700/nuclie30/chromosome/682.jpg', '/data/FIBSEM/nuclie_align_ROI3_1700/nuclie30/chromosome/683.jpg', '/data/FIBSEM/nuclie_align_ROI3_1700/nuclie30/chromosome/684.jpg', '/data/FIBSEM/nuclie_align_ROI3_1700/nuclie30/chromosome/685.jpg', '/data/FIBSEM/nuclie_align_ROI3_1700/nuclie30/chromosome/686.jpg', '/data/FIBSEM/nuclie_align_ROI3_1700/nuclie30/chromosome/687.jpg', '/data/FIBSEM/nuclie_align_ROI3_1700/nuclie30/chromosome/688.jpg', '/data/FIBSEM/nuclie_align_ROI3_1700/nuclie30/chromosome/689.jpg', '/data/FIBSEM/nuclie_align_ROI3_1700/nuclie30/chromosome/690.jpg', '/data/FIBSEM/nuclie_align_ROI3_1700/nuclie30/chromosome/691.jpg', '/data/FIBSEM/nuclie_align_ROI3_1700/nuclie30/chromosome/692.jpg', '/data/FIBSEM/nuclie_align_ROI3_1700/nuclie30/chromosome/693.jpg', '/data/FIBSEM/nuclie_align_ROI3_1700/nuclie30/chromosome/694.jpg', '/data/FIBSEM/nuclie_align_ROI3_1700/nuclie30/chromosome/695.jpg', '/data/FIBSEM/nuclie_align_ROI3_1700/nuclie30/chromosome/696.jpg', '/data/FIBSEM/nuclie_align_ROI3_1700/nuclie30/chromosome/697.jpg', '/data/FIBSEM/nuclie_align_ROI3_1700/nuclie30/chromosome/698.jpg', '/data/FIBSEM/nuclie_align_ROI3_1700/nuclie30/chromosome/699.jpg', '/data/FIBSEM/nuclie_align_ROI3_1700/nuclie30/chromosome/700.jpg', '/data/FIBSEM/nuclie_align_ROI3_1700/nuclie30/chromosome/701.jpg', '/data/FIBSEM/nuclie_align_ROI3_1700/nuclie30/chromosome/702.jpg', '/data/FIBSEM/nuclie_align_ROI3_1700/nuclie30/chromosome/703.jpg', '/data/FIBSEM/nuclie_align_ROI3_1700/nuclie30/chromosome/704.jpg', '/data/FIBSEM/nuclie_align_ROI3_1700/nuclie30/chromosome/705.jpg', '/data/FIBSEM/nuclie_align_ROI3_1700/nuclie30/chromosome/706.jpg', '/data/FIBSEM/nuclie_align_ROI3_1700/nuclie30/chromosome/707.jpg', '/data/FIBSEM/nuclie_align_ROI3_1700/nuclie30/chromosome/708.jpg', '/data/FIBSEM/nuclie_align_ROI3_1700/nuclie30/chromosome/709.jpg', '/data/FIBSEM/nuclie_align_ROI3_1700/nuclie30/chromosome/710.jpg', '/data/FIBSEM/nuclie_align_ROI3_1700/nuclie30/chromosome/711.jpg', '/data/FIBSEM/nuclie_align_ROI3_1700/nuclie30/chromosome/712.jpg', '/data/FIBSEM/nuclie_align_ROI3_1700/nuclie30/chromosome/713.jpg', '/data/FIBSEM/nuclie_align_ROI3_1700/nuclie30/chromosome/714.jpg', '/data/FIBSEM/nuclie_align_ROI3_1700/nuclie30/chromosome/715.jpg', '/data/FIBSEM/nuclie_align_ROI3_1700/nuclie30/chromosome/716.jpg', '/data/FIBSEM/nuclie_align_ROI3_1700/nuclie30/chromosome/717.jpg', '/data/FIBSEM/nuclie_align_ROI3_1700/nuclie30/chromosome/718.jpg', '/data/FIBSEM/nuclie_align_ROI3_1700/nuclie30/chromosome/719.jpg', '/data/FIBSEM/nuclie_align_ROI3_1700/nuclie30/chromosome/720.jpg', '/data/FIBSEM/nuclie_align_ROI3_1700/nuclie30/chromosome/721.jpg', '/data/FIBSEM/nuclie_align_ROI3_1700/nuclie30/chromosome/722.jpg', '/data/FIBSEM/nuclie_align_ROI3_1700/nuclie30/chromosome/723.jpg', '/data/FIBSEM/nuclie_align_ROI3_1700/nuclie30/chromosome/724.jpg', '/data/FIBSEM/nuclie_align_ROI3_1700/nuclie30/chromosome/725.jpg', '/data/FIBSEM/nuclie_align_ROI3_1700/nuclie30/chromosome/726.jpg', '/data/FIBSEM/nuclie_align_ROI3_1700/nuclie30/chromosome/727.jpg', '/data/FIBSEM/nuclie_align_ROI3_1700/nuclie30/chromosome/728.jpg', '/data/FIBSEM/nuclie_align_ROI3_1700/nuclie30/chromosome/729.jpg', '/data/FIBSEM/nuclie_align_ROI3_1700/nuclie30/chromosome/730.jpg', '/data/FIBSEM/nuclie_align_ROI3_1700/nuclie30/chromosome/731.jpg', '/data/FIBSEM/nuclie_align_ROI3_1700/nuclie30/chromosome/732.jpg', '/data/FIBSEM/nuclie_align_ROI3_1700/nuclie30/chromosome/733.jpg', '/data/FIBSEM/nuclie_align_ROI3_1700/nuclie30/chromosome/734.jpg', '/data/FIBSEM/nuclie_align_ROI3_1700/nuclie30/chromosome/735.jpg', '/data/FIBSEM/nuclie_align_ROI3_1700/nuclie30/chromosome/736.jpg', '/data/FIBSEM/nuclie_align_ROI3_1700/nuclie30/chromosome/737.jpg', '/data/FIBSEM/nuclie_align_ROI3_1700/nuclie30/chromosome/738.jpg', '/data/FIBSEM/nuclie_align_ROI3_1700/nuclie30/chromosome/739.jpg', '/data/FIBSEM/nuclie_align_ROI3_1700/nuclie30/chromosome/740.jpg', '/data/FIBSEM/nuclie_align_ROI3_1700/nuclie30/chromosome/741.jpg', '/data/FIBSEM/nuclie_align_ROI3_1700/nuclie30/chromosome/742.jpg', '/data/FIBSEM/nuclie_align_ROI3_1700/nuclie30/chromosome/743.jpg', '/data/FIBSEM/nuclie_align_ROI3_1700/nuclie30/chromosome/744.jpg', '/data/FIBSEM/nuclie_align_ROI3_1700/nuclie30/chromosome/745.jpg', '/data/FIBSEM/nuclie_align_ROI3_1700/nuclie30/chromosome/746.jpg', '/data/FIBSEM/nuclie_align_ROI3_1700/nuclie30/chromosome/747.jpg', '/data/FIBSEM/nuclie_align_ROI3_1700/nuclie30/chromosome/748.jpg', '/data/FIBSEM/nuclie_align_ROI3_1700/nuclie30/chromosome/749.jpg', '/data/FIBSEM/nuclie_align_ROI3_1700/nuclie30/chromosome/750.jpg', '/data/FIBSEM/nuclie_align_ROI3_1700/nuclie30/chromosome/751.jpg', '/data/FIBSEM/nuclie_align_ROI3_1700/nuclie30/chromosome/752.jpg', '/data/FIBSEM/nuclie_align_ROI3_1700/nuclie30/chromosome/753.jpg', '/data/FIBSEM/nuclie_align_ROI3_1700/nuclie30/chromosome/754.jpg', '/data/FIBSEM/nuclie_align_ROI3_1700/nuclie30/chromosome/755.jpg', '/data/FIBSEM/nuclie_align_ROI3_1700/nuclie30/chromosome/756.jpg', '/data/FIBSEM/nuclie_align_ROI3_1700/nuclie30/chromosome/757.jpg', '/data/FIBSEM/nuclie_align_ROI3_1700/nuclie30/chromosome/758.jpg', '/data/FIBSEM/nuclie_align_ROI3_1700/nuclie30/chromosome/759.jpg', '/data/FIBSEM/nuclie_align_ROI3_1700/nuclie30/chromosome/760.jpg', '/data/FIBSEM/nuclie_align_ROI3_1700/nuclie30/chromosome/761.jpg', '/data/FIBSEM/nuclie_align_ROI3_1700/nuclie30/chromosome/762.jpg', '/data/FIBSEM/nuclie_align_ROI3_1700/nuclie30/chromosome/763.jpg', '/data/FIBSEM/nuclie_align_ROI3_1700/nuclie30/chromosome/764.jpg', '/data/FIBSEM/nuclie_align_ROI3_1700/nuclie30/chromosome/765.jpg', '/data/FIBSEM/nuclie_align_ROI3_1700/nuclie30/chromosome/766.jpg', '/data/FIBSEM/nuclie_align_ROI3_1700/nuclie30/chromosome/767.jpg', '/data/FIBSEM/nuclie_align_ROI3_1700/nuclie30/chromosome/768.jpg', '/data/FIBSEM/nuclie_align_ROI3_1700/nuclie30/chromosome/769.jpg', '/data/FIBSEM/nuclie_align_ROI3_1700/nuclie30/chromosome/770.jpg', '/data/FIBSEM/nuclie_align_ROI3_1700/nuclie30/chromosome/771.jpg', '/data/FIBSEM/nuclie_align_ROI3_1700/nuclie30/chromosome/772.jpg', '/data/FIBSEM/nuclie_align_ROI3_1700/nuclie30/chromosome/773.jpg', '/data/FIBSEM/nuclie_align_ROI3_1700/nuclie30/chromosome/774.jpg', '/data/FIBSEM/nuclie_align_ROI3_1700/nuclie30/chromosome/775.jpg', '/data/FIBSEM/nuclie_align_ROI3_1700/nuclie30/chromosome/776.jpg', '/data/FIBSEM/nuclie_align_ROI3_1700/nuclie30/chromosome/777.jpg', '/data/FIBSEM/nuclie_align_ROI3_1700/nuclie30/chromosome/778.jpg', '/data/FIBSEM/nuclie_align_ROI3_1700/nuclie30/chromosome/779.jpg', '/data/FIBSEM/nuclie_align_ROI3_1700/nuclie30/chromosome/780.jpg', '/data/FIBSEM/nuclie_align_ROI3_1700/nuclie30/chromosome/781.jpg', '/data/FIBSEM/nuclie_align_ROI3_1700/nuclie30/chromosome/782.jpg', '/data/FIBSEM/nuclie_align_ROI3_1700/nuclie30/chromosome/783.jpg', '/data/FIBSEM/nuclie_align_ROI3_1700/nuclie30/chromosome/784.jpg', '/data/FIBSEM/nuclie_align_ROI3_1700/nuclie30/chromosome/785.jpg', '/data/FIBSEM/nuclie_align_ROI3_1700/nuclie30/chromosome/786.jpg', '/data/FIBSEM/nuclie_align_ROI3_1700/nuclie30/chromosome/787.jpg', '/data/FIBSEM/nuclie_align_ROI3_1700/nuclie30/chromosome/788.jpg', '/data/FIBSEM/nuclie_align_ROI3_1700/nuclie30/chromosome/789.jpg', '/data/FIBSEM/nuclie_align_ROI3_1700/nuclie30/chromosome/790.jpg', '/data/FIBSEM/nuclie_align_ROI3_1700/nuclie30/chromosome/791.jpg', '/data/FIBSEM/nuclie_align_ROI3_1700/nuclie30/chromosome/792.jpg', '/data/FIBSEM/nuclie_align_ROI3_1700/nuclie30/chromosome/793.jpg', '/data/FIBSEM/nuclie_align_ROI3_1700/nuclie30/chromosome/794.jpg', '/data/FIBSEM/nuclie_align_ROI3_1700/nuclie30/chromosome/795.jpg', '/data/FIBSEM/nuclie_align_ROI3_1700/nuclie30/chromosome/796.jpg', '/data/FIBSEM/nuclie_align_ROI3_1700/nuclie30/chromosome/797.jpg', '/data/FIBSEM/nuclie_align_ROI3_1700/nuclie30/chromosome/798.jpg', '/data/FIBSEM/nuclie_align_ROI3_1700/nuclie30/chromosome/799.jpg', '/data/FIBSEM/nuclie_align_ROI3_1700/nuclie30/chromosome/800.jpg', '/data/FIBSEM/nuclie_align_ROI3_1700/nuclie30/chromosome/801.jpg', '/data/FIBSEM/nuclie_align_ROI3_1700/nuclie30/chromosome/802.jpg', '/data/FIBSEM/nuclie_align_ROI3_1700/nuclie30/chromosome/803.jpg', '/data/FIBSEM/nuclie_align_ROI3_1700/nuclie30/chromosome/804.jpg', '/data/FIBSEM/nuclie_align_ROI3_1700/nuclie30/chromosome/805.jpg', '/data/FIBSEM/nuclie_align_ROI3_1700/nuclie30/chromosome/806.jpg', '/data/FIBSEM/nuclie_align_ROI3_1700/nuclie30/chromosome/807.jpg', '/data/FIBSEM/nuclie_align_ROI3_1700/nuclie30/chromosome/808.jpg', '/data/FIBSEM/nuclie_align_ROI3_1700/nuclie30/chromosome/809.jpg', '/data/FIBSEM/nuclie_align_ROI3_1700/nuclie30/chromosome/810.jpg', '/data/FIBSEM/nuclie_align_ROI3_1700/nuclie30/chromosome/811.jpg', '/data/FIBSEM/nuclie_align_ROI3_1700/nuclie30/chromosome/812.jpg', '/data/FIBSEM/nuclie_align_ROI3_1700/nuclie30/chromosome/813.jpg', '/data/FIBSEM/nuclie_align_ROI3_1700/nuclie30/chromosome/814.jpg', '/data/FIBSEM/nuclie_align_ROI3_1700/nuclie30/chromosome/815.jpg', '/data/FIBSEM/nuclie_align_ROI3_1700/nuclie30/chromosome/816.jpg', '/data/FIBSEM/nuclie_align_ROI3_1700/nuclie30/chromosome/817.jpg', '/data/FIBSEM/nuclie_align_ROI3_1700/nuclie30/chromosome/818.jpg', '/data/FIBSEM/nuclie_align_ROI3_1700/nuclie30/chromosome/819.jpg', '/data/FIBSEM/nuclie_align_ROI3_1700/nuclie30/chromosome/820.jpg', '/data/FIBSEM/nuclie_align_ROI3_1700/nuclie30/chromosome/821.jpg', '/data/FIBSEM/nuclie_align_ROI3_1700/nuclie30/chromosome/822.jpg', '/data/FIBSEM/nuclie_align_ROI3_1700/nuclie30/chromosome/823.jpg', '/data/FIBSEM/nuclie_align_ROI3_1700/nuclie30/chromosome/824.jpg', '/data/FIBSEM/nuclie_align_ROI3_1700/nuclie30/chromosome/825.jpg', '/data/FIBSEM/nuclie_align_ROI3_1700/nuclie30/chromosome/826.jpg', '/data/FIBSEM/nuclie_align_ROI3_1700/nuclie30/chromosome/827.jpg', '/data/FIBSEM/nuclie_align_ROI3_1700/nuclie30/chromosome/828.jpg', '/data/FIBSEM/nuclie_align_ROI3_1700/nuclie30/chromosome/829.jpg', '/data/FIBSEM/nuclie_align_ROI3_1700/nuclie30/chromosome/830.jpg', '/data/FIBSEM/nuclie_align_ROI3_1700/nuclie30/chromosome/831.jpg', '/data/FIBSEM/nuclie_align_ROI3_1700/nuclie30/chromosome/832.jpg', '/data/FIBSEM/nuclie_align_ROI3_1700/nuclie30/chromosome/833.jpg', '/data/FIBSEM/nuclie_align_ROI3_1700/nuclie30/chromosome/834.jpg', '/data/FIBSEM/nuclie_align_ROI3_1700/nuclie30/chromosome/835.jpg', '/data/FIBSEM/nuclie_align_ROI3_1700/nuclie30/chromosome/836.jpg', '/data/FIBSEM/nuclie_align_ROI3_1700/nuclie30/chromosome/837.jpg', '/data/FIBSEM/nuclie_align_ROI3_1700/nuclie30/chromosome/838.jpg', '/data/FIBSEM/nuclie_align_ROI3_1700/nuclie30/chromosome/839.jpg', '/data/FIBSEM/nuclie_align_ROI3_1700/nuclie30/chromosome/840.jpg', '/data/FIBSEM/nuclie_align_ROI3_1700/nuclie30/chromosome/841.jpg', '/data/FIBSEM/nuclie_align_ROI3_1700/nuclie30/chromosome/842.jpg', '/data/FIBSEM/nuclie_align_ROI3_1700/nuclie30/chromosome/843.jpg', '/data/FIBSEM/nuclie_align_ROI3_1700/nuclie30/chromosome/844.jpg', '/data/FIBSEM/nuclie_align_ROI3_1700/nuclie30/chromosome/845.jpg', '/data/FIBSEM/nuclie_align_ROI3_1700/nuclie30/chromosome/846.jpg', '/data/FIBSEM/nuclie_align_ROI3_1700/nuclie30/chromosome/847.jpg', '/data/FIBSEM/nuclie_align_ROI3_1700/nuclie30/chromosome/848.jpg', '/data/FIBSEM/nuclie_align_ROI3_1700/nuclie30/chromosome/849.jpg', '/data/FIBSEM/nuclie_align_ROI3_1700/nuclie30/chromosome/850.jpg', '/data/FIBSEM/nuclie_align_ROI3_1700/nuclie30/chromosome/851.jpg', '/data/FIBSEM/nuclie_align_ROI3_1700/nuclie30/chromosome/852.jpg', '/data/FIBSEM/nuclie_align_ROI3_1700/nuclie30/chromosome/853.jpg', '/data/FIBSEM/nuclie_align_ROI3_1700/nuclie30/chromosome/854.jpg', '/data/FIBSEM/nuclie_align_ROI3_1700/nuclie30/chromosome/855.jpg', '/data/FIBSEM/nuclie_align_ROI3_1700/nuclie30/chromosome/856.jpg', '/data/FIBSEM/nuclie_align_ROI3_1700/nuclie30/chromosome/857.jpg', '/data/FIBSEM/nuclie_align_ROI3_1700/nuclie30/chromosome/858.jpg', '/data/FIBSEM/nuclie_align_ROI3_1700/nuclie30/chromosome/859.jpg', '/data/FIBSEM/nuclie_align_ROI3_1700/nuclie30/chromosome/860.jpg', '/data/FIBSEM/nuclie_align_ROI3_1700/nuclie30/chromosome/861.jpg', '/data/FIBSEM/nuclie_align_ROI3_1700/nuclie30/chromosome/862.jpg', '/data/FIBSEM/nuclie_align_ROI3_1700/nuclie30/chromosome/863.jpg', '/data/FIBSEM/nuclie_align_ROI3_1700/nuclie30/chromosome/864.jpg', '/data/FIBSEM/nuclie_align_ROI3_1700/nuclie30/chromosome/865.jpg', '/data/FIBSEM/nuclie_align_ROI3_1700/nuclie30/chromosome/866.jpg', '/data/FIBSEM/nuclie_align_ROI3_1700/nuclie30/chromosome/867.jpg', '/data/FIBSEM/nuclie_align_ROI3_1700/nuclie30/chromosome/868.jpg', '/data/FIBSEM/nuclie_align_ROI3_1700/nuclie30/chromosome/869.jpg', '/data/FIBSEM/nuclie_align_ROI3_1700/nuclie30/chromosome/870.jpg', '/data/FIBSEM/nuclie_align_ROI3_1700/nuclie30/chromosome/871.jpg', '/data/FIBSEM/nuclie_align_ROI3_1700/nuclie30/chromosome/872.jpg', '/data/FIBSEM/nuclie_align_ROI3_1700/nuclie30/chromosome/873.jpg', '/data/FIBSEM/nuclie_align_ROI3_1700/nuclie30/chromosome/874.jpg', '/data/FIBSEM/nuclie_align_ROI3_1700/nuclie30/chromosome/875.jpg', '/data/FIBSEM/nuclie_align_ROI3_1700/nuclie30/chromosome/876.jpg', '/data/FIBSEM/nuclie_align_ROI3_1700/nuclie30/chromosome/877.jpg', '/data/FIBSEM/nuclie_align_ROI3_1700/nuclie30/chromosome/878.jpg', '/data/FIBSEM/nuclie_align_ROI3_1700/nuclie30/chromosome/879.jpg', '/data/FIBSEM/nuclie_align_ROI3_1700/nuclie30/chromosome/880.jpg', '/data/FIBSEM/nuclie_align_ROI3_1700/nuclie30/chromosome/881.jpg', '/data/FIBSEM/nuclie_align_ROI3_1700/nuclie30/chromosome/882.jpg', '/data/FIBSEM/nuclie_align_ROI3_1700/nuclie30/chromosome/883.jpg', '/data/FIBSEM/nuclie_align_ROI3_1700/nuclie30/chromosome/884.jpg', '/data/FIBSEM/nuclie_align_ROI3_1700/nuclie30/chromosome/885.jpg', '/data/FIBSEM/nuclie_align_ROI3_1700/nuclie30/chromosome/886.jpg', '/data/FIBSEM/nuclie_align_ROI3_1700/nuclie30/chromosome/887.jpg', '/data/FIBSEM/nuclie_align_ROI3_1700/nuclie30/chromosome/888.jpg', '/data/FIBSEM/nuclie_align_ROI3_1700/nuclie30/chromosome/889.jpg', '/data/FIBSEM/nuclie_align_ROI3_1700/nuclie30/chromosome/890.jpg', '/data/FIBSEM/nuclie_align_ROI3_1700/nuclie30/chromosome/891.jpg', '/data/FIBSEM/nuclie_align_ROI3_1700/nuclie30/chromosome/892.jpg']\n",
      "['/data/FIBSEM/nuclie_align_ROI3_1700/nuclie30/00000.jpg', '/data/FIBSEM/nuclie_align_ROI3_1700/nuclie30/00001.jpg', '/data/FIBSEM/nuclie_align_ROI3_1700/nuclie30/00002.jpg', '/data/FIBSEM/nuclie_align_ROI3_1700/nuclie30/00003.jpg', '/data/FIBSEM/nuclie_align_ROI3_1700/nuclie30/00004.jpg', '/data/FIBSEM/nuclie_align_ROI3_1700/nuclie30/00005.jpg', '/data/FIBSEM/nuclie_align_ROI3_1700/nuclie30/00006.jpg', '/data/FIBSEM/nuclie_align_ROI3_1700/nuclie30/00007.jpg', '/data/FIBSEM/nuclie_align_ROI3_1700/nuclie30/00008.jpg', '/data/FIBSEM/nuclie_align_ROI3_1700/nuclie30/00009.jpg', '/data/FIBSEM/nuclie_align_ROI3_1700/nuclie30/00010.jpg', '/data/FIBSEM/nuclie_align_ROI3_1700/nuclie30/00011.jpg', '/data/FIBSEM/nuclie_align_ROI3_1700/nuclie30/00012.jpg', '/data/FIBSEM/nuclie_align_ROI3_1700/nuclie30/00013.jpg', '/data/FIBSEM/nuclie_align_ROI3_1700/nuclie30/00014.jpg', '/data/FIBSEM/nuclie_align_ROI3_1700/nuclie30/00015.jpg', '/data/FIBSEM/nuclie_align_ROI3_1700/nuclie30/00016.jpg', '/data/FIBSEM/nuclie_align_ROI3_1700/nuclie30/00017.jpg', '/data/FIBSEM/nuclie_align_ROI3_1700/nuclie30/00018.jpg', '/data/FIBSEM/nuclie_align_ROI3_1700/nuclie30/00019.jpg', '/data/FIBSEM/nuclie_align_ROI3_1700/nuclie30/00020.jpg', '/data/FIBSEM/nuclie_align_ROI3_1700/nuclie30/00021.jpg', '/data/FIBSEM/nuclie_align_ROI3_1700/nuclie30/00022.jpg', '/data/FIBSEM/nuclie_align_ROI3_1700/nuclie30/00023.jpg', '/data/FIBSEM/nuclie_align_ROI3_1700/nuclie30/00024.jpg', '/data/FIBSEM/nuclie_align_ROI3_1700/nuclie30/00025.jpg', '/data/FIBSEM/nuclie_align_ROI3_1700/nuclie30/00026.jpg', '/data/FIBSEM/nuclie_align_ROI3_1700/nuclie30/00027.jpg', '/data/FIBSEM/nuclie_align_ROI3_1700/nuclie30/00028.jpg', '/data/FIBSEM/nuclie_align_ROI3_1700/nuclie30/00029.jpg', '/data/FIBSEM/nuclie_align_ROI3_1700/nuclie30/00030.jpg', '/data/FIBSEM/nuclie_align_ROI3_1700/nuclie30/00031.jpg', '/data/FIBSEM/nuclie_align_ROI3_1700/nuclie30/00032.jpg', '/data/FIBSEM/nuclie_align_ROI3_1700/nuclie30/00033.jpg', '/data/FIBSEM/nuclie_align_ROI3_1700/nuclie30/00034.jpg', '/data/FIBSEM/nuclie_align_ROI3_1700/nuclie30/00035.jpg', '/data/FIBSEM/nuclie_align_ROI3_1700/nuclie30/00036.jpg', '/data/FIBSEM/nuclie_align_ROI3_1700/nuclie30/00037.jpg', '/data/FIBSEM/nuclie_align_ROI3_1700/nuclie30/00038.jpg', '/data/FIBSEM/nuclie_align_ROI3_1700/nuclie30/00039.jpg', '/data/FIBSEM/nuclie_align_ROI3_1700/nuclie30/00040.jpg', '/data/FIBSEM/nuclie_align_ROI3_1700/nuclie30/00041.jpg', '/data/FIBSEM/nuclie_align_ROI3_1700/nuclie30/00042.jpg', '/data/FIBSEM/nuclie_align_ROI3_1700/nuclie30/00043.jpg', '/data/FIBSEM/nuclie_align_ROI3_1700/nuclie30/00044.jpg', '/data/FIBSEM/nuclie_align_ROI3_1700/nuclie30/00045.jpg', '/data/FIBSEM/nuclie_align_ROI3_1700/nuclie30/00046.jpg', '/data/FIBSEM/nuclie_align_ROI3_1700/nuclie30/00047.jpg', '/data/FIBSEM/nuclie_align_ROI3_1700/nuclie30/00048.jpg', '/data/FIBSEM/nuclie_align_ROI3_1700/nuclie30/00049.jpg', '/data/FIBSEM/nuclie_align_ROI3_1700/nuclie30/00050.jpg', '/data/FIBSEM/nuclie_align_ROI3_1700/nuclie30/00051.jpg', '/data/FIBSEM/nuclie_align_ROI3_1700/nuclie30/00052.jpg', '/data/FIBSEM/nuclie_align_ROI3_1700/nuclie30/00053.jpg', '/data/FIBSEM/nuclie_align_ROI3_1700/nuclie30/00054.jpg', '/data/FIBSEM/nuclie_align_ROI3_1700/nuclie30/00055.jpg', '/data/FIBSEM/nuclie_align_ROI3_1700/nuclie30/00056.jpg', '/data/FIBSEM/nuclie_align_ROI3_1700/nuclie30/00057.jpg', '/data/FIBSEM/nuclie_align_ROI3_1700/nuclie30/00058.jpg', '/data/FIBSEM/nuclie_align_ROI3_1700/nuclie30/00059.jpg', '/data/FIBSEM/nuclie_align_ROI3_1700/nuclie30/00060.jpg', '/data/FIBSEM/nuclie_align_ROI3_1700/nuclie30/00061.jpg', '/data/FIBSEM/nuclie_align_ROI3_1700/nuclie30/00062.jpg', '/data/FIBSEM/nuclie_align_ROI3_1700/nuclie30/00063.jpg', '/data/FIBSEM/nuclie_align_ROI3_1700/nuclie30/00064.jpg', '/data/FIBSEM/nuclie_align_ROI3_1700/nuclie30/00065.jpg', '/data/FIBSEM/nuclie_align_ROI3_1700/nuclie30/00066.jpg', '/data/FIBSEM/nuclie_align_ROI3_1700/nuclie30/00067.jpg', '/data/FIBSEM/nuclie_align_ROI3_1700/nuclie30/00068.jpg', '/data/FIBSEM/nuclie_align_ROI3_1700/nuclie30/00069.jpg', '/data/FIBSEM/nuclie_align_ROI3_1700/nuclie30/00070.jpg', '/data/FIBSEM/nuclie_align_ROI3_1700/nuclie30/00071.jpg', '/data/FIBSEM/nuclie_align_ROI3_1700/nuclie30/00072.jpg', '/data/FIBSEM/nuclie_align_ROI3_1700/nuclie30/00073.jpg', '/data/FIBSEM/nuclie_align_ROI3_1700/nuclie30/00074.jpg', '/data/FIBSEM/nuclie_align_ROI3_1700/nuclie30/00075.jpg', '/data/FIBSEM/nuclie_align_ROI3_1700/nuclie30/00076.jpg', '/data/FIBSEM/nuclie_align_ROI3_1700/nuclie30/00077.jpg', '/data/FIBSEM/nuclie_align_ROI3_1700/nuclie30/00078.jpg', '/data/FIBSEM/nuclie_align_ROI3_1700/nuclie30/00079.jpg', '/data/FIBSEM/nuclie_align_ROI3_1700/nuclie30/00080.jpg', '/data/FIBSEM/nuclie_align_ROI3_1700/nuclie30/00081.jpg', '/data/FIBSEM/nuclie_align_ROI3_1700/nuclie30/00082.jpg', '/data/FIBSEM/nuclie_align_ROI3_1700/nuclie30/00083.jpg', '/data/FIBSEM/nuclie_align_ROI3_1700/nuclie30/00084.jpg', '/data/FIBSEM/nuclie_align_ROI3_1700/nuclie30/00085.jpg', '/data/FIBSEM/nuclie_align_ROI3_1700/nuclie30/00086.jpg', '/data/FIBSEM/nuclie_align_ROI3_1700/nuclie30/00087.jpg', '/data/FIBSEM/nuclie_align_ROI3_1700/nuclie30/00088.jpg', '/data/FIBSEM/nuclie_align_ROI3_1700/nuclie30/00089.jpg', '/data/FIBSEM/nuclie_align_ROI3_1700/nuclie30/00090.jpg', '/data/FIBSEM/nuclie_align_ROI3_1700/nuclie30/00091.jpg', '/data/FIBSEM/nuclie_align_ROI3_1700/nuclie30/00092.jpg', '/data/FIBSEM/nuclie_align_ROI3_1700/nuclie30/00093.jpg', '/data/FIBSEM/nuclie_align_ROI3_1700/nuclie30/00094.jpg', '/data/FIBSEM/nuclie_align_ROI3_1700/nuclie30/00095.jpg', '/data/FIBSEM/nuclie_align_ROI3_1700/nuclie30/00096.jpg', '/data/FIBSEM/nuclie_align_ROI3_1700/nuclie30/00097.jpg', '/data/FIBSEM/nuclie_align_ROI3_1700/nuclie30/00098.jpg', '/data/FIBSEM/nuclie_align_ROI3_1700/nuclie30/00099.jpg', '/data/FIBSEM/nuclie_align_ROI3_1700/nuclie30/00100.jpg', '/data/FIBSEM/nuclie_align_ROI3_1700/nuclie30/00101.jpg', '/data/FIBSEM/nuclie_align_ROI3_1700/nuclie30/00102.jpg', '/data/FIBSEM/nuclie_align_ROI3_1700/nuclie30/00103.jpg', '/data/FIBSEM/nuclie_align_ROI3_1700/nuclie30/00104.jpg', '/data/FIBSEM/nuclie_align_ROI3_1700/nuclie30/00105.jpg', '/data/FIBSEM/nuclie_align_ROI3_1700/nuclie30/00106.jpg', '/data/FIBSEM/nuclie_align_ROI3_1700/nuclie30/00107.jpg', '/data/FIBSEM/nuclie_align_ROI3_1700/nuclie30/00108.jpg', '/data/FIBSEM/nuclie_align_ROI3_1700/nuclie30/00109.jpg', '/data/FIBSEM/nuclie_align_ROI3_1700/nuclie30/00110.jpg', '/data/FIBSEM/nuclie_align_ROI3_1700/nuclie30/00111.jpg', '/data/FIBSEM/nuclie_align_ROI3_1700/nuclie30/00112.jpg', '/data/FIBSEM/nuclie_align_ROI3_1700/nuclie30/00113.jpg', '/data/FIBSEM/nuclie_align_ROI3_1700/nuclie30/00114.jpg', '/data/FIBSEM/nuclie_align_ROI3_1700/nuclie30/00115.jpg', '/data/FIBSEM/nuclie_align_ROI3_1700/nuclie30/00116.jpg', '/data/FIBSEM/nuclie_align_ROI3_1700/nuclie30/00117.jpg', '/data/FIBSEM/nuclie_align_ROI3_1700/nuclie30/00118.jpg', '/data/FIBSEM/nuclie_align_ROI3_1700/nuclie30/00119.jpg', '/data/FIBSEM/nuclie_align_ROI3_1700/nuclie30/00120.jpg', '/data/FIBSEM/nuclie_align_ROI3_1700/nuclie30/00121.jpg', '/data/FIBSEM/nuclie_align_ROI3_1700/nuclie30/00122.jpg', '/data/FIBSEM/nuclie_align_ROI3_1700/nuclie30/00123.jpg', '/data/FIBSEM/nuclie_align_ROI3_1700/nuclie30/00124.jpg', '/data/FIBSEM/nuclie_align_ROI3_1700/nuclie30/00125.jpg', '/data/FIBSEM/nuclie_align_ROI3_1700/nuclie30/00126.jpg', '/data/FIBSEM/nuclie_align_ROI3_1700/nuclie30/00127.jpg', '/data/FIBSEM/nuclie_align_ROI3_1700/nuclie30/00128.jpg', '/data/FIBSEM/nuclie_align_ROI3_1700/nuclie30/00129.jpg', '/data/FIBSEM/nuclie_align_ROI3_1700/nuclie30/00130.jpg', '/data/FIBSEM/nuclie_align_ROI3_1700/nuclie30/00131.jpg', '/data/FIBSEM/nuclie_align_ROI3_1700/nuclie30/00132.jpg', '/data/FIBSEM/nuclie_align_ROI3_1700/nuclie30/00133.jpg', '/data/FIBSEM/nuclie_align_ROI3_1700/nuclie30/00134.jpg', '/data/FIBSEM/nuclie_align_ROI3_1700/nuclie30/00135.jpg', '/data/FIBSEM/nuclie_align_ROI3_1700/nuclie30/00136.jpg', '/data/FIBSEM/nuclie_align_ROI3_1700/nuclie30/00137.jpg', '/data/FIBSEM/nuclie_align_ROI3_1700/nuclie30/00138.jpg', '/data/FIBSEM/nuclie_align_ROI3_1700/nuclie30/00139.jpg', '/data/FIBSEM/nuclie_align_ROI3_1700/nuclie30/00140.jpg', '/data/FIBSEM/nuclie_align_ROI3_1700/nuclie30/00141.jpg', '/data/FIBSEM/nuclie_align_ROI3_1700/nuclie30/00142.jpg', '/data/FIBSEM/nuclie_align_ROI3_1700/nuclie30/00143.jpg', '/data/FIBSEM/nuclie_align_ROI3_1700/nuclie30/00144.jpg', '/data/FIBSEM/nuclie_align_ROI3_1700/nuclie30/00145.jpg', '/data/FIBSEM/nuclie_align_ROI3_1700/nuclie30/00146.jpg', '/data/FIBSEM/nuclie_align_ROI3_1700/nuclie30/00147.jpg', '/data/FIBSEM/nuclie_align_ROI3_1700/nuclie30/00148.jpg', '/data/FIBSEM/nuclie_align_ROI3_1700/nuclie30/00149.jpg', '/data/FIBSEM/nuclie_align_ROI3_1700/nuclie30/00150.jpg', '/data/FIBSEM/nuclie_align_ROI3_1700/nuclie30/00151.jpg', '/data/FIBSEM/nuclie_align_ROI3_1700/nuclie30/00152.jpg', '/data/FIBSEM/nuclie_align_ROI3_1700/nuclie30/00153.jpg', '/data/FIBSEM/nuclie_align_ROI3_1700/nuclie30/00154.jpg', '/data/FIBSEM/nuclie_align_ROI3_1700/nuclie30/00155.jpg', '/data/FIBSEM/nuclie_align_ROI3_1700/nuclie30/00156.jpg', '/data/FIBSEM/nuclie_align_ROI3_1700/nuclie30/00157.jpg', '/data/FIBSEM/nuclie_align_ROI3_1700/nuclie30/00158.jpg', '/data/FIBSEM/nuclie_align_ROI3_1700/nuclie30/00159.jpg', '/data/FIBSEM/nuclie_align_ROI3_1700/nuclie30/00160.jpg', '/data/FIBSEM/nuclie_align_ROI3_1700/nuclie30/00161.jpg', '/data/FIBSEM/nuclie_align_ROI3_1700/nuclie30/00162.jpg', '/data/FIBSEM/nuclie_align_ROI3_1700/nuclie30/00163.jpg', '/data/FIBSEM/nuclie_align_ROI3_1700/nuclie30/00164.jpg', '/data/FIBSEM/nuclie_align_ROI3_1700/nuclie30/00165.jpg', '/data/FIBSEM/nuclie_align_ROI3_1700/nuclie30/00166.jpg', '/data/FIBSEM/nuclie_align_ROI3_1700/nuclie30/00167.jpg', '/data/FIBSEM/nuclie_align_ROI3_1700/nuclie30/00168.jpg', '/data/FIBSEM/nuclie_align_ROI3_1700/nuclie30/00169.jpg', '/data/FIBSEM/nuclie_align_ROI3_1700/nuclie30/00170.jpg', '/data/FIBSEM/nuclie_align_ROI3_1700/nuclie30/00171.jpg', '/data/FIBSEM/nuclie_align_ROI3_1700/nuclie30/00172.jpg', '/data/FIBSEM/nuclie_align_ROI3_1700/nuclie30/00173.jpg', '/data/FIBSEM/nuclie_align_ROI3_1700/nuclie30/00174.jpg', '/data/FIBSEM/nuclie_align_ROI3_1700/nuclie30/00175.jpg', '/data/FIBSEM/nuclie_align_ROI3_1700/nuclie30/00176.jpg', '/data/FIBSEM/nuclie_align_ROI3_1700/nuclie30/00177.jpg', '/data/FIBSEM/nuclie_align_ROI3_1700/nuclie30/00178.jpg', '/data/FIBSEM/nuclie_align_ROI3_1700/nuclie30/00179.jpg', '/data/FIBSEM/nuclie_align_ROI3_1700/nuclie30/00180.jpg', '/data/FIBSEM/nuclie_align_ROI3_1700/nuclie30/00181.jpg', '/data/FIBSEM/nuclie_align_ROI3_1700/nuclie30/00182.jpg', '/data/FIBSEM/nuclie_align_ROI3_1700/nuclie30/00183.jpg', '/data/FIBSEM/nuclie_align_ROI3_1700/nuclie30/00184.jpg', '/data/FIBSEM/nuclie_align_ROI3_1700/nuclie30/00185.jpg', '/data/FIBSEM/nuclie_align_ROI3_1700/nuclie30/00186.jpg', '/data/FIBSEM/nuclie_align_ROI3_1700/nuclie30/00187.jpg', '/data/FIBSEM/nuclie_align_ROI3_1700/nuclie30/00188.jpg', '/data/FIBSEM/nuclie_align_ROI3_1700/nuclie30/00189.jpg', '/data/FIBSEM/nuclie_align_ROI3_1700/nuclie30/00190.jpg', '/data/FIBSEM/nuclie_align_ROI3_1700/nuclie30/00191.jpg', '/data/FIBSEM/nuclie_align_ROI3_1700/nuclie30/00192.jpg', '/data/FIBSEM/nuclie_align_ROI3_1700/nuclie30/00193.jpg', '/data/FIBSEM/nuclie_align_ROI3_1700/nuclie30/00194.jpg', '/data/FIBSEM/nuclie_align_ROI3_1700/nuclie30/00195.jpg', '/data/FIBSEM/nuclie_align_ROI3_1700/nuclie30/00196.jpg', '/data/FIBSEM/nuclie_align_ROI3_1700/nuclie30/00197.jpg', '/data/FIBSEM/nuclie_align_ROI3_1700/nuclie30/00198.jpg', '/data/FIBSEM/nuclie_align_ROI3_1700/nuclie30/00199.jpg', '/data/FIBSEM/nuclie_align_ROI3_1700/nuclie30/00200.jpg', '/data/FIBSEM/nuclie_align_ROI3_1700/nuclie30/00201.jpg', '/data/FIBSEM/nuclie_align_ROI3_1700/nuclie30/00202.jpg', '/data/FIBSEM/nuclie_align_ROI3_1700/nuclie30/00203.jpg', '/data/FIBSEM/nuclie_align_ROI3_1700/nuclie30/00204.jpg', '/data/FIBSEM/nuclie_align_ROI3_1700/nuclie30/00205.jpg', '/data/FIBSEM/nuclie_align_ROI3_1700/nuclie30/00206.jpg', '/data/FIBSEM/nuclie_align_ROI3_1700/nuclie30/00207.jpg', '/data/FIBSEM/nuclie_align_ROI3_1700/nuclie30/00208.jpg', '/data/FIBSEM/nuclie_align_ROI3_1700/nuclie30/00209.jpg', '/data/FIBSEM/nuclie_align_ROI3_1700/nuclie30/00210.jpg', '/data/FIBSEM/nuclie_align_ROI3_1700/nuclie30/00211.jpg', '/data/FIBSEM/nuclie_align_ROI3_1700/nuclie30/00212.jpg', '/data/FIBSEM/nuclie_align_ROI3_1700/nuclie30/00213.jpg', '/data/FIBSEM/nuclie_align_ROI3_1700/nuclie30/00214.jpg', '/data/FIBSEM/nuclie_align_ROI3_1700/nuclie30/00215.jpg', '/data/FIBSEM/nuclie_align_ROI3_1700/nuclie30/00216.jpg', '/data/FIBSEM/nuclie_align_ROI3_1700/nuclie30/00217.jpg', '/data/FIBSEM/nuclie_align_ROI3_1700/nuclie30/00218.jpg', '/data/FIBSEM/nuclie_align_ROI3_1700/nuclie30/00219.jpg', '/data/FIBSEM/nuclie_align_ROI3_1700/nuclie30/00220.jpg', '/data/FIBSEM/nuclie_align_ROI3_1700/nuclie30/00221.jpg', '/data/FIBSEM/nuclie_align_ROI3_1700/nuclie30/00222.jpg', '/data/FIBSEM/nuclie_align_ROI3_1700/nuclie30/00223.jpg', '/data/FIBSEM/nuclie_align_ROI3_1700/nuclie30/00224.jpg', '/data/FIBSEM/nuclie_align_ROI3_1700/nuclie30/00225.jpg', '/data/FIBSEM/nuclie_align_ROI3_1700/nuclie30/00226.jpg', '/data/FIBSEM/nuclie_align_ROI3_1700/nuclie30/00227.jpg', '/data/FIBSEM/nuclie_align_ROI3_1700/nuclie30/00228.jpg', '/data/FIBSEM/nuclie_align_ROI3_1700/nuclie30/00229.jpg', '/data/FIBSEM/nuclie_align_ROI3_1700/nuclie30/00230.jpg', '/data/FIBSEM/nuclie_align_ROI3_1700/nuclie30/00231.jpg', '/data/FIBSEM/nuclie_align_ROI3_1700/nuclie30/00232.jpg', '/data/FIBSEM/nuclie_align_ROI3_1700/nuclie30/00233.jpg', '/data/FIBSEM/nuclie_align_ROI3_1700/nuclie30/00234.jpg', '/data/FIBSEM/nuclie_align_ROI3_1700/nuclie30/00235.jpg', '/data/FIBSEM/nuclie_align_ROI3_1700/nuclie30/00236.jpg', '/data/FIBSEM/nuclie_align_ROI3_1700/nuclie30/00237.jpg', '/data/FIBSEM/nuclie_align_ROI3_1700/nuclie30/00238.jpg', '/data/FIBSEM/nuclie_align_ROI3_1700/nuclie30/00239.jpg', '/data/FIBSEM/nuclie_align_ROI3_1700/nuclie30/00240.jpg', '/data/FIBSEM/nuclie_align_ROI3_1700/nuclie30/00241.jpg', '/data/FIBSEM/nuclie_align_ROI3_1700/nuclie30/00242.jpg', '/data/FIBSEM/nuclie_align_ROI3_1700/nuclie30/00243.jpg', '/data/FIBSEM/nuclie_align_ROI3_1700/nuclie30/00244.jpg', '/data/FIBSEM/nuclie_align_ROI3_1700/nuclie30/00245.jpg', '/data/FIBSEM/nuclie_align_ROI3_1700/nuclie30/00246.jpg', '/data/FIBSEM/nuclie_align_ROI3_1700/nuclie30/00247.jpg', '/data/FIBSEM/nuclie_align_ROI3_1700/nuclie30/00248.jpg', '/data/FIBSEM/nuclie_align_ROI3_1700/nuclie30/00249.jpg', '/data/FIBSEM/nuclie_align_ROI3_1700/nuclie30/00250.jpg', '/data/FIBSEM/nuclie_align_ROI3_1700/nuclie30/00251.jpg', '/data/FIBSEM/nuclie_align_ROI3_1700/nuclie30/00252.jpg', '/data/FIBSEM/nuclie_align_ROI3_1700/nuclie30/00253.jpg', '/data/FIBSEM/nuclie_align_ROI3_1700/nuclie30/00254.jpg', '/data/FIBSEM/nuclie_align_ROI3_1700/nuclie30/00255.jpg', '/data/FIBSEM/nuclie_align_ROI3_1700/nuclie30/00256.jpg', '/data/FIBSEM/nuclie_align_ROI3_1700/nuclie30/00257.jpg', '/data/FIBSEM/nuclie_align_ROI3_1700/nuclie30/00258.jpg', '/data/FIBSEM/nuclie_align_ROI3_1700/nuclie30/00259.jpg', '/data/FIBSEM/nuclie_align_ROI3_1700/nuclie30/00260.jpg', '/data/FIBSEM/nuclie_align_ROI3_1700/nuclie30/00261.jpg', '/data/FIBSEM/nuclie_align_ROI3_1700/nuclie30/00262.jpg', '/data/FIBSEM/nuclie_align_ROI3_1700/nuclie30/00263.jpg', '/data/FIBSEM/nuclie_align_ROI3_1700/nuclie30/00264.jpg', '/data/FIBSEM/nuclie_align_ROI3_1700/nuclie30/00265.jpg', '/data/FIBSEM/nuclie_align_ROI3_1700/nuclie30/00266.jpg', '/data/FIBSEM/nuclie_align_ROI3_1700/nuclie30/00267.jpg', '/data/FIBSEM/nuclie_align_ROI3_1700/nuclie30/00268.jpg', '/data/FIBSEM/nuclie_align_ROI3_1700/nuclie30/00269.jpg', '/data/FIBSEM/nuclie_align_ROI3_1700/nuclie30/00270.jpg', '/data/FIBSEM/nuclie_align_ROI3_1700/nuclie30/00271.jpg', '/data/FIBSEM/nuclie_align_ROI3_1700/nuclie30/00272.jpg', '/data/FIBSEM/nuclie_align_ROI3_1700/nuclie30/00273.jpg', '/data/FIBSEM/nuclie_align_ROI3_1700/nuclie30/00274.jpg', '/data/FIBSEM/nuclie_align_ROI3_1700/nuclie30/00275.jpg', '/data/FIBSEM/nuclie_align_ROI3_1700/nuclie30/00276.jpg', '/data/FIBSEM/nuclie_align_ROI3_1700/nuclie30/00277.jpg', '/data/FIBSEM/nuclie_align_ROI3_1700/nuclie30/00278.jpg', '/data/FIBSEM/nuclie_align_ROI3_1700/nuclie30/00279.jpg', '/data/FIBSEM/nuclie_align_ROI3_1700/nuclie30/00280.jpg', '/data/FIBSEM/nuclie_align_ROI3_1700/nuclie30/00281.jpg', '/data/FIBSEM/nuclie_align_ROI3_1700/nuclie30/00282.jpg', '/data/FIBSEM/nuclie_align_ROI3_1700/nuclie30/00283.jpg', '/data/FIBSEM/nuclie_align_ROI3_1700/nuclie30/00284.jpg', '/data/FIBSEM/nuclie_align_ROI3_1700/nuclie30/00285.jpg', '/data/FIBSEM/nuclie_align_ROI3_1700/nuclie30/00286.jpg', '/data/FIBSEM/nuclie_align_ROI3_1700/nuclie30/00287.jpg', '/data/FIBSEM/nuclie_align_ROI3_1700/nuclie30/00288.jpg', '/data/FIBSEM/nuclie_align_ROI3_1700/nuclie30/00289.jpg', '/data/FIBSEM/nuclie_align_ROI3_1700/nuclie30/00290.jpg', '/data/FIBSEM/nuclie_align_ROI3_1700/nuclie30/00291.jpg', '/data/FIBSEM/nuclie_align_ROI3_1700/nuclie30/00292.jpg', '/data/FIBSEM/nuclie_align_ROI3_1700/nuclie30/00293.jpg', '/data/FIBSEM/nuclie_align_ROI3_1700/nuclie30/00294.jpg', '/data/FIBSEM/nuclie_align_ROI3_1700/nuclie30/00295.jpg', '/data/FIBSEM/nuclie_align_ROI3_1700/nuclie30/00296.jpg', '/data/FIBSEM/nuclie_align_ROI3_1700/nuclie30/00297.jpg', '/data/FIBSEM/nuclie_align_ROI3_1700/nuclie30/00298.jpg', '/data/FIBSEM/nuclie_align_ROI3_1700/nuclie30/00299.jpg', '/data/FIBSEM/nuclie_align_ROI3_1700/nuclie30/00300.jpg', '/data/FIBSEM/nuclie_align_ROI3_1700/nuclie30/00301.jpg', '/data/FIBSEM/nuclie_align_ROI3_1700/nuclie30/00302.jpg', '/data/FIBSEM/nuclie_align_ROI3_1700/nuclie30/00303.jpg', '/data/FIBSEM/nuclie_align_ROI3_1700/nuclie30/00304.jpg', '/data/FIBSEM/nuclie_align_ROI3_1700/nuclie30/00305.jpg', '/data/FIBSEM/nuclie_align_ROI3_1700/nuclie30/00306.jpg', '/data/FIBSEM/nuclie_align_ROI3_1700/nuclie30/00307.jpg', '/data/FIBSEM/nuclie_align_ROI3_1700/nuclie30/00308.jpg', '/data/FIBSEM/nuclie_align_ROI3_1700/nuclie30/00309.jpg', '/data/FIBSEM/nuclie_align_ROI3_1700/nuclie30/00310.jpg', '/data/FIBSEM/nuclie_align_ROI3_1700/nuclie30/00311.jpg', '/data/FIBSEM/nuclie_align_ROI3_1700/nuclie30/00312.jpg', '/data/FIBSEM/nuclie_align_ROI3_1700/nuclie30/00313.jpg', '/data/FIBSEM/nuclie_align_ROI3_1700/nuclie30/00314.jpg', '/data/FIBSEM/nuclie_align_ROI3_1700/nuclie30/00315.jpg', '/data/FIBSEM/nuclie_align_ROI3_1700/nuclie30/00316.jpg', '/data/FIBSEM/nuclie_align_ROI3_1700/nuclie30/00317.jpg', '/data/FIBSEM/nuclie_align_ROI3_1700/nuclie30/00318.jpg', '/data/FIBSEM/nuclie_align_ROI3_1700/nuclie30/00319.jpg', '/data/FIBSEM/nuclie_align_ROI3_1700/nuclie30/00320.jpg', '/data/FIBSEM/nuclie_align_ROI3_1700/nuclie30/00321.jpg', '/data/FIBSEM/nuclie_align_ROI3_1700/nuclie30/00322.jpg', '/data/FIBSEM/nuclie_align_ROI3_1700/nuclie30/00323.jpg', '/data/FIBSEM/nuclie_align_ROI3_1700/nuclie30/00324.jpg', '/data/FIBSEM/nuclie_align_ROI3_1700/nuclie30/00325.jpg', '/data/FIBSEM/nuclie_align_ROI3_1700/nuclie30/00326.jpg', '/data/FIBSEM/nuclie_align_ROI3_1700/nuclie30/00327.jpg', '/data/FIBSEM/nuclie_align_ROI3_1700/nuclie30/00328.jpg', '/data/FIBSEM/nuclie_align_ROI3_1700/nuclie30/00329.jpg', '/data/FIBSEM/nuclie_align_ROI3_1700/nuclie30/00330.jpg', '/data/FIBSEM/nuclie_align_ROI3_1700/nuclie30/00331.jpg', '/data/FIBSEM/nuclie_align_ROI3_1700/nuclie30/00332.jpg', '/data/FIBSEM/nuclie_align_ROI3_1700/nuclie30/00333.jpg', '/data/FIBSEM/nuclie_align_ROI3_1700/nuclie30/00334.jpg', '/data/FIBSEM/nuclie_align_ROI3_1700/nuclie30/00335.jpg', '/data/FIBSEM/nuclie_align_ROI3_1700/nuclie30/00336.jpg', '/data/FIBSEM/nuclie_align_ROI3_1700/nuclie30/00337.jpg', '/data/FIBSEM/nuclie_align_ROI3_1700/nuclie30/00338.jpg', '/data/FIBSEM/nuclie_align_ROI3_1700/nuclie30/00339.jpg', '/data/FIBSEM/nuclie_align_ROI3_1700/nuclie30/00340.jpg', '/data/FIBSEM/nuclie_align_ROI3_1700/nuclie30/00341.jpg', '/data/FIBSEM/nuclie_align_ROI3_1700/nuclie30/00342.jpg', '/data/FIBSEM/nuclie_align_ROI3_1700/nuclie30/00343.jpg', '/data/FIBSEM/nuclie_align_ROI3_1700/nuclie30/00344.jpg', '/data/FIBSEM/nuclie_align_ROI3_1700/nuclie30/00345.jpg', '/data/FIBSEM/nuclie_align_ROI3_1700/nuclie30/00346.jpg', '/data/FIBSEM/nuclie_align_ROI3_1700/nuclie30/00347.jpg', '/data/FIBSEM/nuclie_align_ROI3_1700/nuclie30/00348.jpg', '/data/FIBSEM/nuclie_align_ROI3_1700/nuclie30/00349.jpg', '/data/FIBSEM/nuclie_align_ROI3_1700/nuclie30/00350.jpg', '/data/FIBSEM/nuclie_align_ROI3_1700/nuclie30/00351.jpg', '/data/FIBSEM/nuclie_align_ROI3_1700/nuclie30/00352.jpg', '/data/FIBSEM/nuclie_align_ROI3_1700/nuclie30/00353.jpg', '/data/FIBSEM/nuclie_align_ROI3_1700/nuclie30/00354.jpg', '/data/FIBSEM/nuclie_align_ROI3_1700/nuclie30/00355.jpg', '/data/FIBSEM/nuclie_align_ROI3_1700/nuclie30/00356.jpg', '/data/FIBSEM/nuclie_align_ROI3_1700/nuclie30/00357.jpg', '/data/FIBSEM/nuclie_align_ROI3_1700/nuclie30/00358.jpg', '/data/FIBSEM/nuclie_align_ROI3_1700/nuclie30/00359.jpg', '/data/FIBSEM/nuclie_align_ROI3_1700/nuclie30/00360.jpg', '/data/FIBSEM/nuclie_align_ROI3_1700/nuclie30/00361.jpg', '/data/FIBSEM/nuclie_align_ROI3_1700/nuclie30/00362.jpg', '/data/FIBSEM/nuclie_align_ROI3_1700/nuclie30/00363.jpg', '/data/FIBSEM/nuclie_align_ROI3_1700/nuclie30/00364.jpg', '/data/FIBSEM/nuclie_align_ROI3_1700/nuclie30/00365.jpg', '/data/FIBSEM/nuclie_align_ROI3_1700/nuclie30/00366.jpg', '/data/FIBSEM/nuclie_align_ROI3_1700/nuclie30/00367.jpg', '/data/FIBSEM/nuclie_align_ROI3_1700/nuclie30/00368.jpg', '/data/FIBSEM/nuclie_align_ROI3_1700/nuclie30/00369.jpg', '/data/FIBSEM/nuclie_align_ROI3_1700/nuclie30/00370.jpg', '/data/FIBSEM/nuclie_align_ROI3_1700/nuclie30/00371.jpg', '/data/FIBSEM/nuclie_align_ROI3_1700/nuclie30/00372.jpg', '/data/FIBSEM/nuclie_align_ROI3_1700/nuclie30/00373.jpg', '/data/FIBSEM/nuclie_align_ROI3_1700/nuclie30/00374.jpg', '/data/FIBSEM/nuclie_align_ROI3_1700/nuclie30/00375.jpg', '/data/FIBSEM/nuclie_align_ROI3_1700/nuclie30/00376.jpg', '/data/FIBSEM/nuclie_align_ROI3_1700/nuclie30/00377.jpg', '/data/FIBSEM/nuclie_align_ROI3_1700/nuclie30/00378.jpg', '/data/FIBSEM/nuclie_align_ROI3_1700/nuclie30/00379.jpg', '/data/FIBSEM/nuclie_align_ROI3_1700/nuclie30/00380.jpg', '/data/FIBSEM/nuclie_align_ROI3_1700/nuclie30/00381.jpg', '/data/FIBSEM/nuclie_align_ROI3_1700/nuclie30/00382.jpg', '/data/FIBSEM/nuclie_align_ROI3_1700/nuclie30/00383.jpg', '/data/FIBSEM/nuclie_align_ROI3_1700/nuclie30/00384.jpg', '/data/FIBSEM/nuclie_align_ROI3_1700/nuclie30/00385.jpg', '/data/FIBSEM/nuclie_align_ROI3_1700/nuclie30/00386.jpg', '/data/FIBSEM/nuclie_align_ROI3_1700/nuclie30/00387.jpg', '/data/FIBSEM/nuclie_align_ROI3_1700/nuclie30/00388.jpg', '/data/FIBSEM/nuclie_align_ROI3_1700/nuclie30/00389.jpg', '/data/FIBSEM/nuclie_align_ROI3_1700/nuclie30/00390.jpg', '/data/FIBSEM/nuclie_align_ROI3_1700/nuclie30/00391.jpg', '/data/FIBSEM/nuclie_align_ROI3_1700/nuclie30/00392.jpg', '/data/FIBSEM/nuclie_align_ROI3_1700/nuclie30/00393.jpg', '/data/FIBSEM/nuclie_align_ROI3_1700/nuclie30/00394.jpg', '/data/FIBSEM/nuclie_align_ROI3_1700/nuclie30/00395.jpg', '/data/FIBSEM/nuclie_align_ROI3_1700/nuclie30/00396.jpg', '/data/FIBSEM/nuclie_align_ROI3_1700/nuclie30/00397.jpg', '/data/FIBSEM/nuclie_align_ROI3_1700/nuclie30/00398.jpg', '/data/FIBSEM/nuclie_align_ROI3_1700/nuclie30/00399.jpg', '/data/FIBSEM/nuclie_align_ROI3_1700/nuclie30/00400.jpg', '/data/FIBSEM/nuclie_align_ROI3_1700/nuclie30/00401.jpg', '/data/FIBSEM/nuclie_align_ROI3_1700/nuclie30/00402.jpg', '/data/FIBSEM/nuclie_align_ROI3_1700/nuclie30/00403.jpg', '/data/FIBSEM/nuclie_align_ROI3_1700/nuclie30/00404.jpg', '/data/FIBSEM/nuclie_align_ROI3_1700/nuclie30/00405.jpg', '/data/FIBSEM/nuclie_align_ROI3_1700/nuclie30/00406.jpg', '/data/FIBSEM/nuclie_align_ROI3_1700/nuclie30/00407.jpg', '/data/FIBSEM/nuclie_align_ROI3_1700/nuclie30/00408.jpg', '/data/FIBSEM/nuclie_align_ROI3_1700/nuclie30/00409.jpg', '/data/FIBSEM/nuclie_align_ROI3_1700/nuclie30/00410.jpg', '/data/FIBSEM/nuclie_align_ROI3_1700/nuclie30/00411.jpg', '/data/FIBSEM/nuclie_align_ROI3_1700/nuclie30/00412.jpg', '/data/FIBSEM/nuclie_align_ROI3_1700/nuclie30/00413.jpg', '/data/FIBSEM/nuclie_align_ROI3_1700/nuclie30/00414.jpg', '/data/FIBSEM/nuclie_align_ROI3_1700/nuclie30/00415.jpg', '/data/FIBSEM/nuclie_align_ROI3_1700/nuclie30/00416.jpg', '/data/FIBSEM/nuclie_align_ROI3_1700/nuclie30/00417.jpg', '/data/FIBSEM/nuclie_align_ROI3_1700/nuclie30/00418.jpg', '/data/FIBSEM/nuclie_align_ROI3_1700/nuclie30/00419.jpg', '/data/FIBSEM/nuclie_align_ROI3_1700/nuclie30/00420.jpg', '/data/FIBSEM/nuclie_align_ROI3_1700/nuclie30/00421.jpg', '/data/FIBSEM/nuclie_align_ROI3_1700/nuclie30/00422.jpg', '/data/FIBSEM/nuclie_align_ROI3_1700/nuclie30/00423.jpg', '/data/FIBSEM/nuclie_align_ROI3_1700/nuclie30/00424.jpg', '/data/FIBSEM/nuclie_align_ROI3_1700/nuclie30/00425.jpg', '/data/FIBSEM/nuclie_align_ROI3_1700/nuclie30/00426.jpg', '/data/FIBSEM/nuclie_align_ROI3_1700/nuclie30/00427.jpg', '/data/FIBSEM/nuclie_align_ROI3_1700/nuclie30/00428.jpg', '/data/FIBSEM/nuclie_align_ROI3_1700/nuclie30/00429.jpg', '/data/FIBSEM/nuclie_align_ROI3_1700/nuclie30/00430.jpg', '/data/FIBSEM/nuclie_align_ROI3_1700/nuclie30/00431.jpg', '/data/FIBSEM/nuclie_align_ROI3_1700/nuclie30/00432.jpg', '/data/FIBSEM/nuclie_align_ROI3_1700/nuclie30/00433.jpg', '/data/FIBSEM/nuclie_align_ROI3_1700/nuclie30/00434.jpg', '/data/FIBSEM/nuclie_align_ROI3_1700/nuclie30/00435.jpg', '/data/FIBSEM/nuclie_align_ROI3_1700/nuclie30/00436.jpg', '/data/FIBSEM/nuclie_align_ROI3_1700/nuclie30/00437.jpg', '/data/FIBSEM/nuclie_align_ROI3_1700/nuclie30/00438.jpg', '/data/FIBSEM/nuclie_align_ROI3_1700/nuclie30/00439.jpg', '/data/FIBSEM/nuclie_align_ROI3_1700/nuclie30/00440.jpg', '/data/FIBSEM/nuclie_align_ROI3_1700/nuclie30/00441.jpg', '/data/FIBSEM/nuclie_align_ROI3_1700/nuclie30/00442.jpg', '/data/FIBSEM/nuclie_align_ROI3_1700/nuclie30/00443.jpg', '/data/FIBSEM/nuclie_align_ROI3_1700/nuclie30/00444.jpg', '/data/FIBSEM/nuclie_align_ROI3_1700/nuclie30/00445.jpg', '/data/FIBSEM/nuclie_align_ROI3_1700/nuclie30/00446.jpg', '/data/FIBSEM/nuclie_align_ROI3_1700/nuclie30/00447.jpg', '/data/FIBSEM/nuclie_align_ROI3_1700/nuclie30/00448.jpg', '/data/FIBSEM/nuclie_align_ROI3_1700/nuclie30/00449.jpg', '/data/FIBSEM/nuclie_align_ROI3_1700/nuclie30/00450.jpg', '/data/FIBSEM/nuclie_align_ROI3_1700/nuclie30/00451.jpg', '/data/FIBSEM/nuclie_align_ROI3_1700/nuclie30/00452.jpg', '/data/FIBSEM/nuclie_align_ROI3_1700/nuclie30/00453.jpg', '/data/FIBSEM/nuclie_align_ROI3_1700/nuclie30/00454.jpg', '/data/FIBSEM/nuclie_align_ROI3_1700/nuclie30/00455.jpg', '/data/FIBSEM/nuclie_align_ROI3_1700/nuclie30/00456.jpg', '/data/FIBSEM/nuclie_align_ROI3_1700/nuclie30/00457.jpg', '/data/FIBSEM/nuclie_align_ROI3_1700/nuclie30/00458.jpg', '/data/FIBSEM/nuclie_align_ROI3_1700/nuclie30/00459.jpg', '/data/FIBSEM/nuclie_align_ROI3_1700/nuclie30/00460.jpg', '/data/FIBSEM/nuclie_align_ROI3_1700/nuclie30/00461.jpg', '/data/FIBSEM/nuclie_align_ROI3_1700/nuclie30/00462.jpg', '/data/FIBSEM/nuclie_align_ROI3_1700/nuclie30/00463.jpg', '/data/FIBSEM/nuclie_align_ROI3_1700/nuclie30/00464.jpg', '/data/FIBSEM/nuclie_align_ROI3_1700/nuclie30/00465.jpg', '/data/FIBSEM/nuclie_align_ROI3_1700/nuclie30/00466.jpg', '/data/FIBSEM/nuclie_align_ROI3_1700/nuclie30/00467.jpg', '/data/FIBSEM/nuclie_align_ROI3_1700/nuclie30/00468.jpg', '/data/FIBSEM/nuclie_align_ROI3_1700/nuclie30/00469.jpg', '/data/FIBSEM/nuclie_align_ROI3_1700/nuclie30/00470.jpg', '/data/FIBSEM/nuclie_align_ROI3_1700/nuclie30/00471.jpg', '/data/FIBSEM/nuclie_align_ROI3_1700/nuclie30/00472.jpg', '/data/FIBSEM/nuclie_align_ROI3_1700/nuclie30/00473.jpg', '/data/FIBSEM/nuclie_align_ROI3_1700/nuclie30/00474.jpg', '/data/FIBSEM/nuclie_align_ROI3_1700/nuclie30/00475.jpg', '/data/FIBSEM/nuclie_align_ROI3_1700/nuclie30/00476.jpg', '/data/FIBSEM/nuclie_align_ROI3_1700/nuclie30/00477.jpg', '/data/FIBSEM/nuclie_align_ROI3_1700/nuclie30/00478.jpg', '/data/FIBSEM/nuclie_align_ROI3_1700/nuclie30/00479.jpg', '/data/FIBSEM/nuclie_align_ROI3_1700/nuclie30/00480.jpg', '/data/FIBSEM/nuclie_align_ROI3_1700/nuclie30/00481.jpg', '/data/FIBSEM/nuclie_align_ROI3_1700/nuclie30/00482.jpg', '/data/FIBSEM/nuclie_align_ROI3_1700/nuclie30/00483.jpg', '/data/FIBSEM/nuclie_align_ROI3_1700/nuclie30/00484.jpg', '/data/FIBSEM/nuclie_align_ROI3_1700/nuclie30/00485.jpg', '/data/FIBSEM/nuclie_align_ROI3_1700/nuclie30/00486.jpg', '/data/FIBSEM/nuclie_align_ROI3_1700/nuclie30/00487.jpg', '/data/FIBSEM/nuclie_align_ROI3_1700/nuclie30/00488.jpg', '/data/FIBSEM/nuclie_align_ROI3_1700/nuclie30/00489.jpg', '/data/FIBSEM/nuclie_align_ROI3_1700/nuclie30/00490.jpg', '/data/FIBSEM/nuclie_align_ROI3_1700/nuclie30/00491.jpg', '/data/FIBSEM/nuclie_align_ROI3_1700/nuclie30/00492.jpg', '/data/FIBSEM/nuclie_align_ROI3_1700/nuclie30/00493.jpg', '/data/FIBSEM/nuclie_align_ROI3_1700/nuclie30/00494.jpg', '/data/FIBSEM/nuclie_align_ROI3_1700/nuclie30/00495.jpg', '/data/FIBSEM/nuclie_align_ROI3_1700/nuclie30/00496.jpg', '/data/FIBSEM/nuclie_align_ROI3_1700/nuclie30/00497.jpg', '/data/FIBSEM/nuclie_align_ROI3_1700/nuclie30/00498.jpg', '/data/FIBSEM/nuclie_align_ROI3_1700/nuclie30/00499.jpg', '/data/FIBSEM/nuclie_align_ROI3_1700/nuclie30/00500.jpg', '/data/FIBSEM/nuclie_align_ROI3_1700/nuclie30/00501.jpg', '/data/FIBSEM/nuclie_align_ROI3_1700/nuclie30/00502.jpg', '/data/FIBSEM/nuclie_align_ROI3_1700/nuclie30/00503.jpg', '/data/FIBSEM/nuclie_align_ROI3_1700/nuclie30/00504.jpg', '/data/FIBSEM/nuclie_align_ROI3_1700/nuclie30/00505.jpg', '/data/FIBSEM/nuclie_align_ROI3_1700/nuclie30/00506.jpg', '/data/FIBSEM/nuclie_align_ROI3_1700/nuclie30/00507.jpg', '/data/FIBSEM/nuclie_align_ROI3_1700/nuclie30/00508.jpg', '/data/FIBSEM/nuclie_align_ROI3_1700/nuclie30/00509.jpg', '/data/FIBSEM/nuclie_align_ROI3_1700/nuclie30/00510.jpg', '/data/FIBSEM/nuclie_align_ROI3_1700/nuclie30/00511.jpg', '/data/FIBSEM/nuclie_align_ROI3_1700/nuclie30/00512.jpg', '/data/FIBSEM/nuclie_align_ROI3_1700/nuclie30/00513.jpg', '/data/FIBSEM/nuclie_align_ROI3_1700/nuclie30/00514.jpg', '/data/FIBSEM/nuclie_align_ROI3_1700/nuclie30/00515.jpg', '/data/FIBSEM/nuclie_align_ROI3_1700/nuclie30/00516.jpg', '/data/FIBSEM/nuclie_align_ROI3_1700/nuclie30/00517.jpg', '/data/FIBSEM/nuclie_align_ROI3_1700/nuclie30/00518.jpg', '/data/FIBSEM/nuclie_align_ROI3_1700/nuclie30/00519.jpg', '/data/FIBSEM/nuclie_align_ROI3_1700/nuclie30/00520.jpg', '/data/FIBSEM/nuclie_align_ROI3_1700/nuclie30/00521.jpg', '/data/FIBSEM/nuclie_align_ROI3_1700/nuclie30/00522.jpg', '/data/FIBSEM/nuclie_align_ROI3_1700/nuclie30/00523.jpg', '/data/FIBSEM/nuclie_align_ROI3_1700/nuclie30/00524.jpg', '/data/FIBSEM/nuclie_align_ROI3_1700/nuclie30/00525.jpg', '/data/FIBSEM/nuclie_align_ROI3_1700/nuclie30/00526.jpg', '/data/FIBSEM/nuclie_align_ROI3_1700/nuclie30/00527.jpg', '/data/FIBSEM/nuclie_align_ROI3_1700/nuclie30/00528.jpg', '/data/FIBSEM/nuclie_align_ROI3_1700/nuclie30/00529.jpg', '/data/FIBSEM/nuclie_align_ROI3_1700/nuclie30/00530.jpg', '/data/FIBSEM/nuclie_align_ROI3_1700/nuclie30/00531.jpg', '/data/FIBSEM/nuclie_align_ROI3_1700/nuclie30/00532.jpg', '/data/FIBSEM/nuclie_align_ROI3_1700/nuclie30/00533.jpg', '/data/FIBSEM/nuclie_align_ROI3_1700/nuclie30/00534.jpg', '/data/FIBSEM/nuclie_align_ROI3_1700/nuclie30/00535.jpg', '/data/FIBSEM/nuclie_align_ROI3_1700/nuclie30/00536.jpg', '/data/FIBSEM/nuclie_align_ROI3_1700/nuclie30/00537.jpg', '/data/FIBSEM/nuclie_align_ROI3_1700/nuclie30/00538.jpg', '/data/FIBSEM/nuclie_align_ROI3_1700/nuclie30/00539.jpg', '/data/FIBSEM/nuclie_align_ROI3_1700/nuclie30/00540.jpg', '/data/FIBSEM/nuclie_align_ROI3_1700/nuclie30/00541.jpg', '/data/FIBSEM/nuclie_align_ROI3_1700/nuclie30/00542.jpg', '/data/FIBSEM/nuclie_align_ROI3_1700/nuclie30/00543.jpg', '/data/FIBSEM/nuclie_align_ROI3_1700/nuclie30/00544.jpg', '/data/FIBSEM/nuclie_align_ROI3_1700/nuclie30/00545.jpg', '/data/FIBSEM/nuclie_align_ROI3_1700/nuclie30/00546.jpg', '/data/FIBSEM/nuclie_align_ROI3_1700/nuclie30/00547.jpg', '/data/FIBSEM/nuclie_align_ROI3_1700/nuclie30/00548.jpg', '/data/FIBSEM/nuclie_align_ROI3_1700/nuclie30/00549.jpg', '/data/FIBSEM/nuclie_align_ROI3_1700/nuclie30/00550.jpg', '/data/FIBSEM/nuclie_align_ROI3_1700/nuclie30/00551.jpg', '/data/FIBSEM/nuclie_align_ROI3_1700/nuclie30/00552.jpg', '/data/FIBSEM/nuclie_align_ROI3_1700/nuclie30/00553.jpg', '/data/FIBSEM/nuclie_align_ROI3_1700/nuclie30/00554.jpg', '/data/FIBSEM/nuclie_align_ROI3_1700/nuclie30/00555.jpg', '/data/FIBSEM/nuclie_align_ROI3_1700/nuclie30/00556.jpg', '/data/FIBSEM/nuclie_align_ROI3_1700/nuclie30/00557.jpg', '/data/FIBSEM/nuclie_align_ROI3_1700/nuclie30/00558.jpg', '/data/FIBSEM/nuclie_align_ROI3_1700/nuclie30/00559.jpg', '/data/FIBSEM/nuclie_align_ROI3_1700/nuclie30/00560.jpg', '/data/FIBSEM/nuclie_align_ROI3_1700/nuclie30/00561.jpg', '/data/FIBSEM/nuclie_align_ROI3_1700/nuclie30/00562.jpg', '/data/FIBSEM/nuclie_align_ROI3_1700/nuclie30/00563.jpg', '/data/FIBSEM/nuclie_align_ROI3_1700/nuclie30/00564.jpg', '/data/FIBSEM/nuclie_align_ROI3_1700/nuclie30/00565.jpg', '/data/FIBSEM/nuclie_align_ROI3_1700/nuclie30/00566.jpg', '/data/FIBSEM/nuclie_align_ROI3_1700/nuclie30/00567.jpg', '/data/FIBSEM/nuclie_align_ROI3_1700/nuclie30/00568.jpg', '/data/FIBSEM/nuclie_align_ROI3_1700/nuclie30/00569.jpg', '/data/FIBSEM/nuclie_align_ROI3_1700/nuclie30/00570.jpg', '/data/FIBSEM/nuclie_align_ROI3_1700/nuclie30/00571.jpg', '/data/FIBSEM/nuclie_align_ROI3_1700/nuclie30/00572.jpg', '/data/FIBSEM/nuclie_align_ROI3_1700/nuclie30/00573.jpg', '/data/FIBSEM/nuclie_align_ROI3_1700/nuclie30/00574.jpg', '/data/FIBSEM/nuclie_align_ROI3_1700/nuclie30/00575.jpg', '/data/FIBSEM/nuclie_align_ROI3_1700/nuclie30/00576.jpg', '/data/FIBSEM/nuclie_align_ROI3_1700/nuclie30/00577.jpg', '/data/FIBSEM/nuclie_align_ROI3_1700/nuclie30/00578.jpg', '/data/FIBSEM/nuclie_align_ROI3_1700/nuclie30/00579.jpg', '/data/FIBSEM/nuclie_align_ROI3_1700/nuclie30/00580.jpg', '/data/FIBSEM/nuclie_align_ROI3_1700/nuclie30/00581.jpg', '/data/FIBSEM/nuclie_align_ROI3_1700/nuclie30/00582.jpg', '/data/FIBSEM/nuclie_align_ROI3_1700/nuclie30/00583.jpg', '/data/FIBSEM/nuclie_align_ROI3_1700/nuclie30/00584.jpg', '/data/FIBSEM/nuclie_align_ROI3_1700/nuclie30/00585.jpg', '/data/FIBSEM/nuclie_align_ROI3_1700/nuclie30/00586.jpg', '/data/FIBSEM/nuclie_align_ROI3_1700/nuclie30/00587.jpg', '/data/FIBSEM/nuclie_align_ROI3_1700/nuclie30/00588.jpg', '/data/FIBSEM/nuclie_align_ROI3_1700/nuclie30/00589.jpg', '/data/FIBSEM/nuclie_align_ROI3_1700/nuclie30/00590.jpg', '/data/FIBSEM/nuclie_align_ROI3_1700/nuclie30/00591.jpg', '/data/FIBSEM/nuclie_align_ROI3_1700/nuclie30/00592.jpg', '/data/FIBSEM/nuclie_align_ROI3_1700/nuclie30/00593.jpg', '/data/FIBSEM/nuclie_align_ROI3_1700/nuclie30/00594.jpg', '/data/FIBSEM/nuclie_align_ROI3_1700/nuclie30/00595.jpg', '/data/FIBSEM/nuclie_align_ROI3_1700/nuclie30/00596.jpg', '/data/FIBSEM/nuclie_align_ROI3_1700/nuclie30/00597.jpg', '/data/FIBSEM/nuclie_align_ROI3_1700/nuclie30/00598.jpg', '/data/FIBSEM/nuclie_align_ROI3_1700/nuclie30/00599.jpg', '/data/FIBSEM/nuclie_align_ROI3_1700/nuclie30/00600.jpg', '/data/FIBSEM/nuclie_align_ROI3_1700/nuclie30/00601.jpg', '/data/FIBSEM/nuclie_align_ROI3_1700/nuclie30/00602.jpg', '/data/FIBSEM/nuclie_align_ROI3_1700/nuclie30/00603.jpg', '/data/FIBSEM/nuclie_align_ROI3_1700/nuclie30/00604.jpg', '/data/FIBSEM/nuclie_align_ROI3_1700/nuclie30/00605.jpg', '/data/FIBSEM/nuclie_align_ROI3_1700/nuclie30/00606.jpg', '/data/FIBSEM/nuclie_align_ROI3_1700/nuclie30/00607.jpg', '/data/FIBSEM/nuclie_align_ROI3_1700/nuclie30/00608.jpg', '/data/FIBSEM/nuclie_align_ROI3_1700/nuclie30/00609.jpg', '/data/FIBSEM/nuclie_align_ROI3_1700/nuclie30/00610.jpg', '/data/FIBSEM/nuclie_align_ROI3_1700/nuclie30/00611.jpg', '/data/FIBSEM/nuclie_align_ROI3_1700/nuclie30/00612.jpg', '/data/FIBSEM/nuclie_align_ROI3_1700/nuclie30/00613.jpg', '/data/FIBSEM/nuclie_align_ROI3_1700/nuclie30/00614.jpg', '/data/FIBSEM/nuclie_align_ROI3_1700/nuclie30/00615.jpg', '/data/FIBSEM/nuclie_align_ROI3_1700/nuclie30/00616.jpg', '/data/FIBSEM/nuclie_align_ROI3_1700/nuclie30/00617.jpg', '/data/FIBSEM/nuclie_align_ROI3_1700/nuclie30/00618.jpg', '/data/FIBSEM/nuclie_align_ROI3_1700/nuclie30/00619.jpg', '/data/FIBSEM/nuclie_align_ROI3_1700/nuclie30/00620.jpg', '/data/FIBSEM/nuclie_align_ROI3_1700/nuclie30/00621.jpg', '/data/FIBSEM/nuclie_align_ROI3_1700/nuclie30/00622.jpg', '/data/FIBSEM/nuclie_align_ROI3_1700/nuclie30/00623.jpg', '/data/FIBSEM/nuclie_align_ROI3_1700/nuclie30/00624.jpg', '/data/FIBSEM/nuclie_align_ROI3_1700/nuclie30/00625.jpg', '/data/FIBSEM/nuclie_align_ROI3_1700/nuclie30/00626.jpg', '/data/FIBSEM/nuclie_align_ROI3_1700/nuclie30/00627.jpg', '/data/FIBSEM/nuclie_align_ROI3_1700/nuclie30/00628.jpg', '/data/FIBSEM/nuclie_align_ROI3_1700/nuclie30/00629.jpg', '/data/FIBSEM/nuclie_align_ROI3_1700/nuclie30/00630.jpg', '/data/FIBSEM/nuclie_align_ROI3_1700/nuclie30/00631.jpg', '/data/FIBSEM/nuclie_align_ROI3_1700/nuclie30/00632.jpg', '/data/FIBSEM/nuclie_align_ROI3_1700/nuclie30/00633.jpg', '/data/FIBSEM/nuclie_align_ROI3_1700/nuclie30/00634.jpg', '/data/FIBSEM/nuclie_align_ROI3_1700/nuclie30/00635.jpg', '/data/FIBSEM/nuclie_align_ROI3_1700/nuclie30/00636.jpg', '/data/FIBSEM/nuclie_align_ROI3_1700/nuclie30/00637.jpg', '/data/FIBSEM/nuclie_align_ROI3_1700/nuclie30/00638.jpg', '/data/FIBSEM/nuclie_align_ROI3_1700/nuclie30/00639.jpg', '/data/FIBSEM/nuclie_align_ROI3_1700/nuclie30/00640.jpg', '/data/FIBSEM/nuclie_align_ROI3_1700/nuclie30/00641.jpg', '/data/FIBSEM/nuclie_align_ROI3_1700/nuclie30/00642.jpg', '/data/FIBSEM/nuclie_align_ROI3_1700/nuclie30/00643.jpg', '/data/FIBSEM/nuclie_align_ROI3_1700/nuclie30/00644.jpg', '/data/FIBSEM/nuclie_align_ROI3_1700/nuclie30/00645.jpg', '/data/FIBSEM/nuclie_align_ROI3_1700/nuclie30/00646.jpg', '/data/FIBSEM/nuclie_align_ROI3_1700/nuclie30/00647.jpg', '/data/FIBSEM/nuclie_align_ROI3_1700/nuclie30/00648.jpg', '/data/FIBSEM/nuclie_align_ROI3_1700/nuclie30/00649.jpg', '/data/FIBSEM/nuclie_align_ROI3_1700/nuclie30/00650.jpg', '/data/FIBSEM/nuclie_align_ROI3_1700/nuclie30/00651.jpg', '/data/FIBSEM/nuclie_align_ROI3_1700/nuclie30/00652.jpg', '/data/FIBSEM/nuclie_align_ROI3_1700/nuclie30/00653.jpg', '/data/FIBSEM/nuclie_align_ROI3_1700/nuclie30/00654.jpg', '/data/FIBSEM/nuclie_align_ROI3_1700/nuclie30/00655.jpg', '/data/FIBSEM/nuclie_align_ROI3_1700/nuclie30/00656.jpg', '/data/FIBSEM/nuclie_align_ROI3_1700/nuclie30/00657.jpg', '/data/FIBSEM/nuclie_align_ROI3_1700/nuclie30/00658.jpg', '/data/FIBSEM/nuclie_align_ROI3_1700/nuclie30/00659.jpg', '/data/FIBSEM/nuclie_align_ROI3_1700/nuclie30/00660.jpg', '/data/FIBSEM/nuclie_align_ROI3_1700/nuclie30/00661.jpg', '/data/FIBSEM/nuclie_align_ROI3_1700/nuclie30/00662.jpg', '/data/FIBSEM/nuclie_align_ROI3_1700/nuclie30/00663.jpg', '/data/FIBSEM/nuclie_align_ROI3_1700/nuclie30/00664.jpg', '/data/FIBSEM/nuclie_align_ROI3_1700/nuclie30/00665.jpg', '/data/FIBSEM/nuclie_align_ROI3_1700/nuclie30/00666.jpg', '/data/FIBSEM/nuclie_align_ROI3_1700/nuclie30/00667.jpg', '/data/FIBSEM/nuclie_align_ROI3_1700/nuclie30/00668.jpg', '/data/FIBSEM/nuclie_align_ROI3_1700/nuclie30/00669.jpg', '/data/FIBSEM/nuclie_align_ROI3_1700/nuclie30/00670.jpg', '/data/FIBSEM/nuclie_align_ROI3_1700/nuclie30/00671.jpg', '/data/FIBSEM/nuclie_align_ROI3_1700/nuclie30/00672.jpg', '/data/FIBSEM/nuclie_align_ROI3_1700/nuclie30/00673.jpg', '/data/FIBSEM/nuclie_align_ROI3_1700/nuclie30/00674.jpg', '/data/FIBSEM/nuclie_align_ROI3_1700/nuclie30/00675.jpg', '/data/FIBSEM/nuclie_align_ROI3_1700/nuclie30/00676.jpg', '/data/FIBSEM/nuclie_align_ROI3_1700/nuclie30/00677.jpg', '/data/FIBSEM/nuclie_align_ROI3_1700/nuclie30/00678.jpg', '/data/FIBSEM/nuclie_align_ROI3_1700/nuclie30/00679.jpg', '/data/FIBSEM/nuclie_align_ROI3_1700/nuclie30/00680.jpg', '/data/FIBSEM/nuclie_align_ROI3_1700/nuclie30/00681.jpg', '/data/FIBSEM/nuclie_align_ROI3_1700/nuclie30/00682.jpg', '/data/FIBSEM/nuclie_align_ROI3_1700/nuclie30/00683.jpg', '/data/FIBSEM/nuclie_align_ROI3_1700/nuclie30/00684.jpg', '/data/FIBSEM/nuclie_align_ROI3_1700/nuclie30/00685.jpg', '/data/FIBSEM/nuclie_align_ROI3_1700/nuclie30/00686.jpg', '/data/FIBSEM/nuclie_align_ROI3_1700/nuclie30/00687.jpg', '/data/FIBSEM/nuclie_align_ROI3_1700/nuclie30/00688.jpg', '/data/FIBSEM/nuclie_align_ROI3_1700/nuclie30/00689.jpg', '/data/FIBSEM/nuclie_align_ROI3_1700/nuclie30/00690.jpg', '/data/FIBSEM/nuclie_align_ROI3_1700/nuclie30/00691.jpg', '/data/FIBSEM/nuclie_align_ROI3_1700/nuclie30/00692.jpg', '/data/FIBSEM/nuclie_align_ROI3_1700/nuclie30/00693.jpg', '/data/FIBSEM/nuclie_align_ROI3_1700/nuclie30/00694.jpg', '/data/FIBSEM/nuclie_align_ROI3_1700/nuclie30/00695.jpg', '/data/FIBSEM/nuclie_align_ROI3_1700/nuclie30/00696.jpg', '/data/FIBSEM/nuclie_align_ROI3_1700/nuclie30/00697.jpg', '/data/FIBSEM/nuclie_align_ROI3_1700/nuclie30/00698.jpg', '/data/FIBSEM/nuclie_align_ROI3_1700/nuclie30/00699.jpg', '/data/FIBSEM/nuclie_align_ROI3_1700/nuclie30/00700.jpg', '/data/FIBSEM/nuclie_align_ROI3_1700/nuclie30/00701.jpg', '/data/FIBSEM/nuclie_align_ROI3_1700/nuclie30/00702.jpg', '/data/FIBSEM/nuclie_align_ROI3_1700/nuclie30/00703.jpg', '/data/FIBSEM/nuclie_align_ROI3_1700/nuclie30/00704.jpg', '/data/FIBSEM/nuclie_align_ROI3_1700/nuclie30/00705.jpg', '/data/FIBSEM/nuclie_align_ROI3_1700/nuclie30/00706.jpg', '/data/FIBSEM/nuclie_align_ROI3_1700/nuclie30/00707.jpg', '/data/FIBSEM/nuclie_align_ROI3_1700/nuclie30/00708.jpg', '/data/FIBSEM/nuclie_align_ROI3_1700/nuclie30/00709.jpg', '/data/FIBSEM/nuclie_align_ROI3_1700/nuclie30/00710.jpg', '/data/FIBSEM/nuclie_align_ROI3_1700/nuclie30/00711.jpg', '/data/FIBSEM/nuclie_align_ROI3_1700/nuclie30/00712.jpg', '/data/FIBSEM/nuclie_align_ROI3_1700/nuclie30/00713.jpg', '/data/FIBSEM/nuclie_align_ROI3_1700/nuclie30/00714.jpg', '/data/FIBSEM/nuclie_align_ROI3_1700/nuclie30/00715.jpg', '/data/FIBSEM/nuclie_align_ROI3_1700/nuclie30/00716.jpg', '/data/FIBSEM/nuclie_align_ROI3_1700/nuclie30/00717.jpg', '/data/FIBSEM/nuclie_align_ROI3_1700/nuclie30/00718.jpg', '/data/FIBSEM/nuclie_align_ROI3_1700/nuclie30/00719.jpg', '/data/FIBSEM/nuclie_align_ROI3_1700/nuclie30/00720.jpg', '/data/FIBSEM/nuclie_align_ROI3_1700/nuclie30/00721.jpg', '/data/FIBSEM/nuclie_align_ROI3_1700/nuclie30/00722.jpg', '/data/FIBSEM/nuclie_align_ROI3_1700/nuclie30/00723.jpg', '/data/FIBSEM/nuclie_align_ROI3_1700/nuclie30/00724.jpg', '/data/FIBSEM/nuclie_align_ROI3_1700/nuclie30/00725.jpg', '/data/FIBSEM/nuclie_align_ROI3_1700/nuclie30/00726.jpg', '/data/FIBSEM/nuclie_align_ROI3_1700/nuclie30/00727.jpg', '/data/FIBSEM/nuclie_align_ROI3_1700/nuclie30/00728.jpg', '/data/FIBSEM/nuclie_align_ROI3_1700/nuclie30/00729.jpg', '/data/FIBSEM/nuclie_align_ROI3_1700/nuclie30/00730.jpg', '/data/FIBSEM/nuclie_align_ROI3_1700/nuclie30/00731.jpg', '/data/FIBSEM/nuclie_align_ROI3_1700/nuclie30/00732.jpg', '/data/FIBSEM/nuclie_align_ROI3_1700/nuclie30/00733.jpg', '/data/FIBSEM/nuclie_align_ROI3_1700/nuclie30/00734.jpg', '/data/FIBSEM/nuclie_align_ROI3_1700/nuclie30/00735.jpg', '/data/FIBSEM/nuclie_align_ROI3_1700/nuclie30/00736.jpg', '/data/FIBSEM/nuclie_align_ROI3_1700/nuclie30/00737.jpg', '/data/FIBSEM/nuclie_align_ROI3_1700/nuclie30/00738.jpg', '/data/FIBSEM/nuclie_align_ROI3_1700/nuclie30/00739.jpg', '/data/FIBSEM/nuclie_align_ROI3_1700/nuclie30/00740.jpg', '/data/FIBSEM/nuclie_align_ROI3_1700/nuclie30/00741.jpg', '/data/FIBSEM/nuclie_align_ROI3_1700/nuclie30/00742.jpg', '/data/FIBSEM/nuclie_align_ROI3_1700/nuclie30/00743.jpg', '/data/FIBSEM/nuclie_align_ROI3_1700/nuclie30/00744.jpg', '/data/FIBSEM/nuclie_align_ROI3_1700/nuclie30/00745.jpg', '/data/FIBSEM/nuclie_align_ROI3_1700/nuclie30/00746.jpg', '/data/FIBSEM/nuclie_align_ROI3_1700/nuclie30/00747.jpg', '/data/FIBSEM/nuclie_align_ROI3_1700/nuclie30/00748.jpg', '/data/FIBSEM/nuclie_align_ROI3_1700/nuclie30/00749.jpg', '/data/FIBSEM/nuclie_align_ROI3_1700/nuclie30/00750.jpg', '/data/FIBSEM/nuclie_align_ROI3_1700/nuclie30/00751.jpg', '/data/FIBSEM/nuclie_align_ROI3_1700/nuclie30/00752.jpg', '/data/FIBSEM/nuclie_align_ROI3_1700/nuclie30/00753.jpg', '/data/FIBSEM/nuclie_align_ROI3_1700/nuclie30/00754.jpg', '/data/FIBSEM/nuclie_align_ROI3_1700/nuclie30/00755.jpg', '/data/FIBSEM/nuclie_align_ROI3_1700/nuclie30/00756.jpg', '/data/FIBSEM/nuclie_align_ROI3_1700/nuclie30/00757.jpg', '/data/FIBSEM/nuclie_align_ROI3_1700/nuclie30/00758.jpg', '/data/FIBSEM/nuclie_align_ROI3_1700/nuclie30/00759.jpg', '/data/FIBSEM/nuclie_align_ROI3_1700/nuclie30/00760.jpg', '/data/FIBSEM/nuclie_align_ROI3_1700/nuclie30/00761.jpg', '/data/FIBSEM/nuclie_align_ROI3_1700/nuclie30/00762.jpg', '/data/FIBSEM/nuclie_align_ROI3_1700/nuclie30/00763.jpg', '/data/FIBSEM/nuclie_align_ROI3_1700/nuclie30/00764.jpg', '/data/FIBSEM/nuclie_align_ROI3_1700/nuclie30/00765.jpg', '/data/FIBSEM/nuclie_align_ROI3_1700/nuclie30/00766.jpg', '/data/FIBSEM/nuclie_align_ROI3_1700/nuclie30/00767.jpg', '/data/FIBSEM/nuclie_align_ROI3_1700/nuclie30/00768.jpg', '/data/FIBSEM/nuclie_align_ROI3_1700/nuclie30/00769.jpg', '/data/FIBSEM/nuclie_align_ROI3_1700/nuclie30/00770.jpg', '/data/FIBSEM/nuclie_align_ROI3_1700/nuclie30/00771.jpg', '/data/FIBSEM/nuclie_align_ROI3_1700/nuclie30/00772.jpg', '/data/FIBSEM/nuclie_align_ROI3_1700/nuclie30/00773.jpg', '/data/FIBSEM/nuclie_align_ROI3_1700/nuclie30/00774.jpg', '/data/FIBSEM/nuclie_align_ROI3_1700/nuclie30/00775.jpg', '/data/FIBSEM/nuclie_align_ROI3_1700/nuclie30/00776.jpg', '/data/FIBSEM/nuclie_align_ROI3_1700/nuclie30/00777.jpg', '/data/FIBSEM/nuclie_align_ROI3_1700/nuclie30/00778.jpg', '/data/FIBSEM/nuclie_align_ROI3_1700/nuclie30/00779.jpg', '/data/FIBSEM/nuclie_align_ROI3_1700/nuclie30/00780.jpg', '/data/FIBSEM/nuclie_align_ROI3_1700/nuclie30/00781.jpg', '/data/FIBSEM/nuclie_align_ROI3_1700/nuclie30/00782.jpg', '/data/FIBSEM/nuclie_align_ROI3_1700/nuclie30/00783.jpg', '/data/FIBSEM/nuclie_align_ROI3_1700/nuclie30/00784.jpg', '/data/FIBSEM/nuclie_align_ROI3_1700/nuclie30/00785.jpg', '/data/FIBSEM/nuclie_align_ROI3_1700/nuclie30/00786.jpg', '/data/FIBSEM/nuclie_align_ROI3_1700/nuclie30/00787.jpg', '/data/FIBSEM/nuclie_align_ROI3_1700/nuclie30/00788.jpg', '/data/FIBSEM/nuclie_align_ROI3_1700/nuclie30/00789.jpg', '/data/FIBSEM/nuclie_align_ROI3_1700/nuclie30/00790.jpg', '/data/FIBSEM/nuclie_align_ROI3_1700/nuclie30/00791.jpg', '/data/FIBSEM/nuclie_align_ROI3_1700/nuclie30/00792.jpg', '/data/FIBSEM/nuclie_align_ROI3_1700/nuclie30/00793.jpg', '/data/FIBSEM/nuclie_align_ROI3_1700/nuclie30/00794.jpg', '/data/FIBSEM/nuclie_align_ROI3_1700/nuclie30/00795.jpg', '/data/FIBSEM/nuclie_align_ROI3_1700/nuclie30/00796.jpg', '/data/FIBSEM/nuclie_align_ROI3_1700/nuclie30/00797.jpg', '/data/FIBSEM/nuclie_align_ROI3_1700/nuclie30/00798.jpg', '/data/FIBSEM/nuclie_align_ROI3_1700/nuclie30/00799.jpg', '/data/FIBSEM/nuclie_align_ROI3_1700/nuclie30/00800.jpg', '/data/FIBSEM/nuclie_align_ROI3_1700/nuclie30/00801.jpg', '/data/FIBSEM/nuclie_align_ROI3_1700/nuclie30/00802.jpg', '/data/FIBSEM/nuclie_align_ROI3_1700/nuclie30/00803.jpg', '/data/FIBSEM/nuclie_align_ROI3_1700/nuclie30/00804.jpg', '/data/FIBSEM/nuclie_align_ROI3_1700/nuclie30/00805.jpg', '/data/FIBSEM/nuclie_align_ROI3_1700/nuclie30/00806.jpg', '/data/FIBSEM/nuclie_align_ROI3_1700/nuclie30/00807.jpg', '/data/FIBSEM/nuclie_align_ROI3_1700/nuclie30/00808.jpg', '/data/FIBSEM/nuclie_align_ROI3_1700/nuclie30/00809.jpg', '/data/FIBSEM/nuclie_align_ROI3_1700/nuclie30/00810.jpg', '/data/FIBSEM/nuclie_align_ROI3_1700/nuclie30/00811.jpg', '/data/FIBSEM/nuclie_align_ROI3_1700/nuclie30/00812.jpg', '/data/FIBSEM/nuclie_align_ROI3_1700/nuclie30/00813.jpg', '/data/FIBSEM/nuclie_align_ROI3_1700/nuclie30/00814.jpg', '/data/FIBSEM/nuclie_align_ROI3_1700/nuclie30/00815.jpg', '/data/FIBSEM/nuclie_align_ROI3_1700/nuclie30/00816.jpg', '/data/FIBSEM/nuclie_align_ROI3_1700/nuclie30/00817.jpg', '/data/FIBSEM/nuclie_align_ROI3_1700/nuclie30/00818.jpg', '/data/FIBSEM/nuclie_align_ROI3_1700/nuclie30/00819.jpg', '/data/FIBSEM/nuclie_align_ROI3_1700/nuclie30/00820.jpg', '/data/FIBSEM/nuclie_align_ROI3_1700/nuclie30/00821.jpg', '/data/FIBSEM/nuclie_align_ROI3_1700/nuclie30/00822.jpg', '/data/FIBSEM/nuclie_align_ROI3_1700/nuclie30/00823.jpg', '/data/FIBSEM/nuclie_align_ROI3_1700/nuclie30/00824.jpg', '/data/FIBSEM/nuclie_align_ROI3_1700/nuclie30/00825.jpg', '/data/FIBSEM/nuclie_align_ROI3_1700/nuclie30/00826.jpg', '/data/FIBSEM/nuclie_align_ROI3_1700/nuclie30/00827.jpg', '/data/FIBSEM/nuclie_align_ROI3_1700/nuclie30/00828.jpg', '/data/FIBSEM/nuclie_align_ROI3_1700/nuclie30/00829.jpg', '/data/FIBSEM/nuclie_align_ROI3_1700/nuclie30/00830.jpg', '/data/FIBSEM/nuclie_align_ROI3_1700/nuclie30/00831.jpg', '/data/FIBSEM/nuclie_align_ROI3_1700/nuclie30/00832.jpg', '/data/FIBSEM/nuclie_align_ROI3_1700/nuclie30/00833.jpg', '/data/FIBSEM/nuclie_align_ROI3_1700/nuclie30/00834.jpg', '/data/FIBSEM/nuclie_align_ROI3_1700/nuclie30/00835.jpg', '/data/FIBSEM/nuclie_align_ROI3_1700/nuclie30/00836.jpg', '/data/FIBSEM/nuclie_align_ROI3_1700/nuclie30/00837.jpg', '/data/FIBSEM/nuclie_align_ROI3_1700/nuclie30/00838.jpg', '/data/FIBSEM/nuclie_align_ROI3_1700/nuclie30/00839.jpg', '/data/FIBSEM/nuclie_align_ROI3_1700/nuclie30/00840.jpg', '/data/FIBSEM/nuclie_align_ROI3_1700/nuclie30/00841.jpg', '/data/FIBSEM/nuclie_align_ROI3_1700/nuclie30/00842.jpg', '/data/FIBSEM/nuclie_align_ROI3_1700/nuclie30/00843.jpg', '/data/FIBSEM/nuclie_align_ROI3_1700/nuclie30/00844.jpg', '/data/FIBSEM/nuclie_align_ROI3_1700/nuclie30/00845.jpg', '/data/FIBSEM/nuclie_align_ROI3_1700/nuclie30/00846.jpg', '/data/FIBSEM/nuclie_align_ROI3_1700/nuclie30/00847.jpg', '/data/FIBSEM/nuclie_align_ROI3_1700/nuclie30/00848.jpg', '/data/FIBSEM/nuclie_align_ROI3_1700/nuclie30/00849.jpg', '/data/FIBSEM/nuclie_align_ROI3_1700/nuclie30/00850.jpg', '/data/FIBSEM/nuclie_align_ROI3_1700/nuclie30/00851.jpg', '/data/FIBSEM/nuclie_align_ROI3_1700/nuclie30/00852.jpg', '/data/FIBSEM/nuclie_align_ROI3_1700/nuclie30/00853.jpg', '/data/FIBSEM/nuclie_align_ROI3_1700/nuclie30/00854.jpg', '/data/FIBSEM/nuclie_align_ROI3_1700/nuclie30/00855.jpg', '/data/FIBSEM/nuclie_align_ROI3_1700/nuclie30/00856.jpg', '/data/FIBSEM/nuclie_align_ROI3_1700/nuclie30/00857.jpg', '/data/FIBSEM/nuclie_align_ROI3_1700/nuclie30/00858.jpg', '/data/FIBSEM/nuclie_align_ROI3_1700/nuclie30/00859.jpg', '/data/FIBSEM/nuclie_align_ROI3_1700/nuclie30/00860.jpg', '/data/FIBSEM/nuclie_align_ROI3_1700/nuclie30/00861.jpg', '/data/FIBSEM/nuclie_align_ROI3_1700/nuclie30/00862.jpg', '/data/FIBSEM/nuclie_align_ROI3_1700/nuclie30/00863.jpg', '/data/FIBSEM/nuclie_align_ROI3_1700/nuclie30/00864.jpg', '/data/FIBSEM/nuclie_align_ROI3_1700/nuclie30/00865.jpg', '/data/FIBSEM/nuclie_align_ROI3_1700/nuclie30/00866.jpg', '/data/FIBSEM/nuclie_align_ROI3_1700/nuclie30/00867.jpg', '/data/FIBSEM/nuclie_align_ROI3_1700/nuclie30/00868.jpg', '/data/FIBSEM/nuclie_align_ROI3_1700/nuclie30/00869.jpg', '/data/FIBSEM/nuclie_align_ROI3_1700/nuclie30/00870.jpg', '/data/FIBSEM/nuclie_align_ROI3_1700/nuclie30/00871.jpg', '/data/FIBSEM/nuclie_align_ROI3_1700/nuclie30/00872.jpg', '/data/FIBSEM/nuclie_align_ROI3_1700/nuclie30/00873.jpg', '/data/FIBSEM/nuclie_align_ROI3_1700/nuclie30/00874.jpg', '/data/FIBSEM/nuclie_align_ROI3_1700/nuclie30/00875.jpg', '/data/FIBSEM/nuclie_align_ROI3_1700/nuclie30/00876.jpg', '/data/FIBSEM/nuclie_align_ROI3_1700/nuclie30/00877.jpg', '/data/FIBSEM/nuclie_align_ROI3_1700/nuclie30/00878.jpg', '/data/FIBSEM/nuclie_align_ROI3_1700/nuclie30/00879.jpg', '/data/FIBSEM/nuclie_align_ROI3_1700/nuclie30/00880.jpg', '/data/FIBSEM/nuclie_align_ROI3_1700/nuclie30/00881.jpg', '/data/FIBSEM/nuclie_align_ROI3_1700/nuclie30/00882.jpg', '/data/FIBSEM/nuclie_align_ROI3_1700/nuclie30/00883.jpg', '/data/FIBSEM/nuclie_align_ROI3_1700/nuclie30/00884.jpg', '/data/FIBSEM/nuclie_align_ROI3_1700/nuclie30/00885.jpg', '/data/FIBSEM/nuclie_align_ROI3_1700/nuclie30/00886.jpg', '/data/FIBSEM/nuclie_align_ROI3_1700/nuclie30/00887.jpg', '/data/FIBSEM/nuclie_align_ROI3_1700/nuclie30/00888.jpg', '/data/FIBSEM/nuclie_align_ROI3_1700/nuclie30/00889.jpg', '/data/FIBSEM/nuclie_align_ROI3_1700/nuclie30/00890.jpg', '/data/FIBSEM/nuclie_align_ROI3_1700/nuclie30/00891.jpg', '/data/FIBSEM/nuclie_align_ROI3_1700/nuclie30/00892.jpg']\n",
      "['/data/FIBSEM/nuclie_align_ROI3_1700/nuclie30/pattern/000.jpg', '/data/FIBSEM/nuclie_align_ROI3_1700/nuclie30/pattern/001.jpg', '/data/FIBSEM/nuclie_align_ROI3_1700/nuclie30/pattern/002.jpg', '/data/FIBSEM/nuclie_align_ROI3_1700/nuclie30/pattern/003.jpg', '/data/FIBSEM/nuclie_align_ROI3_1700/nuclie30/pattern/004.jpg', '/data/FIBSEM/nuclie_align_ROI3_1700/nuclie30/pattern/005.jpg', '/data/FIBSEM/nuclie_align_ROI3_1700/nuclie30/pattern/006.jpg', '/data/FIBSEM/nuclie_align_ROI3_1700/nuclie30/pattern/007.jpg', '/data/FIBSEM/nuclie_align_ROI3_1700/nuclie30/pattern/008.jpg', '/data/FIBSEM/nuclie_align_ROI3_1700/nuclie30/pattern/009.jpg', '/data/FIBSEM/nuclie_align_ROI3_1700/nuclie30/pattern/010.jpg', '/data/FIBSEM/nuclie_align_ROI3_1700/nuclie30/pattern/011.jpg', '/data/FIBSEM/nuclie_align_ROI3_1700/nuclie30/pattern/012.jpg', '/data/FIBSEM/nuclie_align_ROI3_1700/nuclie30/pattern/013.jpg', '/data/FIBSEM/nuclie_align_ROI3_1700/nuclie30/pattern/014.jpg', '/data/FIBSEM/nuclie_align_ROI3_1700/nuclie30/pattern/015.jpg', '/data/FIBSEM/nuclie_align_ROI3_1700/nuclie30/pattern/016.jpg', '/data/FIBSEM/nuclie_align_ROI3_1700/nuclie30/pattern/017.jpg', '/data/FIBSEM/nuclie_align_ROI3_1700/nuclie30/pattern/018.jpg', '/data/FIBSEM/nuclie_align_ROI3_1700/nuclie30/pattern/019.jpg', '/data/FIBSEM/nuclie_align_ROI3_1700/nuclie30/pattern/020.jpg', '/data/FIBSEM/nuclie_align_ROI3_1700/nuclie30/pattern/021.jpg', '/data/FIBSEM/nuclie_align_ROI3_1700/nuclie30/pattern/022.jpg', '/data/FIBSEM/nuclie_align_ROI3_1700/nuclie30/pattern/023.jpg', '/data/FIBSEM/nuclie_align_ROI3_1700/nuclie30/pattern/024.jpg', '/data/FIBSEM/nuclie_align_ROI3_1700/nuclie30/pattern/025.jpg', '/data/FIBSEM/nuclie_align_ROI3_1700/nuclie30/pattern/026.jpg', '/data/FIBSEM/nuclie_align_ROI3_1700/nuclie30/pattern/027.jpg', '/data/FIBSEM/nuclie_align_ROI3_1700/nuclie30/pattern/028.jpg', '/data/FIBSEM/nuclie_align_ROI3_1700/nuclie30/pattern/029.jpg', '/data/FIBSEM/nuclie_align_ROI3_1700/nuclie30/pattern/030.jpg', '/data/FIBSEM/nuclie_align_ROI3_1700/nuclie30/pattern/031.jpg', '/data/FIBSEM/nuclie_align_ROI3_1700/nuclie30/pattern/032.jpg', '/data/FIBSEM/nuclie_align_ROI3_1700/nuclie30/pattern/033.jpg', '/data/FIBSEM/nuclie_align_ROI3_1700/nuclie30/pattern/034.jpg', '/data/FIBSEM/nuclie_align_ROI3_1700/nuclie30/pattern/035.jpg', '/data/FIBSEM/nuclie_align_ROI3_1700/nuclie30/pattern/036.jpg', '/data/FIBSEM/nuclie_align_ROI3_1700/nuclie30/pattern/037.jpg', '/data/FIBSEM/nuclie_align_ROI3_1700/nuclie30/pattern/038.jpg', '/data/FIBSEM/nuclie_align_ROI3_1700/nuclie30/pattern/039.jpg', '/data/FIBSEM/nuclie_align_ROI3_1700/nuclie30/pattern/040.jpg', '/data/FIBSEM/nuclie_align_ROI3_1700/nuclie30/pattern/041.jpg', '/data/FIBSEM/nuclie_align_ROI3_1700/nuclie30/pattern/042.jpg', '/data/FIBSEM/nuclie_align_ROI3_1700/nuclie30/pattern/043.jpg', '/data/FIBSEM/nuclie_align_ROI3_1700/nuclie30/pattern/044.jpg', '/data/FIBSEM/nuclie_align_ROI3_1700/nuclie30/pattern/045.jpg', '/data/FIBSEM/nuclie_align_ROI3_1700/nuclie30/pattern/046.jpg', '/data/FIBSEM/nuclie_align_ROI3_1700/nuclie30/pattern/047.jpg', '/data/FIBSEM/nuclie_align_ROI3_1700/nuclie30/pattern/048.jpg', '/data/FIBSEM/nuclie_align_ROI3_1700/nuclie30/pattern/049.jpg', '/data/FIBSEM/nuclie_align_ROI3_1700/nuclie30/pattern/050.jpg', '/data/FIBSEM/nuclie_align_ROI3_1700/nuclie30/pattern/051.jpg', '/data/FIBSEM/nuclie_align_ROI3_1700/nuclie30/pattern/052.jpg', '/data/FIBSEM/nuclie_align_ROI3_1700/nuclie30/pattern/053.jpg', '/data/FIBSEM/nuclie_align_ROI3_1700/nuclie30/pattern/054.jpg', '/data/FIBSEM/nuclie_align_ROI3_1700/nuclie30/pattern/055.jpg', '/data/FIBSEM/nuclie_align_ROI3_1700/nuclie30/pattern/056.jpg', '/data/FIBSEM/nuclie_align_ROI3_1700/nuclie30/pattern/057.jpg', '/data/FIBSEM/nuclie_align_ROI3_1700/nuclie30/pattern/058.jpg', '/data/FIBSEM/nuclie_align_ROI3_1700/nuclie30/pattern/059.jpg', '/data/FIBSEM/nuclie_align_ROI3_1700/nuclie30/pattern/060.jpg', '/data/FIBSEM/nuclie_align_ROI3_1700/nuclie30/pattern/061.jpg', '/data/FIBSEM/nuclie_align_ROI3_1700/nuclie30/pattern/062.jpg', '/data/FIBSEM/nuclie_align_ROI3_1700/nuclie30/pattern/063.jpg', '/data/FIBSEM/nuclie_align_ROI3_1700/nuclie30/pattern/064.jpg', '/data/FIBSEM/nuclie_align_ROI3_1700/nuclie30/pattern/065.jpg', '/data/FIBSEM/nuclie_align_ROI3_1700/nuclie30/pattern/066.jpg', '/data/FIBSEM/nuclie_align_ROI3_1700/nuclie30/pattern/067.jpg', '/data/FIBSEM/nuclie_align_ROI3_1700/nuclie30/pattern/068.jpg', '/data/FIBSEM/nuclie_align_ROI3_1700/nuclie30/pattern/069.jpg', '/data/FIBSEM/nuclie_align_ROI3_1700/nuclie30/pattern/070.jpg', '/data/FIBSEM/nuclie_align_ROI3_1700/nuclie30/pattern/071.jpg', '/data/FIBSEM/nuclie_align_ROI3_1700/nuclie30/pattern/072.jpg', '/data/FIBSEM/nuclie_align_ROI3_1700/nuclie30/pattern/073.jpg', '/data/FIBSEM/nuclie_align_ROI3_1700/nuclie30/pattern/074.jpg', '/data/FIBSEM/nuclie_align_ROI3_1700/nuclie30/pattern/075.jpg', '/data/FIBSEM/nuclie_align_ROI3_1700/nuclie30/pattern/076.jpg', '/data/FIBSEM/nuclie_align_ROI3_1700/nuclie30/pattern/077.jpg', '/data/FIBSEM/nuclie_align_ROI3_1700/nuclie30/pattern/078.jpg', '/data/FIBSEM/nuclie_align_ROI3_1700/nuclie30/pattern/079.jpg', '/data/FIBSEM/nuclie_align_ROI3_1700/nuclie30/pattern/080.jpg', '/data/FIBSEM/nuclie_align_ROI3_1700/nuclie30/pattern/081.jpg', '/data/FIBSEM/nuclie_align_ROI3_1700/nuclie30/pattern/082.jpg', '/data/FIBSEM/nuclie_align_ROI3_1700/nuclie30/pattern/083.jpg', '/data/FIBSEM/nuclie_align_ROI3_1700/nuclie30/pattern/084.jpg', '/data/FIBSEM/nuclie_align_ROI3_1700/nuclie30/pattern/085.jpg', '/data/FIBSEM/nuclie_align_ROI3_1700/nuclie30/pattern/086.jpg', '/data/FIBSEM/nuclie_align_ROI3_1700/nuclie30/pattern/087.jpg', '/data/FIBSEM/nuclie_align_ROI3_1700/nuclie30/pattern/088.jpg', '/data/FIBSEM/nuclie_align_ROI3_1700/nuclie30/pattern/089.jpg', '/data/FIBSEM/nuclie_align_ROI3_1700/nuclie30/pattern/090.jpg', '/data/FIBSEM/nuclie_align_ROI3_1700/nuclie30/pattern/091.jpg', '/data/FIBSEM/nuclie_align_ROI3_1700/nuclie30/pattern/092.jpg', '/data/FIBSEM/nuclie_align_ROI3_1700/nuclie30/pattern/093.jpg', '/data/FIBSEM/nuclie_align_ROI3_1700/nuclie30/pattern/094.jpg', '/data/FIBSEM/nuclie_align_ROI3_1700/nuclie30/pattern/095.jpg', '/data/FIBSEM/nuclie_align_ROI3_1700/nuclie30/pattern/096.jpg', '/data/FIBSEM/nuclie_align_ROI3_1700/nuclie30/pattern/097.jpg', '/data/FIBSEM/nuclie_align_ROI3_1700/nuclie30/pattern/098.jpg', '/data/FIBSEM/nuclie_align_ROI3_1700/nuclie30/pattern/099.jpg', '/data/FIBSEM/nuclie_align_ROI3_1700/nuclie30/pattern/100.jpg', '/data/FIBSEM/nuclie_align_ROI3_1700/nuclie30/pattern/101.jpg', '/data/FIBSEM/nuclie_align_ROI3_1700/nuclie30/pattern/102.jpg', '/data/FIBSEM/nuclie_align_ROI3_1700/nuclie30/pattern/103.jpg', '/data/FIBSEM/nuclie_align_ROI3_1700/nuclie30/pattern/104.jpg', '/data/FIBSEM/nuclie_align_ROI3_1700/nuclie30/pattern/105.jpg', '/data/FIBSEM/nuclie_align_ROI3_1700/nuclie30/pattern/106.jpg', '/data/FIBSEM/nuclie_align_ROI3_1700/nuclie30/pattern/107.jpg', '/data/FIBSEM/nuclie_align_ROI3_1700/nuclie30/pattern/108.jpg', '/data/FIBSEM/nuclie_align_ROI3_1700/nuclie30/pattern/109.jpg', '/data/FIBSEM/nuclie_align_ROI3_1700/nuclie30/pattern/110.jpg', '/data/FIBSEM/nuclie_align_ROI3_1700/nuclie30/pattern/111.jpg', '/data/FIBSEM/nuclie_align_ROI3_1700/nuclie30/pattern/112.jpg', '/data/FIBSEM/nuclie_align_ROI3_1700/nuclie30/pattern/113.jpg', '/data/FIBSEM/nuclie_align_ROI3_1700/nuclie30/pattern/114.jpg', '/data/FIBSEM/nuclie_align_ROI3_1700/nuclie30/pattern/115.jpg', '/data/FIBSEM/nuclie_align_ROI3_1700/nuclie30/pattern/116.jpg', '/data/FIBSEM/nuclie_align_ROI3_1700/nuclie30/pattern/117.jpg', '/data/FIBSEM/nuclie_align_ROI3_1700/nuclie30/pattern/118.jpg', '/data/FIBSEM/nuclie_align_ROI3_1700/nuclie30/pattern/119.jpg', '/data/FIBSEM/nuclie_align_ROI3_1700/nuclie30/pattern/120.jpg', '/data/FIBSEM/nuclie_align_ROI3_1700/nuclie30/pattern/121.jpg', '/data/FIBSEM/nuclie_align_ROI3_1700/nuclie30/pattern/122.jpg', '/data/FIBSEM/nuclie_align_ROI3_1700/nuclie30/pattern/123.jpg', '/data/FIBSEM/nuclie_align_ROI3_1700/nuclie30/pattern/124.jpg', '/data/FIBSEM/nuclie_align_ROI3_1700/nuclie30/pattern/125.jpg', '/data/FIBSEM/nuclie_align_ROI3_1700/nuclie30/pattern/126.jpg', '/data/FIBSEM/nuclie_align_ROI3_1700/nuclie30/pattern/127.jpg', '/data/FIBSEM/nuclie_align_ROI3_1700/nuclie30/pattern/128.jpg', '/data/FIBSEM/nuclie_align_ROI3_1700/nuclie30/pattern/129.jpg', '/data/FIBSEM/nuclie_align_ROI3_1700/nuclie30/pattern/130.jpg', '/data/FIBSEM/nuclie_align_ROI3_1700/nuclie30/pattern/131.jpg', '/data/FIBSEM/nuclie_align_ROI3_1700/nuclie30/pattern/132.jpg', '/data/FIBSEM/nuclie_align_ROI3_1700/nuclie30/pattern/133.jpg', '/data/FIBSEM/nuclie_align_ROI3_1700/nuclie30/pattern/134.jpg', '/data/FIBSEM/nuclie_align_ROI3_1700/nuclie30/pattern/135.jpg', '/data/FIBSEM/nuclie_align_ROI3_1700/nuclie30/pattern/136.jpg', '/data/FIBSEM/nuclie_align_ROI3_1700/nuclie30/pattern/137.jpg', '/data/FIBSEM/nuclie_align_ROI3_1700/nuclie30/pattern/138.jpg', '/data/FIBSEM/nuclie_align_ROI3_1700/nuclie30/pattern/139.jpg', '/data/FIBSEM/nuclie_align_ROI3_1700/nuclie30/pattern/140.jpg', '/data/FIBSEM/nuclie_align_ROI3_1700/nuclie30/pattern/141.jpg', '/data/FIBSEM/nuclie_align_ROI3_1700/nuclie30/pattern/142.jpg', '/data/FIBSEM/nuclie_align_ROI3_1700/nuclie30/pattern/143.jpg', '/data/FIBSEM/nuclie_align_ROI3_1700/nuclie30/pattern/144.jpg', '/data/FIBSEM/nuclie_align_ROI3_1700/nuclie30/pattern/145.jpg', '/data/FIBSEM/nuclie_align_ROI3_1700/nuclie30/pattern/146.jpg', '/data/FIBSEM/nuclie_align_ROI3_1700/nuclie30/pattern/147.jpg', '/data/FIBSEM/nuclie_align_ROI3_1700/nuclie30/pattern/148.jpg', '/data/FIBSEM/nuclie_align_ROI3_1700/nuclie30/pattern/149.jpg', '/data/FIBSEM/nuclie_align_ROI3_1700/nuclie30/pattern/150.jpg', '/data/FIBSEM/nuclie_align_ROI3_1700/nuclie30/pattern/151.jpg', '/data/FIBSEM/nuclie_align_ROI3_1700/nuclie30/pattern/152.jpg', '/data/FIBSEM/nuclie_align_ROI3_1700/nuclie30/pattern/153.jpg', '/data/FIBSEM/nuclie_align_ROI3_1700/nuclie30/pattern/154.jpg', '/data/FIBSEM/nuclie_align_ROI3_1700/nuclie30/pattern/155.jpg', '/data/FIBSEM/nuclie_align_ROI3_1700/nuclie30/pattern/156.jpg', '/data/FIBSEM/nuclie_align_ROI3_1700/nuclie30/pattern/157.jpg', '/data/FIBSEM/nuclie_align_ROI3_1700/nuclie30/pattern/158.jpg', '/data/FIBSEM/nuclie_align_ROI3_1700/nuclie30/pattern/159.jpg', '/data/FIBSEM/nuclie_align_ROI3_1700/nuclie30/pattern/160.jpg', '/data/FIBSEM/nuclie_align_ROI3_1700/nuclie30/pattern/161.jpg', '/data/FIBSEM/nuclie_align_ROI3_1700/nuclie30/pattern/162.jpg', '/data/FIBSEM/nuclie_align_ROI3_1700/nuclie30/pattern/163.jpg', '/data/FIBSEM/nuclie_align_ROI3_1700/nuclie30/pattern/164.jpg', '/data/FIBSEM/nuclie_align_ROI3_1700/nuclie30/pattern/165.jpg', '/data/FIBSEM/nuclie_align_ROI3_1700/nuclie30/pattern/166.jpg', '/data/FIBSEM/nuclie_align_ROI3_1700/nuclie30/pattern/167.jpg', '/data/FIBSEM/nuclie_align_ROI3_1700/nuclie30/pattern/168.jpg', '/data/FIBSEM/nuclie_align_ROI3_1700/nuclie30/pattern/169.jpg', '/data/FIBSEM/nuclie_align_ROI3_1700/nuclie30/pattern/170.jpg', '/data/FIBSEM/nuclie_align_ROI3_1700/nuclie30/pattern/171.jpg', '/data/FIBSEM/nuclie_align_ROI3_1700/nuclie30/pattern/172.jpg', '/data/FIBSEM/nuclie_align_ROI3_1700/nuclie30/pattern/173.jpg', '/data/FIBSEM/nuclie_align_ROI3_1700/nuclie30/pattern/174.jpg', '/data/FIBSEM/nuclie_align_ROI3_1700/nuclie30/pattern/175.jpg', '/data/FIBSEM/nuclie_align_ROI3_1700/nuclie30/pattern/176.jpg', '/data/FIBSEM/nuclie_align_ROI3_1700/nuclie30/pattern/177.jpg', '/data/FIBSEM/nuclie_align_ROI3_1700/nuclie30/pattern/178.jpg', '/data/FIBSEM/nuclie_align_ROI3_1700/nuclie30/pattern/179.jpg', '/data/FIBSEM/nuclie_align_ROI3_1700/nuclie30/pattern/180.jpg', '/data/FIBSEM/nuclie_align_ROI3_1700/nuclie30/pattern/181.jpg', '/data/FIBSEM/nuclie_align_ROI3_1700/nuclie30/pattern/182.jpg', '/data/FIBSEM/nuclie_align_ROI3_1700/nuclie30/pattern/183.jpg', '/data/FIBSEM/nuclie_align_ROI3_1700/nuclie30/pattern/184.jpg', '/data/FIBSEM/nuclie_align_ROI3_1700/nuclie30/pattern/185.jpg', '/data/FIBSEM/nuclie_align_ROI3_1700/nuclie30/pattern/186.jpg', '/data/FIBSEM/nuclie_align_ROI3_1700/nuclie30/pattern/187.jpg', '/data/FIBSEM/nuclie_align_ROI3_1700/nuclie30/pattern/188.jpg', '/data/FIBSEM/nuclie_align_ROI3_1700/nuclie30/pattern/189.jpg', '/data/FIBSEM/nuclie_align_ROI3_1700/nuclie30/pattern/190.jpg', '/data/FIBSEM/nuclie_align_ROI3_1700/nuclie30/pattern/191.jpg', '/data/FIBSEM/nuclie_align_ROI3_1700/nuclie30/pattern/192.jpg', '/data/FIBSEM/nuclie_align_ROI3_1700/nuclie30/pattern/193.jpg', '/data/FIBSEM/nuclie_align_ROI3_1700/nuclie30/pattern/194.jpg', '/data/FIBSEM/nuclie_align_ROI3_1700/nuclie30/pattern/195.jpg', '/data/FIBSEM/nuclie_align_ROI3_1700/nuclie30/pattern/196.jpg', '/data/FIBSEM/nuclie_align_ROI3_1700/nuclie30/pattern/197.jpg', '/data/FIBSEM/nuclie_align_ROI3_1700/nuclie30/pattern/198.jpg', '/data/FIBSEM/nuclie_align_ROI3_1700/nuclie30/pattern/199.jpg', '/data/FIBSEM/nuclie_align_ROI3_1700/nuclie30/pattern/200.jpg', '/data/FIBSEM/nuclie_align_ROI3_1700/nuclie30/pattern/201.jpg', '/data/FIBSEM/nuclie_align_ROI3_1700/nuclie30/pattern/202.jpg', '/data/FIBSEM/nuclie_align_ROI3_1700/nuclie30/pattern/203.jpg', '/data/FIBSEM/nuclie_align_ROI3_1700/nuclie30/pattern/204.jpg', '/data/FIBSEM/nuclie_align_ROI3_1700/nuclie30/pattern/205.jpg', '/data/FIBSEM/nuclie_align_ROI3_1700/nuclie30/pattern/206.jpg', '/data/FIBSEM/nuclie_align_ROI3_1700/nuclie30/pattern/207.jpg', '/data/FIBSEM/nuclie_align_ROI3_1700/nuclie30/pattern/208.jpg', '/data/FIBSEM/nuclie_align_ROI3_1700/nuclie30/pattern/209.jpg', '/data/FIBSEM/nuclie_align_ROI3_1700/nuclie30/pattern/210.jpg', '/data/FIBSEM/nuclie_align_ROI3_1700/nuclie30/pattern/211.jpg', '/data/FIBSEM/nuclie_align_ROI3_1700/nuclie30/pattern/212.jpg', '/data/FIBSEM/nuclie_align_ROI3_1700/nuclie30/pattern/213.jpg', '/data/FIBSEM/nuclie_align_ROI3_1700/nuclie30/pattern/214.jpg', '/data/FIBSEM/nuclie_align_ROI3_1700/nuclie30/pattern/215.jpg', '/data/FIBSEM/nuclie_align_ROI3_1700/nuclie30/pattern/216.jpg', '/data/FIBSEM/nuclie_align_ROI3_1700/nuclie30/pattern/217.jpg', '/data/FIBSEM/nuclie_align_ROI3_1700/nuclie30/pattern/218.jpg', '/data/FIBSEM/nuclie_align_ROI3_1700/nuclie30/pattern/219.jpg', '/data/FIBSEM/nuclie_align_ROI3_1700/nuclie30/pattern/220.jpg', '/data/FIBSEM/nuclie_align_ROI3_1700/nuclie30/pattern/221.jpg', '/data/FIBSEM/nuclie_align_ROI3_1700/nuclie30/pattern/222.jpg', '/data/FIBSEM/nuclie_align_ROI3_1700/nuclie30/pattern/223.jpg', '/data/FIBSEM/nuclie_align_ROI3_1700/nuclie30/pattern/224.jpg', '/data/FIBSEM/nuclie_align_ROI3_1700/nuclie30/pattern/225.jpg', '/data/FIBSEM/nuclie_align_ROI3_1700/nuclie30/pattern/226.jpg', '/data/FIBSEM/nuclie_align_ROI3_1700/nuclie30/pattern/227.jpg', '/data/FIBSEM/nuclie_align_ROI3_1700/nuclie30/pattern/228.jpg', '/data/FIBSEM/nuclie_align_ROI3_1700/nuclie30/pattern/229.jpg', '/data/FIBSEM/nuclie_align_ROI3_1700/nuclie30/pattern/230.jpg', '/data/FIBSEM/nuclie_align_ROI3_1700/nuclie30/pattern/231.jpg', '/data/FIBSEM/nuclie_align_ROI3_1700/nuclie30/pattern/232.jpg', '/data/FIBSEM/nuclie_align_ROI3_1700/nuclie30/pattern/233.jpg', '/data/FIBSEM/nuclie_align_ROI3_1700/nuclie30/pattern/234.jpg', '/data/FIBSEM/nuclie_align_ROI3_1700/nuclie30/pattern/235.jpg', '/data/FIBSEM/nuclie_align_ROI3_1700/nuclie30/pattern/236.jpg', '/data/FIBSEM/nuclie_align_ROI3_1700/nuclie30/pattern/237.jpg', '/data/FIBSEM/nuclie_align_ROI3_1700/nuclie30/pattern/238.jpg', '/data/FIBSEM/nuclie_align_ROI3_1700/nuclie30/pattern/239.jpg', '/data/FIBSEM/nuclie_align_ROI3_1700/nuclie30/pattern/240.jpg', '/data/FIBSEM/nuclie_align_ROI3_1700/nuclie30/pattern/241.jpg', '/data/FIBSEM/nuclie_align_ROI3_1700/nuclie30/pattern/242.jpg', '/data/FIBSEM/nuclie_align_ROI3_1700/nuclie30/pattern/243.jpg', '/data/FIBSEM/nuclie_align_ROI3_1700/nuclie30/pattern/244.jpg', '/data/FIBSEM/nuclie_align_ROI3_1700/nuclie30/pattern/245.jpg', '/data/FIBSEM/nuclie_align_ROI3_1700/nuclie30/pattern/246.jpg', '/data/FIBSEM/nuclie_align_ROI3_1700/nuclie30/pattern/247.jpg', '/data/FIBSEM/nuclie_align_ROI3_1700/nuclie30/pattern/248.jpg', '/data/FIBSEM/nuclie_align_ROI3_1700/nuclie30/pattern/249.jpg', '/data/FIBSEM/nuclie_align_ROI3_1700/nuclie30/pattern/250.jpg', '/data/FIBSEM/nuclie_align_ROI3_1700/nuclie30/pattern/251.jpg', '/data/FIBSEM/nuclie_align_ROI3_1700/nuclie30/pattern/252.jpg', '/data/FIBSEM/nuclie_align_ROI3_1700/nuclie30/pattern/253.jpg', '/data/FIBSEM/nuclie_align_ROI3_1700/nuclie30/pattern/254.jpg', '/data/FIBSEM/nuclie_align_ROI3_1700/nuclie30/pattern/255.jpg', '/data/FIBSEM/nuclie_align_ROI3_1700/nuclie30/pattern/256.jpg', '/data/FIBSEM/nuclie_align_ROI3_1700/nuclie30/pattern/257.jpg', '/data/FIBSEM/nuclie_align_ROI3_1700/nuclie30/pattern/258.jpg', '/data/FIBSEM/nuclie_align_ROI3_1700/nuclie30/pattern/259.jpg', '/data/FIBSEM/nuclie_align_ROI3_1700/nuclie30/pattern/260.jpg', '/data/FIBSEM/nuclie_align_ROI3_1700/nuclie30/pattern/261.jpg', '/data/FIBSEM/nuclie_align_ROI3_1700/nuclie30/pattern/262.jpg', '/data/FIBSEM/nuclie_align_ROI3_1700/nuclie30/pattern/263.jpg', '/data/FIBSEM/nuclie_align_ROI3_1700/nuclie30/pattern/264.jpg', '/data/FIBSEM/nuclie_align_ROI3_1700/nuclie30/pattern/265.jpg', '/data/FIBSEM/nuclie_align_ROI3_1700/nuclie30/pattern/266.jpg', '/data/FIBSEM/nuclie_align_ROI3_1700/nuclie30/pattern/267.jpg', '/data/FIBSEM/nuclie_align_ROI3_1700/nuclie30/pattern/268.jpg', '/data/FIBSEM/nuclie_align_ROI3_1700/nuclie30/pattern/269.jpg', '/data/FIBSEM/nuclie_align_ROI3_1700/nuclie30/pattern/270.jpg', '/data/FIBSEM/nuclie_align_ROI3_1700/nuclie30/pattern/271.jpg', '/data/FIBSEM/nuclie_align_ROI3_1700/nuclie30/pattern/272.jpg', '/data/FIBSEM/nuclie_align_ROI3_1700/nuclie30/pattern/273.jpg', '/data/FIBSEM/nuclie_align_ROI3_1700/nuclie30/pattern/274.jpg', '/data/FIBSEM/nuclie_align_ROI3_1700/nuclie30/pattern/275.jpg', '/data/FIBSEM/nuclie_align_ROI3_1700/nuclie30/pattern/276.jpg', '/data/FIBSEM/nuclie_align_ROI3_1700/nuclie30/pattern/277.jpg', '/data/FIBSEM/nuclie_align_ROI3_1700/nuclie30/pattern/278.jpg', '/data/FIBSEM/nuclie_align_ROI3_1700/nuclie30/pattern/279.jpg', '/data/FIBSEM/nuclie_align_ROI3_1700/nuclie30/pattern/280.jpg', '/data/FIBSEM/nuclie_align_ROI3_1700/nuclie30/pattern/281.jpg', '/data/FIBSEM/nuclie_align_ROI3_1700/nuclie30/pattern/282.jpg', '/data/FIBSEM/nuclie_align_ROI3_1700/nuclie30/pattern/283.jpg', '/data/FIBSEM/nuclie_align_ROI3_1700/nuclie30/pattern/284.jpg', '/data/FIBSEM/nuclie_align_ROI3_1700/nuclie30/pattern/285.jpg', '/data/FIBSEM/nuclie_align_ROI3_1700/nuclie30/pattern/286.jpg', '/data/FIBSEM/nuclie_align_ROI3_1700/nuclie30/pattern/287.jpg', '/data/FIBSEM/nuclie_align_ROI3_1700/nuclie30/pattern/288.jpg', '/data/FIBSEM/nuclie_align_ROI3_1700/nuclie30/pattern/289.jpg', '/data/FIBSEM/nuclie_align_ROI3_1700/nuclie30/pattern/290.jpg', '/data/FIBSEM/nuclie_align_ROI3_1700/nuclie30/pattern/291.jpg', '/data/FIBSEM/nuclie_align_ROI3_1700/nuclie30/pattern/292.jpg', '/data/FIBSEM/nuclie_align_ROI3_1700/nuclie30/pattern/293.jpg', '/data/FIBSEM/nuclie_align_ROI3_1700/nuclie30/pattern/294.jpg', '/data/FIBSEM/nuclie_align_ROI3_1700/nuclie30/pattern/295.jpg', '/data/FIBSEM/nuclie_align_ROI3_1700/nuclie30/pattern/296.jpg', '/data/FIBSEM/nuclie_align_ROI3_1700/nuclie30/pattern/297.jpg', '/data/FIBSEM/nuclie_align_ROI3_1700/nuclie30/pattern/298.jpg', '/data/FIBSEM/nuclie_align_ROI3_1700/nuclie30/pattern/299.jpg', '/data/FIBSEM/nuclie_align_ROI3_1700/nuclie30/pattern/300.jpg', '/data/FIBSEM/nuclie_align_ROI3_1700/nuclie30/pattern/301.jpg', '/data/FIBSEM/nuclie_align_ROI3_1700/nuclie30/pattern/302.jpg', '/data/FIBSEM/nuclie_align_ROI3_1700/nuclie30/pattern/303.jpg', '/data/FIBSEM/nuclie_align_ROI3_1700/nuclie30/pattern/304.jpg', '/data/FIBSEM/nuclie_align_ROI3_1700/nuclie30/pattern/305.jpg', '/data/FIBSEM/nuclie_align_ROI3_1700/nuclie30/pattern/306.jpg', '/data/FIBSEM/nuclie_align_ROI3_1700/nuclie30/pattern/307.jpg', '/data/FIBSEM/nuclie_align_ROI3_1700/nuclie30/pattern/308.jpg', '/data/FIBSEM/nuclie_align_ROI3_1700/nuclie30/pattern/309.jpg', '/data/FIBSEM/nuclie_align_ROI3_1700/nuclie30/pattern/310.jpg', '/data/FIBSEM/nuclie_align_ROI3_1700/nuclie30/pattern/311.jpg', '/data/FIBSEM/nuclie_align_ROI3_1700/nuclie30/pattern/312.jpg', '/data/FIBSEM/nuclie_align_ROI3_1700/nuclie30/pattern/313.jpg', '/data/FIBSEM/nuclie_align_ROI3_1700/nuclie30/pattern/314.jpg', '/data/FIBSEM/nuclie_align_ROI3_1700/nuclie30/pattern/315.jpg', '/data/FIBSEM/nuclie_align_ROI3_1700/nuclie30/pattern/316.jpg', '/data/FIBSEM/nuclie_align_ROI3_1700/nuclie30/pattern/317.jpg', '/data/FIBSEM/nuclie_align_ROI3_1700/nuclie30/pattern/318.jpg', '/data/FIBSEM/nuclie_align_ROI3_1700/nuclie30/pattern/319.jpg', '/data/FIBSEM/nuclie_align_ROI3_1700/nuclie30/pattern/320.jpg', '/data/FIBSEM/nuclie_align_ROI3_1700/nuclie30/pattern/321.jpg', '/data/FIBSEM/nuclie_align_ROI3_1700/nuclie30/pattern/322.jpg', '/data/FIBSEM/nuclie_align_ROI3_1700/nuclie30/pattern/323.jpg', '/data/FIBSEM/nuclie_align_ROI3_1700/nuclie30/pattern/324.jpg', '/data/FIBSEM/nuclie_align_ROI3_1700/nuclie30/pattern/325.jpg', '/data/FIBSEM/nuclie_align_ROI3_1700/nuclie30/pattern/326.jpg', '/data/FIBSEM/nuclie_align_ROI3_1700/nuclie30/pattern/327.jpg', '/data/FIBSEM/nuclie_align_ROI3_1700/nuclie30/pattern/328.jpg', '/data/FIBSEM/nuclie_align_ROI3_1700/nuclie30/pattern/329.jpg', '/data/FIBSEM/nuclie_align_ROI3_1700/nuclie30/pattern/330.jpg', '/data/FIBSEM/nuclie_align_ROI3_1700/nuclie30/pattern/331.jpg', '/data/FIBSEM/nuclie_align_ROI3_1700/nuclie30/pattern/332.jpg', '/data/FIBSEM/nuclie_align_ROI3_1700/nuclie30/pattern/333.jpg', '/data/FIBSEM/nuclie_align_ROI3_1700/nuclie30/pattern/334.jpg', '/data/FIBSEM/nuclie_align_ROI3_1700/nuclie30/pattern/335.jpg', '/data/FIBSEM/nuclie_align_ROI3_1700/nuclie30/pattern/336.jpg', '/data/FIBSEM/nuclie_align_ROI3_1700/nuclie30/pattern/337.jpg', '/data/FIBSEM/nuclie_align_ROI3_1700/nuclie30/pattern/338.jpg', '/data/FIBSEM/nuclie_align_ROI3_1700/nuclie30/pattern/339.jpg', '/data/FIBSEM/nuclie_align_ROI3_1700/nuclie30/pattern/340.jpg', '/data/FIBSEM/nuclie_align_ROI3_1700/nuclie30/pattern/341.jpg', '/data/FIBSEM/nuclie_align_ROI3_1700/nuclie30/pattern/342.jpg', '/data/FIBSEM/nuclie_align_ROI3_1700/nuclie30/pattern/343.jpg', '/data/FIBSEM/nuclie_align_ROI3_1700/nuclie30/pattern/344.jpg', '/data/FIBSEM/nuclie_align_ROI3_1700/nuclie30/pattern/345.jpg', '/data/FIBSEM/nuclie_align_ROI3_1700/nuclie30/pattern/346.jpg', '/data/FIBSEM/nuclie_align_ROI3_1700/nuclie30/pattern/347.jpg', '/data/FIBSEM/nuclie_align_ROI3_1700/nuclie30/pattern/348.jpg', '/data/FIBSEM/nuclie_align_ROI3_1700/nuclie30/pattern/349.jpg', '/data/FIBSEM/nuclie_align_ROI3_1700/nuclie30/pattern/350.jpg', '/data/FIBSEM/nuclie_align_ROI3_1700/nuclie30/pattern/351.jpg', '/data/FIBSEM/nuclie_align_ROI3_1700/nuclie30/pattern/352.jpg', '/data/FIBSEM/nuclie_align_ROI3_1700/nuclie30/pattern/353.jpg', '/data/FIBSEM/nuclie_align_ROI3_1700/nuclie30/pattern/354.jpg', '/data/FIBSEM/nuclie_align_ROI3_1700/nuclie30/pattern/355.jpg', '/data/FIBSEM/nuclie_align_ROI3_1700/nuclie30/pattern/356.jpg', '/data/FIBSEM/nuclie_align_ROI3_1700/nuclie30/pattern/357.jpg', '/data/FIBSEM/nuclie_align_ROI3_1700/nuclie30/pattern/358.jpg', '/data/FIBSEM/nuclie_align_ROI3_1700/nuclie30/pattern/359.jpg', '/data/FIBSEM/nuclie_align_ROI3_1700/nuclie30/pattern/360.jpg', '/data/FIBSEM/nuclie_align_ROI3_1700/nuclie30/pattern/361.jpg', '/data/FIBSEM/nuclie_align_ROI3_1700/nuclie30/pattern/362.jpg', '/data/FIBSEM/nuclie_align_ROI3_1700/nuclie30/pattern/363.jpg', '/data/FIBSEM/nuclie_align_ROI3_1700/nuclie30/pattern/364.jpg', '/data/FIBSEM/nuclie_align_ROI3_1700/nuclie30/pattern/365.jpg', '/data/FIBSEM/nuclie_align_ROI3_1700/nuclie30/pattern/366.jpg', '/data/FIBSEM/nuclie_align_ROI3_1700/nuclie30/pattern/367.jpg', '/data/FIBSEM/nuclie_align_ROI3_1700/nuclie30/pattern/368.jpg', '/data/FIBSEM/nuclie_align_ROI3_1700/nuclie30/pattern/369.jpg', '/data/FIBSEM/nuclie_align_ROI3_1700/nuclie30/pattern/370.jpg', '/data/FIBSEM/nuclie_align_ROI3_1700/nuclie30/pattern/371.jpg', '/data/FIBSEM/nuclie_align_ROI3_1700/nuclie30/pattern/372.jpg', '/data/FIBSEM/nuclie_align_ROI3_1700/nuclie30/pattern/373.jpg', '/data/FIBSEM/nuclie_align_ROI3_1700/nuclie30/pattern/374.jpg', '/data/FIBSEM/nuclie_align_ROI3_1700/nuclie30/pattern/375.jpg', '/data/FIBSEM/nuclie_align_ROI3_1700/nuclie30/pattern/376.jpg', '/data/FIBSEM/nuclie_align_ROI3_1700/nuclie30/pattern/377.jpg', '/data/FIBSEM/nuclie_align_ROI3_1700/nuclie30/pattern/378.jpg', '/data/FIBSEM/nuclie_align_ROI3_1700/nuclie30/pattern/379.jpg', '/data/FIBSEM/nuclie_align_ROI3_1700/nuclie30/pattern/380.jpg', '/data/FIBSEM/nuclie_align_ROI3_1700/nuclie30/pattern/381.jpg', '/data/FIBSEM/nuclie_align_ROI3_1700/nuclie30/pattern/382.jpg', '/data/FIBSEM/nuclie_align_ROI3_1700/nuclie30/pattern/383.jpg', '/data/FIBSEM/nuclie_align_ROI3_1700/nuclie30/pattern/384.jpg', '/data/FIBSEM/nuclie_align_ROI3_1700/nuclie30/pattern/385.jpg', '/data/FIBSEM/nuclie_align_ROI3_1700/nuclie30/pattern/386.jpg', '/data/FIBSEM/nuclie_align_ROI3_1700/nuclie30/pattern/387.jpg', '/data/FIBSEM/nuclie_align_ROI3_1700/nuclie30/pattern/388.jpg', '/data/FIBSEM/nuclie_align_ROI3_1700/nuclie30/pattern/389.jpg', '/data/FIBSEM/nuclie_align_ROI3_1700/nuclie30/pattern/390.jpg', '/data/FIBSEM/nuclie_align_ROI3_1700/nuclie30/pattern/391.jpg', '/data/FIBSEM/nuclie_align_ROI3_1700/nuclie30/pattern/392.jpg', '/data/FIBSEM/nuclie_align_ROI3_1700/nuclie30/pattern/393.jpg', '/data/FIBSEM/nuclie_align_ROI3_1700/nuclie30/pattern/394.jpg', '/data/FIBSEM/nuclie_align_ROI3_1700/nuclie30/pattern/395.jpg', '/data/FIBSEM/nuclie_align_ROI3_1700/nuclie30/pattern/396.jpg', '/data/FIBSEM/nuclie_align_ROI3_1700/nuclie30/pattern/397.jpg', '/data/FIBSEM/nuclie_align_ROI3_1700/nuclie30/pattern/398.jpg', '/data/FIBSEM/nuclie_align_ROI3_1700/nuclie30/pattern/399.jpg', '/data/FIBSEM/nuclie_align_ROI3_1700/nuclie30/pattern/400.jpg', '/data/FIBSEM/nuclie_align_ROI3_1700/nuclie30/pattern/401.jpg', '/data/FIBSEM/nuclie_align_ROI3_1700/nuclie30/pattern/402.jpg', '/data/FIBSEM/nuclie_align_ROI3_1700/nuclie30/pattern/403.jpg', '/data/FIBSEM/nuclie_align_ROI3_1700/nuclie30/pattern/404.jpg', '/data/FIBSEM/nuclie_align_ROI3_1700/nuclie30/pattern/405.jpg', '/data/FIBSEM/nuclie_align_ROI3_1700/nuclie30/pattern/406.jpg', '/data/FIBSEM/nuclie_align_ROI3_1700/nuclie30/pattern/407.jpg', '/data/FIBSEM/nuclie_align_ROI3_1700/nuclie30/pattern/408.jpg', '/data/FIBSEM/nuclie_align_ROI3_1700/nuclie30/pattern/409.jpg', '/data/FIBSEM/nuclie_align_ROI3_1700/nuclie30/pattern/410.jpg', '/data/FIBSEM/nuclie_align_ROI3_1700/nuclie30/pattern/411.jpg', '/data/FIBSEM/nuclie_align_ROI3_1700/nuclie30/pattern/412.jpg', '/data/FIBSEM/nuclie_align_ROI3_1700/nuclie30/pattern/413.jpg', '/data/FIBSEM/nuclie_align_ROI3_1700/nuclie30/pattern/414.jpg', '/data/FIBSEM/nuclie_align_ROI3_1700/nuclie30/pattern/415.jpg', '/data/FIBSEM/nuclie_align_ROI3_1700/nuclie30/pattern/416.jpg', '/data/FIBSEM/nuclie_align_ROI3_1700/nuclie30/pattern/417.jpg', '/data/FIBSEM/nuclie_align_ROI3_1700/nuclie30/pattern/418.jpg', '/data/FIBSEM/nuclie_align_ROI3_1700/nuclie30/pattern/419.jpg', '/data/FIBSEM/nuclie_align_ROI3_1700/nuclie30/pattern/420.jpg', '/data/FIBSEM/nuclie_align_ROI3_1700/nuclie30/pattern/421.jpg', '/data/FIBSEM/nuclie_align_ROI3_1700/nuclie30/pattern/422.jpg', '/data/FIBSEM/nuclie_align_ROI3_1700/nuclie30/pattern/423.jpg', '/data/FIBSEM/nuclie_align_ROI3_1700/nuclie30/pattern/424.jpg', '/data/FIBSEM/nuclie_align_ROI3_1700/nuclie30/pattern/425.jpg', '/data/FIBSEM/nuclie_align_ROI3_1700/nuclie30/pattern/426.jpg', '/data/FIBSEM/nuclie_align_ROI3_1700/nuclie30/pattern/427.jpg', '/data/FIBSEM/nuclie_align_ROI3_1700/nuclie30/pattern/428.jpg', '/data/FIBSEM/nuclie_align_ROI3_1700/nuclie30/pattern/429.jpg', '/data/FIBSEM/nuclie_align_ROI3_1700/nuclie30/pattern/430.jpg', '/data/FIBSEM/nuclie_align_ROI3_1700/nuclie30/pattern/431.jpg', '/data/FIBSEM/nuclie_align_ROI3_1700/nuclie30/pattern/432.jpg', '/data/FIBSEM/nuclie_align_ROI3_1700/nuclie30/pattern/433.jpg', '/data/FIBSEM/nuclie_align_ROI3_1700/nuclie30/pattern/434.jpg', '/data/FIBSEM/nuclie_align_ROI3_1700/nuclie30/pattern/435.jpg', '/data/FIBSEM/nuclie_align_ROI3_1700/nuclie30/pattern/436.jpg', '/data/FIBSEM/nuclie_align_ROI3_1700/nuclie30/pattern/437.jpg', '/data/FIBSEM/nuclie_align_ROI3_1700/nuclie30/pattern/438.jpg', '/data/FIBSEM/nuclie_align_ROI3_1700/nuclie30/pattern/439.jpg', '/data/FIBSEM/nuclie_align_ROI3_1700/nuclie30/pattern/440.jpg', '/data/FIBSEM/nuclie_align_ROI3_1700/nuclie30/pattern/441.jpg', '/data/FIBSEM/nuclie_align_ROI3_1700/nuclie30/pattern/442.jpg', '/data/FIBSEM/nuclie_align_ROI3_1700/nuclie30/pattern/443.jpg', '/data/FIBSEM/nuclie_align_ROI3_1700/nuclie30/pattern/444.jpg', '/data/FIBSEM/nuclie_align_ROI3_1700/nuclie30/pattern/445.jpg', '/data/FIBSEM/nuclie_align_ROI3_1700/nuclie30/pattern/446.jpg', '/data/FIBSEM/nuclie_align_ROI3_1700/nuclie30/pattern/447.jpg', '/data/FIBSEM/nuclie_align_ROI3_1700/nuclie30/pattern/448.jpg', '/data/FIBSEM/nuclie_align_ROI3_1700/nuclie30/pattern/449.jpg', '/data/FIBSEM/nuclie_align_ROI3_1700/nuclie30/pattern/450.jpg', '/data/FIBSEM/nuclie_align_ROI3_1700/nuclie30/pattern/451.jpg', '/data/FIBSEM/nuclie_align_ROI3_1700/nuclie30/pattern/452.jpg', '/data/FIBSEM/nuclie_align_ROI3_1700/nuclie30/pattern/453.jpg', '/data/FIBSEM/nuclie_align_ROI3_1700/nuclie30/pattern/454.jpg', '/data/FIBSEM/nuclie_align_ROI3_1700/nuclie30/pattern/455.jpg', '/data/FIBSEM/nuclie_align_ROI3_1700/nuclie30/pattern/456.jpg', '/data/FIBSEM/nuclie_align_ROI3_1700/nuclie30/pattern/457.jpg', '/data/FIBSEM/nuclie_align_ROI3_1700/nuclie30/pattern/458.jpg', '/data/FIBSEM/nuclie_align_ROI3_1700/nuclie30/pattern/459.jpg', '/data/FIBSEM/nuclie_align_ROI3_1700/nuclie30/pattern/460.jpg', '/data/FIBSEM/nuclie_align_ROI3_1700/nuclie30/pattern/461.jpg', '/data/FIBSEM/nuclie_align_ROI3_1700/nuclie30/pattern/462.jpg', '/data/FIBSEM/nuclie_align_ROI3_1700/nuclie30/pattern/463.jpg', '/data/FIBSEM/nuclie_align_ROI3_1700/nuclie30/pattern/464.jpg', '/data/FIBSEM/nuclie_align_ROI3_1700/nuclie30/pattern/465.jpg', '/data/FIBSEM/nuclie_align_ROI3_1700/nuclie30/pattern/466.jpg', '/data/FIBSEM/nuclie_align_ROI3_1700/nuclie30/pattern/467.jpg', '/data/FIBSEM/nuclie_align_ROI3_1700/nuclie30/pattern/468.jpg', '/data/FIBSEM/nuclie_align_ROI3_1700/nuclie30/pattern/469.jpg', '/data/FIBSEM/nuclie_align_ROI3_1700/nuclie30/pattern/470.jpg', '/data/FIBSEM/nuclie_align_ROI3_1700/nuclie30/pattern/471.jpg', '/data/FIBSEM/nuclie_align_ROI3_1700/nuclie30/pattern/472.jpg', '/data/FIBSEM/nuclie_align_ROI3_1700/nuclie30/pattern/473.jpg', '/data/FIBSEM/nuclie_align_ROI3_1700/nuclie30/pattern/474.jpg', '/data/FIBSEM/nuclie_align_ROI3_1700/nuclie30/pattern/475.jpg', '/data/FIBSEM/nuclie_align_ROI3_1700/nuclie30/pattern/476.jpg', '/data/FIBSEM/nuclie_align_ROI3_1700/nuclie30/pattern/477.jpg', '/data/FIBSEM/nuclie_align_ROI3_1700/nuclie30/pattern/478.jpg', '/data/FIBSEM/nuclie_align_ROI3_1700/nuclie30/pattern/479.jpg', '/data/FIBSEM/nuclie_align_ROI3_1700/nuclie30/pattern/480.jpg', '/data/FIBSEM/nuclie_align_ROI3_1700/nuclie30/pattern/481.jpg', '/data/FIBSEM/nuclie_align_ROI3_1700/nuclie30/pattern/482.jpg', '/data/FIBSEM/nuclie_align_ROI3_1700/nuclie30/pattern/483.jpg', '/data/FIBSEM/nuclie_align_ROI3_1700/nuclie30/pattern/484.jpg', '/data/FIBSEM/nuclie_align_ROI3_1700/nuclie30/pattern/485.jpg', '/data/FIBSEM/nuclie_align_ROI3_1700/nuclie30/pattern/486.jpg', '/data/FIBSEM/nuclie_align_ROI3_1700/nuclie30/pattern/487.jpg', '/data/FIBSEM/nuclie_align_ROI3_1700/nuclie30/pattern/488.jpg', '/data/FIBSEM/nuclie_align_ROI3_1700/nuclie30/pattern/489.jpg', '/data/FIBSEM/nuclie_align_ROI3_1700/nuclie30/pattern/490.jpg', '/data/FIBSEM/nuclie_align_ROI3_1700/nuclie30/pattern/491.jpg', '/data/FIBSEM/nuclie_align_ROI3_1700/nuclie30/pattern/492.jpg', '/data/FIBSEM/nuclie_align_ROI3_1700/nuclie30/pattern/493.jpg', '/data/FIBSEM/nuclie_align_ROI3_1700/nuclie30/pattern/494.jpg', '/data/FIBSEM/nuclie_align_ROI3_1700/nuclie30/pattern/495.jpg', '/data/FIBSEM/nuclie_align_ROI3_1700/nuclie30/pattern/496.jpg', '/data/FIBSEM/nuclie_align_ROI3_1700/nuclie30/pattern/497.jpg', '/data/FIBSEM/nuclie_align_ROI3_1700/nuclie30/pattern/498.jpg', '/data/FIBSEM/nuclie_align_ROI3_1700/nuclie30/pattern/499.jpg', '/data/FIBSEM/nuclie_align_ROI3_1700/nuclie30/pattern/500.jpg', '/data/FIBSEM/nuclie_align_ROI3_1700/nuclie30/pattern/501.jpg', '/data/FIBSEM/nuclie_align_ROI3_1700/nuclie30/pattern/502.jpg', '/data/FIBSEM/nuclie_align_ROI3_1700/nuclie30/pattern/503.jpg', '/data/FIBSEM/nuclie_align_ROI3_1700/nuclie30/pattern/504.jpg', '/data/FIBSEM/nuclie_align_ROI3_1700/nuclie30/pattern/505.jpg', '/data/FIBSEM/nuclie_align_ROI3_1700/nuclie30/pattern/506.jpg', '/data/FIBSEM/nuclie_align_ROI3_1700/nuclie30/pattern/507.jpg', '/data/FIBSEM/nuclie_align_ROI3_1700/nuclie30/pattern/508.jpg', '/data/FIBSEM/nuclie_align_ROI3_1700/nuclie30/pattern/509.jpg', '/data/FIBSEM/nuclie_align_ROI3_1700/nuclie30/pattern/510.jpg', '/data/FIBSEM/nuclie_align_ROI3_1700/nuclie30/pattern/511.jpg', '/data/FIBSEM/nuclie_align_ROI3_1700/nuclie30/pattern/512.jpg', '/data/FIBSEM/nuclie_align_ROI3_1700/nuclie30/pattern/513.jpg', '/data/FIBSEM/nuclie_align_ROI3_1700/nuclie30/pattern/514.jpg', '/data/FIBSEM/nuclie_align_ROI3_1700/nuclie30/pattern/515.jpg', '/data/FIBSEM/nuclie_align_ROI3_1700/nuclie30/pattern/516.jpg', '/data/FIBSEM/nuclie_align_ROI3_1700/nuclie30/pattern/517.jpg', '/data/FIBSEM/nuclie_align_ROI3_1700/nuclie30/pattern/518.jpg', '/data/FIBSEM/nuclie_align_ROI3_1700/nuclie30/pattern/519.jpg', '/data/FIBSEM/nuclie_align_ROI3_1700/nuclie30/pattern/520.jpg', '/data/FIBSEM/nuclie_align_ROI3_1700/nuclie30/pattern/521.jpg', '/data/FIBSEM/nuclie_align_ROI3_1700/nuclie30/pattern/522.jpg', '/data/FIBSEM/nuclie_align_ROI3_1700/nuclie30/pattern/523.jpg', '/data/FIBSEM/nuclie_align_ROI3_1700/nuclie30/pattern/524.jpg', '/data/FIBSEM/nuclie_align_ROI3_1700/nuclie30/pattern/525.jpg', '/data/FIBSEM/nuclie_align_ROI3_1700/nuclie30/pattern/526.jpg', '/data/FIBSEM/nuclie_align_ROI3_1700/nuclie30/pattern/527.jpg', '/data/FIBSEM/nuclie_align_ROI3_1700/nuclie30/pattern/528.jpg', '/data/FIBSEM/nuclie_align_ROI3_1700/nuclie30/pattern/529.jpg', '/data/FIBSEM/nuclie_align_ROI3_1700/nuclie30/pattern/530.jpg', '/data/FIBSEM/nuclie_align_ROI3_1700/nuclie30/pattern/531.jpg', '/data/FIBSEM/nuclie_align_ROI3_1700/nuclie30/pattern/532.jpg', '/data/FIBSEM/nuclie_align_ROI3_1700/nuclie30/pattern/533.jpg', '/data/FIBSEM/nuclie_align_ROI3_1700/nuclie30/pattern/534.jpg', '/data/FIBSEM/nuclie_align_ROI3_1700/nuclie30/pattern/535.jpg', '/data/FIBSEM/nuclie_align_ROI3_1700/nuclie30/pattern/536.jpg', '/data/FIBSEM/nuclie_align_ROI3_1700/nuclie30/pattern/537.jpg', '/data/FIBSEM/nuclie_align_ROI3_1700/nuclie30/pattern/538.jpg', '/data/FIBSEM/nuclie_align_ROI3_1700/nuclie30/pattern/539.jpg', '/data/FIBSEM/nuclie_align_ROI3_1700/nuclie30/pattern/540.jpg', '/data/FIBSEM/nuclie_align_ROI3_1700/nuclie30/pattern/541.jpg', '/data/FIBSEM/nuclie_align_ROI3_1700/nuclie30/pattern/542.jpg', '/data/FIBSEM/nuclie_align_ROI3_1700/nuclie30/pattern/543.jpg', '/data/FIBSEM/nuclie_align_ROI3_1700/nuclie30/pattern/544.jpg', '/data/FIBSEM/nuclie_align_ROI3_1700/nuclie30/pattern/545.jpg', '/data/FIBSEM/nuclie_align_ROI3_1700/nuclie30/pattern/546.jpg', '/data/FIBSEM/nuclie_align_ROI3_1700/nuclie30/pattern/547.jpg', '/data/FIBSEM/nuclie_align_ROI3_1700/nuclie30/pattern/548.jpg', '/data/FIBSEM/nuclie_align_ROI3_1700/nuclie30/pattern/549.jpg', '/data/FIBSEM/nuclie_align_ROI3_1700/nuclie30/pattern/550.jpg', '/data/FIBSEM/nuclie_align_ROI3_1700/nuclie30/pattern/551.jpg', '/data/FIBSEM/nuclie_align_ROI3_1700/nuclie30/pattern/552.jpg', '/data/FIBSEM/nuclie_align_ROI3_1700/nuclie30/pattern/553.jpg', '/data/FIBSEM/nuclie_align_ROI3_1700/nuclie30/pattern/554.jpg', '/data/FIBSEM/nuclie_align_ROI3_1700/nuclie30/pattern/555.jpg', '/data/FIBSEM/nuclie_align_ROI3_1700/nuclie30/pattern/556.jpg', '/data/FIBSEM/nuclie_align_ROI3_1700/nuclie30/pattern/557.jpg', '/data/FIBSEM/nuclie_align_ROI3_1700/nuclie30/pattern/558.jpg', '/data/FIBSEM/nuclie_align_ROI3_1700/nuclie30/pattern/559.jpg', '/data/FIBSEM/nuclie_align_ROI3_1700/nuclie30/pattern/560.jpg', '/data/FIBSEM/nuclie_align_ROI3_1700/nuclie30/pattern/561.jpg', '/data/FIBSEM/nuclie_align_ROI3_1700/nuclie30/pattern/562.jpg', '/data/FIBSEM/nuclie_align_ROI3_1700/nuclie30/pattern/563.jpg', '/data/FIBSEM/nuclie_align_ROI3_1700/nuclie30/pattern/564.jpg', '/data/FIBSEM/nuclie_align_ROI3_1700/nuclie30/pattern/565.jpg', '/data/FIBSEM/nuclie_align_ROI3_1700/nuclie30/pattern/566.jpg', '/data/FIBSEM/nuclie_align_ROI3_1700/nuclie30/pattern/567.jpg', '/data/FIBSEM/nuclie_align_ROI3_1700/nuclie30/pattern/568.jpg', '/data/FIBSEM/nuclie_align_ROI3_1700/nuclie30/pattern/569.jpg', '/data/FIBSEM/nuclie_align_ROI3_1700/nuclie30/pattern/570.jpg', '/data/FIBSEM/nuclie_align_ROI3_1700/nuclie30/pattern/571.jpg', '/data/FIBSEM/nuclie_align_ROI3_1700/nuclie30/pattern/572.jpg', '/data/FIBSEM/nuclie_align_ROI3_1700/nuclie30/pattern/573.jpg', '/data/FIBSEM/nuclie_align_ROI3_1700/nuclie30/pattern/574.jpg', '/data/FIBSEM/nuclie_align_ROI3_1700/nuclie30/pattern/575.jpg', '/data/FIBSEM/nuclie_align_ROI3_1700/nuclie30/pattern/576.jpg', '/data/FIBSEM/nuclie_align_ROI3_1700/nuclie30/pattern/577.jpg', '/data/FIBSEM/nuclie_align_ROI3_1700/nuclie30/pattern/578.jpg', '/data/FIBSEM/nuclie_align_ROI3_1700/nuclie30/pattern/579.jpg', '/data/FIBSEM/nuclie_align_ROI3_1700/nuclie30/pattern/580.jpg', '/data/FIBSEM/nuclie_align_ROI3_1700/nuclie30/pattern/581.jpg', '/data/FIBSEM/nuclie_align_ROI3_1700/nuclie30/pattern/582.jpg', '/data/FIBSEM/nuclie_align_ROI3_1700/nuclie30/pattern/583.jpg', '/data/FIBSEM/nuclie_align_ROI3_1700/nuclie30/pattern/584.jpg', '/data/FIBSEM/nuclie_align_ROI3_1700/nuclie30/pattern/585.jpg', '/data/FIBSEM/nuclie_align_ROI3_1700/nuclie30/pattern/586.jpg', '/data/FIBSEM/nuclie_align_ROI3_1700/nuclie30/pattern/587.jpg', '/data/FIBSEM/nuclie_align_ROI3_1700/nuclie30/pattern/588.jpg', '/data/FIBSEM/nuclie_align_ROI3_1700/nuclie30/pattern/589.jpg', '/data/FIBSEM/nuclie_align_ROI3_1700/nuclie30/pattern/590.jpg', '/data/FIBSEM/nuclie_align_ROI3_1700/nuclie30/pattern/591.jpg', '/data/FIBSEM/nuclie_align_ROI3_1700/nuclie30/pattern/592.jpg', '/data/FIBSEM/nuclie_align_ROI3_1700/nuclie30/pattern/593.jpg', '/data/FIBSEM/nuclie_align_ROI3_1700/nuclie30/pattern/594.jpg', '/data/FIBSEM/nuclie_align_ROI3_1700/nuclie30/pattern/595.jpg', '/data/FIBSEM/nuclie_align_ROI3_1700/nuclie30/pattern/596.jpg', '/data/FIBSEM/nuclie_align_ROI3_1700/nuclie30/pattern/597.jpg', '/data/FIBSEM/nuclie_align_ROI3_1700/nuclie30/pattern/598.jpg', '/data/FIBSEM/nuclie_align_ROI3_1700/nuclie30/pattern/599.jpg', '/data/FIBSEM/nuclie_align_ROI3_1700/nuclie30/pattern/600.jpg', '/data/FIBSEM/nuclie_align_ROI3_1700/nuclie30/pattern/601.jpg', '/data/FIBSEM/nuclie_align_ROI3_1700/nuclie30/pattern/602.jpg', '/data/FIBSEM/nuclie_align_ROI3_1700/nuclie30/pattern/603.jpg', '/data/FIBSEM/nuclie_align_ROI3_1700/nuclie30/pattern/604.jpg', '/data/FIBSEM/nuclie_align_ROI3_1700/nuclie30/pattern/605.jpg', '/data/FIBSEM/nuclie_align_ROI3_1700/nuclie30/pattern/606.jpg', '/data/FIBSEM/nuclie_align_ROI3_1700/nuclie30/pattern/607.jpg', '/data/FIBSEM/nuclie_align_ROI3_1700/nuclie30/pattern/608.jpg', '/data/FIBSEM/nuclie_align_ROI3_1700/nuclie30/pattern/609.jpg', '/data/FIBSEM/nuclie_align_ROI3_1700/nuclie30/pattern/610.jpg', '/data/FIBSEM/nuclie_align_ROI3_1700/nuclie30/pattern/611.jpg', '/data/FIBSEM/nuclie_align_ROI3_1700/nuclie30/pattern/612.jpg', '/data/FIBSEM/nuclie_align_ROI3_1700/nuclie30/pattern/613.jpg', '/data/FIBSEM/nuclie_align_ROI3_1700/nuclie30/pattern/614.jpg', '/data/FIBSEM/nuclie_align_ROI3_1700/nuclie30/pattern/615.jpg', '/data/FIBSEM/nuclie_align_ROI3_1700/nuclie30/pattern/616.jpg', '/data/FIBSEM/nuclie_align_ROI3_1700/nuclie30/pattern/617.jpg', '/data/FIBSEM/nuclie_align_ROI3_1700/nuclie30/pattern/618.jpg', '/data/FIBSEM/nuclie_align_ROI3_1700/nuclie30/pattern/619.jpg', '/data/FIBSEM/nuclie_align_ROI3_1700/nuclie30/pattern/620.jpg', '/data/FIBSEM/nuclie_align_ROI3_1700/nuclie30/pattern/621.jpg', '/data/FIBSEM/nuclie_align_ROI3_1700/nuclie30/pattern/622.jpg', '/data/FIBSEM/nuclie_align_ROI3_1700/nuclie30/pattern/623.jpg', '/data/FIBSEM/nuclie_align_ROI3_1700/nuclie30/pattern/624.jpg', '/data/FIBSEM/nuclie_align_ROI3_1700/nuclie30/pattern/625.jpg', '/data/FIBSEM/nuclie_align_ROI3_1700/nuclie30/pattern/626.jpg', '/data/FIBSEM/nuclie_align_ROI3_1700/nuclie30/pattern/627.jpg', '/data/FIBSEM/nuclie_align_ROI3_1700/nuclie30/pattern/628.jpg', '/data/FIBSEM/nuclie_align_ROI3_1700/nuclie30/pattern/629.jpg', '/data/FIBSEM/nuclie_align_ROI3_1700/nuclie30/pattern/630.jpg', '/data/FIBSEM/nuclie_align_ROI3_1700/nuclie30/pattern/631.jpg', '/data/FIBSEM/nuclie_align_ROI3_1700/nuclie30/pattern/632.jpg', '/data/FIBSEM/nuclie_align_ROI3_1700/nuclie30/pattern/633.jpg', '/data/FIBSEM/nuclie_align_ROI3_1700/nuclie30/pattern/634.jpg', '/data/FIBSEM/nuclie_align_ROI3_1700/nuclie30/pattern/635.jpg', '/data/FIBSEM/nuclie_align_ROI3_1700/nuclie30/pattern/636.jpg', '/data/FIBSEM/nuclie_align_ROI3_1700/nuclie30/pattern/637.jpg', '/data/FIBSEM/nuclie_align_ROI3_1700/nuclie30/pattern/638.jpg', '/data/FIBSEM/nuclie_align_ROI3_1700/nuclie30/pattern/639.jpg', '/data/FIBSEM/nuclie_align_ROI3_1700/nuclie30/pattern/640.jpg', '/data/FIBSEM/nuclie_align_ROI3_1700/nuclie30/pattern/641.jpg', '/data/FIBSEM/nuclie_align_ROI3_1700/nuclie30/pattern/642.jpg', '/data/FIBSEM/nuclie_align_ROI3_1700/nuclie30/pattern/643.jpg', '/data/FIBSEM/nuclie_align_ROI3_1700/nuclie30/pattern/644.jpg', '/data/FIBSEM/nuclie_align_ROI3_1700/nuclie30/pattern/645.jpg', '/data/FIBSEM/nuclie_align_ROI3_1700/nuclie30/pattern/646.jpg', '/data/FIBSEM/nuclie_align_ROI3_1700/nuclie30/pattern/647.jpg', '/data/FIBSEM/nuclie_align_ROI3_1700/nuclie30/pattern/648.jpg', '/data/FIBSEM/nuclie_align_ROI3_1700/nuclie30/pattern/649.jpg', '/data/FIBSEM/nuclie_align_ROI3_1700/nuclie30/pattern/650.jpg', '/data/FIBSEM/nuclie_align_ROI3_1700/nuclie30/pattern/651.jpg', '/data/FIBSEM/nuclie_align_ROI3_1700/nuclie30/pattern/652.jpg', '/data/FIBSEM/nuclie_align_ROI3_1700/nuclie30/pattern/653.jpg', '/data/FIBSEM/nuclie_align_ROI3_1700/nuclie30/pattern/654.jpg', '/data/FIBSEM/nuclie_align_ROI3_1700/nuclie30/pattern/655.jpg', '/data/FIBSEM/nuclie_align_ROI3_1700/nuclie30/pattern/656.jpg', '/data/FIBSEM/nuclie_align_ROI3_1700/nuclie30/pattern/657.jpg', '/data/FIBSEM/nuclie_align_ROI3_1700/nuclie30/pattern/658.jpg', '/data/FIBSEM/nuclie_align_ROI3_1700/nuclie30/pattern/659.jpg', '/data/FIBSEM/nuclie_align_ROI3_1700/nuclie30/pattern/660.jpg', '/data/FIBSEM/nuclie_align_ROI3_1700/nuclie30/pattern/661.jpg', '/data/FIBSEM/nuclie_align_ROI3_1700/nuclie30/pattern/662.jpg', '/data/FIBSEM/nuclie_align_ROI3_1700/nuclie30/pattern/663.jpg', '/data/FIBSEM/nuclie_align_ROI3_1700/nuclie30/pattern/664.jpg', '/data/FIBSEM/nuclie_align_ROI3_1700/nuclie30/pattern/665.jpg', '/data/FIBSEM/nuclie_align_ROI3_1700/nuclie30/pattern/666.jpg', '/data/FIBSEM/nuclie_align_ROI3_1700/nuclie30/pattern/667.jpg', '/data/FIBSEM/nuclie_align_ROI3_1700/nuclie30/pattern/668.jpg', '/data/FIBSEM/nuclie_align_ROI3_1700/nuclie30/pattern/669.jpg', '/data/FIBSEM/nuclie_align_ROI3_1700/nuclie30/pattern/670.jpg', '/data/FIBSEM/nuclie_align_ROI3_1700/nuclie30/pattern/671.jpg', '/data/FIBSEM/nuclie_align_ROI3_1700/nuclie30/pattern/672.jpg', '/data/FIBSEM/nuclie_align_ROI3_1700/nuclie30/pattern/673.jpg', '/data/FIBSEM/nuclie_align_ROI3_1700/nuclie30/pattern/674.jpg', '/data/FIBSEM/nuclie_align_ROI3_1700/nuclie30/pattern/675.jpg', '/data/FIBSEM/nuclie_align_ROI3_1700/nuclie30/pattern/676.jpg', '/data/FIBSEM/nuclie_align_ROI3_1700/nuclie30/pattern/677.jpg', '/data/FIBSEM/nuclie_align_ROI3_1700/nuclie30/pattern/678.jpg', '/data/FIBSEM/nuclie_align_ROI3_1700/nuclie30/pattern/679.jpg', '/data/FIBSEM/nuclie_align_ROI3_1700/nuclie30/pattern/680.jpg', '/data/FIBSEM/nuclie_align_ROI3_1700/nuclie30/pattern/681.jpg', '/data/FIBSEM/nuclie_align_ROI3_1700/nuclie30/pattern/682.jpg', '/data/FIBSEM/nuclie_align_ROI3_1700/nuclie30/pattern/683.jpg', '/data/FIBSEM/nuclie_align_ROI3_1700/nuclie30/pattern/684.jpg', '/data/FIBSEM/nuclie_align_ROI3_1700/nuclie30/pattern/685.jpg', '/data/FIBSEM/nuclie_align_ROI3_1700/nuclie30/pattern/686.jpg', '/data/FIBSEM/nuclie_align_ROI3_1700/nuclie30/pattern/687.jpg', '/data/FIBSEM/nuclie_align_ROI3_1700/nuclie30/pattern/688.jpg', '/data/FIBSEM/nuclie_align_ROI3_1700/nuclie30/pattern/689.jpg', '/data/FIBSEM/nuclie_align_ROI3_1700/nuclie30/pattern/690.jpg', '/data/FIBSEM/nuclie_align_ROI3_1700/nuclie30/pattern/691.jpg', '/data/FIBSEM/nuclie_align_ROI3_1700/nuclie30/pattern/692.jpg', '/data/FIBSEM/nuclie_align_ROI3_1700/nuclie30/pattern/693.jpg', '/data/FIBSEM/nuclie_align_ROI3_1700/nuclie30/pattern/694.jpg', '/data/FIBSEM/nuclie_align_ROI3_1700/nuclie30/pattern/695.jpg', '/data/FIBSEM/nuclie_align_ROI3_1700/nuclie30/pattern/696.jpg', '/data/FIBSEM/nuclie_align_ROI3_1700/nuclie30/pattern/697.jpg', '/data/FIBSEM/nuclie_align_ROI3_1700/nuclie30/pattern/698.jpg', '/data/FIBSEM/nuclie_align_ROI3_1700/nuclie30/pattern/699.jpg', '/data/FIBSEM/nuclie_align_ROI3_1700/nuclie30/pattern/700.jpg', '/data/FIBSEM/nuclie_align_ROI3_1700/nuclie30/pattern/701.jpg', '/data/FIBSEM/nuclie_align_ROI3_1700/nuclie30/pattern/702.jpg', '/data/FIBSEM/nuclie_align_ROI3_1700/nuclie30/pattern/703.jpg', '/data/FIBSEM/nuclie_align_ROI3_1700/nuclie30/pattern/704.jpg', '/data/FIBSEM/nuclie_align_ROI3_1700/nuclie30/pattern/705.jpg', '/data/FIBSEM/nuclie_align_ROI3_1700/nuclie30/pattern/706.jpg', '/data/FIBSEM/nuclie_align_ROI3_1700/nuclie30/pattern/707.jpg', '/data/FIBSEM/nuclie_align_ROI3_1700/nuclie30/pattern/708.jpg', '/data/FIBSEM/nuclie_align_ROI3_1700/nuclie30/pattern/709.jpg', '/data/FIBSEM/nuclie_align_ROI3_1700/nuclie30/pattern/710.jpg', '/data/FIBSEM/nuclie_align_ROI3_1700/nuclie30/pattern/711.jpg', '/data/FIBSEM/nuclie_align_ROI3_1700/nuclie30/pattern/712.jpg', '/data/FIBSEM/nuclie_align_ROI3_1700/nuclie30/pattern/713.jpg', '/data/FIBSEM/nuclie_align_ROI3_1700/nuclie30/pattern/714.jpg', '/data/FIBSEM/nuclie_align_ROI3_1700/nuclie30/pattern/715.jpg', '/data/FIBSEM/nuclie_align_ROI3_1700/nuclie30/pattern/716.jpg', '/data/FIBSEM/nuclie_align_ROI3_1700/nuclie30/pattern/717.jpg', '/data/FIBSEM/nuclie_align_ROI3_1700/nuclie30/pattern/718.jpg', '/data/FIBSEM/nuclie_align_ROI3_1700/nuclie30/pattern/719.jpg', '/data/FIBSEM/nuclie_align_ROI3_1700/nuclie30/pattern/720.jpg', '/data/FIBSEM/nuclie_align_ROI3_1700/nuclie30/pattern/721.jpg', '/data/FIBSEM/nuclie_align_ROI3_1700/nuclie30/pattern/722.jpg', '/data/FIBSEM/nuclie_align_ROI3_1700/nuclie30/pattern/723.jpg', '/data/FIBSEM/nuclie_align_ROI3_1700/nuclie30/pattern/724.jpg', '/data/FIBSEM/nuclie_align_ROI3_1700/nuclie30/pattern/725.jpg', '/data/FIBSEM/nuclie_align_ROI3_1700/nuclie30/pattern/726.jpg', '/data/FIBSEM/nuclie_align_ROI3_1700/nuclie30/pattern/727.jpg', '/data/FIBSEM/nuclie_align_ROI3_1700/nuclie30/pattern/728.jpg', '/data/FIBSEM/nuclie_align_ROI3_1700/nuclie30/pattern/729.jpg', '/data/FIBSEM/nuclie_align_ROI3_1700/nuclie30/pattern/730.jpg', '/data/FIBSEM/nuclie_align_ROI3_1700/nuclie30/pattern/731.jpg', '/data/FIBSEM/nuclie_align_ROI3_1700/nuclie30/pattern/732.jpg', '/data/FIBSEM/nuclie_align_ROI3_1700/nuclie30/pattern/733.jpg', '/data/FIBSEM/nuclie_align_ROI3_1700/nuclie30/pattern/734.jpg', '/data/FIBSEM/nuclie_align_ROI3_1700/nuclie30/pattern/735.jpg', '/data/FIBSEM/nuclie_align_ROI3_1700/nuclie30/pattern/736.jpg', '/data/FIBSEM/nuclie_align_ROI3_1700/nuclie30/pattern/737.jpg', '/data/FIBSEM/nuclie_align_ROI3_1700/nuclie30/pattern/738.jpg', '/data/FIBSEM/nuclie_align_ROI3_1700/nuclie30/pattern/739.jpg', '/data/FIBSEM/nuclie_align_ROI3_1700/nuclie30/pattern/740.jpg', '/data/FIBSEM/nuclie_align_ROI3_1700/nuclie30/pattern/741.jpg', '/data/FIBSEM/nuclie_align_ROI3_1700/nuclie30/pattern/742.jpg', '/data/FIBSEM/nuclie_align_ROI3_1700/nuclie30/pattern/743.jpg', '/data/FIBSEM/nuclie_align_ROI3_1700/nuclie30/pattern/744.jpg', '/data/FIBSEM/nuclie_align_ROI3_1700/nuclie30/pattern/745.jpg', '/data/FIBSEM/nuclie_align_ROI3_1700/nuclie30/pattern/746.jpg', '/data/FIBSEM/nuclie_align_ROI3_1700/nuclie30/pattern/747.jpg', '/data/FIBSEM/nuclie_align_ROI3_1700/nuclie30/pattern/748.jpg', '/data/FIBSEM/nuclie_align_ROI3_1700/nuclie30/pattern/749.jpg', '/data/FIBSEM/nuclie_align_ROI3_1700/nuclie30/pattern/750.jpg', '/data/FIBSEM/nuclie_align_ROI3_1700/nuclie30/pattern/751.jpg', '/data/FIBSEM/nuclie_align_ROI3_1700/nuclie30/pattern/752.jpg', '/data/FIBSEM/nuclie_align_ROI3_1700/nuclie30/pattern/753.jpg', '/data/FIBSEM/nuclie_align_ROI3_1700/nuclie30/pattern/754.jpg', '/data/FIBSEM/nuclie_align_ROI3_1700/nuclie30/pattern/755.jpg', '/data/FIBSEM/nuclie_align_ROI3_1700/nuclie30/pattern/756.jpg', '/data/FIBSEM/nuclie_align_ROI3_1700/nuclie30/pattern/757.jpg', '/data/FIBSEM/nuclie_align_ROI3_1700/nuclie30/pattern/758.jpg', '/data/FIBSEM/nuclie_align_ROI3_1700/nuclie30/pattern/759.jpg', '/data/FIBSEM/nuclie_align_ROI3_1700/nuclie30/pattern/760.jpg', '/data/FIBSEM/nuclie_align_ROI3_1700/nuclie30/pattern/761.jpg', '/data/FIBSEM/nuclie_align_ROI3_1700/nuclie30/pattern/762.jpg', '/data/FIBSEM/nuclie_align_ROI3_1700/nuclie30/pattern/763.jpg', '/data/FIBSEM/nuclie_align_ROI3_1700/nuclie30/pattern/764.jpg', '/data/FIBSEM/nuclie_align_ROI3_1700/nuclie30/pattern/765.jpg', '/data/FIBSEM/nuclie_align_ROI3_1700/nuclie30/pattern/766.jpg', '/data/FIBSEM/nuclie_align_ROI3_1700/nuclie30/pattern/767.jpg', '/data/FIBSEM/nuclie_align_ROI3_1700/nuclie30/pattern/768.jpg', '/data/FIBSEM/nuclie_align_ROI3_1700/nuclie30/pattern/769.jpg', '/data/FIBSEM/nuclie_align_ROI3_1700/nuclie30/pattern/770.jpg', '/data/FIBSEM/nuclie_align_ROI3_1700/nuclie30/pattern/771.jpg', '/data/FIBSEM/nuclie_align_ROI3_1700/nuclie30/pattern/772.jpg', '/data/FIBSEM/nuclie_align_ROI3_1700/nuclie30/pattern/773.jpg', '/data/FIBSEM/nuclie_align_ROI3_1700/nuclie30/pattern/774.jpg', '/data/FIBSEM/nuclie_align_ROI3_1700/nuclie30/pattern/775.jpg', '/data/FIBSEM/nuclie_align_ROI3_1700/nuclie30/pattern/776.jpg', '/data/FIBSEM/nuclie_align_ROI3_1700/nuclie30/pattern/777.jpg', '/data/FIBSEM/nuclie_align_ROI3_1700/nuclie30/pattern/778.jpg', '/data/FIBSEM/nuclie_align_ROI3_1700/nuclie30/pattern/779.jpg', '/data/FIBSEM/nuclie_align_ROI3_1700/nuclie30/pattern/780.jpg', '/data/FIBSEM/nuclie_align_ROI3_1700/nuclie30/pattern/781.jpg', '/data/FIBSEM/nuclie_align_ROI3_1700/nuclie30/pattern/782.jpg', '/data/FIBSEM/nuclie_align_ROI3_1700/nuclie30/pattern/783.jpg', '/data/FIBSEM/nuclie_align_ROI3_1700/nuclie30/pattern/784.jpg', '/data/FIBSEM/nuclie_align_ROI3_1700/nuclie30/pattern/785.jpg', '/data/FIBSEM/nuclie_align_ROI3_1700/nuclie30/pattern/786.jpg', '/data/FIBSEM/nuclie_align_ROI3_1700/nuclie30/pattern/787.jpg', '/data/FIBSEM/nuclie_align_ROI3_1700/nuclie30/pattern/788.jpg', '/data/FIBSEM/nuclie_align_ROI3_1700/nuclie30/pattern/789.jpg', '/data/FIBSEM/nuclie_align_ROI3_1700/nuclie30/pattern/790.jpg', '/data/FIBSEM/nuclie_align_ROI3_1700/nuclie30/pattern/791.jpg', '/data/FIBSEM/nuclie_align_ROI3_1700/nuclie30/pattern/792.jpg', '/data/FIBSEM/nuclie_align_ROI3_1700/nuclie30/pattern/793.jpg', '/data/FIBSEM/nuclie_align_ROI3_1700/nuclie30/pattern/794.jpg', '/data/FIBSEM/nuclie_align_ROI3_1700/nuclie30/pattern/795.jpg', '/data/FIBSEM/nuclie_align_ROI3_1700/nuclie30/pattern/796.jpg', '/data/FIBSEM/nuclie_align_ROI3_1700/nuclie30/pattern/797.jpg', '/data/FIBSEM/nuclie_align_ROI3_1700/nuclie30/pattern/798.jpg', '/data/FIBSEM/nuclie_align_ROI3_1700/nuclie30/pattern/799.jpg', '/data/FIBSEM/nuclie_align_ROI3_1700/nuclie30/pattern/800.jpg', '/data/FIBSEM/nuclie_align_ROI3_1700/nuclie30/pattern/801.jpg', '/data/FIBSEM/nuclie_align_ROI3_1700/nuclie30/pattern/802.jpg', '/data/FIBSEM/nuclie_align_ROI3_1700/nuclie30/pattern/803.jpg', '/data/FIBSEM/nuclie_align_ROI3_1700/nuclie30/pattern/804.jpg', '/data/FIBSEM/nuclie_align_ROI3_1700/nuclie30/pattern/805.jpg', '/data/FIBSEM/nuclie_align_ROI3_1700/nuclie30/pattern/806.jpg', '/data/FIBSEM/nuclie_align_ROI3_1700/nuclie30/pattern/807.jpg', '/data/FIBSEM/nuclie_align_ROI3_1700/nuclie30/pattern/808.jpg', '/data/FIBSEM/nuclie_align_ROI3_1700/nuclie30/pattern/809.jpg', '/data/FIBSEM/nuclie_align_ROI3_1700/nuclie30/pattern/810.jpg', '/data/FIBSEM/nuclie_align_ROI3_1700/nuclie30/pattern/811.jpg', '/data/FIBSEM/nuclie_align_ROI3_1700/nuclie30/pattern/812.jpg', '/data/FIBSEM/nuclie_align_ROI3_1700/nuclie30/pattern/813.jpg', '/data/FIBSEM/nuclie_align_ROI3_1700/nuclie30/pattern/814.jpg', '/data/FIBSEM/nuclie_align_ROI3_1700/nuclie30/pattern/815.jpg', '/data/FIBSEM/nuclie_align_ROI3_1700/nuclie30/pattern/816.jpg', '/data/FIBSEM/nuclie_align_ROI3_1700/nuclie30/pattern/817.jpg', '/data/FIBSEM/nuclie_align_ROI3_1700/nuclie30/pattern/818.jpg', '/data/FIBSEM/nuclie_align_ROI3_1700/nuclie30/pattern/819.jpg', '/data/FIBSEM/nuclie_align_ROI3_1700/nuclie30/pattern/820.jpg', '/data/FIBSEM/nuclie_align_ROI3_1700/nuclie30/pattern/821.jpg', '/data/FIBSEM/nuclie_align_ROI3_1700/nuclie30/pattern/822.jpg', '/data/FIBSEM/nuclie_align_ROI3_1700/nuclie30/pattern/823.jpg', '/data/FIBSEM/nuclie_align_ROI3_1700/nuclie30/pattern/824.jpg', '/data/FIBSEM/nuclie_align_ROI3_1700/nuclie30/pattern/825.jpg', '/data/FIBSEM/nuclie_align_ROI3_1700/nuclie30/pattern/826.jpg', '/data/FIBSEM/nuclie_align_ROI3_1700/nuclie30/pattern/827.jpg', '/data/FIBSEM/nuclie_align_ROI3_1700/nuclie30/pattern/828.jpg', '/data/FIBSEM/nuclie_align_ROI3_1700/nuclie30/pattern/829.jpg', '/data/FIBSEM/nuclie_align_ROI3_1700/nuclie30/pattern/830.jpg', '/data/FIBSEM/nuclie_align_ROI3_1700/nuclie30/pattern/831.jpg', '/data/FIBSEM/nuclie_align_ROI3_1700/nuclie30/pattern/832.jpg', '/data/FIBSEM/nuclie_align_ROI3_1700/nuclie30/pattern/833.jpg', '/data/FIBSEM/nuclie_align_ROI3_1700/nuclie30/pattern/834.jpg', '/data/FIBSEM/nuclie_align_ROI3_1700/nuclie30/pattern/835.jpg', '/data/FIBSEM/nuclie_align_ROI3_1700/nuclie30/pattern/836.jpg', '/data/FIBSEM/nuclie_align_ROI3_1700/nuclie30/pattern/837.jpg', '/data/FIBSEM/nuclie_align_ROI3_1700/nuclie30/pattern/838.jpg', '/data/FIBSEM/nuclie_align_ROI3_1700/nuclie30/pattern/839.jpg', '/data/FIBSEM/nuclie_align_ROI3_1700/nuclie30/pattern/840.jpg', '/data/FIBSEM/nuclie_align_ROI3_1700/nuclie30/pattern/841.jpg', '/data/FIBSEM/nuclie_align_ROI3_1700/nuclie30/pattern/842.jpg', '/data/FIBSEM/nuclie_align_ROI3_1700/nuclie30/pattern/843.jpg', '/data/FIBSEM/nuclie_align_ROI3_1700/nuclie30/pattern/844.jpg', '/data/FIBSEM/nuclie_align_ROI3_1700/nuclie30/pattern/845.jpg', '/data/FIBSEM/nuclie_align_ROI3_1700/nuclie30/pattern/846.jpg', '/data/FIBSEM/nuclie_align_ROI3_1700/nuclie30/pattern/847.jpg', '/data/FIBSEM/nuclie_align_ROI3_1700/nuclie30/pattern/848.jpg', '/data/FIBSEM/nuclie_align_ROI3_1700/nuclie30/pattern/849.jpg', '/data/FIBSEM/nuclie_align_ROI3_1700/nuclie30/pattern/850.jpg', '/data/FIBSEM/nuclie_align_ROI3_1700/nuclie30/pattern/851.jpg', '/data/FIBSEM/nuclie_align_ROI3_1700/nuclie30/pattern/852.jpg', '/data/FIBSEM/nuclie_align_ROI3_1700/nuclie30/pattern/853.jpg', '/data/FIBSEM/nuclie_align_ROI3_1700/nuclie30/pattern/854.jpg', '/data/FIBSEM/nuclie_align_ROI3_1700/nuclie30/pattern/855.jpg', '/data/FIBSEM/nuclie_align_ROI3_1700/nuclie30/pattern/856.jpg', '/data/FIBSEM/nuclie_align_ROI3_1700/nuclie30/pattern/857.jpg', '/data/FIBSEM/nuclie_align_ROI3_1700/nuclie30/pattern/858.jpg', '/data/FIBSEM/nuclie_align_ROI3_1700/nuclie30/pattern/859.jpg', '/data/FIBSEM/nuclie_align_ROI3_1700/nuclie30/pattern/860.jpg', '/data/FIBSEM/nuclie_align_ROI3_1700/nuclie30/pattern/861.jpg', '/data/FIBSEM/nuclie_align_ROI3_1700/nuclie30/pattern/862.jpg', '/data/FIBSEM/nuclie_align_ROI3_1700/nuclie30/pattern/863.jpg', '/data/FIBSEM/nuclie_align_ROI3_1700/nuclie30/pattern/864.jpg', '/data/FIBSEM/nuclie_align_ROI3_1700/nuclie30/pattern/865.jpg', '/data/FIBSEM/nuclie_align_ROI3_1700/nuclie30/pattern/866.jpg', '/data/FIBSEM/nuclie_align_ROI3_1700/nuclie30/pattern/867.jpg', '/data/FIBSEM/nuclie_align_ROI3_1700/nuclie30/pattern/868.jpg', '/data/FIBSEM/nuclie_align_ROI3_1700/nuclie30/pattern/869.jpg', '/data/FIBSEM/nuclie_align_ROI3_1700/nuclie30/pattern/870.jpg', '/data/FIBSEM/nuclie_align_ROI3_1700/nuclie30/pattern/871.jpg', '/data/FIBSEM/nuclie_align_ROI3_1700/nuclie30/pattern/872.jpg', '/data/FIBSEM/nuclie_align_ROI3_1700/nuclie30/pattern/873.jpg', '/data/FIBSEM/nuclie_align_ROI3_1700/nuclie30/pattern/874.jpg', '/data/FIBSEM/nuclie_align_ROI3_1700/nuclie30/pattern/875.jpg', '/data/FIBSEM/nuclie_align_ROI3_1700/nuclie30/pattern/876.jpg', '/data/FIBSEM/nuclie_align_ROI3_1700/nuclie30/pattern/877.jpg', '/data/FIBSEM/nuclie_align_ROI3_1700/nuclie30/pattern/878.jpg', '/data/FIBSEM/nuclie_align_ROI3_1700/nuclie30/pattern/879.jpg', '/data/FIBSEM/nuclie_align_ROI3_1700/nuclie30/pattern/880.jpg', '/data/FIBSEM/nuclie_align_ROI3_1700/nuclie30/pattern/881.jpg', '/data/FIBSEM/nuclie_align_ROI3_1700/nuclie30/pattern/882.jpg', '/data/FIBSEM/nuclie_align_ROI3_1700/nuclie30/pattern/883.jpg', '/data/FIBSEM/nuclie_align_ROI3_1700/nuclie30/pattern/884.jpg', '/data/FIBSEM/nuclie_align_ROI3_1700/nuclie30/pattern/885.jpg', '/data/FIBSEM/nuclie_align_ROI3_1700/nuclie30/pattern/886.jpg', '/data/FIBSEM/nuclie_align_ROI3_1700/nuclie30/pattern/887.jpg', '/data/FIBSEM/nuclie_align_ROI3_1700/nuclie30/pattern/888.jpg', '/data/FIBSEM/nuclie_align_ROI3_1700/nuclie30/pattern/889.jpg', '/data/FIBSEM/nuclie_align_ROI3_1700/nuclie30/pattern/890.jpg', '/data/FIBSEM/nuclie_align_ROI3_1700/nuclie30/pattern/891.jpg', '/data/FIBSEM/nuclie_align_ROI3_1700/nuclie30/pattern/892.jpg']\n"
     ]
    }
   ],
   "source": [
    "#when you read from the folder, files are not loaded into the list in a sorted manner\n",
    "chromosome = sort_list(chromosome)\n",
    "membrane = sort_list(membrane)\n",
    "nucleous = sort_list(nucleous)\n",
    "pattern = sort_list(pattern)\n",
    "\n",
    "# print(len(chromosome))\n",
    "# print(len(membrane))\n",
    "# print(len(nucleous))\n",
    "# print(len(pattern))\n",
    "# print(chromosome)\n",
    "# print(membrane)\n",
    "# print(nucleous)\n",
    "# print(pattern)\n"
   ]
  },
  {
   "cell_type": "code",
   "execution_count": 11,
   "metadata": {
    "colab": {
     "base_uri": "https://localhost:8080/"
    },
    "executionInfo": {
     "elapsed": 2374,
     "status": "ok",
     "timestamp": 1697080595090,
     "user": {
      "displayName": "Vrinda Anil",
      "userId": "06562731342367344700"
     },
     "user_tz": 360
    },
    "id": "Y-YESo_JOLEz",
    "outputId": "c6cdedfa-c8b4-452f-cf06-f505758b68ad"
   },
   "outputs": [
    {
     "name": "stdout",
     "output_type": "stream",
     "text": [
      "Enter the total number of slices to avoid : 0\n",
      "Enter the slice numbers to be avoided: \n",
      "Slices to be avoided are []\n"
     ]
    }
   ],
   "source": [
    "#Some slices might not have any information (blank slice, false positives), this could affect the algorithm\n",
    "#Set slices that needs to be avoided\n",
    "\n",
    "# avoid = [43, 50] #roi1 nuc00 n=2\n",
    "# avoid = [512, 515, 517, 519, 521, 523, 524, 525, 526, 527, 528, 530] #roi3 nuc00 n=12\n",
    "avoid = []\n",
    "n = int(input(\"Enter the total number of slices to avoid : \"))\n",
    "print(\"Enter the slice numbers to be avoided: \")\n",
    "for m in range(0, n):\n",
    "    val = int(input())\n",
    "    avoid.append(val)\n",
    "print(\"Slices to be avoided are\", avoid)"
   ]
  },
  {
   "cell_type": "code",
   "execution_count": 12,
   "metadata": {
    "executionInfo": {
     "elapsed": 166,
     "status": "ok",
     "timestamp": 1697080599314,
     "user": {
      "displayName": "Vrinda Anil",
      "userId": "06562731342367344700"
     },
     "user_tz": 360
    },
    "id": "ZYYIPSqp-rDT"
   },
   "outputs": [],
   "source": [
    "score_vol={}\n",
    "score_vol_by_len={}\n",
    "\n",
    "run_track_chro_track_global = {}\n",
    "run_track_pattern_track_global = {}\n",
    "chro_map_global = {}\n",
    "combined_chro_map_global = {}\n",
    "combined_chro_track_global = {}\n",
    "label_list={}\n",
    "chro_area_global={}\n",
    "pattern_map_global={}\n",
    "\n",
    "threshold = 150  #x-y threshold (distance)\n",
    "z_threshold = 23 #x threshold (number of slices)\n",
    "# blob_threshold = 250\n",
    "\n",
    "global mid # the middle slice, either calculated or edited manually\n",
    "mid_flag = False\n",
    "\n",
    "final_track={}  # modify later for global tracking or call fn\n",
    "chro_centroid_global = {} # modify later for global tracking or call fn\n",
    "nucl_centroid_global = {} # modify later for global tracking or call fn\n",
    "\n",
    "\n",
    "Label_Img={}\n",
    "chro_track_global={}\n",
    "pattern_track_global={}\n",
    "pattern_img = {}\n",
    "pattern_avoid=set()\n",
    "max_id_c_per_slice=[]\n",
    "\n",
    "global max_id_c #maximum chromosome count identified\n",
    "max_id_c=-1\n",
    "\n",
    "global limit\n",
    "limit = 6"
   ]
  },
  {
   "cell_type": "code",
   "execution_count": 13,
   "metadata": {
    "executionInfo": {
     "elapsed": 393,
     "status": "ok",
     "timestamp": 1697080600342,
     "user": {
      "displayName": "Vrinda Anil",
      "userId": "06562731342367344700"
     },
     "user_tz": 360
    },
    "id": "3BN33F0b-0Md"
   },
   "outputs": [],
   "source": [
    "#morphologically remove small objects lesser than ob_size to clean false positives from the image\n",
    "def clean_small_obj(im, ob_size):\n",
    "\n",
    "  cleaned_im = np.copy(im)\n",
    "  cleaned_index = (cleaned_im!=0)\n",
    "\n",
    "  img = cleaned_index\n",
    "  img = morphology.remove_small_objects(img, ob_size, connectivity=1)\n",
    "  target_img = cleaned_im[:,:]\n",
    "\n",
    "  cleaned_im[:,:] = np.multiply(target_img, img)\n",
    "\n",
    "  return cleaned_im"
   ]
  },
  {
   "cell_type": "code",
   "execution_count": 14,
   "metadata": {
    "executionInfo": {
     "elapsed": 1,
     "status": "ok",
     "timestamp": 1697080600830,
     "user": {
      "displayName": "Vrinda Anil",
      "userId": "06562731342367344700"
     },
     "user_tz": 360
    },
    "id": "ANwC4cBT-1NE"
   },
   "outputs": [],
   "source": [
    "# pass points as tuples\n",
    "def cal(p1,p2):\n",
    "  return np.linalg.norm(np.array(p1) - np.array(p2)) # use same metric or try diff?"
   ]
  },
  {
   "cell_type": "code",
   "execution_count": 15,
   "metadata": {
    "executionInfo": {
     "elapsed": 2,
     "status": "ok",
     "timestamp": 1697080601579,
     "user": {
      "displayName": "Vrinda Anil",
      "userId": "06562731342367344700"
     },
     "user_tz": 360
    },
    "id": "Yi0n9tsX-9-r"
   },
   "outputs": [],
   "source": [
    "#cluster chromosomes in the first slice processed and assign labels based on distance threshold\n",
    "#id_c: chromosome_id, id_b:blob_id, id_s:slice_id\n",
    "#chro_map - dict, {blob_centroid (k) : [id_c,id_b,id_s] (v)}\n",
    "def assign_chro_id_first_slice(x, y, id_c, id_b, id_s, cnt, chro_map):\n",
    "  curr_tag, closest_dist = -1,float('inf')\n",
    "  if len(chro_map) ==0:\n",
    "    curr_tag = [id_c,id_b,id_s]\n",
    "    id_c+=1\n",
    "    chro_map[(x,y)] = curr_tag\n",
    "  else:\n",
    "    closest_pt = None\n",
    "    for pt,tag in chro_map.items():\n",
    "      dist = cal(pt,(x,y))\n",
    "      print((x,y), pt, dist)\n",
    "\n",
    "      if closest_dist > dist:\n",
    "        closest_dist,closest_pt = dist,pt\n",
    "\n",
    "    if closest_dist > threshold: \n",
    "      curr_tag= [id_c,id_b,id_s]\n",
    "      print(\"new - greater threshold\", x,y, id_c)\n",
    "      id_c+=1\n",
    "      chro_map[(x,y)] = curr_tag\n",
    "    else:\n",
    "      chro_map[(x,y)] = [chro_map[closest_pt][0], id_b, id_s]\n",
    "      print(\"less than threshold (chro_map[closest_pt][0])\", x,y, closest_pt, chro_map[closest_pt][0], closest_dist)\n",
    "      # curr_tag = chro_map[closest_pt]\n",
    "      # x,y=closest_pt\n",
    "    # id_b+=1\n",
    "    # print(\" cnt : {}, chromosome id : {}, blob id : {}, centroid : {}, length : {}\".format(cnt, chro_map[(x,y)][0], chro_map[(x,y)][1], (x,y), sel_cntr_len[i]))\n",
    "    # print(\" closest pt : {}, closest dist: {}\".format(closest_pt, closest_dist))\n",
    "    # print(\" \")\n",
    "  print(chro_map)\n",
    "  id_b+=1\n",
    "  return id_c, id_b, id_s, chro_map"
   ]
  },
  {
   "cell_type": "code",
   "execution_count": 16,
   "metadata": {
    "executionInfo": {
     "elapsed": 2,
     "status": "ok",
     "timestamp": 1697080601962,
     "user": {
      "displayName": "Vrinda Anil",
      "userId": "06562731342367344700"
     },
     "user_tz": 360
    },
    "id": "q4MgkcviqBct"
   },
   "outputs": [],
   "source": [
    "def find_closest_centroid(a, b, previous_id_s):\n",
    "  rank_prev = {}\n",
    "  prev_chro_centroid = chro_centroid_global[previous_id_s]\n",
    "\n",
    "  curr_tag, closest_dist = -1,float('inf')\n",
    "  closest_pt = None\n",
    "\n",
    "  for id_c_prev, centroid_prev in prev_chro_centroid.items():\n",
    "    if centroid_prev == 0:\n",
    "      continue\n",
    "    x2,y2 = centroid_prev[0], centroid_prev[1]\n",
    "    dist = cal((a,b), (x2,y2))\n",
    "    # print(\"older_slice \",previous_id_s )\n",
    "    # print((a,b), (x2,y2), dist)\n",
    "    rank_prev[dist] = [id_c_prev, (x2,y2), previous_id_s]\n",
    "    # print(\"rank_prev\", rank_prev)\n",
    "\n",
    "    # if closest_dist > dist:\n",
    "    #   closest_dist, closest_pt, closest_id = dist, centroid_prev, id_prev\n",
    "  if(len(rank_prev)>1):\n",
    "    closest_dist, closest_pt, closest_id, closest_slice_no = find_closest_blob(rank_prev, a, b)\n",
    "  else:\n",
    "    first_element = list(rank_prev.keys())[0]\n",
    "    closest_dist, closest_pt, closest_id, closest_slice_no = first_element, rank_prev[first_element][1], rank_prev[first_element][0], rank_prev[first_element][2]\n",
    "\n",
    "  return closest_dist, closest_pt, closest_id, closest_slice_no\n",
    "\n"
   ]
  },
  {
   "cell_type": "code",
   "execution_count": 17,
   "metadata": {
    "executionInfo": {
     "elapsed": 1,
     "status": "ok",
     "timestamp": 1697080601962,
     "user": {
      "displayName": "Vrinda Anil",
      "userId": "06562731342367344700"
     },
     "user_tz": 360
    },
    "id": "ZvHk8JUL9BSL"
   },
   "outputs": [],
   "source": [
    "def find_closest_blob(rank, m, n):\n",
    "\n",
    "  closest_chromosomes = []\n",
    "\n",
    "  R=rank\n",
    "  rank = {k : R[k] for k in sorted(R)}\n",
    "  print(\"rank sorted\", rank)\n",
    "\n",
    "  keys = list(rank.keys())\n",
    "\n",
    "  # for key in rank.keys():\n",
    "  #   if key < blob_threshold:\n",
    "  #     closest_chromosomes.append(rank[key][0])\n",
    "  #   slice_no = rank[0][2]\n",
    "  closest_chromosomes.append(rank[keys[0]][0])\n",
    "  closest_chromosomes.append(rank[keys[1]][0])\n",
    "  if(len(keys)>2):\n",
    "    closest_chromosomes.append(rank[keys[2]][0])\n",
    "  slice_no = rank[keys[0]][2]\n",
    "\n",
    "  curr_tag, closest_blob_dist = -1,float('inf')\n",
    "  closest_blob, closest_chromosome_id = None, None\n",
    "\n",
    "  for candidate in closest_chromosomes:\n",
    "    blob_list = chro_track_global[slice_no][candidate]\n",
    "    print(\"chromosome\", candidate, blob_list)\n",
    "    blob_rank={}\n",
    "    for blob in blob_list:\n",
    "      blob_dist = cal((m,n), blob)\n",
    "      blob_rank[blob] = blob_dist\n",
    "      if closest_blob_dist > blob_dist:\n",
    "        closest_blob_dist, closest_blob, closest_chromosome_id, closest_slice_no = blob_dist, blob, candidate, slice_no\n",
    "    print(\"blob_rank\", blob_rank)\n",
    "  return closest_blob_dist, closest_blob, closest_chromosome_id, closest_slice_no\n"
   ]
  },
  {
   "cell_type": "code",
   "execution_count": 18,
   "metadata": {
    "executionInfo": {
     "elapsed": 2,
     "status": "ok",
     "timestamp": 1697080602835,
     "user": {
      "displayName": "Vrinda Anil",
      "userId": "06562731342367344700"
     },
     "user_tz": 360
    },
    "id": "x6CuqxSuuvlR"
   },
   "outputs": [],
   "source": [
    "#cluster chromosomes in the current slice and assign label of the closest blob in the previous slice\n",
    "def assign_chro_id_rest_slice(x, y, id_b, id_s, cnt, chro_map, direction_flag, n_list, run, start):\n",
    "  #a dict that store the distance as key and chromosome info as value, for the previous slice\n",
    "  rank_immediate={}\n",
    "  # thresh_local = threshold\n",
    "  thresh_local = threshold - (0.12 * threshold) #reduce threshold to narrow search area as we go backwards\n",
    "\n",
    "  if direction_flag == False:\n",
    "    tmp = id_s+1\n",
    "    while tmp in avoid:\n",
    "      tmp = tmp+1\n",
    "  else:\n",
    "    tmp = id_s-1\n",
    "    while tmp in avoid:\n",
    "      tmp = tmp-1\n",
    "\n",
    "  prev_id_s = tmp\n",
    "  prev_chro_centroid = chro_centroid_global[prev_id_s]\n",
    "  flag = False\n",
    "\n",
    "  curr_tag, closest_dist = -1,float('inf')\n",
    "  closest_pt = None\n",
    "\n",
    "  for id_c_prev, centroid_prev in prev_chro_centroid.items():\n",
    "    if centroid_prev == 0:\n",
    "      continue\n",
    "    x2,y2 = centroid_prev[0], centroid_prev[1]\n",
    "    dist = cal((x,y), (x2,y2))\n",
    "    # print((x,y), (x2,y2), dist)\n",
    "    rank_immediate[dist]=[id_c_prev, (x2,y2), prev_id_s]\n",
    "    # if closest_dist > dist:\n",
    "    #   closest_dist, closest_pt, closest_id = dist, centroid_prev, id_prev\n",
    "\n",
    "  print(\"id_b\", id_b, (x,y))\n",
    "  print(\"rank_immediate\", rank_immediate)\n",
    "\n",
    "  if(len(rank_immediate)>1):\n",
    "    closest_dist, closest_pt, closest_id, closest_slice_no = find_closest_blob(rank_immediate, x, y)\n",
    "  else:\n",
    "    first_element = list(rank_immediate.keys())[0]\n",
    "    closest_dist, closest_pt, closest_id, closest_slice_no = first_element, rank_immediate[first_element][1], rank_immediate[first_element][0], rank_immediate[first_element][2]\n",
    "\n",
    "  closest_dist_immediate_prev_slice, closest_pt_immediate_prev_slice, closest_id_immediate_prev_slice = closest_dist, closest_pt, closest_id\n",
    "\n",
    "  if closest_dist <= threshold: \n",
    "    chro_map[(x,y)] = [closest_id, id_b, id_s]\n",
    "    print(\"***********\")\n",
    "    print(\"Hit in the immediate prev slice (less than threshold)\", (x,y), closest_pt, closest_id, closest_dist, closest_slice_no)\n",
    "    print(\"***********\")\n",
    "    print(\" \")\n",
    "  else:\n",
    "    #n_list is a list that stores the extra chromosomes that we found apart from the ones found in the first slice, as we continue the run through slices\n",
    "    if len(n_list) != 0:\n",
    "      for id_n_list, centroid_n_list in n_list.items():\n",
    "        x3,y3 = centroid_n_list[0], centroid_n_list[1]\n",
    "        dist = cal((x,y), (x3,y3))\n",
    "        # print((x,y), (x3,y3), dist)\n",
    "\n",
    "        if closest_dist > dist:\n",
    "          closest_dist, closest_pt_n, id_n = dist, centroid_n_list, id_n_list\n",
    "          flag = True\n",
    "    if(flag == True):\n",
    "      if closest_dist<= threshold: #210\n",
    "        chro_map[(x,y)] = [id_n, id_b, id_s]\n",
    "        print(\"matched from n_list\", x,y, closest_pt_n, id_n, closest_dist)\n",
    "        return id_b, id_s, chro_map, n_list\n",
    "    closest = closest_dist\n",
    "\n",
    "    if(run == 0):\n",
    "      stop = mid\n",
    "    else:\n",
    "      stop = start\n",
    "\n",
    "    print(\"stop - \", stop)\n",
    "\n",
    "    if direction_flag == False:\n",
    "        end_at = stop+1\n",
    "    else:\n",
    "        end_at = stop-1\n",
    "\n",
    "    count = 1\n",
    "    start_count = 1\n",
    "    while(closest > thresh_local): \n",
    "      print(\"thresh_local = {} at  count = {} and prev_id_s = {}\".format(thresh_local, count, prev_id_s ))\n",
    "      # thresh_local = thresh_local - (0.05 * thresh_local)\n",
    "\n",
    "      # if count == 1:\n",
    "      #   thresh_local = thresh_local - (0.12 * thresh_local)\n",
    "      # if (count - start_count) == 10:\n",
    "      #   thresh_local = thresh_local - (0.12 * thresh_local)\n",
    "      #   start_count = count\n",
    "\n",
    "\n",
    "\n",
    "      if direction_flag == False:\n",
    "        tmpp = prev_id_s+1\n",
    "        while tmpp in avoid:\n",
    "          count+=1\n",
    "          tmpp = tmpp+1\n",
    "\n",
    "      else:\n",
    "        tmpp=prev_id_s-1\n",
    "        while tmpp in avoid:\n",
    "          tmpp = tmpp-1\n",
    "          count+=1\n",
    "      prev_id_s = tmpp\n",
    "      count+=1\n",
    "\n",
    "      if (count - start_count) >= 10:\n",
    "        thresh_local = thresh_local - (0.12 * thresh_local)\n",
    "        start_count = start_count+10\n",
    "\n",
    "\n",
    "      # if(prev_id_s == end_at): #############################\n",
    "      if(count > z_threshold):\n",
    "        print(\"Cant find a closest chromosome, mapping to new chromosome\")\n",
    "        global max_id_c\n",
    "        id = max_id_c + 1\n",
    "        max_id_c+= 1\n",
    "        print(\"new -1\", x,y, id)\n",
    "        print(\"latest\", closest)\n",
    "        n_list[id]=[x,y]\n",
    "        print(n_list)\n",
    "        break\n",
    "      else:\n",
    "        if (prev_id_s == end_at):\n",
    "          print(\"reached mid before count, mapping to nearest in immediate prev slice\")\n",
    "          print(closest_dist_immediate_prev_slice, closest_pt_immediate_prev_slice, closest_id_immediate_prev_slice)\n",
    "          id = closest_id_immediate_prev_slice\n",
    "          break\n",
    "        else:\n",
    "          closest, pt, id, slice_no = find_closest_centroid(x, y, prev_id_s)\n",
    "          # count+=1\n",
    "          print(count)\n",
    "          print(\"point: {} prev_id_s : {} current_id_s: {} closest_id: {} closest point : {} closest_dist: {}\".format((x,y),prev_id_s,id_s,id,pt,closest))\n",
    "    # print(\"Found closest in a much prev slice\")\n",
    "    # print(\"point: {} prev_id_s : {} current_id_s: {} closest_id: {} closest point : {} closest_dist: {} slice no of closest : {}\".format((x,y),prev_id_s,id_s,id,pt,closest,slice_no))\n",
    "    chro_map[(x,y)] = [id, id_b, id_s]\n",
    "\n",
    "\n",
    "  id_b+=1\n",
    "\n",
    "  return id_b, id_s, chro_map, n_list\n"
   ]
  },
  {
   "cell_type": "code",
   "execution_count": 19,
   "metadata": {
    "executionInfo": {
     "elapsed": 1,
     "status": "ok",
     "timestamp": 1697080602835,
     "user": {
      "displayName": "Vrinda Anil",
      "userId": "06562731342367344700"
     },
     "user_tz": 360
    },
    "id": "YpW8eWcUW1Ui"
   },
   "outputs": [],
   "source": [
    "#chro_map[(x,y)] = [id_c,id_b,id_s]\n",
    "#chro_track[id_c] = [(x1,y1),(x2,y2),...] #List of all chromosome blobs labelled as id_c\n",
    "def get_chromosome_tracking(chro_map):\n",
    "    chro_track={}\n",
    "\n",
    "    for pt, tag in chro_map.items():\n",
    "        if chro_map[pt][0] not in chro_track.keys():\n",
    "          chro_track[chro_map[pt][0]] = [pt]\n",
    "        else:\n",
    "          chro_track[chro_map[pt][0]].append(pt)\n",
    "    return chro_track\n",
    "\n",
    "#finding the chromosome centroid as mean of all blob centroids\n",
    "def find_chro_centroid(chro_track):\n",
    "    c_centroid = {}\n",
    "\n",
    "    for id,pts in chro_track.items():\n",
    "\n",
    "      new_data = pandas.DataFrame(pts)\n",
    "      c_centroid[id] = list(map(int,new_data.mean(axis=0)))\n",
    "\n",
    "    # print(\"len(c_centroid)\")\n",
    "    # print(len(c_centroid))\n",
    "\n",
    "    return c_centroid"
   ]
  },
  {
   "cell_type": "code",
   "execution_count": 20,
   "metadata": {
    "executionInfo": {
     "elapsed": 1,
     "status": "ok",
     "timestamp": 1697080603169,
     "user": {
      "displayName": "Vrinda Anil",
      "userId": "06562731342367344700"
     },
     "user_tz": 360
    },
    "id": "5kp1CpJuZmg8"
   },
   "outputs": [],
   "source": [
    "#find nearest membrance point for a particular chromosome centroid\n",
    "def find_nearest_ngbr(centroid_c, centroid_m, id_s):\n",
    "  X=centroid_m\n",
    "  # print(X)\n",
    "  Y_ds={}\n",
    "  Y_inds={}\n",
    "  ctree = cKDTree(X)\n",
    "\n",
    "  for k in centroid_c.keys():\n",
    "    if(centroid_c[k]==0):\n",
    "      continue\n",
    "    x= centroid_c[k]\n",
    "    # print(x)\n",
    "    num_nbrs = num_nbrs = min(50, len(X)) #num_nbrs =50 #when applying org[org<40] = 0 , num_nbrs = min(50, len(X))\n",
    "    ds, inds =  ctree.query(x, num_nbrs) # finds 30 nearest neighbors,  the hits are sorted by distance (nearest first).\n",
    "    Y_ds[k]=ds\n",
    "    Y_inds[k]=inds\n",
    "  print(\"len(Y_inds)\")\n",
    "  print(len(Y_inds))\n",
    "  # print(Y_ds)\n",
    "  # print(Y_inds)\n",
    "  # print(Y_ds[0])\n",
    "  # print(Y_inds[0])\n",
    "  # print(Y_ds[0][0])\n",
    "  # print(Y_inds[0][0])\n",
    "  print(\" xxxxxxxxxxxxxxxxxxxxxxxx\")\n",
    "\n",
    "  #shortest distances in the slice for each chro\n",
    "\n",
    "  dist={}\n",
    "  closest_dist={}\n",
    "  index={}\n",
    "  closest_index={}\n",
    "\n",
    "  global limit\n",
    "  limit = max(limit, max_id_c+1)\n",
    "  for i in range(limit):\n",
    "    if i in Y_ds.keys():\n",
    "        avg_of_50_nbrs = np.mean(np.array(Y_ds[i][0:50]))\n",
    "        dist[i] = avg_of_50_nbrs\n",
    "        index[i]=[X[Y_inds[i][0]]]\n",
    "        for k in range(1,num_nbrs):\n",
    "          index[i].append(X[Y_inds[i][k]])\n",
    "          closest_dist[i]=Y_ds[i][0]\n",
    "          closest_index[i]=X[Y_inds[i][0]]\n",
    "    else:\n",
    "      dist[i]=0\n",
    "      index[i]=[0]\n",
    "  # print(\"dist\", dist)\n",
    "  # print(\"index\", index)\n",
    "  print(\"closest_dist\", closest_dist)\n",
    "  print(\"closest_pt\", closest_index)\n",
    "  final_track[id_s] = dist\n",
    "  # print(\"final_track\", final_track)\n",
    "  return dist, index, closest_dist, closest_index\n"
   ]
  },
  {
   "cell_type": "code",
   "execution_count": 21,
   "metadata": {
    "executionInfo": {
     "elapsed": 553,
     "status": "ok",
     "timestamp": 1697080604021,
     "user": {
      "displayName": "Vrinda Anil",
      "userId": "06562731342367344700"
     },
     "user_tz": 360
    },
    "id": "6_VzDveRNgii"
   },
   "outputs": [],
   "source": [
    "#for patterns / SC\n",
    "def join_neighbors(img, itr):\n",
    "\n",
    "    kernelSize = (3,3)\n",
    "    kernel = cv2.getStructuringElement(cv2.MORPH_ELLIPSE, kernelSize)\n",
    "    dilated_img = cv2.dilate(img,kernel,iterations = itr)\n",
    "\n",
    "    eroded_img = cv2.erode(dilated_img,kernel,iterations = itr)\n",
    "\n",
    "    return eroded_img"
   ]
  },
  {
   "cell_type": "code",
   "execution_count": 22,
   "metadata": {
    "executionInfo": {
     "elapsed": 2,
     "status": "ok",
     "timestamp": 1697080604021,
     "user": {
      "displayName": "Vrinda Anil",
      "userId": "06562731342367344700"
     },
     "user_tz": 360
    },
    "id": "OpB2x8Hw_kdI"
   },
   "outputs": [],
   "source": [
    "def find_contours(im):\n",
    "\n",
    "  contours, hierarchy = cv2.findContours(image=im, mode=cv2.RETR_TREE, method=cv2.CHAIN_APPROX_NONE)\n",
    "  mask = np.zeros(im.shape, np.uint8)\n",
    "  # contours =list(contours)\n",
    "  # cv2.drawContours(mask,contours,-1,(255,255,255))\n",
    "  return contours, hierarchy, mask"
   ]
  },
  {
   "cell_type": "code",
   "execution_count": 23,
   "metadata": {
    "executionInfo": {
     "elapsed": 1,
     "status": "ok",
     "timestamp": 1697080604021,
     "user": {
      "displayName": "Vrinda Anil",
      "userId": "06562731342367344700"
     },
     "user_tz": 360
    },
    "id": "_-EKxJ-jYkaA"
   },
   "outputs": [],
   "source": [
    "def load_image_and_find_contour(image_id, image_list, clean_flag, obj_size):\n",
    "  org = Image.open(image_list[image_id])\n",
    "  org.load()\n",
    "  org = np.array(org)\n",
    "\n",
    "  if(clean_flag == True):\n",
    "    org = clean_small_obj(org,obj_size)\n",
    "\n",
    "  org[org<40]=0 #images are jpeg, avoiding the slightly gradient pixels outside the main boundary of the blobs\n",
    "\n",
    "  contours_org, hierarchy_org, mask_org = find_contours(org)\n",
    "\n",
    "  # mask_c3 = np.stack((mask_c,mask_c,mask_c), axis=2)\n",
    "  # mask_m3 = np.stack((mask_m,mask_m,mask_m), axis=2)\n",
    "  # mask_added = cv2.addWeighted(mask_c3, 1, mask_m3, 0.7, 0)\n",
    "  # mask_added = cv2.addWeighted(mask_c, 1, mask_m, 0.7, 0)\n",
    "\n",
    "  return contours_org, hierarchy_org, mask_org"
   ]
  },
  {
   "cell_type": "code",
   "execution_count": 24,
   "metadata": {
    "executionInfo": {
     "elapsed": 1,
     "status": "ok",
     "timestamp": 1697080604021,
     "user": {
      "displayName": "Vrinda Anil",
      "userId": "06562731342367344700"
     },
     "user_tz": 360
    },
    "id": "Ju16oG58kb9I"
   },
   "outputs": [],
   "source": [
    "def cluster_chromosome(contours_c, hierarchy_c, mask_both, mid_flag, id_c, id_b, id_s, chro_map_local, direction_flag, run, start):\n",
    "  new_list={}\n",
    "  mask_label= np.zeros(mask_both.shape, np.uint8)\n",
    "  for i in range(len(contours_c)):\n",
    "    if cv2.arcLength(contours_c[i],True) > 25 and hierarchy_c[0][i][3]==-1:\n",
    "      # ccontr.append(contours_c[i])\n",
    "      # sel_cntr_len[i]=cv2.arcLength(contours_c[i],True)\n",
    "      M = cv2.moments(contours_c[i])\n",
    "      if(M[\"m00\"])==0:  #avoid division by zero\n",
    "        continue\n",
    "      cX,cY = int(M[\"m10\"] / M[\"m00\"]),int(M[\"m01\"] / M[\"m00\"])\n",
    "      # centroids_chro_blobs.append([id_b,cX,cY])\n",
    "      if(mid_flag==True):  #if mid_flag==True first slice is not processed yet\n",
    "        id_c, id_b, id_s, chro_map_local = assign_chro_id_first_slice(cX, cY, id_c, id_b, id_s, i, chro_map_local)\n",
    "      else:\n",
    "        id_b, id_s, chro_map_local, new_list= assign_chro_id_rest_slice(cX, cY, id_b, id_s, i, chro_map_local, direction_flag, new_list, run, start)\n",
    "\n",
    "      points=[]\n",
    "      for l in range(len(contours_c[i])):\n",
    "        points.append(contours_c[i][l][0])\n",
    "      points = np.array(points)\n",
    "      # cv2.drawContours(mask_label,[points],-1,label[chro_map_local[(cX,cY)][0]], thickness = cv2.FILLED)\n",
    "      #draw filled contour with label assigned to the blob on a mask for the slice\n",
    "      cv2.drawContours(mask_label,[points],-1,((chro_map_local[(cX,cY)][0])+1), thickness = cv2.FILLED)\n",
    "\n",
    "      #to calculate total area of chromosomes\n",
    "      area = cv2.contourArea(contours_c[i])\n",
    "      chro_map_local[(cX,cY)].append(area)\n",
    "\n",
    "  Label_Img[id_s]=mask_label #stores the labelled (filled contours with chromosome label) masks for each slice\n",
    "  # Chro_Im_track.append([mask_both, id_s])\n",
    "\n",
    "  if(mid_flag==True):\n",
    "       return id_c, id_b, id_s, chro_map_local\n",
    "  else:\n",
    "      return id_b, id_s, chro_map_local"
   ]
  },
  {
   "cell_type": "code",
   "execution_count": 25,
   "metadata": {
    "executionInfo": {
     "elapsed": 2,
     "status": "ok",
     "timestamp": 1697080604327,
     "user": {
      "displayName": "Vrinda Anil",
      "userId": "06562731342367344700"
     },
     "user_tz": 360
    },
    "id": "pYiKHWytp3yA"
   },
   "outputs": [],
   "source": [
    "#find center of nucleous in each slice from original image\n",
    "def get_nucl_centroids(contours_n):\n",
    "  for i in range(len(contours_n)):\n",
    "    if cv2.arcLength(contours_n[i],True) > 4000 :\n",
    "      M = cv2.moments(contours_n[i])\n",
    "      if M['m00']!=0.0:\n",
    "        cX,cY = int(M[\"m10\"] / M[\"m00\"]),int(M[\"m01\"] / M[\"m00\"])\n",
    "\n",
    "  return (cX,cY)\n"
   ]
  },
  {
   "cell_type": "code",
   "execution_count": 26,
   "metadata": {
    "executionInfo": {
     "elapsed": 3,
     "status": "ok",
     "timestamp": 1697080604493,
     "user": {
      "displayName": "Vrinda Anil",
      "userId": "06562731342367344700"
     },
     "user_tz": 360
    },
    "id": "yOdnXLoNo8gN"
   },
   "outputs": [],
   "source": [
    "def find_chromosome(start, end, mid_flag, direction_flag, run): #direction_flag = True --> fwd (mid-end), = False -->bckwd (mid-beg)\n",
    "    # if (mid_flag != True):\n",
    "    #   if(direction_flag == False):\n",
    "    #     start = start-1\n",
    "    j = start\n",
    "    id_s = start\n",
    "    while(j != end):\n",
    "\n",
    "      print(j)\n",
    "      print(chromosome[j])\n",
    "      print(membrane[j])\n",
    "\n",
    "      contours_c, hierarchy_c, mask_c = load_image_and_find_contour(j, chromosome, True, 800)\n",
    "      contours_m, hierarchy_m, mask_m = load_image_and_find_contour(j, membrane, False, 0)\n",
    "      contours_n, hierarchy_n, mask_n = load_image_and_find_contour(j, nucleous, False, 0)\n",
    "      mask_both = cv2.addWeighted(mask_c, 1, mask_m, 0.7, 0)\n",
    "\n",
    "      n = ntpath.basename(chromosome[j]).split('.')[0]\n",
    "      n=int(n)\n",
    "      if n in avoid:\n",
    "        print(n)\n",
    "        final_track[j]='inf'\n",
    "        # Img_col_centroids[id_s]=mask_both\n",
    "        # Img_col[id_s]=mask_both\n",
    "        # Label_Img_centroid[id_s]=mask_both\n",
    "        Label_Img[id_s]=mask_both\n",
    "        # Chro_Im_track.append([mask_both, id_s])\n",
    "        chro_centroid_global[id_s] = 'inf'\n",
    "        nucl_centroid_global[id_s] = 'inf'\n",
    "        chro_track_global[id_s] = 'inf'\n",
    "        chro_map_global[id_s] ='inf'\n",
    "        chro_area_global[id_s] ='inf'\n",
    "        max_id_c_per_slice.append([id_s, 'inf'])\n",
    "        if(direction_flag == True):\n",
    "          id_s+=1\n",
    "          j+=1\n",
    "        else:\n",
    "          id_s-=1\n",
    "          j-=1\n",
    "        continue\n",
    "\n",
    "      id_c=0\n",
    "      id_b=0\n",
    "\n",
    "      # nucl_centroid_global[id_s] = get_nucl_centroids(contours_n)\n",
    "      # print(\"nucl_centroid_global :\", nucl_centroid_global)\n",
    "\n",
    "      chro_map_local={}\n",
    "      chro_track_local={}\n",
    "      chro_centroid_local={}\n",
    "\n",
    "      # centroids_chro_blobs=[] #add slice wise as well later\n",
    "      # ccontr=[]\n",
    "      # sel_cntr_len={}\n",
    "\n",
    "      if(mid_flag==True):\n",
    "        id_c, id_b, id_s, chro_map_local = cluster_chromosome(contours_c, hierarchy_c, mask_both, mid_flag, id_c, id_b, id_s, chro_map_local, direction_flag, run, start)\n",
    "        mid_flag = False\n",
    "      else:\n",
    "        id_b, id_s, chro_map_local = cluster_chromosome(contours_c, hierarchy_c, mask_both, mid_flag, id_c, id_b, id_s, chro_map_local, direction_flag, run, start)\n",
    "\n",
    "      print(\"heyyyyyyyyyyy\")\n",
    "      print(\"chro_map_local : \",chro_map_local)\n",
    "\n",
    "      #for global tracking of chromosomes over entire stack\n",
    "      for point,tag in chro_map_local.items():\n",
    "        temp = {point: tag[0]}\n",
    "        temp_area = {point: tag[3]}\n",
    "        if j in chro_map_global:\n",
    "          chro_map_global[j][point]=tag[0]\n",
    "        else:\n",
    "          chro_map_global[j] = temp\n",
    "\n",
    "        if tag[0] not in label_list:\n",
    "          label_list[tag[0]] = None\n",
    "\n",
    "        if j in chro_area_global:\n",
    "          chro_area_global[j][point]=tag[3]\n",
    "        else:\n",
    "          chro_area_global[j] = temp_area\n",
    "\n",
    "      chro_track_local = get_chromosome_tracking(chro_map_local)\n",
    "      print(\"chro_track_local :\", chro_track_local)\n",
    "\n",
    "      chro_track_global[id_s] = chro_track_local\n",
    "      # print(\"chro_track_global: \", chro_track_global)\n",
    "\n",
    "      global max_id_c\n",
    "      max_id_c = max(max_id_c, id_c-1)\n",
    "      print(\"max_id_c_till_now: \", max_id_c)\n",
    "\n",
    "      max_id_c_per_slice.append([id_s, len(chro_track_local)])\n",
    "      print(\"max_chrmosome_per_slice: \", max_id_c_per_slice)\n",
    "\n",
    "      if len(chro_track_local)==0:\n",
    "        avoid.append(id_s)\n",
    "        print(avoid)\n",
    "\n",
    "      chro_centroid_local = find_chro_centroid(chro_track_local)\n",
    "      print(\"chro_centroid_local_before: \",chro_centroid_local)\n",
    "\n",
    "      chro_centroid_global[id_s] = chro_centroid_local\n",
    "      # print(\"chro_centroid_global: \", chro_centroid_global)\n",
    "\n",
    "      # Img_col[id_s] = mask_both\n",
    "\n",
    "      centroids_mem=[]\n",
    "      mcontr=[]\n",
    "      sel_mcntr_len={}\n",
    "      for i in range(len(contours_m)):\n",
    "        if cv2.arcLength(contours_m[i],True) > 0 :\n",
    "          M = cv2.moments(contours_m[i])\n",
    "          if M['m00']!=0.0:\n",
    "            mcontr.append(contours_m[i])\n",
    "            sel_mcntr_len[i]=cv2.arcLength(contours_m[i],True)\n",
    "            cX,cY = int(M[\"m10\"] / M[\"m00\"]),int(M[\"m01\"] / M[\"m00\"])\n",
    "            centroids_mem.append([cX,cY])\n",
    "\n",
    "      list_dis, list_index, nearest_dist, nearest_pt = find_nearest_ngbr(chro_centroid_global[id_s], centroids_mem, id_s)\n",
    "\n",
    "      mask_both_temp = np.copy(mask_both)\n",
    "      # generate_mapped_images(chro_centroid_global[id_s], list_index, mask_both_temp, id_s)\n",
    "\n",
    "      order_id.append(id_s)\n",
    "\n",
    "      # if(id_s==100):\n",
    "      #   break\n",
    "      if(direction_flag == True):\n",
    "        id_s+=1\n",
    "        j+=1\n",
    "      else:\n",
    "        id_s-=1\n",
    "        j-=1\n",
    "\n",
    "      print(\"___________________________________________________________\")"
   ]
  },
  {
   "cell_type": "code",
   "execution_count": 27,
   "metadata": {
    "executionInfo": {
     "elapsed": 3,
     "status": "ok",
     "timestamp": 1697080604493,
     "user": {
      "displayName": "Vrinda Anil",
      "userId": "06562731342367344700"
     },
     "user_tz": 360
    },
    "id": "f-MnXOeGcBaV"
   },
   "outputs": [],
   "source": [
    "def sort_dictionary(unsorted_dictionary):\n",
    "  Y=unsorted_dictionary\n",
    "  sorted_dictionary = {k : Y[k] for k in sorted(Y)}\n",
    "  print(sorted_dictionary.keys())\n",
    "  return sorted_dictionary"
   ]
  },
  {
   "cell_type": "code",
   "execution_count": 28,
   "metadata": {
    "executionInfo": {
     "elapsed": 5,
     "status": "ok",
     "timestamp": 1697080605382,
     "user": {
      "displayName": "Vrinda Anil",
      "userId": "06562731342367344700"
     },
     "user_tz": 360
    },
    "id": "S1zhuGFdWTlw"
   },
   "outputs": [],
   "source": [
    "# def save_label_stack(Label_Img, run, save_patterns_flag):\n",
    "#   # path = \"/content/gdrive/MyDrive/roi_1_nucl_00/test_code/res/15_dec/full\"\n",
    "#   # path = \"/content/gdrive/MyDrive/roi3_nuc00/test/res/23_jan/full\"\n",
    "#   # path = \"/content/gdrive/MyDrive/roi_1_nucl_00/test_code/res/18_feb_th_150_z_23_trial_top_bott/full_\"\n",
    "# #   path = \"/data/FIBSEM/vrinda/ROI_1/test_code/res/Apr_6/test/\"\n",
    "#   path = \"/data/FIBSEM/vrinda/ROI_2/test_code/res/nuc00/Apr_6/test/\"\n",
    "#   # for i in Img_col_centroids.keys():\n",
    "#   if save_patterns_flag == True:\n",
    "#     folder_name = \"patterns\"\n",
    "#   else:\n",
    "#     folder_name = \"chromosome\"\n",
    "#   run_tag = \"run_\"+str(run)+\"/\"+folder_name+\"_all_labels_\"+\"run_\"+str(run)\n",
    "#   path = path + run_tag\n",
    "#   for i in Label_Img.keys():\n",
    "#     tag=i\n",
    "#     if not os.path.exists(path):\n",
    "#       from pathlib import Path\n",
    "#       Path(path).mkdir(parents=True, exist_ok=True)\n",
    "#     # cv2.imwrite(path+\"/\"+ f\"{tag:03d}\"+\".jpg\", (Img_col_centroids[i]))\n",
    "#     cv2.imwrite(path+\"/\"+ f\"{tag:03d}\"+\".jpg\", (Label_Img[i]))\n",
    "\n",
    "#      mask_old_path = \"/data/FIBSEM/vrinda/ROI_1/test_code/hand_segment/output/nuc_00/try2/19/\"+'mask_less_than_40.tiff'"
   ]
  },
  {
   "cell_type": "code",
   "execution_count": 29,
   "metadata": {
    "executionInfo": {
     "elapsed": 244,
     "status": "ok",
     "timestamp": 1697080606314,
     "user": {
      "displayName": "Vrinda Anil",
      "userId": "06562731342367344700"
     },
     "user_tz": 360
    },
    "id": "za32WqHcNgii"
   },
   "outputs": [],
   "source": [
    "#save masks with all labels to the system for each slice for entire stack\n",
    "def save_label_stack(Label_Img, run, save_patterns_flag):\n",
    "    # path = \"/content/gdrive/MyDrive/roi_1_nucl_00/test_code/res/15_dec/full\"\n",
    "    # path = \"/content/gdrive/MyDrive/roi3_nuc00/test/res/23_jan/full\"\n",
    "    # path = \"/content/gdrive/MyDrive/roi_1_nucl_00/test_code/res/18_feb_th_150_z_23_trial_top_bott/full_\"\n",
    "#     path = \"/data/FIBSEM/vrinda/ROI_1/test_code/res/Apr_22/test/\"\n",
    "#     path = \"/data/FIBSEM/vrinda/ROI_2/test_code/res/nuc00/Apr_6/test/\"\n",
    "    # for i in Img_col_centroids.keys():\n",
    "    if save_patterns_flag == True:\n",
    "        folder_name = \"patterns\"\n",
    "    else:\n",
    "        folder_name = \"chromosome\"\n",
    "    run_tag = \"run_\"+str(run)\n",
    "    path = output_path + run_tag\n",
    "    if not os.path.exists(path):\n",
    "      from pathlib import Path\n",
    "      Path(path).mkdir(parents=True, exist_ok=True)\n",
    "    img_list=[]\n",
    "    for i in Label_Img.keys():\n",
    "        img_list.append(Label_Img[i])\n",
    "    new_path = path+\"/\"+folder_name+\"_all_labels_\"+\"run_\"+str(run)+\".tiff\"\n",
    "    # cv2.imwrite(path+\"/\"+ f\"{tag:03d}\"+\".jpg\", (Img_col_centroids[i]))\n",
    "#     cv2.imwrite(path+\"/\"+ f\"{tag:03d}\"+\".jpg\", (Label_Img[i]))\n",
    "    img_list = np.array(img_list)\n",
    "    tifffile.imwrite(new_path, img_list)\n",
    "\n",
    "\n"
   ]
  },
  {
   "cell_type": "code",
   "execution_count": 30,
   "metadata": {
    "executionInfo": {
     "elapsed": 2,
     "status": "ok",
     "timestamp": 1697080606940,
     "user": {
      "displayName": "Vrinda Anil",
      "userId": "06562731342367344700"
     },
     "user_tz": 360
    },
    "id": "74Mt-GyQWjrT"
   },
   "outputs": [],
   "source": [
    "#saves individual chromosomes or SC's into individual folders\n",
    "def save_individual_chromosome(Label_Img, chromosome_count, chro_to_avoid, run, save_patterns_flag):\n",
    "  # path2=\"/content/gdrive/MyDrive/roi_1_nucl_00/test_code/res/15_dec/org/\"\n",
    "  # path2=\"//content/gdrive/MyDrive/roi3_nuc00/test/res/23_dec_2/org/\"\n",
    "  # path2 = \"/content/gdrive/MyDrive/roi_1_nucl_00/test_code/res/18_feb_th_150_z_23_trial_top_bott/org/\"\n",
    "#   path2 = \"/data/FIBSEM/vrinda/ROI_1/test_code/res/Apr_22/test/\"\n",
    "#   path2 = \"/data/FIBSEM/vrinda/ROI_2/test_code/res/nuc00/Apr_6/test/\"\n",
    "  if save_patterns_flag == True:\n",
    "    folder_name = \"patterns\"\n",
    "  else:\n",
    "    folder_name = \"chromosome\"\n",
    "  run_tag = \"run_\"+str(run)+\"/individual/\"+folder_name\n",
    "  path2 = output_path + run_tag +\"/\"\n",
    "  for h in chromosome_count:\n",
    "    if h in chro_to_avoid:\n",
    "      continue\n",
    "    label_chro = h+1\n",
    "    for k in range(len(chromosome)):\n",
    "      temp = (Label_Img[k]==label_chro)\n",
    "      temp = temp.astype(np.uint8)\n",
    "      if save_patterns_flag == True:\n",
    "          chro_temp = Image.open(patterns[k])\n",
    "      else:\n",
    "          chro_temp = Image.open(chromosome[k])\n",
    "      chro_temp.load()\n",
    "      chro_temp = np.array(chro_temp)\n",
    "      chro_temp[chro_temp<40]=0\n",
    "      temp3= cv2.bitwise_and(chro_temp,chro_temp, mask = temp)\n",
    "      temp3[temp3>0] = 1  \n",
    "      nuc_temp = Image.open(nucleous[k])\n",
    "      nuc_temp.load()\n",
    "      nuc_temp = np.array(nuc_temp)\n",
    "      temp2= cv2.bitwise_and(nuc_temp,nuc_temp, mask = temp3)\n",
    "      tag=k\n",
    "      if save_patterns_flag == True:\n",
    "        path_tag = \"patt_\"+str(label_chro)\n",
    "      else:\n",
    "        path_tag = \"ch_\"+str(label_chro)\n",
    "      complete_path = path2+path_tag\n",
    "      if not os.path.exists(complete_path):\n",
    "        from pathlib import Path\n",
    "        Path(complete_path).mkdir(parents=True, exist_ok=True)\n",
    "      # cv2.imwrite(complete_path+\"/\"+ f\"{tag:03d}\"+\".jpg\", (temp2* 255).astype(np.uint8)) #####\n",
    "      cv2.imwrite(complete_path+\"/\"+ f\"{tag:03d}\"+\".jpg\", (temp2))\n",
    "    print(label_chro)\n"
   ]
  },
  {
   "cell_type": "code",
   "execution_count": 31,
   "metadata": {
    "executionInfo": {
     "elapsed": 355,
     "status": "ok",
     "timestamp": 1697080608314,
     "user": {
      "displayName": "Vrinda Anil",
      "userId": "06562731342367344700"
     },
     "user_tz": 360
    },
    "id": "UdOm8zt-vlol"
   },
   "outputs": [],
   "source": [
    "#find centroid of patterns/SC\n",
    "def find_pattern_centroids(patt_img, chromosome_count, chro_to_avoid):\n",
    "  for h in range(len(patt_img)):\n",
    "    if h in avoid:\n",
    "        continue\n",
    "    if h in pattern_avoid:\n",
    "        continue\n",
    "    pattern_map_local={}\n",
    "    for pq in chromosome_count:\n",
    "        if pq in chro_to_avoid:\n",
    "          continue\n",
    "        label_patt = pq+1\n",
    "        img_temp4 = np.copy(patt_img[h]==label_patt)\n",
    "        img_temp4 = img_temp4.astype(np.uint8)\n",
    "        img_temp4 = join_neighbors(img_temp4, 50)\n",
    "        cont, hier, mas = find_contours(img_temp4)\n",
    "        for i in range(len(cont)):\n",
    "            if cv2.arcLength(cont[i],True) > 25 :\n",
    "              M = cv2.moments(cont[i])\n",
    "              if M[\"m00\"] == 0:\n",
    "                continue\n",
    "              cX,cY = int(M[\"m10\"] / M[\"m00\"]),int(M[\"m01\"] / M[\"m00\"])\n",
    "              pattern_map_local[(cX,cY)]= [pq]\n",
    "              if img_temp4[cY,cX] == 0:\n",
    "                  print(img_temp4[cY,cX], (cY,cX), h, pq)\n",
    "#     print(\"pattern_map_local :\", map_local)\n",
    "    pattern_track_local = get_chromosome_tracking(pattern_map_local)\n",
    "#     print(\"pattern_track_local :\", track_local)\n",
    "\n",
    "    pattern_map_global[h]=pattern_map_local\n",
    "    pattern_track_global[h] = pattern_track_local\n",
    "  # print(\"pattern_track_global :\", pattern_track_global)"
   ]
  },
  {
   "cell_type": "code",
   "execution_count": 32,
   "metadata": {
    "executionInfo": {
     "elapsed": 1,
     "status": "ok",
     "timestamp": 1697080608451,
     "user": {
      "displayName": "Vrinda Anil",
      "userId": "06562731342367344700"
     },
     "user_tz": 360
    },
    "id": "xefQQI-gX41y"
   },
   "outputs": [],
   "source": [
    "def find_pattern_label(X,Y,chro_blobs_in_the_slice):\n",
    "  closest_id, closest_dist = -1,float('inf')\n",
    "  for pt,id in chro_blobs_in_the_slice.items():\n",
    "    # if centroid_prev == 0:\n",
    "    #   continue\n",
    "    dist = cal((X,Y), pt)\n",
    "    print((X,Y), pt, dist)\n",
    "    if closest_dist > dist:\n",
    "        closest_dist, closest_pt, closest_id = dist,pt,id\n",
    "  # if closest_dist > threshold_patt:\n",
    "  #   return -1\n",
    "  # else:\n",
    "  #   return closest_id\n",
    "  return closest_id"
   ]
  },
  {
   "cell_type": "code",
   "execution_count": 33,
   "metadata": {
    "executionInfo": {
     "elapsed": 2,
     "status": "ok",
     "timestamp": 1697080608762,
     "user": {
      "displayName": "Vrinda Anil",
      "userId": "06562731342367344700"
     },
     "user_tz": 360
    },
    "id": "ttqvdXigTL0M"
   },
   "outputs": [],
   "source": [
    "#identify SC blobs near to each chromosome and assign same label as chromosome based on distance\n",
    "def find_patterns(run, chro_map, chromosome_count, chro_to_avoid):\n",
    "  print(\"pattern_track_global :\", pattern_track_global)\n",
    "  zero_moment=[]\n",
    "  for k in range(len(pattern)):\n",
    "    print(k)\n",
    "    contours_p, mask_p = load_image_and_find_contour(k, pattern, True, 600)\n",
    "    n = ntpath.basename(pattern[k]).split('.')[0]\n",
    "    n=int(n)\n",
    "    if n in avoid:\n",
    "      print(n)\n",
    "      pattern_img[k] = mask_p\n",
    "      # pattern_avoid.append(k)\n",
    "      pattern_avoid.add(k)\n",
    "      continue\n",
    "    if len(contours_p)==0:\n",
    "      # pattern_avoid.append(k)\n",
    "      pattern_avoid.add(k)\n",
    "      pattern_img[k] = mask_p\n",
    "      continue\n",
    "    pattern_map_inside_find_patterns = {}\n",
    "    blobs_in_slice = chro_map[k]\n",
    "    print(\"blobs_in_slice\", blobs_in_slice)\n",
    "    for i in range(len(contours_p)):\n",
    "      if cv2.arcLength(contours_p[i],True) > 25 :\n",
    "        M = cv2.moments(contours_p[i])\n",
    "        if M[\"m00\"] == 0:\n",
    "          zero_moment.append(k)\n",
    "          continue\n",
    "        cX,cY = int(M[\"m10\"] / M[\"m00\"]),int(M[\"m01\"] / M[\"m00\"])\n",
    "        patt_label = find_pattern_label(cX,cY, blobs_in_slice)\n",
    "        print(\"patt_label\", (cX,cY), patt_label)\n",
    "        pattern_map_inside_find_patterns[(cX,cY)] = [patt_label]\n",
    "        points_new=[]\n",
    "        for l in range(len(contours_p[i])):\n",
    "          points_new.append(contours_p[i][l][0])\n",
    "        points_new = np.array(points_new)\n",
    "        cv2.drawContours(mask_p,[points_new],-1,patt_label+1, thickness = cv2.FILLED)\n",
    "    pattern_img[k]=mask_p\n",
    "\n",
    "    print(\"pattern_map_inside_find_patterns :\", pattern_map_inside_find_patterns)\n",
    "    # pattern_track_local = get_chromosome_tracking(pattern_map_local)\n",
    "    # print(\"pattern_track_local :\", pattern_track_local)\n",
    "\n",
    "    # pattern_track_global[k] = pattern_track_local ######change names\n",
    "    # pattern_map_global[k]=pattern_map_inside_find_patterns\n",
    "  print(\"zero_moment\", zero_moment)\n",
    "  # sort_dictionary(Final_Image_Stack)\n",
    "  # print(Final_Image_Stack.keys())\n",
    "#   save_label_stack(pattern_img, run, True)\n",
    "#   save_individual_chromosome(pattern_img, chromosome_count, chro_to_avoid, run, True)\n",
    "#############################################################################################################\n",
    "  find_pattern_centroids(pattern_img, chromosome_count, chro_to_avoid)\n",
    "  print(\"pattern_track_global :\", pattern_track_global)"
   ]
  },
  {
   "cell_type": "code",
   "execution_count": 34,
   "metadata": {
    "executionInfo": {
     "elapsed": 2,
     "status": "ok",
     "timestamp": 1697080609407,
     "user": {
      "displayName": "Vrinda Anil",
      "userId": "06562731342367344700"
     },
     "user_tz": 360
    },
    "id": "8Da9VQIBIFki"
   },
   "outputs": [],
   "source": [
    "#used in length calculation of SC\n",
    "#to find next closest point in that particular leg of SC\n",
    "#search in a rectangle around the point in coming slices to avoid finding a point from differnt leg\n",
    "def find_closest_leg_point(x,y,z, pattern_in_current_slice_final, processed_in_current_slice):\n",
    "  if False not in processed_in_current_slice.values():\n",
    "    return None, None, None, processed_in_current_slice\n",
    "  closest_x_temp, closest_x_diff, closest_point_temp = None, float('inf'), None\n",
    "  point_list=[]\n",
    "\n",
    "  for i in range(len(pattern_in_current_slice_final)):\n",
    "    current_point = pattern_in_current_slice_final[i]\n",
    "    if processed_in_current_slice[current_point]==True:\n",
    "      continue\n",
    "    (a1,b1,c1) = current_point\n",
    "    x_diff = abs(x-a1)\n",
    "    y_diff = abs(y-b1)\n",
    "    if(x_diff<=25):\n",
    "      if(y_diff<=25):\n",
    "        point_list.append([x_diff, y_diff, (a1,b1,c1)])\n",
    "\n",
    "#   print(\"point_list b4\", point_list)\n",
    "  point_list = sorted(point_list, key = lambda x : (x[0], x[1]))\n",
    "  print(\"point_list\", point_list)\n",
    "\n",
    "  if point_list:\n",
    "    closest_point_temp = point_list[0][2]\n",
    "    closest_x_diff = point_list[0][0]\n",
    "    closest_y_diff = point_list[0][1]\n",
    "    processed_in_current_slice[closest_point_temp]=True\n",
    "    print(\"closest_point\", point_list[0])\n",
    "    return closest_point_temp[0], closest_x_diff, closest_point_temp, processed_in_current_slice\n",
    "\n",
    "  else:\n",
    "    return None, None, None, processed_in_current_slice\n"
   ]
  },
  {
   "cell_type": "code",
   "execution_count": 35,
   "metadata": {
    "executionInfo": {
     "elapsed": 210,
     "status": "ok",
     "timestamp": 1697080610137,
     "user": {
      "displayName": "Vrinda Anil",
      "userId": "06562731342367344700"
     },
     "user_tz": 360
    },
    "id": "J1x4nqEY7jnI"
   },
   "outputs": [],
   "source": [
    "#calculate length of SC\n",
    "def find_length(pattern_track, chromosome_count, chro_to_avoid):\n",
    "\n",
    "  print(\"chromosome_count, chro_to_avoid\", chromosome_count, chro_to_avoid)\n",
    "#   print(\"pattern_track\", pattern_track)\n",
    "\n",
    "  length = {}\n",
    "  missing_patt = {}\n",
    "  begining_pt_track={}\n",
    "  ending_pt_track={}\n",
    "  legs_length_track={}\n",
    "\n",
    "  for c in chromosome_count:\n",
    "    print(\" \")\n",
    "    print(\"c\", c)\n",
    "    # if c==2:\n",
    "    #   break\n",
    "    legs_length={}\n",
    "    begining_pt = {}\n",
    "    ending_pt={}\n",
    "    missing_leg={}\n",
    "    legs_track_for_chromosome = {}\n",
    "    found_next_for_chromosome = {}\n",
    "    leg_count=1\n",
    "    if c in chro_to_avoid:\n",
    "      continue\n",
    "    length[c]=0\n",
    "    missing_patt[c] = []\n",
    "    first_presence = 0\n",
    "    found_first_presence = False\n",
    "    for slice_id in range(len(pattern)):\n",
    "      print(\"slice_id\", slice_id)\n",
    "      if slice_id in pattern_avoid:\n",
    "        print(\"yes\")\n",
    "        continue\n",
    "      if c not in pattern_track[slice_id]:\n",
    "        missing_patt[c].append(slice_id)\n",
    "        print(\"yes22\")\n",
    "        continue\n",
    "      else:\n",
    "        first_presence = slice_id\n",
    "        print(\"yes333\")\n",
    "        found_first_presence = True\n",
    "        break\n",
    "    if found_first_presence == False:\n",
    "        length[c]=0\n",
    "        continue\n",
    "    print(\"first_presence\", first_presence)\n",
    "    print(\"pattern_track_global[first_presence]\", pattern_track[first_presence])\n",
    "    patterns_in_first_presence = pattern_track[first_presence][c]\n",
    "#     print(\"patterns_in_first_presence\", patterns_in_first_presence)\n",
    "    n_legs = len(patterns_in_first_presence)\n",
    "    print(\" n_legs \", n_legs)\n",
    "    found_next_for_legs={}\n",
    "    legs_track_for_legs = {}\n",
    "    for point in patterns_in_first_presence:\n",
    "      (m,n) = point\n",
    "      legs_length[leg_count] = 0\n",
    "      begining_pt[leg_count] = (m,n,slice_id)\n",
    "      ending_pt[leg_count] = (m,n,slice_id)\n",
    "      missing_leg[leg_count] = 0\n",
    "      found_next_for_legs[leg_count] = False\n",
    "      legs_track_for_legs[leg_count] = (m,n,slice_id)\n",
    "#       print(\"legs_length\", legs_length)\n",
    "#       print(\"begining_pt\", begining_pt)\n",
    "#       print(\"found_next_for_legs for ch {} is {}\".format(c,found_next_for_legs))\n",
    "#       print(\"legs_track_for_legs for ch {} is {}\".format(c,legs_track_for_legs))\n",
    "      leg_count+=1\n",
    "\n",
    "    found_next_for_chromosome[first_presence] = found_next_for_legs\n",
    "#     print(\"found_next_for_chromosome for ch {} is {}\".format(c,found_next_for_chromosome)) #{slice number:{leg number: T/F}}\n",
    "    legs_track_for_chromosome[first_presence] = legs_track_for_legs\n",
    "#     print(\"legs_track_for_chromosome for ch {} is {}\".format(c,legs_track_for_chromosome)) #{slice number:{leg number: POINTS}}\n",
    "#     print(\" \")\n",
    "    #######################################################\n",
    "    for slice_id in range(first_presence+1, len(pattern)):\n",
    "      found_next_for_legs={}\n",
    "      legs_track_for_legs = {}\n",
    "      print(\" \")\n",
    "      print(\"slice_id\", slice_id)\n",
    "      # if slice_id == first_presence+35:\n",
    "      #   break\n",
    "      if slice_id in pattern_avoid:\n",
    "        continue\n",
    "      if c not in pattern_track[slice_id]:\n",
    "#         print(\"missing in \", slice_id)\n",
    "        missing_patt[c].append(slice_id)\n",
    "        continue\n",
    "      pattern_in_current_slice_temp = pattern_track[slice_id][c]\n",
    "      print(\"pattern_track_global[slice_id = {}][c = {}] {}\".format(slice_id, c, pattern_in_current_slice_temp))\n",
    "      pattern_in_current_slice_temp = sorted(pattern_in_current_slice_temp, key = lambda x : (x[0], x[1]))\n",
    "      print(\"pattern_in_current_slice_temp\", pattern_in_current_slice_temp)\n",
    "      processed_in_current_slice={}\n",
    "      pattern_in_current_slice_final=[]\n",
    "      for point in pattern_in_current_slice_temp:\n",
    "        (m,n) = point\n",
    "        pattern_in_current_slice_final.append((m,n,slice_id))\n",
    "        processed_in_current_slice[(m,n,slice_id)]=False\n",
    "#       print(\"pattern_in_current_slice_final\", pattern_in_current_slice_final)\n",
    "#       print(\"processed_in_current_slice\", processed_in_current_slice)\n",
    "\n",
    "      prev_slice = slice_id-1\n",
    "      while ((prev_slice in pattern_avoid) or (prev_slice in missing_patt[c])):\n",
    "        prev_slice-=1\n",
    "        if prev_slice == -1: #comment?\n",
    "          break\n",
    "      if prev_slice == -1:\n",
    "          break\n",
    "      # print(\"prev_slice\", prev_slice)\n",
    "\n",
    "      # while prev_slice in missing_patt[c]:\n",
    "      #   prev_slice-=1\n",
    "      #   if prev_slice == -1: #comment?\n",
    "      #     break\n",
    "      print(\"prev_slice after looking in pattern_avoid and missing patt\", prev_slice)\n",
    "\n",
    "      legs_in_prev_slice = legs_track_for_chromosome[prev_slice]\n",
    "      print(\"legs_in_prev_slice\", legs_in_prev_slice)\n",
    "\n",
    "      for key in found_next_for_chromosome[prev_slice].keys():\n",
    "        found_next_for_legs[key] = False\n",
    "\n",
    "      for leg in legs_in_prev_slice:\n",
    "#         print(\"leg\", leg)\n",
    "#         print(\"missing_leg\", missing_leg)\n",
    "        if found_next_for_chromosome[prev_slice][leg] == False and missing_leg[leg]<=25:\n",
    "          if leg not in legs_in_prev_slice:\n",
    "            (x1,y1,z1) = ending_pt[leg]\n",
    "#             print(\"@@@@@@@@@@@@@@@@@@@@@@leg_not_there\")\n",
    "          else:\n",
    "            (x1,y1,z1) = legs_in_prev_slice[leg]\n",
    "          print(\"(x1,y1,z1)\", (x1,y1,z1))\n",
    "          # closest_x, closest_diff, closest_point, processed_in_current_slice = find_closest_leg_point(876,1070,1, pattern_in_current_slice_final, processed_in_current_slice)\n",
    "          closest_x, closest_diff, closest_point, processed_in_current_slice = find_closest_leg_point(x1,y1,z1, pattern_in_current_slice_final, processed_in_current_slice)\n",
    "          if closest_point !=None:\n",
    "            length_temp = cal(legs_in_prev_slice[leg], closest_point)\n",
    "            legs_length[leg] += length_temp\n",
    "            ending_pt[leg] = closest_point\n",
    "            found_next_for_chromosome[prev_slice][leg] = True####\n",
    "#             print(\"######found_next_for_chromosome for ch {} is {}\".format(c,found_next_for_chromosome)) #{slice number:{leg number: T/F}}\n",
    "            found_next_for_legs[leg] = False ####????\n",
    "            legs_track_for_legs[leg] = closest_point\n",
    "            missing_leg[leg]=0\n",
    "          else:\n",
    "            missing_leg[leg]+=1\n",
    "            legs_track_for_legs[leg] = ending_pt[leg]\n",
    "            print(\"leg\", leg)\n",
    "            print(\"closest_point_None\")\n",
    "            print(\"slice_id\", slice_id)\n",
    "            print(\"prev_slice\", prev_slice)\n",
    "      for pts in processed_in_current_slice.keys():\n",
    "        if processed_in_current_slice[pts]==False:\n",
    "          # (m,n,l) = pts\n",
    "          print(pts)\n",
    "#           print(\"adding new leg\")\n",
    "          legs_length[leg_count] = 0\n",
    "          begining_pt[leg_count] = pts #(m,n,slice_id)\n",
    "          ending_pt[leg_count] = pts\n",
    "          missing_leg[leg_count] = 0\n",
    "          found_next_for_legs[leg_count] = False ####????\n",
    "          legs_track_for_legs[leg_count] = pts #(m,n,slice_id)\n",
    "#           print(\"legs_length\", legs_length)\n",
    "#           print(\"begining_pt\", begining_pt)\n",
    "#           print(\"found_next_for_legs for ch {} is {}\".format(c,found_next_for_legs))\n",
    "#           print(\"legs_track_for_legs for ch {} is {}\".format(c,legs_track_for_legs))\n",
    "          leg_count+=1\n",
    "#       print(\"hoyyyy\", slice_id)\n",
    "#       print(\"found_next_for_chromosome for ch {} is {}\".format(c,found_next_for_chromosome)) #{slice number:{leg number: T/F}}\n",
    "      found_next_for_chromosome[slice_id] = found_next_for_legs\n",
    "#       print(\"found_next_for_chromosome for ch {} is {}\".format(c,found_next_for_chromosome)) #{slice number:{leg number: T/F}}\n",
    "      legs_track_for_chromosome[slice_id]=legs_track_for_legs\n",
    "#       print(\"legs_track_for_chromosome for ch {} is {}\".format(c,legs_track_for_chromosome)) #{slice number:{leg number: POINTS}}\n",
    "#       print(\"legs_track_for_chromosome for ch {} for slice {} is {}\".format(c,slice_id,legs_track_for_chromosome[slice_id])) #{slice number:{leg number: POINTS}}\n",
    "#       print(\"ending_pt\", ending_pt)\n",
    "#       print(\"missing_leg\", missing_leg)\n",
    "#       print(\"legs_length\", legs_length)\n",
    "      print(\" \")\n",
    "\n",
    "    total_length_of_patt = 0\n",
    "    legs_length_track[c]=legs_length\n",
    "\n",
    "    for l in legs_length:\n",
    "      total_length_of_patt+=legs_length[l]\n",
    "\n",
    "    length[c]=total_length_of_patt\n",
    "    begining_pt_track[c]=begining_pt\n",
    "    ending_pt_track[c]=ending_pt\n",
    "\n",
    "  print(\"missing_patt\", missing_patt)\n",
    "  print(\"begining_pt_track\", begining_pt_track)\n",
    "  print(\"ending_pt_track\", ending_pt_track)\n",
    "\n",
    "#   print(\"length\", length)\n",
    "  length = sort_dictionary(length)\n",
    "  print(\"length\", length)\n",
    "\n",
    "  return length, legs_length_track, begining_pt_track, ending_pt_track\n"
   ]
  },
  {
   "cell_type": "code",
   "execution_count": 36,
   "metadata": {
    "executionInfo": {
     "elapsed": 4,
     "status": "ok",
     "timestamp": 1697080610767,
     "user": {
      "displayName": "Vrinda Anil",
      "userId": "06562731342367344700"
     },
     "user_tz": 360
    },
    "id": "V0e_K-2G_Z3n"
   },
   "outputs": [],
   "source": [
    "#calculate volume of chromosome\n",
    "def find_volume(chromosome_track, chromosome_area, chromosome_count, chro_to_avoid):\n",
    "  vol = {}\n",
    "  for c in chromosome_count:\n",
    "    if c in chro_to_avoid:\n",
    "      continue\n",
    "    vol[c]=0\n",
    "  for k in range(len(chromosome_track)):\n",
    "    if k in avoid:\n",
    "      continue\n",
    "    temp_track = chromosome_track[k]\n",
    "    temp_area = chromosome_area[k]\n",
    "    for chromosome, blob_list in temp_track.items():\n",
    "      if chromosome in chro_to_avoid:\n",
    "        continue\n",
    "      for blob in blob_list:\n",
    "        vol[chromosome]+= temp_area[blob]\n",
    "\n",
    "#   print(\"volume\", vol)\n",
    "  vol = sort_dictionary(vol)\n",
    "  print(\"volume\", vol)\n",
    "  return vol"
   ]
  },
  {
   "cell_type": "code",
   "execution_count": 37,
   "metadata": {
    "executionInfo": {
     "elapsed": 155,
     "status": "ok",
     "timestamp": 1697080612393,
     "user": {
      "displayName": "Vrinda Anil",
      "userId": "06562731342367344700"
     },
     "user_tz": 360
    },
    "id": "NRfKQJHn_TzR"
   },
   "outputs": [],
   "source": [
    "# def find_score(chromosome_track, chromosome_area, chromosome_count, chro_to_avoid):\n",
    "#   volume = find_volume(chromosome_track, chromosome_area, chromosome_count, chro_to_avoid)\n",
    "#   vol_list = []\n",
    "#   for c,v in volume.items():\n",
    "#     vol_list.append(v)\n",
    "#   print(\"vol_list\", vol_list)\n",
    "#   vol_list = np.array(vol_list)\n",
    "#   print(\"vol_list\", vol_list)\n",
    "#   score_var = np.var(vol_list)\n",
    "#   score_std = np.std(vol_list)\n",
    "#   print(\"score.var.........\", score_var)\n",
    "#   print(\"score.std.........\", score_std)\n",
    "#   return score_std"
   ]
  },
  {
   "cell_type": "code",
   "execution_count": 38,
   "metadata": {
    "executionInfo": {
     "elapsed": 3,
     "status": "ok",
     "timestamp": 1697080612604,
     "user": {
      "displayName": "Vrinda Anil",
      "userId": "06562731342367344700"
     },
     "user_tz": 360
    },
    "id": "HDv9MEfONgik"
   },
   "outputs": [],
   "source": [
    "#calculate score of the algorithm\n",
    "#std.dev(V/l)\n",
    "def find_score(chromosome_track, chromosome_area, pattern_track, chromosome_count, chro_to_avoid):\n",
    "\n",
    "  length, legs_length_track, begining_pt_track, ending_pt_track = find_length(pattern_track, chromosome_count, chro_to_avoid)\n",
    "  volume = find_volume(chromosome_track, chromosome_area, chromosome_count, chro_to_avoid)\n",
    "\n",
    "  vol_list = []\n",
    "  len_list = []\n",
    "  vol_by_len_list = []\n",
    "\n",
    "  c_len_zero=[]\n",
    "\n",
    "  for c,v in volume.items():\n",
    "    vol_c = v\n",
    "    len_c = length[c]\n",
    "\n",
    "    if len_c != 0:\n",
    "        vol_list.append(vol_c)\n",
    "        len_list.append(len_c)\n",
    "\n",
    "        v_by_l = vol_c/len_c\n",
    "        vol_by_len_list.append(v_by_l)\n",
    "    else:\n",
    "        c_len_zero.append(c)\n",
    "\n",
    "  print(\" \")\n",
    "  print(\"chromosomes avoided due to zero length : \", c_len_zero)\n",
    "\n",
    "  print(\" \")\n",
    "  vol_list = np.array(vol_list)\n",
    "  print(\"vol_list\", vol_list)\n",
    "  len_list = np.array(len_list)\n",
    "  print(\"len_list\", len_list)\n",
    "  vol_list = np.array(vol_list)\n",
    "  print(\"vol_by_len_list\", vol_by_len_list)\n",
    "\n",
    "  print(\" \")\n",
    "  score_var_vol = np.var(vol_list)\n",
    "  score_std_vol = np.std(vol_list)\n",
    "  print(\"volume.....score.variance.........\", score_var_vol)\n",
    "  print(\"volume.....score.standard.deviation........\", score_std_vol)\n",
    "  print(\" \")\n",
    "\n",
    "  score_var_v_by_l = np.var(vol_by_len_list)\n",
    "  score_std_v_by_l  = np.std(vol_by_len_list)\n",
    "  print(\"volume_by_length.....score.variance.........\", score_var_v_by_l )\n",
    "  print(\"volume_by_length.....score.standard.deviation.........\", score_std_v_by_l )\n",
    "\n",
    "\n",
    "  return score_std_vol, score_std_v_by_l, length, volume, legs_length_track, begining_pt_track, ending_pt_track"
   ]
  },
  {
   "cell_type": "code",
   "execution_count": 39,
   "metadata": {
    "executionInfo": {
     "elapsed": 575,
     "status": "ok",
     "timestamp": 1697080615459,
     "user": {
      "displayName": "Vrinda Anil",
      "userId": "06562731342367344700"
     },
     "user_tz": 360
    },
    "id": "Z_Y6mWqc_f8P"
   },
   "outputs": [],
   "source": [
    "#count the number of slices the chromosome is present\n",
    "def count_presence(ch_track):\n",
    "  slice_count = {}\n",
    "  for d in ch_track.keys():\n",
    "    # print(\"d\", d)\n",
    "    if d in avoid:\n",
    "      continue\n",
    "    count_list_temp = ch_track[d]\n",
    "    # print(\"count_list_temp\", count_list_temp)\n",
    "    for id in count_list_temp.keys():\n",
    "      if id in slice_count:\n",
    "        slice_count[id]+=1\n",
    "      else:\n",
    "        slice_count[id]=1\n",
    "  return slice_count"
   ]
  },
  {
   "cell_type": "code",
   "execution_count": 40,
   "metadata": {
    "executionInfo": {
     "elapsed": 1,
     "status": "ok",
     "timestamp": 1697080615608,
     "user": {
      "displayName": "Vrinda Anil",
      "userId": "06562731342367344700"
     },
     "user_tz": 360
    },
    "id": "JxRqsis-_P1-"
   },
   "outputs": [],
   "source": [
    "#find chromosomes which are present in less than 5 slices\n",
    "def find_short_chromosomes(chro_track_list):\n",
    "  chro_slice_count = count_presence(chro_track_list)\n",
    "  print(\"chro_slice_count\", chro_slice_count)\n",
    "  chromosome_to_be_removed = []\n",
    "  min_slice_threshold = 20 #5\n",
    "  for chro_id in chro_slice_count:\n",
    "    if (chro_slice_count[chro_id] < min_slice_threshold):\n",
    "      chromosome_to_be_removed.append(chro_id)\n",
    "  return chromosome_to_be_removed"
   ]
  },
  {
   "cell_type": "code",
   "execution_count": 41,
   "metadata": {
    "colab": {
     "base_uri": "https://localhost:8080/"
    },
    "executionInfo": {
     "elapsed": 61446,
     "status": "ok",
     "timestamp": 1697080677863,
     "user": {
      "displayName": "Vrinda Anil",
      "userId": "06562731342367344700"
     },
     "user_tz": 360
    },
    "id": "eh6NWpE9_j6u",
    "outputId": "95316a12-4769-48da-e83d-3b2876b0e9fa"
   },
   "outputs": [
    {
     "name": "stdout",
     "output_type": "stream",
     "text": [
      "beg 0\n",
      "last 892\n",
      "@@@@@@@@@@@@@@@@@@@@@@@@@@@@@@@@@@@@@@@@@@@@@@@@@@@@@@@@@\n",
      " RUN -  0\n",
      "starting from mid\n",
      "Calculated middle slice is :  446\n",
      "Proceed with the calculated middle slice (y/n) : \n",
      "invalid input, please provide a valid input\n",
      "Proceed with the calculated middle slice (y/n) : \n",
      "invalid input, please provide a valid input\n",
      "Proceed with the calculated middle slice (y/n) : n\n",
      "Enter the slice number to be considered as reference middle slice : 580\n",
      " \n",
      "Starting Slice Number = 0, Ending Slice Number = 892, Middle Reference Slice Number = 580\n",
      "580\n",
      "/data/FIBSEM/nuclie_align_ROI3_1700/nuclie30/chromosome/580.jpg\n",
      "/data/FIBSEM/nuclie_align_ROI3_1700/nuclie30/chromosome/580.jpg\n",
      "OVER\n",
      "score_vol_by_100000 {}\n"
     ]
    }
   ],
   "source": [
    "#run0 mid to bottom and mid to top\n",
    "\n",
    "global mid\n",
    "# mid = 357 #roi1 nuc00\n",
    "# mid = 305 #roi3 nuc00\n",
    "mid_flag = True\n",
    "beg = 0\n",
    "last = len(chromosome)-1\n",
    "\n",
    "print(\"beg\", beg)\n",
    "print(\"last\", last)\n",
    "\n",
    "run = 0 #starting from mid\n",
    "\n",
    "print(\"@@@@@@@@@@@@@@@@@@@@@@@@@@@@@@@@@@@@@@@@@@@@@@@@@@@@@@@@@\")\n",
    "print(\" RUN - \", run)\n",
    "print(\"starting from mid\")\n",
    "\n",
    "mid_temp = beg + ((last-beg)//2)\n",
    "print(\"Calculated middle slice is : \", mid_temp)\n",
    "flag_ip = False\n",
    "while(flag_ip==False):\n",
    "  ch = str(input(\"Proceed with the calculated middle slice (y/n) : \"))\n",
    "  global mid\n",
    "  if(ch == 'y'):\n",
    "    mid = mid_temp\n",
    "    flag_ip = True\n",
    "  elif(ch == 'n'):\n",
    "    try:\n",
    "      slice_no = int(input(\"Enter the slice number to be considered as reference middle slice : \"))\n",
    "      mid = slice_no\n",
    "      flag_ip = True\n",
    "    except:\n",
    "      print(\"!!!!!!Please enter a valid slice number!!!!!!\")\n",
    "      continue\n",
    "  else:\n",
    "    print(\"invalid input, please provide a valid input\")\n",
    "print(\" \")\n",
    "print(\"Starting Slice Number = {}, Ending Slice Number = {}, Middle Reference Slice Number = {}\".format(beg, last, mid))\n",
    "\n",
    "# id_s=mid\n",
    "id_c=0\n",
    "id_b=0\n",
    "chro_map_local={} #??????\n",
    "print(mid)\n",
    "print(chromosome[mid])\n",
    "print(membrane[mid])\n",
    "\n",
    "order_id = []\n",
    "# file_path = output_path + \"oct_22_roi_2_nuc00.txt\"\n",
    "sys.stdout = open(file_path, \"w\")\n",
    "\n",
    "# sys.stdout = open(\"/content/gdrive/MyDrive/roi_1_nucl_00/test/test2/out.txt\", \"w\")\n",
    "# sys.stdout = open(\"/data/FIBSEM/vrinda/ROI_1/test_code/res/Apr_22_test_roi_1_n0.txt\", \"w\")\n",
    "# sys.stdout = open(\"/data/FIBSEM/vrinda/ROI_2/test_code/res/nuc00/Apr_20_test_roi_1_n0.txt\", \"w\")\n",
    "\n",
    "\n",
    "\n",
    "find_chromosome(mid, last+1, mid_flag, True, run)\n",
    "mid_flag = False\n",
    "find_chromosome(mid-1, beg-1, mid_flag, False, run)\n",
    "\n",
    "print(\"order_id:\",order_id)\n",
    "print(limit)\n",
    "print(max_id_c)\n",
    "\n",
    "chro_map_run_0 = chro_map_global\n",
    "print(\"*****chro_map_run_0 : \", chro_map_run_0)\n",
    "chro_area_run_0 = chro_area_global\n",
    "print(\"*****chro_area_run_0 : \", chro_area_run_0)\n",
    "label_list_run0 = label_list\n",
    "print(\"*****label_list_run0 : \", label_list_run0)\n",
    "run_track_chro_track_global[run] = chro_track_global\n",
    "\n",
    "uniqueValues_0 = set(label_list_run0.keys())\n",
    "print(\"uniqueValues\",uniqueValues_0)\n",
    "# new_limit_0 = len(uniqueValues)\n",
    "# print(\"new_limit_0\", new_limit_0)\n",
    "chromosomes_to_avoid_run_0 = find_short_chromosomes(run_track_chro_track_global[run])\n",
    "empty_list = []\n",
    "print(\"chromosomes_to_avoid_run_0\", chromosomes_to_avoid_run_0)\n",
    "\n",
    "\n",
    "Label_Img = sort_dictionary(Label_Img)\n",
    "# save_label_stack(Label_Img, run, False)\n",
    "save_individual_chromosome(Label_Img, uniqueValues_0, chromosomes_to_avoid_run_0, run, False) #pass empty list intentionally to save all chromosomes\n",
    "\n",
    "# find_patterns(run, chro_map_run_0, uniqueValues_0, chromosomes_to_avoid_run_0) #finds patterns, saves patterns, finds new pattern centroids\n",
    "# run_track_pattern_track_global[run] = pattern_track_global\n",
    "# print(\"pattern_avoid\", pattern_avoid)\n",
    "# #add score\n",
    "# # length = find_length(pattern_track_global, new_limit_0, chromosomes_to_avoid_run_0)\n",
    "# score_v_run0, score_v_by_l_run0, length_run0, volume_run0, legs_length_track_run0, begining_pt_track_run0, ending_pt_track_run0 = find_score(run_track_chro_track_global[run],\n",
    "#                                                                                                                                              chro_area_run_0, pattern_track_global, uniqueValues_0,\n",
    "#                                                                                                                                              chromosomes_to_avoid_run_0)\n",
    "# # score_run0 = find_score(run_track_chro_track_global[run], chro_area_run_0, new_limit_0, chromosomes_to_avoid_run_0)\n",
    "# score_vol[run] = score_v_run0\n",
    "# score_vol_by_len[run] = score_v_by_l_run0\n",
    "\n",
    "print(\"DONEEEEEE RUN - \", run)"
   ]
  },
  {
   "cell_type": "code",
   "execution_count": 42,
   "metadata": {
    "colab": {
     "base_uri": "https://localhost:8080/"
    },
    "executionInfo": {
     "elapsed": 86,
     "status": "ok",
     "timestamp": 1697080806089,
     "user": {
      "displayName": "Vrinda Anil",
      "userId": "06562731342367344700"
     },
     "user_tz": 360
    },
    "id": "GZYxuuG8h52F",
    "outputId": "c925f4ac-71ca-4c06-c343-5b444134c315"
   },
   "outputs": [],
   "source": [
    "print(run_track_chro_track_global.keys())\n",
    "print(run_track_pattern_track_global.keys())\n",
    "# print(chro_map_run_0 [7])\n",
    "# print(run_track_chro_track_global[0])\n",
    "print(avoid)\n",
    "print(len(avoid))\n",
    "print(pattern_avoid)"
   ]
  },
  {
   "cell_type": "code",
   "execution_count": 43,
   "metadata": {
    "colab": {
     "base_uri": "https://localhost:8080/"
    },
    "executionInfo": {
     "elapsed": 94,
     "status": "ok",
     "timestamp": 1697080811323,
     "user": {
      "displayName": "Vrinda Anil",
      "userId": "06562731342367344700"
     },
     "user_tz": 360
    },
    "id": "FL0rstADNgil",
    "outputId": "914e9587-411a-4f59-b6ec-4e56e08491fa"
   },
   "outputs": [],
   "source": [
    "print(score_vol)\n",
    "print(score_vol_by_len)"
   ]
  },
  {
   "cell_type": "code",
   "execution_count": 44,
   "metadata": {
    "colab": {
     "base_uri": "https://localhost:8080/"
    },
    "executionInfo": {
     "elapsed": 48224,
     "status": "ok",
     "timestamp": 1697080861864,
     "user": {
      "displayName": "Vrinda Anil",
      "userId": "06562731342367344700"
     },
     "user_tz": 360
    },
    "id": "GvcPtLo9e4rK",
    "outputId": "0ee54bd5-39d9-4f4b-969d-dd4484a4268f"
   },
   "outputs": [],
   "source": [
    "run = 1 #starting from top\n",
    "\n",
    "print(\"beg\", beg)\n",
    "print(\"last\", last)\n",
    "\n",
    "print(\"@@@@@@@@@@@@@@@@@@@@@@@@@@@@@@@@@@@@@@@@@@@@@@@@@@@@@@@@@\")\n",
    "print(\" RUN - \", run)\n",
    "print(\"starting from top\")\n",
    "\n",
    "Label_Img={}\n",
    "chro_track_global={}\n",
    "pattern_track_global={}\n",
    "pattern_img = {}\n",
    "chro_map_global={}\n",
    "chro_area_global={}\n",
    "pattern_map_global={}\n",
    "label_list={}\n",
    "max_id_c_per_slice=[]\n",
    "global max_id_c\n",
    "max_id_c=-1\n",
    "global limit\n",
    "limit = 6\n",
    "\n",
    "order_id = []\n",
    "\n",
    "mid_flag = True\n",
    "\n",
    "# find_chromosome(beg, last+1, mid_flag, True, run)\n",
    "find_chromosome(skip_threshold_top, last+1, mid_flag, True, run)\n",
    "mid_flag = False\n",
    "find_chromosome(skip_threshold_top-1, beg-1, mid_flag, False, run)\n",
    "\n",
    "print(\"order_id:\",order_id)\n",
    "print(limit)\n",
    "print(max_id_c)\n",
    "\n",
    "chro_map_run_1 = chro_map_global\n",
    "print(\"*****chro_map_run_1 : \", chro_map_run_1)\n",
    "chro_area_run_1 = chro_area_global\n",
    "print(\"*****chro_area_run_1 : \", chro_area_run_1)\n",
    "label_list_run1 = label_list\n",
    "print(\"*****label_list_run1 : \", label_list_run1)\n",
    "run_track_chro_track_global[run] = chro_track_global\n",
    "\n",
    "uniqueValues_1 = set(label_list_run1.keys())\n",
    "print(\"uniqueValues\",uniqueValues_1)\n",
    "# new_limit_1 = len(uniqueValues)\n",
    "# print(\"new_limit_1\", new_limit_1)\n",
    "\n",
    "chromosomes_to_avoid_run_1 = find_short_chromosomes(run_track_chro_track_global[run])\n",
    "empty_list = []\n",
    "print(\"chromosomes_to_avoid_run_1\", chromosomes_to_avoid_run_1)\n",
    "\n",
    "\n",
    "Label_Img = sort_dictionary(Label_Img)\n",
    "# save_label_stack(Label_Img, run, False)\n",
    "save_individual_chromosome(Label_Img, uniqueValues_1, chromosomes_to_avoid_run_1, run, False)\n",
    "\n",
    "# find_patterns(run, chro_map_run_1, uniqueValues_1, chromosomes_to_avoid_run_1)\n",
    "# run_track_pattern_track_global[run] = pattern_track_global\n",
    "# print(\"pattern_avoid\", pattern_avoid)\n",
    "# #add score\n",
    "# # length = find_length(pattern_track_global, new_limit_1, chromosomes_to_avoid_run_1)\n",
    "# # score_run1 = find_score(run_track_chro_track_global[run], chro_area_run_1, new_limit_1, chromosomes_to_avoid_run_1)\n",
    "# score_v_run1, score_v_by_l_run1, length_run1, volume_run1, legs_length_track_run1, begining_pt_track_run1, ending_pt_track_run1 = find_score(run_track_chro_track_global[run],\n",
    "#                                                                                                                                              chro_area_run_1, pattern_track_global,\n",
    "#                                                                                                                                              uniqueValues_1,\n",
    "#                                                                                                                                              chromosomes_to_avoid_run_1)\n",
    "# score_vol[run] = score_v_run1\n",
    "# score_vol_by_len[run] = score_v_by_l_run1\n",
    "\n",
    "\n",
    "print(\"DONEEEEEE RUN - \", run)"
   ]
  },
  {
   "cell_type": "code",
   "execution_count": 45,
   "metadata": {
    "colab": {
     "base_uri": "https://localhost:8080/"
    },
    "executionInfo": {
     "elapsed": 15,
     "status": "ok",
     "timestamp": 1697080861866,
     "user": {
      "displayName": "Vrinda Anil",
      "userId": "06562731342367344700"
     },
     "user_tz": 360
    },
    "id": "umxlmzRWk4pg",
    "outputId": "a9c0599f-41aa-4ee7-9e83-5387cff59459"
   },
   "outputs": [],
   "source": [
    "print(run_track_chro_track_global.keys())\n",
    "# print(run_track_chro_track_global[0])\n",
    "# print(run_track_chro_track_global[1])\n",
    "print(avoid)\n",
    "print(len(avoid))\n",
    "print(pattern_avoid)"
   ]
  },
  {
   "cell_type": "code",
   "execution_count": 46,
   "metadata": {
    "colab": {
     "base_uri": "https://localhost:8080/"
    },
    "executionInfo": {
     "elapsed": 14,
     "status": "ok",
     "timestamp": 1697080861866,
     "user": {
      "displayName": "Vrinda Anil",
      "userId": "06562731342367344700"
     },
     "user_tz": 360
    },
    "id": "2CBPxJ4CNgil",
    "outputId": "cfd2b656-1724-46ca-8c4b-9d0d7d7329c5"
   },
   "outputs": [],
   "source": [
    "print(score_vol)\n",
    "print(score_vol_by_len)"
   ]
  },
  {
   "cell_type": "code",
   "execution_count": 47,
   "metadata": {
    "colab": {
     "base_uri": "https://localhost:8080/"
    },
    "executionInfo": {
     "elapsed": 47100,
     "status": "ok",
     "timestamp": 1697080908953,
     "user": {
      "displayName": "Vrinda Anil",
      "userId": "06562731342367344700"
     },
     "user_tz": 360
    },
    "id": "VDpBAOBtfRQV",
    "outputId": "e1931b9c-0f24-4d51-9f9c-3dfda23ddbd8"
   },
   "outputs": [],
   "source": [
    "run = 2 #starting from bottom\n",
    "\n",
    "print(\"beg\", beg)\n",
    "print(\"last\", last)\n",
    "\n",
    "print(\"@@@@@@@@@@@@@@@@@@@@@@@@@@@@@@@@@@@@@@@@@@@@@@@@@@@@@@@@@\")\n",
    "print(\" RUN - \", run)\n",
    "print(\"starting from bottom\")\n",
    "\n",
    "Label_Img={}\n",
    "chro_track_global={}\n",
    "pattern_track_global={}\n",
    "pattern_img = {}\n",
    "chro_map_global={}\n",
    "chro_area_global={}\n",
    "pattern_map_global={}\n",
    "label_list={}\n",
    "max_id_c_per_slice=[]\n",
    "global max_id_c\n",
    "max_id_c=-1\n",
    "global limit\n",
    "limit = 6\n",
    "\n",
    "order_id = []\n",
    "\n",
    "mid_flag = True\n",
    "\n",
    "# find_chromosome(last, beg-1, mid_flag, False, run)\n",
    "find_chromosome(last-skip_threshold_bottom, beg-1, mid_flag, False, run)\n",
    "mid_flag = False\n",
    "find_chromosome(last-skip_threshold_bottom+1, last+1, mid_flag, True, run)\n",
    "\n",
    "print(\"order_id:\",order_id)\n",
    "print(limit)\n",
    "print(max_id_c)\n",
    "\n",
    "chro_map_run_2 = chro_map_global\n",
    "print(\"*****chro_map_run_2 : \", chro_map_run_2)\n",
    "chro_area_run_2 = chro_area_global\n",
    "print(\"*****chro_area_run_2 : \", chro_area_run_2)\n",
    "label_list_run2 = label_list\n",
    "print(\"*****label_list_run2 : \", label_list_run2)\n",
    "run_track_chro_track_global[run] = chro_track_global\n",
    "\n",
    "uniqueValues_2 = set(label_list_run2.keys())\n",
    "print(\"uniqueValues\", uniqueValues_2)\n",
    "# new_limit_2 = len(uniqueValues)\n",
    "# print(\"new_limit_2\", new_limit_2)\n",
    "\n",
    "chromosomes_to_avoid_run_2 = find_short_chromosomes(run_track_chro_track_global[run])\n",
    "empty_list = []\n",
    "print(\"chromosomes_to_avoid_run_2\", chromosomes_to_avoid_run_2)\n",
    "\n",
    "Label_Img = sort_dictionary(Label_Img)\n",
    "# save_label_stack(Label_Img, run, False)\n",
    "save_individual_chromosome(Label_Img, uniqueValues_2, chromosomes_to_avoid_run_2, run, False)\n",
    "\n",
    "# find_patterns(run, chro_map_run_2, uniqueValues_2, chromosomes_to_avoid_run_2)\n",
    "# run_track_pattern_track_global[run] = pattern_track_global\n",
    "# print(\"pattern_avoid\", pattern_avoid)\n",
    "# #add score\n",
    "# # length = find_length(pattern_track_global, new_limit_2, chromosomes_to_avoid_run_2)\n",
    "# # score_run2 = find_score(run_track_chro_track_global[run], chro_area_run_2, new_limit_2, chromosomes_to_avoid_run_2)\n",
    "# score_v_run2, score_v_by_l_run2, length_run2, volume_run2, legs_length_track_run2, begining_pt_track_run2, ending_pt_track_run2 = find_score(run_track_chro_track_global[run],\n",
    "#                                                                                                                                              chro_area_run_2, pattern_track_global,\n",
    "#                                                                                                                                              uniqueValues_2,\n",
    "#                                                                                                                                              chromosomes_to_avoid_run_2)\n",
    "# score_vol[run] = score_v_run2\n",
    "# score_vol_by_len[run] = score_v_by_l_run2\n",
    "\n",
    "print(\"DONEEEEEE RUN - \", run)"
   ]
  },
  {
   "cell_type": "code",
   "execution_count": 48,
   "metadata": {
    "colab": {
     "base_uri": "https://localhost:8080/"
    },
    "executionInfo": {
     "elapsed": 57,
     "status": "ok",
     "timestamp": 1697080908953,
     "user": {
      "displayName": "Vrinda Anil",
      "userId": "06562731342367344700"
     },
     "user_tz": 360
    },
    "id": "_-FP0iMyf1Kx",
    "outputId": "834b6da3-cdaf-4eea-a28e-a58c7b4f63d1"
   },
   "outputs": [],
   "source": [
    "print(run_track_chro_track_global.keys())\n",
    "# print(run_track_chro_track_global[0])\n",
    "# print(run_track_chro_track_global[1])\n",
    "# print(run_track_chro_track_global[2])\n",
    "print(avoid)\n",
    "print(len(avoid))\n",
    "print(pattern_avoid)"
   ]
  },
  {
   "cell_type": "code",
   "execution_count": 49,
   "metadata": {
    "colab": {
     "base_uri": "https://localhost:8080/"
    },
    "executionInfo": {
     "elapsed": 206,
     "status": "ok",
     "timestamp": 1697080923730,
     "user": {
      "displayName": "Vrinda Anil",
      "userId": "06562731342367344700"
     },
     "user_tz": 360
    },
    "id": "P01amb-YNgil",
    "outputId": "1381fba2-fc7c-486f-ac2d-57084cf7df61"
   },
   "outputs": [],
   "source": [
    "print(score_vol)\n",
    "print(score_vol_by_len)"
   ]
  },
  {
   "cell_type": "code",
   "execution_count": 51,
   "metadata": {
    "colab": {
     "base_uri": "https://localhost:8080/"
    },
    "executionInfo": {
     "elapsed": 74,
     "status": "ok",
     "timestamp": 1697080926272,
     "user": {
      "displayName": "Vrinda Anil",
      "userId": "06562731342367344700"
     },
     "user_tz": 360
    },
    "id": "7bZjcySsYdJY",
    "outputId": "d26bc62a-9686-4673-e3f0-2058e7d95bac"
   },
   "outputs": [],
   "source": [
    "print(label_list_run0)\n",
    "print(label_list_run1)\n",
    "print(label_list_run2)\n",
    "\n",
    "temp_0 =label_list_run0\n",
    "temp_1 =label_list_run1\n",
    "temp_2 =label_list_run2"
   ]
  },
  {
   "cell_type": "code",
   "execution_count": 53,
   "metadata": {
    "colab": {
     "base_uri": "https://localhost:8080/"
    },
    "executionInfo": {
     "elapsed": 2313,
     "status": "ok",
     "timestamp": 1697080944627,
     "user": {
      "displayName": "Vrinda Anil",
      "userId": "06562731342367344700"
     },
     "user_tz": 360
    },
    "id": "gwQmvmuR29e5",
    "outputId": "e923e6f2-550f-42ca-e7ba-03e1449870b5"
   },
   "outputs": [],
   "source": [
    "#combine labels from the three runs\n",
    "\n",
    "new_id = 0\n",
    "for x in range(len(chromosome)):\n",
    "  print(\"##########\", x)\n",
    "  n = ntpath.basename(chromosome[x]).split('.')[0]\n",
    "  n=int(n)\n",
    "  if n in avoid:\n",
    "      continue\n",
    "\n",
    "  list_0 = chro_map_run_0[x]\n",
    "  list_1 = chro_map_run_1[x]\n",
    "  list_2 = chro_map_run_2[x]\n",
    "  print(list_0)\n",
    "  print(list_1)\n",
    "  print(list_2)\n",
    "\n",
    "  for pt in list_0.keys():\n",
    "    print(\"point\", pt)\n",
    "\n",
    "    id_0 = list_0[pt]\n",
    "    id_1 = list_1[pt]\n",
    "    id_2 = list_2[pt]\n",
    "    print(\"id\", id_0,id_1,id_2)\n",
    "\n",
    "    if(label_list_run0[id_0] == label_list_run1[id_1] == label_list_run2[id_2] == None):\n",
    "      label_list_run0[id_0] = new_id\n",
    "      label_list_run1[id_1] = new_id\n",
    "      label_list_run2[id_2] = new_id\n",
    "      print(\"assigned\")\n",
    "      print(new_id)\n",
    "      print(label_list_run0)\n",
    "      print(label_list_run1)\n",
    "      print(label_list_run2)\n",
    "      new_id+=1\n",
    "      print(\".........\",new_id)\n",
    "    elif((label_list_run0[id_0] != None) and (label_list_run1[id_1] != None) and (label_list_run2[id_2] != None)):\n",
    "      print(\"elif\")\n",
    "      continue\n",
    "    else:\n",
    "      print(\"else\")\n",
    "      flag_0 = flag_1 = flag_2 = False\n",
    "      old_0 = old_1 = old_2 = float('inf')\n",
    "      if(label_list_run0[id_0] != None):\n",
    "        old_0 = label_list_run0[id_0]\n",
    "        flag_0 = True\n",
    "      if(label_list_run1[id_1] != None):\n",
    "        old_1 = label_list_run1[id_1]\n",
    "        flag_1 = True\n",
    "      if(label_list_run2[id_2] != None):\n",
    "        old_2 = label_list_run2[id_2]\n",
    "        flag_2 = True\n",
    "      print(\"flag_0\", flag_0)\n",
    "      print(\"flag_1\", flag_1)\n",
    "      print(\"flag_2\", flag_2)\n",
    "      temp_arr = [old_0, old_1, old_2]\n",
    "      print(temp_arr)\n",
    "      new_tag = min(temp_arr)\n",
    "      label_list_run0[id_0] = label_list_run1[id_1] = label_list_run2[id_2] = new_tag\n",
    "      print(\"already\")\n",
    "      print(label_list_run0)\n",
    "      print(label_list_run1)\n",
    "      print(label_list_run2)\n",
    "print(label_list_run0)\n",
    "print(label_list_run1)\n",
    "print(label_list_run2)"
   ]
  },
  {
   "cell_type": "code",
   "execution_count": 54,
   "metadata": {
    "colab": {
     "base_uri": "https://localhost:8080/"
    },
    "executionInfo": {
     "elapsed": 9394,
     "status": "ok",
     "timestamp": 1697080965821,
     "user": {
      "displayName": "Vrinda Anil",
      "userId": "06562731342367344700"
     },
     "user_tz": 360
    },
    "id": "O3ZIOS2Bb_FB",
    "outputId": "e215043b-6e37-42ff-9cc6-20ae32e1a67b"
   },
   "outputs": [],
   "source": [
    "#Finally run3 from top to bottom, to save masks with contour filled with resulting label after combining\n",
    "run=3\n",
    "Final_Image_Stack = {}\n",
    "pattern_map_global={}\n",
    "pattern_track_global={}\n",
    "pattern_img = {}\n",
    "for x in range(len(chromosome)):\n",
    "    print(x)\n",
    "    chromosome_im = Image.open(chromosome[x])\n",
    "    chromosome_im.load()\n",
    "    chromo = np.array(chromosome_im)\n",
    "\n",
    "    chromo = clean_small_obj(chromo,800)\n",
    "\n",
    "    chromo[chromo<40]=0\n",
    "\n",
    "    contours_chromosome, hierarchy_chromosome, mask_chro = find_contours(chromo)\n",
    "\n",
    "    n = ntpath.basename(chromosome[x]).split('.')[0]\n",
    "    n=int(n)\n",
    "    if n in avoid:\n",
    "        Final_Image_Stack[x]=mask_chro\n",
    "        combined_chro_map_global[x] = 'inf'\n",
    "        combined_chro_track_global[x] = 'inf'\n",
    "        continue\n",
    "    chro_map_temp1 = {}\n",
    "    chro_map_temp2 = {}\n",
    "    for i in range(len(contours_chromosome)):\n",
    "      if cv2.arcLength(contours_chromosome[i],True) > 25 and hierarchy_chromosome[0][i][3]==-1:\n",
    "        M = cv2.moments(contours_chromosome[i])\n",
    "        if(M[\"m00\"])==0:\n",
    "            continue\n",
    "        cX,cY = int(M[\"m10\"] / M[\"m00\"]),int(M[\"m01\"] / M[\"m00\"])\n",
    "\n",
    "        points_new=[]\n",
    "        for l in range(len(contours_chromosome[i])):\n",
    "          points_new.append(contours_chromosome[i][l][0])\n",
    "        points_new = np.array(points_new)\n",
    "        cv2.drawContours(mask_chro,[points_new],-1,((label_list_run1[chro_map_run_1[x][(cX,cY)]])+1), thickness = cv2.FILLED)\n",
    "        chro_map_temp1[cX,cY] = [label_list_run1[chro_map_run_1[x][(cX,cY)]]]\n",
    "        chro_map_temp2[cX,cY] = label_list_run1[chro_map_run_1[x][(cX,cY)]]\n",
    "        # cv2.fillPoly(mask_both , pts=[points], color=colors[chro_map_local[(cX,cY)][0]])\n",
    "    Final_Image_Stack[x]=mask_chro\n",
    "    combined_chro_map_global[x] = chro_map_temp2\n",
    "    chro_track_temp = get_chromosome_tracking(chro_map_temp1)\n",
    "    combined_chro_track_global[x] = chro_track_temp\n",
    "\n",
    "print(\"%%%%%%%%%%%%%%%%%%%%%%%combined_chro_map_global\", combined_chro_map_global)\n",
    "print(\"%%%%%%%%%%%%%%%%%%%%%%%combined_chro_track_global\", combined_chro_track_global)\n",
    "combined_uniqueValues = set(label_list_run1.values())\n",
    "# new_limit = len(uniqueValues)\n",
    "\n",
    "\n",
    "print(\"uniqueValues\",combined_uniqueValues)\n",
    "# print(\"new_limit\", new_limit)\n",
    "\n",
    "##### remove all short length chromosomes\n",
    "combined_chromosomes_to_avoid = find_short_chromosomes(combined_chro_track_global)\n",
    "print(\"combined_chromosomes_to_avoid\", combined_chromosomes_to_avoid)\n",
    "\n",
    "\n",
    "# # print(Final_Image_Stack.keys())\n",
    "# sort_dictionary(Final_Image_Stack)\n",
    "# # print(Final_Image_Stack.keys())\n",
    "# save_label_stack(Final_Image_Stack, run, False)\n",
    "save_individual_chromosome(Final_Image_Stack, combined_uniqueValues, combined_chromosomes_to_avoid, run, False)\n",
    "# find_patterns(run, combined_chro_map_global, combined_uniqueValues, combined_chromosomes_to_avoid)\n",
    "# run_track_pattern_track_global[run] = pattern_track_global\n",
    "# print(\"pattern_avoid\", pattern_avoid)\n",
    "# #add score\n",
    "# # length = find_length(pattern_track_global, new_limit, combined_chromosomes_to_avoid)\n",
    "# # score_combined = find_score(combined_chro_track_global, chro_area_run_1, new_limit, combined_chromosomes_to_avoid)\n",
    "# score_v_combined, score_v_by_l_combined, length_combined, volume_combined, legs_length_track_combined, begining_pt_track_combined, ending_pt_track_combined = find_score(combined_chro_track_global,\n",
    "#                                                                                                                                              chro_area_run_1, pattern_track_global,\n",
    "#                                                                                                                                              combined_uniqueValues,\n",
    "#                                                                                                                                              combined_chromosomes_to_avoid)\n",
    "# score_vol[run] = score_v_combined\n",
    "# score_vol_by_len[run] = score_v_by_l_combined\n",
    "# print(\" \")\n",
    "\n",
    "print(\"OOOOOOOOOVVVVVVEEEEEEERRRRRRRR\")\n"
   ]
  },
  {
   "cell_type": "code",
   "execution_count": 55,
   "metadata": {
    "executionInfo": {
     "elapsed": 20100,
     "status": "aborted",
     "timestamp": 1697080498380,
     "user": {
      "displayName": "Vrinda Anil",
      "userId": "06562731342367344700"
     },
     "user_tz": 360
    },
    "id": "89g65qNMX3Pq"
   },
   "outputs": [],
   "source": [
    "# print(\"score_vol\", score_vol)\n",
    "# print(\" \")\n",
    "# print(\" \")\n",
    "# score_vol_by_100000={}\n",
    "# for run_no in score_vol:\n",
    "#     score_vol_by_100000[run_no] = score_vol[run_no]/100000\n",
    "# print(\"score_vol_by_100000\", score_vol_by_100000)\n",
    "# print(\"score_vol_by_len\", score_vol_by_len)\n",
    "# print(\" \")\n"
   ]
  },
  {
   "cell_type": "code",
   "execution_count": 60,
   "metadata": {
    "executionInfo": {
     "elapsed": 20363,
     "status": "aborted",
     "timestamp": 1697080498645,
     "user": {
      "displayName": "Vrinda Anil",
      "userId": "06562731342367344700"
     },
     "user_tz": 360
    },
    "id": "J5VPhRX3BHYD"
   },
   "outputs": [],
   "source": [
    "#stop writting to txt file\n",
    "sys.stdout = sys.__stdout__"
   ]
  },
  {
   "cell_type": "code",
   "execution_count": 61,
   "metadata": {
    "executionInfo": {
     "elapsed": 20362,
     "status": "aborted",
     "timestamp": 1697080498645,
     "user": {
      "displayName": "Vrinda Anil",
      "userId": "06562731342367344700"
     },
     "user_tz": 360
    },
    "id": "gt8cDO5qBIDq"
   },
   "outputs": [],
   "source": [
    "print(\"OVER\")\n",
    "# print(\"score_vol_by_100000\", score_vol_by_100000)"
   ]
  },
  {
   "cell_type": "code",
   "execution_count": null,
   "metadata": {
    "executionInfo": {
     "elapsed": 20362,
     "status": "aborted",
     "timestamp": 1697080498645,
     "user": {
      "displayName": "Vrinda Anil",
      "userId": "06562731342367344700"
     },
     "user_tz": 360
    },
    "id": "OcxbeiH0dGoj"
   },
   "outputs": [],
   "source": [
    "# print(order_id)\n",
    "# print(limit)\n",
    "# print(max_id_c)"
   ]
  }
 ],
 "metadata": {
  "colab": {
   "provenance": []
  },
  "gpuClass": "standard",
  "kernelspec": {
   "display_name": "Python 3 (ipykernel)",
   "language": "python",
   "name": "python3"
  },
  "language_info": {
   "codemirror_mode": {
    "name": "ipython",
    "version": 3
   },
   "file_extension": ".py",
   "mimetype": "text/x-python",
   "name": "python",
   "nbconvert_exporter": "python",
   "pygments_lexer": "ipython3",
   "version": "3.8.10"
  }
 },
 "nbformat": 4,
 "nbformat_minor": 1
}
